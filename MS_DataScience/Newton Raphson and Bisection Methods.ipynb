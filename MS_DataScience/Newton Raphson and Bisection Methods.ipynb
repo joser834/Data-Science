{
 "cells": [
  {
   "cell_type": "code",
   "execution_count": 160,
   "metadata": {},
   "outputs": [],
   "source": [
    "import numpy as np\n",
    "import pandas as pd\n",
    "import matplotlib.pyplot as plt\n",
    "import math\n",
    "import re"
   ]
  },
  {
   "cell_type": "code",
   "execution_count": 4,
   "metadata": {},
   "outputs": [],
   "source": [
    "def generate_function(eq):\n",
    "    func = re.sub(r' ', '', eq)\n",
    "    func = re.sub(r'(\\^)', '**', func)\n",
    "    func = re.sub(r'x', '*x', func)\n",
    "    func = re.sub(r'([\\+]+\\*)', '+', func)\n",
    "    func = re.sub(r'([\\-]+\\*)', '-', func)\n",
    "    func = re.sub(r'^(\\*)', '', func)\n",
    "    return(func)"
   ]
  },
  {
   "cell_type": "code",
   "execution_count": 5,
   "metadata": {},
   "outputs": [],
   "source": [
    "def derivative(eq):\n",
    "    func0 = eq.replace('x', '(x+(2*h))')\n",
    "    func1 = eq.replace('x', '(x+h)')\n",
    "    func = '-(' + func0 + '-4*(' + func1 + ')+3*(' + eq + '))/(2*h)'\n",
    "    return(func)"
   ]
  },
  {
   "cell_type": "markdown",
   "metadata": {},
   "source": [
    "## Método de Newton-Raphson"
   ]
  },
  {
   "cell_type": "code",
   "execution_count": 88,
   "metadata": {},
   "outputs": [],
   "source": [
    "def newton_raphson(equation, x, tolerance):\n",
    "    h = 0.000001\n",
    "    \n",
    "    log = pd.DataFrame(columns = ['Iteration', 'Xk', 'Xk+1', 'Error', 'F(x)', \"F'(x)\"])\n",
    "    \n",
    "    error = 100\n",
    "    iteration = 0\n",
    "    while error > tolerance:\n",
    "        x_in = x\n",
    "        x = x - (eval(generate_function(equation))/eval(derivative(generate_function(equation))))\n",
    "        error = np.abs(x-x_in)\n",
    "        iteration += 1\n",
    "\n",
    "        log_info = {\n",
    "            'Iteration' : iteration,\n",
    "            'Xk' : x_in,\n",
    "            'Xk+1' : x,\n",
    "            'Error' : error,\n",
    "            'F(x)' : eval(generate_function(equation)),\n",
    "            \"F'(x)\" : eval(derivative(generate_function(equation)))\n",
    "        }\n",
    "        log = log.append(log_info, ignore_index=True)\n",
    "        sol = [iteration, x, error]\n",
    "        \n",
    "    \n",
    "    return(log, sol)"
   ]
  },
  {
   "cell_type": "markdown",
   "metadata": {},
   "source": [
    "### Utilizando el método de Newton Raphson\n",
    "\n",
    "f(x) = 4x^4 - 4x + 1"
   ]
  },
  {
   "cell_type": "code",
   "execution_count": 296,
   "metadata": {},
   "outputs": [
    {
     "data": {
      "text/html": [
       "<div>\n",
       "<style scoped>\n",
       "    .dataframe tbody tr th:only-of-type {\n",
       "        vertical-align: middle;\n",
       "    }\n",
       "\n",
       "    .dataframe tbody tr th {\n",
       "        vertical-align: top;\n",
       "    }\n",
       "\n",
       "    .dataframe thead th {\n",
       "        text-align: right;\n",
       "    }\n",
       "</style>\n",
       "<table border=\"1\" class=\"dataframe\">\n",
       "  <thead>\n",
       "    <tr style=\"text-align: right;\">\n",
       "      <th></th>\n",
       "      <th>Iteration</th>\n",
       "      <th>Xk</th>\n",
       "      <th>Xk+1</th>\n",
       "      <th>Error</th>\n",
       "      <th>F(x)</th>\n",
       "      <th>F'(x)</th>\n",
       "    </tr>\n",
       "  </thead>\n",
       "  <tbody>\n",
       "    <tr>\n",
       "      <th>0</th>\n",
       "      <td>1.0</td>\n",
       "      <td>-1.000000</td>\n",
       "      <td>-0.550000</td>\n",
       "      <td>4.500000e-01</td>\n",
       "      <td>3.566025e+00</td>\n",
       "      <td>-6.662000</td>\n",
       "    </tr>\n",
       "    <tr>\n",
       "      <th>1</th>\n",
       "      <td>2.0</td>\n",
       "      <td>-0.550000</td>\n",
       "      <td>-0.014722</td>\n",
       "      <td>5.352784e-01</td>\n",
       "      <td>1.058886e+00</td>\n",
       "      <td>-4.000051</td>\n",
       "    </tr>\n",
       "    <tr>\n",
       "      <th>2</th>\n",
       "      <td>3.0</td>\n",
       "      <td>-0.014722</td>\n",
       "      <td>0.249997</td>\n",
       "      <td>2.647182e-01</td>\n",
       "      <td>1.563749e-02</td>\n",
       "      <td>-3.750010</td>\n",
       "    </tr>\n",
       "    <tr>\n",
       "      <th>3</th>\n",
       "      <td>4.0</td>\n",
       "      <td>0.249997</td>\n",
       "      <td>0.254167</td>\n",
       "      <td>4.169987e-03</td>\n",
       "      <td>2.637374e-05</td>\n",
       "      <td>-3.737291</td>\n",
       "    </tr>\n",
       "    <tr>\n",
       "      <th>4</th>\n",
       "      <td>5.0</td>\n",
       "      <td>0.254167</td>\n",
       "      <td>0.254174</td>\n",
       "      <td>7.056915e-06</td>\n",
       "      <td>7.721168e-11</td>\n",
       "      <td>-3.737269</td>\n",
       "    </tr>\n",
       "    <tr>\n",
       "      <th>5</th>\n",
       "      <td>6.0</td>\n",
       "      <td>0.254174</td>\n",
       "      <td>0.254174</td>\n",
       "      <td>2.065992e-11</td>\n",
       "      <td>0.000000e+00</td>\n",
       "      <td>-3.737269</td>\n",
       "    </tr>\n",
       "  </tbody>\n",
       "</table>\n",
       "</div>"
      ],
      "text/plain": [
       "   Iteration        Xk      Xk+1         Error          F(x)     F'(x)\n",
       "0        1.0 -1.000000 -0.550000  4.500000e-01  3.566025e+00 -6.662000\n",
       "1        2.0 -0.550000 -0.014722  5.352784e-01  1.058886e+00 -4.000051\n",
       "2        3.0 -0.014722  0.249997  2.647182e-01  1.563749e-02 -3.750010\n",
       "3        4.0  0.249997  0.254167  4.169987e-03  2.637374e-05 -3.737291\n",
       "4        5.0  0.254167  0.254174  7.056915e-06  7.721168e-11 -3.737269\n",
       "5        6.0  0.254174  0.254174  2.065992e-11  0.000000e+00 -3.737269"
      ]
     },
     "execution_count": 296,
     "metadata": {},
     "output_type": "execute_result"
    }
   ],
   "source": [
    "res, sol = newton_raphson('4x^4-4x+1', x = -1, tolerance = 1e-6)\n",
    "res"
   ]
  },
  {
   "cell_type": "markdown",
   "metadata": {},
   "source": [
    "#### Es mínimo **local** o **global**?\n",
    "\n",
    "Respuesta Aqui"
   ]
  },
  {
   "cell_type": "markdown",
   "metadata": {},
   "source": [
    "### Tasa de Convergencia"
   ]
  },
  {
   "cell_type": "code",
   "execution_count": 297,
   "metadata": {},
   "outputs": [],
   "source": [
    "from sklearn.linear_model import LinearRegression"
   ]
  },
  {
   "cell_type": "code",
   "execution_count": 298,
   "metadata": {},
   "outputs": [],
   "source": [
    "def convergence(result, solution, col):\n",
    "    x_star = solution[1]\n",
    "    df = pd.DataFrame()\n",
    "    df_log = pd.DataFrame()\n",
    "    ek = []\n",
    "    for x in result[col]:\n",
    "        ek.append(np.abs(x-x_star))\n",
    "\n",
    "    df['ek'] = ek\n",
    "    df['ek+1'] = df['ek'].shift(-1, fill_value = 0)\n",
    "    \n",
    "    df_log['ek'] = np.log(ek)\n",
    "    df_log['ek+1'] = df_log['ek'].shift(-1, fill_value = 0)\n",
    "    \n",
    "    return(df, df_log)"
   ]
  },
  {
   "cell_type": "code",
   "execution_count": 299,
   "metadata": {},
   "outputs": [
    {
     "data": {
      "text/html": [
       "<div>\n",
       "<style scoped>\n",
       "    .dataframe tbody tr th:only-of-type {\n",
       "        vertical-align: middle;\n",
       "    }\n",
       "\n",
       "    .dataframe tbody tr th {\n",
       "        vertical-align: top;\n",
       "    }\n",
       "\n",
       "    .dataframe thead th {\n",
       "        text-align: right;\n",
       "    }\n",
       "</style>\n",
       "<table border=\"1\" class=\"dataframe\">\n",
       "  <thead>\n",
       "    <tr style=\"text-align: right;\">\n",
       "      <th></th>\n",
       "      <th>ek</th>\n",
       "      <th>ek+1</th>\n",
       "    </tr>\n",
       "  </thead>\n",
       "  <tbody>\n",
       "    <tr>\n",
       "      <th>0</th>\n",
       "      <td>1.254174e+00</td>\n",
       "      <td>8.041737e-01</td>\n",
       "    </tr>\n",
       "    <tr>\n",
       "      <th>1</th>\n",
       "      <td>8.041737e-01</td>\n",
       "      <td>2.688953e-01</td>\n",
       "    </tr>\n",
       "    <tr>\n",
       "      <th>2</th>\n",
       "      <td>2.688953e-01</td>\n",
       "      <td>4.177044e-03</td>\n",
       "    </tr>\n",
       "    <tr>\n",
       "      <th>3</th>\n",
       "      <td>4.177044e-03</td>\n",
       "      <td>7.056936e-06</td>\n",
       "    </tr>\n",
       "    <tr>\n",
       "      <th>4</th>\n",
       "      <td>7.056936e-06</td>\n",
       "      <td>2.065992e-11</td>\n",
       "    </tr>\n",
       "    <tr>\n",
       "      <th>5</th>\n",
       "      <td>2.065992e-11</td>\n",
       "      <td>0.000000e+00</td>\n",
       "    </tr>\n",
       "  </tbody>\n",
       "</table>\n",
       "</div>"
      ],
      "text/plain": [
       "             ek          ek+1\n",
       "0  1.254174e+00  8.041737e-01\n",
       "1  8.041737e-01  2.688953e-01\n",
       "2  2.688953e-01  4.177044e-03\n",
       "3  4.177044e-03  7.056936e-06\n",
       "4  7.056936e-06  2.065992e-11\n",
       "5  2.065992e-11  0.000000e+00"
      ]
     },
     "execution_count": 299,
     "metadata": {},
     "output_type": "execute_result"
    }
   ],
   "source": [
    "data, data_log = convergence(res, sol, 'Xk')\n",
    "data"
   ]
  },
  {
   "cell_type": "code",
   "execution_count": 300,
   "metadata": {},
   "outputs": [
    {
     "data": {
      "text/plain": [
       "[<matplotlib.lines.Line2D at 0x1a27368550>]"
      ]
     },
     "execution_count": 300,
     "metadata": {},
     "output_type": "execute_result"
    },
    {
     "data": {
      "image/png": "[encoded data removed]",
      "text/plain": [
       "<Figure size 432x288 with 1 Axes>"
      ]
     },
     "metadata": {
      "needs_background": "light"
     },
     "output_type": "display_data"
    }
   ],
   "source": [
    "plt.plot(data['ek'])"
   ]
  },
  {
   "cell_type": "markdown",
   "metadata": {},
   "source": [
    "Como podemos ver el error va decreciendo en cada iteración. Esta data luego debe de ser pasada a un Logaritmo Natural para poder realizar la regresión lineal"
   ]
  },
  {
   "cell_type": "code",
   "execution_count": 301,
   "metadata": {},
   "outputs": [
    {
     "data": {
      "text/html": [
       "<div>\n",
       "<style scoped>\n",
       "    .dataframe tbody tr th:only-of-type {\n",
       "        vertical-align: middle;\n",
       "    }\n",
       "\n",
       "    .dataframe tbody tr th {\n",
       "        vertical-align: top;\n",
       "    }\n",
       "\n",
       "    .dataframe thead th {\n",
       "        text-align: right;\n",
       "    }\n",
       "</style>\n",
       "<table border=\"1\" class=\"dataframe\">\n",
       "  <thead>\n",
       "    <tr style=\"text-align: right;\">\n",
       "      <th></th>\n",
       "      <th>ek</th>\n",
       "      <th>ek+1</th>\n",
       "    </tr>\n",
       "  </thead>\n",
       "  <tbody>\n",
       "    <tr>\n",
       "      <th>0</th>\n",
       "      <td>0.226477</td>\n",
       "      <td>-0.217940</td>\n",
       "    </tr>\n",
       "    <tr>\n",
       "      <th>1</th>\n",
       "      <td>-0.217940</td>\n",
       "      <td>-1.313433</td>\n",
       "    </tr>\n",
       "    <tr>\n",
       "      <th>2</th>\n",
       "      <td>-1.313433</td>\n",
       "      <td>-5.478151</td>\n",
       "    </tr>\n",
       "    <tr>\n",
       "      <th>3</th>\n",
       "      <td>-5.478151</td>\n",
       "      <td>-11.861500</td>\n",
       "    </tr>\n",
       "    <tr>\n",
       "      <th>4</th>\n",
       "      <td>-11.861500</td>\n",
       "      <td>-24.602826</td>\n",
       "    </tr>\n",
       "    <tr>\n",
       "      <th>5</th>\n",
       "      <td>-24.602826</td>\n",
       "      <td>0.000000</td>\n",
       "    </tr>\n",
       "  </tbody>\n",
       "</table>\n",
       "</div>"
      ],
      "text/plain": [
       "          ek       ek+1\n",
       "0   0.226477  -0.217940\n",
       "1  -0.217940  -1.313433\n",
       "2  -1.313433  -5.478151\n",
       "3  -5.478151 -11.861500\n",
       "4 -11.861500 -24.602826\n",
       "5 -24.602826   0.000000"
      ]
     },
     "execution_count": 301,
     "metadata": {},
     "output_type": "execute_result"
    }
   ],
   "source": [
    "data_log"
   ]
  },
  {
   "cell_type": "markdown",
   "metadata": {},
   "source": [
    "Ya que tenemos la data convertida a logaritmo natural, podemos utilizar un modelo de regresión lineal para encontrar la tasa de convergencia (r) y la constante de la convergencia (C)"
   ]
  },
  {
   "cell_type": "code",
   "execution_count": 302,
   "metadata": {},
   "outputs": [
    {
     "data": {
      "text/plain": [
       "LinearRegression(copy_X=True, fit_intercept=True, n_jobs=None, normalize=False)"
      ]
     },
     "execution_count": 302,
     "metadata": {},
     "output_type": "execute_result"
    }
   ],
   "source": [
    "lm = LinearRegression()\n",
    "lm.fit(data_log[['ek']], data_log[['ek+1']])"
   ]
  },
  {
   "cell_type": "code",
   "execution_count": 303,
   "metadata": {},
   "outputs": [
    {
     "name": "stdout",
     "output_type": "stream",
     "text": [
      "La tasa de convergencia (r) es: 0.10916538632012417\n"
     ]
    }
   ],
   "source": [
    "r = lm.coef_\n",
    "print('La tasa de convergencia (r) es:', r[0][0])"
   ]
  },
  {
   "cell_type": "code",
   "execution_count": 304,
   "metadata": {},
   "outputs": [
    {
     "name": "stdout",
     "output_type": "stream",
     "text": [
      "La constante de convergencia (C) es: 0.0015666918708918441\n"
     ]
    }
   ],
   "source": [
    "C = np.exp(lm.intercept_)\n",
    "print('La constante de convergencia (C) es:', C[0])"
   ]
  },
  {
   "cell_type": "markdown",
   "metadata": {},
   "source": [
    "### Resultados método de Newton-Raphson\n",
    "\n",
    "Finalmente, tenemos la función lineal entre los errores de la siguiente forma:\n",
    "\n",
    "$ \\ln|e_{k+1}| = r \\ln|e_{k+1}| + \\ln C $\n",
    "\n",
    "Sustituyendo los resultados, podemos ver la ecuación de esta forma:\n",
    "\n",
    "$ \\ln|e_{k+1}| = 0.109165 \\ln|e_{k+1}| + 0.0015667 $"
   ]
  },
  {
   "cell_type": "markdown",
   "metadata": {},
   "source": [
    "## Método de la Bisección"
   ]
  },
  {
   "cell_type": "code",
   "execution_count": 305,
   "metadata": {},
   "outputs": [],
   "source": [
    "def biseccion(eq, a, b, tolerance):\n",
    "    \n",
    "    log = pd.DataFrame(columns = ['Iteration', 'a', 'b', 'c', 'F(x)', 'error'])\n",
    "    error = 100\n",
    "    iteration = 1\n",
    "    \n",
    "    while error > tolerance:\n",
    "        c = (a+b)/2\n",
    "        a_in = a\n",
    "        b_in = b\n",
    "        \n",
    "        x = a\n",
    "        func_a = eval(generate_function(eq))\n",
    "        x = c\n",
    "        func_c = eval(generate_function(eq))\n",
    "        \n",
    "        if func_c == 0:\n",
    "            log_info = {\n",
    "                'Iteration': iteration,\n",
    "                'a': a,\n",
    "                'b': b,\n",
    "                'c': c,\n",
    "                'F(x)': func_c,\n",
    "                'error': 0\n",
    "            }\n",
    "            log = log.append(log_info, ignore_index=True)\n",
    "            break\n",
    "        elif func_a * func_c < 0:\n",
    "            b = c\n",
    "        else:\n",
    "            a = c            \n",
    "        error = np.abs(func_c)\n",
    "        \n",
    "        log_info = {\n",
    "            'Iteration': iteration,\n",
    "            'a': a_in,\n",
    "            'b': b_in,\n",
    "            'c': c,\n",
    "            'F(x)': eval(generate_function(eq)),\n",
    "            'error': error\n",
    "        }\n",
    "        log = log.append(log_info, ignore_index=True)\n",
    "        \n",
    "        iteration += 1\n",
    "        sol = [iteration, c, error]\n",
    "    \n",
    "    return(log, sol)"
   ]
  },
  {
   "cell_type": "code",
   "execution_count": 306,
   "metadata": {},
   "outputs": [
    {
     "data": {
      "text/html": [
       "<div>\n",
       "<style scoped>\n",
       "    .dataframe tbody tr th:only-of-type {\n",
       "        vertical-align: middle;\n",
       "    }\n",
       "\n",
       "    .dataframe tbody tr th {\n",
       "        vertical-align: top;\n",
       "    }\n",
       "\n",
       "    .dataframe thead th {\n",
       "        text-align: right;\n",
       "    }\n",
       "</style>\n",
       "<table border=\"1\" class=\"dataframe\">\n",
       "  <thead>\n",
       "    <tr style=\"text-align: right;\">\n",
       "      <th></th>\n",
       "      <th>Iteration</th>\n",
       "      <th>a</th>\n",
       "      <th>b</th>\n",
       "      <th>c</th>\n",
       "      <th>F(x)</th>\n",
       "      <th>error</th>\n",
       "    </tr>\n",
       "  </thead>\n",
       "  <tbody>\n",
       "    <tr>\n",
       "      <th>0</th>\n",
       "      <td>1.0</td>\n",
       "      <td>0.000000</td>\n",
       "      <td>1.000000</td>\n",
       "      <td>0.500000</td>\n",
       "      <td>-7.500000e-01</td>\n",
       "      <td>7.500000e-01</td>\n",
       "    </tr>\n",
       "    <tr>\n",
       "      <th>1</th>\n",
       "      <td>2.0</td>\n",
       "      <td>0.000000</td>\n",
       "      <td>0.500000</td>\n",
       "      <td>0.250000</td>\n",
       "      <td>1.562500e-02</td>\n",
       "      <td>1.562500e-02</td>\n",
       "    </tr>\n",
       "    <tr>\n",
       "      <th>2</th>\n",
       "      <td>3.0</td>\n",
       "      <td>0.250000</td>\n",
       "      <td>0.500000</td>\n",
       "      <td>0.375000</td>\n",
       "      <td>-4.208984e-01</td>\n",
       "      <td>4.208984e-01</td>\n",
       "    </tr>\n",
       "    <tr>\n",
       "      <th>3</th>\n",
       "      <td>4.0</td>\n",
       "      <td>0.250000</td>\n",
       "      <td>0.375000</td>\n",
       "      <td>0.312500</td>\n",
       "      <td>-2.118530e-01</td>\n",
       "      <td>2.118530e-01</td>\n",
       "    </tr>\n",
       "    <tr>\n",
       "      <th>4</th>\n",
       "      <td>5.0</td>\n",
       "      <td>0.250000</td>\n",
       "      <td>0.312500</td>\n",
       "      <td>0.281250</td>\n",
       "      <td>-9.997177e-02</td>\n",
       "      <td>9.997177e-02</td>\n",
       "    </tr>\n",
       "    <tr>\n",
       "      <th>5</th>\n",
       "      <td>6.0</td>\n",
       "      <td>0.250000</td>\n",
       "      <td>0.281250</td>\n",
       "      <td>0.265625</td>\n",
       "      <td>-4.258704e-02</td>\n",
       "      <td>4.258704e-02</td>\n",
       "    </tr>\n",
       "    <tr>\n",
       "      <th>6</th>\n",
       "      <td>7.0</td>\n",
       "      <td>0.250000</td>\n",
       "      <td>0.265625</td>\n",
       "      <td>0.257812</td>\n",
       "      <td>-1.357840e-02</td>\n",
       "      <td>1.357840e-02</td>\n",
       "    </tr>\n",
       "    <tr>\n",
       "      <th>7</th>\n",
       "      <td>8.0</td>\n",
       "      <td>0.250000</td>\n",
       "      <td>0.257812</td>\n",
       "      <td>0.253906</td>\n",
       "      <td>9.996900e-04</td>\n",
       "      <td>9.996900e-04</td>\n",
       "    </tr>\n",
       "    <tr>\n",
       "      <th>8</th>\n",
       "      <td>9.0</td>\n",
       "      <td>0.253906</td>\n",
       "      <td>0.257812</td>\n",
       "      <td>0.255859</td>\n",
       "      <td>-6.295348e-03</td>\n",
       "      <td>6.295348e-03</td>\n",
       "    </tr>\n",
       "    <tr>\n",
       "      <th>9</th>\n",
       "      <td>10.0</td>\n",
       "      <td>0.253906</td>\n",
       "      <td>0.255859</td>\n",
       "      <td>0.254883</td>\n",
       "      <td>-2.649316e-03</td>\n",
       "      <td>2.649316e-03</td>\n",
       "    </tr>\n",
       "    <tr>\n",
       "      <th>10</th>\n",
       "      <td>11.0</td>\n",
       "      <td>0.253906</td>\n",
       "      <td>0.254883</td>\n",
       "      <td>0.254395</td>\n",
       "      <td>-8.251834e-04</td>\n",
       "      <td>8.251834e-04</td>\n",
       "    </tr>\n",
       "    <tr>\n",
       "      <th>11</th>\n",
       "      <td>12.0</td>\n",
       "      <td>0.253906</td>\n",
       "      <td>0.254395</td>\n",
       "      <td>0.254150</td>\n",
       "      <td>8.716093e-05</td>\n",
       "      <td>8.716093e-05</td>\n",
       "    </tr>\n",
       "    <tr>\n",
       "      <th>12</th>\n",
       "      <td>13.0</td>\n",
       "      <td>0.254150</td>\n",
       "      <td>0.254395</td>\n",
       "      <td>0.254272</td>\n",
       "      <td>-3.690343e-04</td>\n",
       "      <td>3.690343e-04</td>\n",
       "    </tr>\n",
       "    <tr>\n",
       "      <th>13</th>\n",
       "      <td>14.0</td>\n",
       "      <td>0.254150</td>\n",
       "      <td>0.254272</td>\n",
       "      <td>0.254211</td>\n",
       "      <td>-1.409425e-04</td>\n",
       "      <td>1.409425e-04</td>\n",
       "    </tr>\n",
       "    <tr>\n",
       "      <th>14</th>\n",
       "      <td>15.0</td>\n",
       "      <td>0.254150</td>\n",
       "      <td>0.254211</td>\n",
       "      <td>0.254181</td>\n",
       "      <td>-2.689222e-05</td>\n",
       "      <td>2.689222e-05</td>\n",
       "    </tr>\n",
       "    <tr>\n",
       "      <th>15</th>\n",
       "      <td>16.0</td>\n",
       "      <td>0.254150</td>\n",
       "      <td>0.254181</td>\n",
       "      <td>0.254166</td>\n",
       "      <td>3.013399e-05</td>\n",
       "      <td>3.013399e-05</td>\n",
       "    </tr>\n",
       "    <tr>\n",
       "      <th>16</th>\n",
       "      <td>17.0</td>\n",
       "      <td>0.254166</td>\n",
       "      <td>0.254181</td>\n",
       "      <td>0.254173</td>\n",
       "      <td>1.620797e-06</td>\n",
       "      <td>1.620797e-06</td>\n",
       "    </tr>\n",
       "    <tr>\n",
       "      <th>17</th>\n",
       "      <td>18.0</td>\n",
       "      <td>0.254173</td>\n",
       "      <td>0.254181</td>\n",
       "      <td>0.254177</td>\n",
       "      <td>-1.263573e-05</td>\n",
       "      <td>1.263573e-05</td>\n",
       "    </tr>\n",
       "    <tr>\n",
       "      <th>18</th>\n",
       "      <td>19.0</td>\n",
       "      <td>0.254173</td>\n",
       "      <td>0.254177</td>\n",
       "      <td>0.254175</td>\n",
       "      <td>-5.507475e-06</td>\n",
       "      <td>5.507475e-06</td>\n",
       "    </tr>\n",
       "    <tr>\n",
       "      <th>19</th>\n",
       "      <td>20.0</td>\n",
       "      <td>0.254173</td>\n",
       "      <td>0.254175</td>\n",
       "      <td>0.254174</td>\n",
       "      <td>-1.943340e-06</td>\n",
       "      <td>1.943340e-06</td>\n",
       "    </tr>\n",
       "    <tr>\n",
       "      <th>20</th>\n",
       "      <td>21.0</td>\n",
       "      <td>0.254173</td>\n",
       "      <td>0.254174</td>\n",
       "      <td>0.254174</td>\n",
       "      <td>-1.612722e-07</td>\n",
       "      <td>1.612722e-07</td>\n",
       "    </tr>\n",
       "  </tbody>\n",
       "</table>\n",
       "</div>"
      ],
      "text/plain": [
       "    Iteration         a         b         c          F(x)         error\n",
       "0         1.0  0.000000  1.000000  0.500000 -7.500000e-01  7.500000e-01\n",
       "1         2.0  0.000000  0.500000  0.250000  1.562500e-02  1.562500e-02\n",
       "2         3.0  0.250000  0.500000  0.375000 -4.208984e-01  4.208984e-01\n",
       "3         4.0  0.250000  0.375000  0.312500 -2.118530e-01  2.118530e-01\n",
       "4         5.0  0.250000  0.312500  0.281250 -9.997177e-02  9.997177e-02\n",
       "5         6.0  0.250000  0.281250  0.265625 -4.258704e-02  4.258704e-02\n",
       "6         7.0  0.250000  0.265625  0.257812 -1.357840e-02  1.357840e-02\n",
       "7         8.0  0.250000  0.257812  0.253906  9.996900e-04  9.996900e-04\n",
       "8         9.0  0.253906  0.257812  0.255859 -6.295348e-03  6.295348e-03\n",
       "9        10.0  0.253906  0.255859  0.254883 -2.649316e-03  2.649316e-03\n",
       "10       11.0  0.253906  0.254883  0.254395 -8.251834e-04  8.251834e-04\n",
       "11       12.0  0.253906  0.254395  0.254150  8.716093e-05  8.716093e-05\n",
       "12       13.0  0.254150  0.254395  0.254272 -3.690343e-04  3.690343e-04\n",
       "13       14.0  0.254150  0.254272  0.254211 -1.409425e-04  1.409425e-04\n",
       "14       15.0  0.254150  0.254211  0.254181 -2.689222e-05  2.689222e-05\n",
       "15       16.0  0.254150  0.254181  0.254166  3.013399e-05  3.013399e-05\n",
       "16       17.0  0.254166  0.254181  0.254173  1.620797e-06  1.620797e-06\n",
       "17       18.0  0.254173  0.254181  0.254177 -1.263573e-05  1.263573e-05\n",
       "18       19.0  0.254173  0.254177  0.254175 -5.507475e-06  5.507475e-06\n",
       "19       20.0  0.254173  0.254175  0.254174 -1.943340e-06  1.943340e-06\n",
       "20       21.0  0.254173  0.254174  0.254174 -1.612722e-07  1.612722e-07"
      ]
     },
     "execution_count": 306,
     "metadata": {},
     "output_type": "execute_result"
    }
   ],
   "source": [
    "#df = biseccion('x^3 - 2x^2 - 1', 0, 4, 1e-8)\n",
    "df, sol = biseccion('4x^4 - 4x + 1', 0, 1, 1e-6)\n",
    "df"
   ]
  },
  {
   "cell_type": "code",
   "execution_count": 307,
   "metadata": {},
   "outputs": [
    {
     "data": {
      "text/plain": [
       "[<matplotlib.lines.Line2D at 0x1a277db240>]"
      ]
     },
     "execution_count": 307,
     "metadata": {},
     "output_type": "execute_result"
    },
    {
     "data": {
      "image/png": "[encoded data removed]",
      "text/plain": [
       "<Figure size 432x288 with 1 Axes>"
      ]
     },
     "metadata": {
      "needs_background": "light"
     },
     "output_type": "display_data"
    }
   ],
   "source": [
    "plt.plot(df['error'])"
   ]
  },
  {
   "cell_type": "code",
   "execution_count": 308,
   "metadata": {},
   "outputs": [
    {
     "name": "stderr",
     "output_type": "stream",
     "text": [
      "/Users/jjosue/anaconda3/envs/galileo_python/lib/python3.7/site-packages/ipykernel_launcher.py:12: RuntimeWarning: divide by zero encountered in log\n",
      "  if sys.path[0] == '':\n"
     ]
    }
   ],
   "source": [
    "df, df_log = convergence(df, sol, 'c')"
   ]
  },
  {
   "cell_type": "code",
   "execution_count": 309,
   "metadata": {},
   "outputs": [
    {
     "data": {
      "text/html": [
       "<div>\n",
       "<style scoped>\n",
       "    .dataframe tbody tr th:only-of-type {\n",
       "        vertical-align: middle;\n",
       "    }\n",
       "\n",
       "    .dataframe tbody tr th {\n",
       "        vertical-align: top;\n",
       "    }\n",
       "\n",
       "    .dataframe thead th {\n",
       "        text-align: right;\n",
       "    }\n",
       "</style>\n",
       "<table border=\"1\" class=\"dataframe\">\n",
       "  <thead>\n",
       "    <tr style=\"text-align: right;\">\n",
       "      <th></th>\n",
       "      <th>ek</th>\n",
       "      <th>ek+1</th>\n",
       "    </tr>\n",
       "  </thead>\n",
       "  <tbody>\n",
       "    <tr>\n",
       "      <th>0</th>\n",
       "      <td>-1.403130</td>\n",
       "      <td>-5.478939</td>\n",
       "    </tr>\n",
       "    <tr>\n",
       "      <th>1</th>\n",
       "      <td>-5.478939</td>\n",
       "      <td>-2.113402</td>\n",
       "    </tr>\n",
       "    <tr>\n",
       "      <th>2</th>\n",
       "      <td>-2.113402</td>\n",
       "      <td>-2.841703</td>\n",
       "    </tr>\n",
       "    <tr>\n",
       "      <th>3</th>\n",
       "      <td>-2.841703</td>\n",
       "      <td>-3.609099</td>\n",
       "    </tr>\n",
       "    <tr>\n",
       "      <th>4</th>\n",
       "      <td>-3.609099</td>\n",
       "      <td>-4.469657</td>\n",
       "    </tr>\n",
       "    <tr>\n",
       "      <th>5</th>\n",
       "      <td>-4.469657</td>\n",
       "      <td>-5.616117</td>\n",
       "    </tr>\n",
       "    <tr>\n",
       "      <th>6</th>\n",
       "      <td>-5.616117</td>\n",
       "      <td>-8.226370</td>\n",
       "    </tr>\n",
       "    <tr>\n",
       "      <th>7</th>\n",
       "      <td>-8.226370</td>\n",
       "      <td>-6.385622</td>\n",
       "    </tr>\n",
       "    <tr>\n",
       "      <th>8</th>\n",
       "      <td>-6.385622</td>\n",
       "      <td>-7.251575</td>\n",
       "    </tr>\n",
       "    <tr>\n",
       "      <th>9</th>\n",
       "      <td>-7.251575</td>\n",
       "      <td>-8.418364</td>\n",
       "    </tr>\n",
       "    <tr>\n",
       "      <th>10</th>\n",
       "      <td>-8.418364</td>\n",
       "      <td>-10.664270</td>\n",
       "    </tr>\n",
       "    <tr>\n",
       "      <th>11</th>\n",
       "      <td>-10.664270</td>\n",
       "      <td>-9.223372</td>\n",
       "    </tr>\n",
       "    <tr>\n",
       "      <th>12</th>\n",
       "      <td>-9.223372</td>\n",
       "      <td>-10.186643</td>\n",
       "    </tr>\n",
       "    <tr>\n",
       "      <th>13</th>\n",
       "      <td>-10.186643</td>\n",
       "      <td>-11.848041</td>\n",
       "    </tr>\n",
       "    <tr>\n",
       "      <th>14</th>\n",
       "      <td>-11.848041</td>\n",
       "      <td>-11.722877</td>\n",
       "    </tr>\n",
       "    <tr>\n",
       "      <th>15</th>\n",
       "      <td>-11.722877</td>\n",
       "      <td>-14.556091</td>\n",
       "    </tr>\n",
       "    <tr>\n",
       "      <th>16</th>\n",
       "      <td>-14.556091</td>\n",
       "      <td>-12.610181</td>\n",
       "    </tr>\n",
       "    <tr>\n",
       "      <th>17</th>\n",
       "      <td>-12.610181</td>\n",
       "      <td>-13.457479</td>\n",
       "    </tr>\n",
       "    <tr>\n",
       "      <th>18</th>\n",
       "      <td>-13.457479</td>\n",
       "      <td>-14.556091</td>\n",
       "    </tr>\n",
       "  </tbody>\n",
       "</table>\n",
       "</div>"
      ],
      "text/plain": [
       "           ek       ek+1\n",
       "0   -1.403130  -5.478939\n",
       "1   -5.478939  -2.113402\n",
       "2   -2.113402  -2.841703\n",
       "3   -2.841703  -3.609099\n",
       "4   -3.609099  -4.469657\n",
       "5   -4.469657  -5.616117\n",
       "6   -5.616117  -8.226370\n",
       "7   -8.226370  -6.385622\n",
       "8   -6.385622  -7.251575\n",
       "9   -7.251575  -8.418364\n",
       "10  -8.418364 -10.664270\n",
       "11 -10.664270  -9.223372\n",
       "12  -9.223372 -10.186643\n",
       "13 -10.186643 -11.848041\n",
       "14 -11.848041 -11.722877\n",
       "15 -11.722877 -14.556091\n",
       "16 -14.556091 -12.610181\n",
       "17 -12.610181 -13.457479\n",
       "18 -13.457479 -14.556091"
      ]
     },
     "execution_count": 309,
     "metadata": {},
     "output_type": "execute_result"
    }
   ],
   "source": [
    "df_log = df_log.replace([np.inf, -np.inf], np.nan).dropna()\n",
    "df_log"
   ]
  },
  {
   "cell_type": "code",
   "execution_count": 310,
   "metadata": {},
   "outputs": [
    {
     "data": {
      "text/plain": [
       "LinearRegression(copy_X=True, fit_intercept=True, n_jobs=None, normalize=False)"
      ]
     },
     "execution_count": 310,
     "metadata": {},
     "output_type": "execute_result"
    }
   ],
   "source": [
    "lm = LinearRegression()\n",
    "lm.fit(df_log[['ek']], df_log[['ek+1']])"
   ]
  },
  {
   "cell_type": "markdown",
   "metadata": {},
   "source": [
    "Ya que tenemos la data convertida a logaritmo natural, podemos utilizar un modelo de regresión lineal para encontrar la tasa de convergencia (r) y la constante de la convergencia (C)"
   ]
  },
  {
   "cell_type": "code",
   "execution_count": 311,
   "metadata": {},
   "outputs": [
    {
     "name": "stdout",
     "output_type": "stream",
     "text": [
      "La tasa de convergencia (r) es: 0.8855704107638511\n"
     ]
    }
   ],
   "source": [
    "r = lm.coef_\n",
    "print('La tasa de convergencia (r) es:', r[0][0])"
   ]
  },
  {
   "cell_type": "code",
   "execution_count": 312,
   "metadata": {},
   "outputs": [
    {
     "name": "stdout",
     "output_type": "stream",
     "text": [
      "La constante de convergencia (C) es: 0.20267490666030646\n"
     ]
    }
   ],
   "source": [
    "C = np.exp(lm.intercept_)\n",
    "print('La constante de convergencia (C) es:', C[0])"
   ]
  },
  {
   "cell_type": "markdown",
   "metadata": {},
   "source": [
    "### Resultados método de Bisección\n",
    "\n",
    "Finalmente, tenemos la función lineal entre los errores de la siguiente forma:\n",
    "\n",
    "$ \\ln|e_{k+1}| = r \\ln|e_{k+1}| + \\ln C $\n",
    "\n",
    "Sustituyendo los resultados, podemos ver la ecuación de esta forma:\n",
    "\n",
    "$ \\ln|e_{k+1}| = 0.885570 \\ln|e_{k+1}| + 0.202675 $"
   ]
  },
  {
   "cell_type": "markdown",
   "metadata": {},
   "source": [
    "### Conclusiones"
   ]
  },
  {
   "cell_type": "markdown",
   "metadata": {},
   "source": [
    "Podemos ver que tanto el método de Newton-Raphson como el método de la Bisección convergen a un mismo punto estacionario donde el error es menor a la tolerancia especificada.\n",
    "\n",
    "#### Comparación de Resultados:\n",
    "\n",
    "|Item                 |Newton-Raphson| Bisección    |\n",
    "|---------------------|--------------|--------------|\n",
    "|Punto estacionario   | 0.254174     | 0.254174     |\n",
    "|Iteraciones          | 6            | 21           |\n",
    "|Error                | 2.065992e-11 | 1.612722e-07 |\n",
    "|Tasa de Convergencia | 0.109165     | 0.885570     |\n",
    "|Constante            | 0.0015667    | 0.202675     |\n",
    "\n",
    "El método de **Bisección** toma más que el triple de iteraciones que el método de **Newton-Raphson** pero obtiene un error más bajo y también una tasa de convergencia más alta."
   ]
  },
  {
   "cell_type": "code",
   "execution_count": null,
   "metadata": {},
   "outputs": [],
   "source": []
  }
 ],
 "metadata": {
  "kernelspec": {
   "display_name": "Python 3",
   "language": "python",
   "name": "python3"
  },
  "language_info": {
   "codemirror_mode": {
    "name": "ipython",
    "version": 3
   },
   "file_extension": ".py",
   "mimetype": "text/x-python",
   "name": "python",
   "nbconvert_exporter": "python",
   "pygments_lexer": "ipython3",
   "version": "3.7.3"
  }
 },
 "nbformat": 4,
 "nbformat_minor": 4
}
