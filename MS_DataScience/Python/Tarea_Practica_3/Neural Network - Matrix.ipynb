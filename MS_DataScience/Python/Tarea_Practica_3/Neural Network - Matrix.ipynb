{
 "cells": [
  {
   "cell_type": "markdown",
   "metadata": {},
   "source": [
    "**Ejemplo en DS** : en inteligencia artificial y ML en la sub-rama \"reinforcement learning\" la \"ecuacion de bellman\" puede aplicarse de manera vectorizada a traves del operar vectores, matrices y escalares en una sola expresion.\n",
    "\n",
    "<img src=\"https://rebornhugo.github.io/assets/images/post_images/%E5%BC%BA%E5%8C%96%E5%AD%A6%E4%B9%A02/bellman%20equation2.PNG\">\n",
    "\n",
    "* n = numero de estados del sistema.\n",
    "* V(s) = vector que representa el valor esperado para cierto estado\n",
    "* R = recompensa inmediata percibida por el agente al salir de cierto estado.(vector)\n",
    "* P = matriz de transicion de la cadena de Markov sub-yacente.(matriz)\n",
    "* γ = factor de descuento de recompensas futuras(escalar)\n",
    "\n",
    "Calcular V(s) para el siguiente sistema aplicando la ecuación de bellman de manera vectorizada."
   ]
  },
  {
   "cell_type": "code",
   "execution_count": 63,
   "metadata": {},
   "outputs": [],
   "source": [
    "V = np.array([0,0,0]) # valor inicial de V(s)\n",
    "R = np.array([10,2,5]) # vector de recompensas\n",
    "P = np.array([[0.5,0.25,0.25],\n",
    "              [0.2,0.40,0.40],\n",
    "              [0.80,0.10,0.10]])  # matriz de transición\n",
    "gamma = 0.99"
   ]
  },
  {
   "cell_type": "code",
   "execution_count": 69,
   "metadata": {},
   "outputs": [
    {
     "data": {
      "text/plain": [
       "array([10.,  2.,  5.])"
      ]
     },
     "execution_count": 69,
     "metadata": {},
     "output_type": "execute_result"
    }
   ],
   "source": [
    "def bellman(R,P,V,gamma):\n",
    "    return(R + (gamma*np.matmul(P,V)))\n",
    "bellman(R,P,V,gamma)"
   ]
  },
  {
   "cell_type": "markdown",
   "metadata": {},
   "source": [
    "### Ejercicio \n",
    "\n",
    "Implementar en una funcion neural_network(X) la red neuronal definida por la siguiente arquitectura:\n",
    "\n",
    "<img src=\"http://i.imgur.com/UNlffE1.png\">\n",
    "\n",
    "Podemos validar si fue correctamente implementada si usamos como entrada el vector x=[1,1] . Debemos obtener el resultado mostrado en la imagen.\n",
    "\n",
    "Una vez tenemos la implementacion correcta, cambiar la funcion de activacion de la capa de salida por la funcion de activacion ReLu(https://en.wikipedia.org/wiki/Rectifier_(neural_networks)):\n",
    "\n",
    "<img src=\"https://cdn-images-1.medium.com/max/1600/1*DfMRHwxY1gyyDmrIAd-gjQ.png\">\n",
    "\n",
    "Luego evaluar la red neuronal sobre la matriz de datos X(de manera vectorizada):"
   ]
  },
  {
   "cell_type": "code",
   "execution_count": 2,
   "metadata": {},
   "outputs": [],
   "source": [
    "import numpy as np"
   ]
  },
  {
   "cell_type": "code",
   "execution_count": 23,
   "metadata": {},
   "outputs": [],
   "source": [
    "def sigmoid(x):\n",
    "    return 1/(1+np.exp(-x))"
   ]
  },
  {
   "cell_type": "code",
   "execution_count": 49,
   "metadata": {},
   "outputs": [],
   "source": [
    "def relu(x):\n",
    "    return(np.select([x<0,x>=0],[0,x],-1))"
   ]
  },
  {
   "cell_type": "code",
   "execution_count": 59,
   "metadata": {},
   "outputs": [
    {
     "name": "stdout",
     "output_type": "stream",
     "text": [
      "[0.69508477 0.77029895 0.67612055]\n"
     ]
    },
    {
     "data": {
      "text/plain": [
       "array([0.69269553])"
      ]
     },
     "execution_count": 59,
     "metadata": {},
     "output_type": "execute_result"
    }
   ],
   "source": [
    "#With sigmoid\n",
    "x = np.array([1,1])\n",
    "def neural_network(x):\n",
    "    mat_HL = np.array([\n",
    "        [0.712, 0.355, 0.268],\n",
    "        [0.112, 0.855, 0.468]\n",
    "    ])\n",
    "    mat_OL = np.array([\n",
    "        [0.116],\n",
    "        [0.329],\n",
    "        [0.708]\n",
    "    ])\n",
    "    HL = np.matmul(x,mat_HL)\n",
    "    HL = sigmoid(HL)\n",
    "    OL = np.matmul(HL,mat_OL)\n",
    "    OL = sigmoid(OL)\n",
    "    print(HL)\n",
    "    return(OL)\n",
    "\n",
    "neural_network(x)"
   ]
  },
  {
   "cell_type": "code",
   "execution_count": 60,
   "metadata": {},
   "outputs": [
    {
     "data": {
      "text/plain": [
       "array([1.014762])"
      ]
     },
     "execution_count": 60,
     "metadata": {},
     "output_type": "execute_result"
    }
   ],
   "source": [
    "#With rectifier\n",
    "x = np.array([1,1])\n",
    "def neural_network(x):\n",
    "    mat_HL = np.array([\n",
    "        [0.712, 0.355, 0.268],\n",
    "        [0.112, 0.855, 0.468]\n",
    "    ])\n",
    "    mat_OL = np.array([\n",
    "        [0.116],\n",
    "        [0.329],\n",
    "        [0.708]\n",
    "    ])\n",
    "    HL = np.matmul(x,mat_HL)\n",
    "    HL = relu(HL)\n",
    "    OL = np.matmul(HL,mat_OL)\n",
    "    OL = relu(OL)\n",
    "    return(OL)\n",
    "\n",
    "neural_network(x)"
   ]
  },
  {
   "cell_type": "code",
   "execution_count": 61,
   "metadata": {},
   "outputs": [
    {
     "data": {
      "text/plain": [
       "array([[1.2901751e+00],\n",
       "       [3.9827325e-01],\n",
       "       [7.5763340e+00],\n",
       "       [8.4233580e+00],\n",
       "       [5.8520720e+00],\n",
       "       [6.1724410e-01],\n",
       "       [7.7977270e+00],\n",
       "       [1.6403930e+02],\n",
       "       [7.7289650e+00],\n",
       "       [1.0551858e+03]])"
      ]
     },
     "execution_count": 61,
     "metadata": {},
     "output_type": "execute_result"
    }
   ],
   "source": [
    "## Evaluando la red sobre la matriz de datos X\n",
    "X = np.array([\n",
    "    [0.1,2],\n",
    "    [0.3,0.45],\n",
    "    [5,9],\n",
    "    [12,6],\n",
    "    [7,5],\n",
    "    [0.3,0.8],\n",
    "    [12,5],\n",
    "    [100,200],\n",
    "    [7,8],\n",
    "    [300,1500]])\n",
    "neural_network(X)"
   ]
  },
  {
   "cell_type": "code",
   "execution_count": null,
   "metadata": {},
   "outputs": [],
   "source": []
  }
 ],
 "metadata": {
  "kernelspec": {
   "display_name": "Python 3",
   "language": "python",
   "name": "python3"
  },
  "language_info": {
   "codemirror_mode": {
    "name": "ipython",
    "version": 3
   },
   "file_extension": ".py",
   "mimetype": "text/x-python",
   "name": "python",
   "nbconvert_exporter": "python",
   "pygments_lexer": "ipython3",
   "version": "3.7.2"
  }
 },
 "nbformat": 4,
 "nbformat_minor": 2
}
