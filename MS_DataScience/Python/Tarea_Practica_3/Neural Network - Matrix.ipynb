{
 "cells": [
  {
   "cell_type": "code",
   "execution_count": 1,
   "metadata": {},
   "outputs": [],
   "source": [
    "import numpy as np"
   ]
  },
  {
   "cell_type": "markdown",
   "metadata": {},
   "source": [
    "**Ejemplo en DS** : en inteligencia artificial y ML en la sub-rama \"reinforcement learning\" la \"ecuacion de bellman\" puede aplicarse de manera vectorizada a traves del operar vectores, matrices y escalares en una sola expresion.\n",
    "\n",
    "<img src=\"https://rebornhugo.github.io/assets/images/post_images/%E5%BC%BA%E5%8C%96%E5%AD%A6%E4%B9%A02/bellman%20equation2.PNG\">\n",
    "\n",
    "* n = numero de estados del sistema.\n",
    "* V(s) = vector que representa el valor esperado para cierto estado\n",
    "* R = recompensa inmediata percibida por el agente al salir de cierto estado.(vector)\n",
    "* P = matriz de transicion de la cadena de Markov sub-yacente.(matriz)\n",
    "* γ = factor de descuento de recompensas futuras(escalar)\n",
    "\n",
    "Calcular V(s) para el siguiente sistema aplicando la ecuación de bellman de manera vectorizada."
   ]
  },
  {
   "cell_type": "code",
   "execution_count": 2,
   "metadata": {},
   "outputs": [],
   "source": [
    "V = np.array([0,0,0]) # valor inicial de V(s)\n",
    "R = np.array([10,2,5]) # vector de recompensas\n",
    "P = np.array([[0.5,0.25,0.25],\n",
    "              [0.2,0.40,0.40],\n",
    "              [0.80,0.10,0.10]])  # matriz de transición\n",
    "gamma = 0.99"
   ]
  },
  {
   "cell_type": "code",
   "execution_count": 3,
   "metadata": {},
   "outputs": [
    {
     "data": {
      "text/plain": [
       "array([10.,  2.,  5.])"
      ]
     },
     "execution_count": 3,
     "metadata": {},
     "output_type": "execute_result"
    }
   ],
   "source": [
    "def bellman(R,P,V,gamma):\n",
    "    return(R + (gamma*np.matmul(P,V)))\n",
    "bellman(R,P,V,gamma)"
   ]
  },
  {
   "cell_type": "markdown",
   "metadata": {},
   "source": [
    "### Ejercicio \n",
    "\n",
    "Implementar en una funcion neural_network(X) la red neuronal definida por la siguiente arquitectura:\n",
    "\n",
    "<img src=\"http://i.imgur.com/UNlffE1.png\">\n",
    "\n",
    "Podemos validar si fue correctamente implementada si usamos como entrada el vector x=[1,1] . Debemos obtener el resultado mostrado en la imagen.\n",
    "\n",
    "Una vez tenemos la implementacion correcta, cambiar la funcion de activacion de la capa de salida por la funcion de activacion ReLu(https://en.wikipedia.org/wiki/Rectifier_(neural_networks)):\n",
    "\n",
    "<img src=\"https://cdn-images-1.medium.com/max/1600/1*DfMRHwxY1gyyDmrIAd-gjQ.png\">\n",
    "\n",
    "Luego evaluar la red neuronal sobre la matriz de datos X(de manera vectorizada):"
   ]
  },
  {
   "cell_type": "code",
   "execution_count": 4,
   "metadata": {},
   "outputs": [],
   "source": [
    "def sigmoid(x):\n",
    "    return 1/(1+np.exp(-x))"
   ]
  },
  {
   "cell_type": "code",
   "execution_count": 5,
   "metadata": {},
   "outputs": [],
   "source": [
    "def relu(x):\n",
    "    return(np.maximum(0,x))"
   ]
  },
  {
   "cell_type": "code",
   "execution_count": 6,
   "metadata": {},
   "outputs": [
    {
     "name": "stdout",
     "output_type": "stream",
     "text": [
      "[0.69508477 0.77029895 0.67612055]\n"
     ]
    },
    {
     "data": {
      "text/plain": [
       "array([0.69269553])"
      ]
     },
     "execution_count": 6,
     "metadata": {},
     "output_type": "execute_result"
    }
   ],
   "source": [
    "#With sigmoid\n",
    "x = np.array([1,1])\n",
    "def neural_network(x):\n",
    "    mat_HL = np.array([\n",
    "        [0.712, 0.355, 0.268],\n",
    "        [0.112, 0.855, 0.468]\n",
    "    ])\n",
    "    mat_OL = np.array([\n",
    "        [0.116],\n",
    "        [0.329],\n",
    "        [0.708]\n",
    "    ])\n",
    "    HL = np.matmul(x,mat_HL)\n",
    "    HL = sigmoid(HL)\n",
    "    OL = np.matmul(HL,mat_OL)\n",
    "    OL = sigmoid(OL)\n",
    "    print(HL)\n",
    "    return(OL)\n",
    "\n",
    "neural_network(x)"
   ]
  },
  {
   "cell_type": "code",
   "execution_count": 7,
   "metadata": {},
   "outputs": [
    {
     "name": "stdout",
     "output_type": "stream",
     "text": [
      "[0.69508477 0.77029895 0.67612055]\n"
     ]
    },
    {
     "data": {
      "text/plain": [
       "array([0.81275154])"
      ]
     },
     "execution_count": 7,
     "metadata": {},
     "output_type": "execute_result"
    }
   ],
   "source": [
    "#With rectifier\n",
    "x = np.array([1,1])\n",
    "def neural_network(x):\n",
    "    mat_HL = np.array([\n",
    "        [0.712, 0.355, 0.268],\n",
    "        [0.112, 0.855, 0.468]\n",
    "    ])\n",
    "    mat_OL = np.array([\n",
    "        [0.116],\n",
    "        [0.329],\n",
    "        [0.708]\n",
    "    ])\n",
    "    HL = np.matmul(x,mat_HL)\n",
    "    HL = sigmoid(HL)\n",
    "    OL = np.matmul(HL,mat_OL)\n",
    "    OL = relu(OL)\n",
    "    print(HL)\n",
    "    return(OL)\n",
    "\n",
    "neural_network(x)"
   ]
  },
  {
   "cell_type": "code",
   "execution_count": 8,
   "metadata": {},
   "outputs": [
    {
     "name": "stdout",
     "output_type": "stream",
     "text": [
      "[[0.5732687  0.85138432 0.72368206]\n",
      " [0.56561932 0.62040086 0.57224093]\n",
      " [0.98972791 0.99992287 0.9961353 ]\n",
      " [0.99990057 0.99991645 0.99758587]\n",
      " [0.99610438 0.99884211 0.98545706]\n",
      " [0.5752246  0.68793868 0.61177987]\n",
      " [0.99988879 0.99980357 0.99615067]\n",
      " [1.         1.         1.        ]\n",
      " [0.997213   0.99991084 0.99638845]\n",
      " [1.         1.         1.        ]]\n"
     ]
    },
    {
     "data": {
      "text/plain": [
       "array([[0.85897151],\n",
       "       [0.6748703 ],\n",
       "       [1.14904686],\n",
       "       [1.15125178],\n",
       "       [1.14187076],\n",
       "       [0.72619803],\n",
       "       [1.15019715],\n",
       "       [1.153     ],\n",
       "       [1.1500904 ],\n",
       "       [1.153     ]])"
      ]
     },
     "execution_count": 8,
     "metadata": {},
     "output_type": "execute_result"
    }
   ],
   "source": [
    "## Evaluando la red sobre la matriz de datos X\n",
    "X = np.array([\n",
    "    [0.1,2],\n",
    "    [0.3,0.45],\n",
    "    [5,9],\n",
    "    [12,6],\n",
    "    [7,5],\n",
    "    [0.3,0.8],\n",
    "    [12,5],\n",
    "    [100,200],\n",
    "    [7,8],\n",
    "    [300,1500]])\n",
    "neural_network(X)"
   ]
  },
  {
   "cell_type": "code",
   "execution_count": null,
   "metadata": {},
   "outputs": [],
   "source": []
  }
 ],
 "metadata": {
  "kernelspec": {
   "display_name": "Python 3",
   "language": "python",
   "name": "python3"
  },
  "language_info": {
   "codemirror_mode": {
    "name": "ipython",
    "version": 3
   },
   "file_extension": ".py",
   "mimetype": "text/x-python",
   "name": "python",
   "nbconvert_exporter": "python",
   "pygments_lexer": "ipython3",
   "version": "3.7.2"
  }
 },
 "nbformat": 4,
 "nbformat_minor": 2
}
