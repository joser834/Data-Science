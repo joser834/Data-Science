{
 "cells": [
  {
   "cell_type": "markdown",
   "metadata": {},
   "source": [
    "## **Funciones en Python**\n",
    "\n",
    "*Tambien llamadas sub-rutinas, procedimientos o metodos en otros lenguajes.*\n",
    "\n",
    "En este documento, estaré detallando los siguientes conceptos:\n",
    "* funciones en Python\n",
    "* parametros posisionales\n",
    "* parametros nombrados\n",
    "* retorno de multiples valores\n",
    "* funciones como objetos y como parametros de otras funciones\n",
    "* funciones anonimas o lambda"
   ]
  },
  {
   "cell_type": "markdown",
   "metadata": {},
   "source": [
    "Una función es un trabajo o actividad realizada por alguna entidad, elemento, etc. En **python**, éstas se definen como procedimientos que reciben una entrada (input) y regresan una salida (output). Es importante resaltar la diferencia entre procedimiento, el cual incluye instrucciones detalladas para realizar una actividad pero sin ninguna salida; y una función, que genera una salida. \n",
    "\n",
    "Las funciones en **python** deben de ser definidas con la siguiente estructura:\n",
    "1. Se debe de comenzar con ***def*** luego el nombre de la función y dos puntos (:)\n",
    "2. El nombre de la función debe incluir un paréntesis () y dentro la lista de los parámetros deseados separados por una coma (,).\n",
    "3. El contenido de la funcion debe de estar por debajo de la línea de la definición e indentada hacia la derecha.\n",
    "4. El contenido puede ser un set de instrucciones para realizar cualquier actividad. Puede ser desde imprimir en pantalla un texto hasta una función matemática muy compleja.\n",
    "5. Al finalizar cada camino que la función pueda recorrer, se debe de retornar el elemento deseado con el comando ***return*** seguido de los elementos deseados.\n",
    "6. Finalmente se puede llamar a la función para que haga el procedimiento deseado usando el nombre de la misma seguida por un paréntesis () con los parámetros. **Ej: nombreDeLaFuncion(p1, p2, 5)**"
   ]
  },
  {
   "cell_type": "markdown",
   "metadata": {},
   "source": [
    "**Por Ejemplo:**\n",
    "Si deseamos encontrar los números primos de un rango de datos, podemos escribir la siguiente función:"
   ]
  },
  {
   "cell_type": "code",
   "execution_count": 9,
   "metadata": {},
   "outputs": [],
   "source": [
    "def rangoPrimos(init, end): # Característica 1 y 2\n",
    "    primos = []\n",
    "    for i in range(2,end+1):\n",
    "        check_primo = True\n",
    "        for j in range(2,i):\n",
    "            if i%j == 0:\n",
    "                check_primo = False\n",
    "                break\n",
    "        if check_primo == True:\n",
    "            primos.append(i)\n",
    "    return(primos) # Característica 5"
   ]
  },
  {
   "cell_type": "markdown",
   "metadata": {},
   "source": [
    "### Parámetros Posicionales\n",
    "\n",
    "Como vimos en el ejemplo anterior, tenemos dos parámetros en nuestra función ***rangoPrimos*** son **init** y **end**. Nos referimos a parámetros posicionales cuando, al llamar a la función, únicamente escribo los valores que deseo ejecutar dentro de la misma. **(Se debe de guardar el mismo orden de los parámetros definidos en la función)**\n",
    "\n",
    "**Por Ejemplo:**"
   ]
  },
  {
   "cell_type": "code",
   "execution_count": 11,
   "metadata": {},
   "outputs": [
    {
     "data": {
      "text/plain": [
       "[2, 3, 5, 7]"
      ]
     },
     "execution_count": 11,
     "metadata": {},
     "output_type": "execute_result"
    }
   ],
   "source": [
    "rangoPrimos(1,10)"
   ]
  },
  {
   "cell_type": "markdown",
   "metadata": {},
   "source": [
    "Como podemos ver, la función automáticamente, por posición, asigna a **init: 1** y a **end: 10.**"
   ]
  },
  {
   "cell_type": "markdown",
   "metadata": {},
   "source": [
    "### Parámetros Nombrados\n",
    "\n",
    "A diferencia de los parámetros posicionales, los parámetros nombrados reciben el nombre del parámetro adicional al valor que deseo que la función obtenga. En esta alternativa, no debo de guardar el orden de los prámetros.\n",
    "\n",
    "**Por Ejemplo:**"
   ]
  },
  {
   "cell_type": "code",
   "execution_count": 12,
   "metadata": {},
   "outputs": [
    {
     "data": {
      "text/plain": [
       "[2, 3, 5, 7]"
      ]
     },
     "execution_count": 12,
     "metadata": {},
     "output_type": "execute_result"
    }
   ],
   "source": [
    "rangoPrimos(end=10,init=1)"
   ]
  },
  {
   "cell_type": "markdown",
   "metadata": {},
   "source": [
    "Como podemos ver, no se guarda el orden de los parámetros, pero la función reconoce cada uno por el nombre que se le asigna antes y el resultado es el mismo."
   ]
  },
  {
   "cell_type": "markdown",
   "metadata": {},
   "source": [
    "### Retorno de múltiples valores\n",
    "\n",
    "Retorno de múltiples valores en python se refiere cuando se necesita que una funcion despliegue multiples resultados dentro de la misma función. Esto puede ser muy útil cuando se quiere encontrar varios valores de un set de instrucciones y por ende se pueden acceder a cada uno de ellos.\n",
    "\n",
    "\n"
   ]
  },
  {
   "cell_type": "code",
   "execution_count": null,
   "metadata": {},
   "outputs": [],
   "source": []
  }
 ],
 "metadata": {
  "kernelspec": {
   "display_name": "Python 3",
   "language": "python",
   "name": "python3"
  },
  "language_info": {
   "codemirror_mode": {
    "name": "ipython",
    "version": 3
   },
   "file_extension": ".py",
   "mimetype": "text/x-python",
   "name": "python",
   "nbconvert_exporter": "python",
   "pygments_lexer": "ipython3",
   "version": "3.7.2"
  }
 },
 "nbformat": 4,
 "nbformat_minor": 2
}
