{
 "cells": [
  {
   "cell_type": "markdown",
   "metadata": {},
   "source": [
    "# Python basics\n",
    "\n",
    "En esta clase veremos los fundamentos y elementos básicos de python. \n",
    "Estos son comunes y estan presentes en cualquier tipo de programa de Python , no son específicos de programación científica y ciencias de datos y los encontraremos también en aplicaciones web, móviles  ,scripting y desarrollo de softwar tradicional.\n",
    "\n",
    "Quienes ya saben Python o algún otro lenguaje programación encontrarán esto como muy básico o elemental, pero es importante que lo veamos para los compañeros que tienen poca experiencia o bien se estan iniciando en la programación.\n",
    "\n",
    "**Detalle importante** : este texto esta escrito en \"Markdown\" que es el lenguaje que utilizan los notebooks para dar formato (entre otras cosas) al texto  que no es parte del código de programación.\n",
    "\n",
    "Es difícil encontrar en pensums de ciencia de datos cursos dedicados a \"Markdown\" pero es importante conocerlo por que es común utilizar Markdown para documentar muchos productos de ciencia de datos por lo que es aconsejable que investiguemos y experimentemos durante nuestra formacion , referencia útil: https://github.com/adam-p/markdown-here/wiki/Markdown-Cheatsheet.\n",
    "\n",
    "### Esto es una celda tipo \"Markdown\"\n",
    "\n",
    "Podemos ver en la barra de menú que al hacer click en esta celda se activa el modo \"Markdown\" de esta forma indicamos que esta celda no contiene código ejecutable y que el contenido escrito en ella esta en formato \"Markdown\".\n",
    "\n",
    "#### Recordar\n",
    "* Podemos dar doble click a una celda  tipo \"Markdown\" para ver su contenido puro en Markdown o bien editar y agregar contenido\n",
    "* Tanto  celdas tipo \"Markdown\" como celdas tipo \"Code\" pueden ser \"ejecutadas\" con shift+enter\n",
    "    * En celdas tipo \"Markdown\" esto ocasiona que se \"renderize\" el markdown (aplicar el formato especificado y se dibuje en pantalla el contenido)\n",
    "    * En celdas tipo \"Code\" esto ocasiona que se ejecute el código definido en la celda y si el código tiene salidas como impresiones a pantalla, estas serán desplegadas en el notebook.\n",
    "    * No olvides guardar cada cierto tiempo tu \"Notebook\"\n",
    "* Podemos agregar mas celdas al notebook a traves de la cruz \"+\" del lado izquierdo del menu\n",
    "* Podemos también cortar,copiar y pegar celdas en el menú\n",
    "* Si por error borras una celda, se puede recuperar en : Edit -> Undo Delete Cells\n",
    "* Todas las acciones que estaremos haciendo a través de la barra de menú tienen tambien shortcuts del teclado.\n",
    "    * Por ejemplo el indicar que una celda es del tipo \"Markdown\" puede hacerse con Esc+m+enter"
   ]
  },
  {
   "cell_type": "markdown",
   "metadata": {},
   "source": [
    "## Hola Mundo en Markdown\n",
    "**Ejercicio**: Escribir tu nombre y carnet en una nueva celda con el carnet en negrita"
   ]
  },
  {
   "cell_type": "markdown",
   "metadata": {},
   "source": [
    "#### Jose Rolando Josue Bonilla\n",
    "**19000605**"
   ]
  },
  {
   "cell_type": "code",
   "execution_count": 24,
   "metadata": {},
   "outputs": [
    {
     "name": "stdout",
     "output_type": "stream",
     "text": [
      "Hola mundo en Python!\n",
      "Este es mi primer notebook con Python!\n",
      "Esta es una celda tipo 'Code' por lo cual print es código ejecutable\n",
      "Puedo ejecutar el código con shift+enter o con el boton Run del menu\n"
     ]
    }
   ],
   "source": [
    "# Esta es una celda tipo \"Code\" y esto es un comentario tradicional de Python de una linea\n",
    "# Al igual que en otros lenguajes, este comentario es ignorado y no tiene efecto en el programa\n",
    "# Los comentarios nos ayudan a agregar anotaciones,recordatorios, explicaciones etc para otros programadores,data scientists o incluso nosotros mismos\n",
    "# Es buena idea comentar nuestro código y no solo el notebook ya que es común exportar el código para ser ejecutado en modo batch en algún servidor\n",
    "# En este caso todo este texto(comentarios) es ignorado y lo unico ejecutado es la sentencia print()\n",
    "# Parecido a otros lenguajes ,print() es usado para obtener un resultado de nuestro programa o desplegar algo\n",
    "# En modo batch print() muestra su salida en el stdout, comunmente la consola y en el notebook se muestra directamente en el mismo notebook\n",
    "\n",
    "print(\"Hola mundo en Python!\")\n",
    "print(\"Este es mi primer notebook con Python!\")\n",
    "print(\"Esta es una celda tipo 'Code' por lo cual print es código ejecutable\")\n",
    "print(\"Puedo ejecutar el código con shift+enter o con el boton Run del menu\") "
   ]
  },
  {
   "cell_type": "code",
   "execution_count": 25,
   "metadata": {},
   "outputs": [],
   "source": [
    "\n",
    "def first_function(x):\n",
    "    '''\n",
    "      Esta es una celda tipo \"Code\" y esto es un comentario tradicional de Python de multiples lineas.\n",
    "      Este es utilizado como el primer elemento de funciones y es utilizado para documentar la función\n",
    "      Por ahora ignoremos el codigo ,lo veremos mas adelante ,lo importante es el comentario\n",
    "    '''\n",
    "    y = x + 1\n",
    "    \n",
    "    return y"
   ]
  },
  {
   "cell_type": "code",
   "execution_count": 26,
   "metadata": {},
   "outputs": [
    {
     "data": {
      "text/plain": [
       "30"
      ]
     },
     "execution_count": 26,
     "metadata": {},
     "output_type": "execute_result"
    }
   ],
   "source": [
    "first_function(29)"
   ]
  },
  {
   "cell_type": "markdown",
   "metadata": {},
   "source": [
    "**Ejercicio:** Escribir una celda de codigo que imprima/despliegue en pantalla tu nombre y carnet"
   ]
  },
  {
   "cell_type": "code",
   "execution_count": 27,
   "metadata": {},
   "outputs": [
    {
     "name": "stdout",
     "output_type": "stream",
     "text": [
      "Jose Rolando Josue Bonilla\n",
      "Carné: 19000605\n"
     ]
    }
   ],
   "source": [
    "print(\"Jose Rolando Josue Bonilla\")\n",
    "print(\"Carné: 19000605\")"
   ]
  },
  {
   "cell_type": "markdown",
   "metadata": {},
   "source": [
    "### Programacion interactiva e interpretada\n",
    "Estamos viendo en este caso algo que mencionamos en las primeras clases, Python es un lenguaje interpretado y que nos permite realizar programación interactiva:\n",
    "* Podemos ejecutar pequeñas porciones de código \"a demanda\" sin necesidad de compilar el código completo\n",
    "* Podemos ejecutar sentencias individuales o o grupos de sentencias, evaluar el resultado inmediatamente y ejecutar nuevas sentencias en respuesta(con lenguajes compilados necesitamos compilar antes de ejecutar las nuevas sentencias)"
   ]
  },
  {
   "cell_type": "markdown",
   "metadata": {},
   "source": [
    "### Autocompletado de código\n",
    "Para hacer la programación más ágil y rápida , jupyter provee autocompletado de codigo a través de usar \"tab\".\n",
    "* Ahora que ya conocemos la sentencia \"print\" intenta escribir \"pr\" en una celda tipo código y luego presiona \"tab\", Jupyter mostrara las opciones que coinciden\n",
    "* Si en lugar de  \"pr\" escibes \"pri\" las opciones se reducen y \"Jupyter\" autocompleta a la única opción disponible "
   ]
  },
  {
   "cell_type": "code",
   "execution_count": 28,
   "metadata": {},
   "outputs": [
    {
     "name": "stdout",
     "output_type": "stream",
     "text": [
      "Autocompletado usando Tab\n"
     ]
    }
   ],
   "source": [
    "print(\"Autocompletado usando Tab\")"
   ]
  },
  {
   "cell_type": "code",
   "execution_count": 29,
   "metadata": {},
   "outputs": [
    {
     "name": "stdout",
     "output_type": "stream",
     "text": [
      "\n"
     ]
    }
   ],
   "source": [
    "print()"
   ]
  },
  {
   "cell_type": "markdown",
   "metadata": {},
   "source": [
    "## Literales,valores, objetos, identificadores , variables y  tipos primitivos\n",
    "\n",
    "Python al igual que muchos otros lenguajes dispone de variedad de gran variedad de tipos de \"objetos\" que podemos utilizar para representar datos e información en nuestros programas, algunos sencillos y otros mas complejos.\n",
    "\n",
    "Nuevamente esta sección es programación general en Python y la podemos utilizar en cualquier tipo de programa, no solo númericos y o científicos. \n",
    "\n",
    "Dependiendo de la fuente que consultemos , pueden llamar de distinta forma a los elementos que acá veremos,pero lo importante es que conozcamos que son, para que son y cuando usarlos , el nombre es secundario y conforme los usemos se nos harán intuitivos.\n",
    "\n",
    "Empezaremos con lo mas sencillo, valores/literales y \"objetos\" sencillos o tipos primitivos, luego daremos paso a variables/identificadores  para finalmente combinar todo en \"expresiones\" y posteriormente \"colecciones\" de objetos(aveces llamadas \"containers\" en python  o estructuras de datos en otros lenguajes)\n",
    "\n",
    "### Detalle importante: todo objeto/valor tiene un tipo que indica su naturaleza y sus posibles usos\n",
    "\n",
    "Para quienes vienen de ciencias de la computación y conocen el paradigma \"OOP\", en Python **todo es un objeto** ,para quienes vienen de otros ámbitos este detalle no es importante por ahora(detallaremos mas adelante)\n",
    "\n",
    "### Valores/Literales u objetos de tipo primitivo\n",
    "\n",
    "Todo programa necesita representar datos o información  para realizar operaciones en estos,  Python al igual que muchos lenguajes maneja \"tipos primitivos\" o valores básicos que nos permiten representar información general(además poseemos funciones para convertir a cierto tipo):\n",
    "\n",
    "* Números enteros :int\n",
    "* Números decimales :float\n",
    "* Caracteres y cadenas de caracteres(strings):str\n",
    "* Números complejos : complex\n",
    "* Valores booleanos (True, False) : bool\n",
    "\n",
    "También podemos encontrar variaciones de estos por ejemplo:\n",
    "* Números en notación científica\n",
    "* Números en notación exadecimal"
   ]
  },
  {
   "cell_type": "markdown",
   "metadata": {},
   "source": [
    "#### Números enteros"
   ]
  },
  {
   "cell_type": "code",
   "execution_count": 30,
   "metadata": {},
   "outputs": [
    {
     "data": {
      "text/plain": [
       "12"
      ]
     },
     "execution_count": 30,
     "metadata": {},
     "output_type": "execute_result"
    }
   ],
   "source": [
    "12"
   ]
  },
  {
   "cell_type": "code",
   "execution_count": 31,
   "metadata": {},
   "outputs": [
    {
     "data": {
      "text/plain": [
       "5"
      ]
     },
     "execution_count": 31,
     "metadata": {},
     "output_type": "execute_result"
    }
   ],
   "source": [
    "int(5.12)"
   ]
  },
  {
   "cell_type": "markdown",
   "metadata": {},
   "source": [
    "#### Números decimales"
   ]
  },
  {
   "cell_type": "code",
   "execution_count": 32,
   "metadata": {},
   "outputs": [
    {
     "data": {
      "text/plain": [
       "3.1416"
      ]
     },
     "execution_count": 32,
     "metadata": {},
     "output_type": "execute_result"
    }
   ],
   "source": [
    "3.1416"
   ]
  },
  {
   "cell_type": "code",
   "execution_count": 33,
   "metadata": {},
   "outputs": [
    {
     "data": {
      "text/plain": [
       "3.1416"
      ]
     },
     "execution_count": 33,
     "metadata": {},
     "output_type": "execute_result"
    }
   ],
   "source": [
    "float(3.1416)"
   ]
  },
  {
   "cell_type": "code",
   "execution_count": 34,
   "metadata": {},
   "outputs": [
    {
     "data": {
      "text/plain": [
       "3.114"
      ]
     },
     "execution_count": 34,
     "metadata": {},
     "output_type": "execute_result"
    }
   ],
   "source": [
    "float(\"3.114\")"
   ]
  },
  {
   "cell_type": "markdown",
   "metadata": {},
   "source": [
    "#### Cadenas de caracteres o strings"
   ]
  },
  {
   "cell_type": "code",
   "execution_count": 35,
   "metadata": {},
   "outputs": [
    {
     "data": {
      "text/plain": [
       "'cadena de caracteres'"
      ]
     },
     "execution_count": 35,
     "metadata": {},
     "output_type": "execute_result"
    }
   ],
   "source": [
    "\"cadena de caracteres\""
   ]
  },
  {
   "cell_type": "code",
   "execution_count": 40,
   "metadata": {},
   "outputs": [
    {
     "data": {
      "text/plain": [
       "'12'"
      ]
     },
     "execution_count": 40,
     "metadata": {},
     "output_type": "execute_result"
    }
   ],
   "source": [
    "str(\"12\")"
   ]
  },
  {
   "cell_type": "code",
   "execution_count": 41,
   "metadata": {},
   "outputs": [
    {
     "data": {
      "text/plain": [
       "12"
      ]
     },
     "execution_count": 41,
     "metadata": {},
     "output_type": "execute_result"
    }
   ],
   "source": [
    "int(\"12\")"
   ]
  },
  {
   "cell_type": "code",
   "execution_count": 43,
   "metadata": {},
   "outputs": [
    {
     "data": {
      "text/plain": [
       "3.1416"
      ]
     },
     "execution_count": 43,
     "metadata": {},
     "output_type": "execute_result"
    }
   ],
   "source": [
    "float(\"3.1416\")"
   ]
  },
  {
   "cell_type": "markdown",
   "metadata": {},
   "source": [
    "#### Números complejos"
   ]
  },
  {
   "cell_type": "code",
   "execution_count": 44,
   "metadata": {},
   "outputs": [
    {
     "data": {
      "text/plain": [
       "(1+2j)"
      ]
     },
     "execution_count": 44,
     "metadata": {},
     "output_type": "execute_result"
    }
   ],
   "source": [
    "1 + 2j"
   ]
  },
  {
   "cell_type": "markdown",
   "metadata": {},
   "source": [
    "#### Booleanos\n",
    "Utilizados comunmente para controlar el flujo de un programa a través de la evaluación de condiciones, estas condiciones pueden cumplirse(True) o no cumplirse(False) y determinamos el flujo de un programa según uno de estos 2 valores.\n",
    "\n",
    "En otros contextos y/o lenguajes tenemos\n",
    "* 1=True\n",
    "* 0=False\n",
    "\n",
    "Por ejemplo, un alumno aprueba si su nota es mayor a 61 , por lo tanto una condición puede ser: verdadera si el alumno tiene mas de 61 o falsa en caso contrario"
   ]
  },
  {
   "cell_type": "code",
   "execution_count": 45,
   "metadata": {},
   "outputs": [
    {
     "data": {
      "text/plain": [
       "True"
      ]
     },
     "execution_count": 45,
     "metadata": {},
     "output_type": "execute_result"
    }
   ],
   "source": [
    "True"
   ]
  },
  {
   "cell_type": "code",
   "execution_count": 46,
   "metadata": {},
   "outputs": [
    {
     "data": {
      "text/plain": [
       "False"
      ]
     },
     "execution_count": 46,
     "metadata": {},
     "output_type": "execute_result"
    }
   ],
   "source": [
    "False"
   ]
  },
  {
   "cell_type": "code",
   "execution_count": 47,
   "metadata": {},
   "outputs": [
    {
     "data": {
      "text/plain": [
       "True"
      ]
     },
     "execution_count": 47,
     "metadata": {},
     "output_type": "execute_result"
    }
   ],
   "source": [
    "bool(1)"
   ]
  },
  {
   "cell_type": "code",
   "execution_count": 48,
   "metadata": {},
   "outputs": [
    {
     "data": {
      "text/plain": [
       "False"
      ]
     },
     "execution_count": 48,
     "metadata": {},
     "output_type": "execute_result"
    }
   ],
   "source": [
    "bool(0)"
   ]
  },
  {
   "cell_type": "markdown",
   "metadata": {},
   "source": [
    "#### Notación científica\n",
    "Más que un tipo de objeto o tipo de valor, es una forma de reprsentar uno de los ya mencionados números decimales o reales por lo cual todas las operaciones o usos de un número real estan también disponibles a números específicados con esta notación."
   ]
  },
  {
   "cell_type": "code",
   "execution_count": 49,
   "metadata": {},
   "outputs": [
    {
     "data": {
      "text/plain": [
       "-3.14"
      ]
     },
     "execution_count": 49,
     "metadata": {},
     "output_type": "execute_result"
    }
   ],
   "source": [
    "# Numero real comun\n",
    "-3.14"
   ]
  },
  {
   "cell_type": "code",
   "execution_count": 50,
   "metadata": {},
   "outputs": [
    {
     "data": {
      "text/plain": [
       "-3.14"
      ]
     },
     "execution_count": 50,
     "metadata": {},
     "output_type": "execute_result"
    }
   ],
   "source": [
    "-314e-2"
   ]
  },
  {
   "cell_type": "code",
   "execution_count": 51,
   "metadata": {},
   "outputs": [
    {
     "data": {
      "text/plain": [
       "-3.14"
      ]
     },
     "execution_count": 51,
     "metadata": {},
     "output_type": "execute_result"
    }
   ],
   "source": [
    "-314.0e-2"
   ]
  },
  {
   "cell_type": "code",
   "execution_count": 52,
   "metadata": {},
   "outputs": [
    {
     "data": {
      "text/plain": [
       "-3.14"
      ]
     },
     "execution_count": 52,
     "metadata": {},
     "output_type": "execute_result"
    }
   ],
   "source": [
    "-0.00314e3"
   ]
  },
  {
   "cell_type": "markdown",
   "metadata": {},
   "source": [
    "#### Formato hexadecimal \n",
    "No es tan utilizado por lo cual no entraremos a detalles, solo veremos 2 ejemplos de como especificar un numero exadecimal y pasarlo a entero o como pasar de entero a hexadecimal"
   ]
  },
  {
   "cell_type": "code",
   "execution_count": 53,
   "metadata": {},
   "outputs": [
    {
     "data": {
      "text/plain": [
       "255"
      ]
     },
     "execution_count": 53,
     "metadata": {},
     "output_type": "execute_result"
    }
   ],
   "source": [
    "0xff"
   ]
  },
  {
   "cell_type": "code",
   "execution_count": 54,
   "metadata": {},
   "outputs": [
    {
     "data": {
      "text/plain": [
       "'0xff'"
      ]
     },
     "execution_count": 54,
     "metadata": {},
     "output_type": "execute_result"
    }
   ],
   "source": [
    "hex(255)"
   ]
  },
  {
   "cell_type": "markdown",
   "metadata": {},
   "source": [
    "### Variables/identificadores\n",
    "\n",
    "Similar al concepto de variables de la mayoría de lenguajes de programación . Nos permite dar un nombre(o identificador) a un objeto o valor de interés en nuestro programa, o bien definir en nuestro programa operaciones sobre un objeto del cual no conocemos su valor al momento de crear el programa ya que puede \"variar\" según información en una base de datos, un archivo u otros elementos(como un web service).\n",
    "\n",
    "* En python el tipo pertenece al objeto no a la variable/identificador\n",
    "    * por lo tanto podemos re-utilizar la variable en objetos de distinto tipo( tener precaucion)\n",
    "* Relacionado al punto anterior, Python es debilmente tipificado(no se necesita declarar tipos explicitamente)\n",
    "* Python es \"case sensitive\" por lo cual tipo_cambio es un identificador distinto a Tipo_cambio\n",
    "* Podemos usar las variables/identificadores en cualquier expresion donde un valor/literal pueda ser usado\n",
    "\n",
    "Un uso comun de las variables es utilizarla para guardar los resultados de operaciones y/o calculos que luego seran utilizados en otro punto del programa.\n",
    "\n",
    "Una **operación muy importante** y frecuente en Python es la operación de asignación en la cual asignamos un valor/objeto o el resultado de una operación a una variable/o identificador, esta operación tiene la sintáxis:\n",
    "\n",
    "< identificador >=objeto/valor/resultado de operacion\n",
    "\n",
    "Que significa que el objeto/valor o resultado de cierta operación podra ser accedido o usado en el programa bajo el nombre \"identificador\". Veamos algunos ejemplos:"
   ]
  },
  {
   "cell_type": "code",
   "execution_count": 67,
   "metadata": {},
   "outputs": [
    {
     "name": "stdout",
     "output_type": "stream",
     "text": [
      "7.0\n"
     ]
    }
   ],
   "source": [
    "tipo_cambio = 7.0 # tipo_cambio es el identificador para el valor real 7.0\n",
    "\n",
    "print(tipo_cambio)"
   ]
  },
  {
   "cell_type": "code",
   "execution_count": 60,
   "metadata": {},
   "outputs": [
    {
     "data": {
      "text/plain": [
       "float"
      ]
     },
     "execution_count": 60,
     "metadata": {},
     "output_type": "execute_result"
    }
   ],
   "source": [
    "type(tipo_cambio)"
   ]
  },
  {
   "cell_type": "code",
   "execution_count": 61,
   "metadata": {},
   "outputs": [
    {
     "data": {
      "text/plain": [
       "str"
      ]
     },
     "execution_count": 61,
     "metadata": {},
     "output_type": "execute_result"
    }
   ],
   "source": [
    "tipo_cambio = \"7.0\"\n",
    "type(tipo_cambio)"
   ]
  },
  {
   "cell_type": "markdown",
   "metadata": {},
   "source": [
    "Esto en java o C tendría que haber sido declarado con algo parecido a :\n",
    "\n",
    "double tipo_cambio = 7.0;\n",
    "\n",
    "Especificando el tipo de dato de la variable, en Python el tipo pertenece al objeto 7.0 y no a la variable tipo cambio por lo cual no es necesario declarar el tipo"
   ]
  },
  {
   "cell_type": "code",
   "execution_count": 65,
   "metadata": {},
   "outputs": [
    {
     "name": "stdout",
     "output_type": "stream",
     "text": [
      "10.0\n"
     ]
    }
   ],
   "source": [
    "monto = 10.0 # monto es el identificador para el valor real 10.0\n",
    "\n",
    "print(monto)"
   ]
  },
  {
   "cell_type": "code",
   "execution_count": 68,
   "metadata": {
    "scrolled": true
   },
   "outputs": [
    {
     "name": "stdout",
     "output_type": "stream",
     "text": [
      "70.0\n"
     ]
    }
   ],
   "source": [
    "monto_convertido = tipo_cambio*monto #monto_convertido es el identificador para el resultado de la operación de multiplicar  el cambio por el monto\n",
    "\n",
    "print(monto_convertido)\n"
   ]
  },
  {
   "cell_type": "markdown",
   "metadata": {},
   "source": [
    "**detalle importante:** Las variables/identificadores pueden ser usadas en cualquier celda del notebook posterior a la  celda en la que fueron creados,por ejemplo puedo imprimir el monto_convertido en la siguiente celda sin necesidad de re-declararla "
   ]
  },
  {
   "cell_type": "code",
   "execution_count": 69,
   "metadata": {},
   "outputs": [
    {
     "name": "stdout",
     "output_type": "stream",
     "text": [
      "70.0\n"
     ]
    }
   ],
   "source": [
    "print(monto_convertido)"
   ]
  },
  {
   "cell_type": "markdown",
   "metadata": {},
   "source": [
    "**ejercicio** : que pasa si usamos Monto_Convertido en print() en lugar de monto_convertido? Agrega una celda de codigo e intentalo"
   ]
  },
  {
   "cell_type": "code",
   "execution_count": 70,
   "metadata": {},
   "outputs": [
    {
     "ename": "NameError",
     "evalue": "name 'Monto_Convertido' is not defined",
     "output_type": "error",
     "traceback": [
      "\u001b[0;31m---------------------------------------------------------------------------\u001b[0m",
      "\u001b[0;31mNameError\u001b[0m                                 Traceback (most recent call last)",
      "\u001b[0;32m<ipython-input-70-db8cf5297e16>\u001b[0m in \u001b[0;36m<module>\u001b[0;34m\u001b[0m\n\u001b[0;32m----> 1\u001b[0;31m \u001b[0mprint\u001b[0m\u001b[0;34m(\u001b[0m\u001b[0mMonto_Convertido\u001b[0m\u001b[0;34m)\u001b[0m\u001b[0;34m\u001b[0m\u001b[0;34m\u001b[0m\u001b[0m\n\u001b[0m",
      "\u001b[0;31mNameError\u001b[0m: name 'Monto_Convertido' is not defined"
     ]
    }
   ],
   "source": [
    "print(Monto_Convertido)"
   ]
  },
  {
   "cell_type": "markdown",
   "metadata": {},
   "source": [
    "### Expresiones\n",
    "\n",
    "Ya conocemos los valores/literales ,variables e identificadores, que son elementos básicos para definir y representar datos e información en nuestos programas, pero necesitamos realizar operaciones en estos datos ya sean: operaciones númericas, validaciones  y comparaciones , operaciones en cadenas(por ejemplo sub-cadenas) de caracteres.\n",
    "\n",
    "En un lenguaje de programación se llama **expresion** a partes del programa que utilizan una combinación de una o mas: literales,valores, variables  u operadores  que la computadora opera para producir un resultado(un nuevo valor que puede ser asignado a un nuevo identificador o variable).\n",
    "\n",
    "Cuando escribimos hace un monento la sentencia de código:\n",
    "\n",
    "monto_convertido = tipo_cambio*monto\n",
    "\n",
    "Teniamos un ejemplo de expresión: en este caso la operación de multiplicación * se aplicó a 2 variables y el resultado de esta multiplicación se asigno con el operador  = a una nueva variable monto_convertido.\n",
    "\n",
    "Python y la mayoría de lenguajes tienen diversos operadores(y por lo tanto) tipos de operaciones.\n",
    "\n",
    "Según el tipo del objeto será posible aplicar algunas operaciones en este y otras no(por ejemplo, no podemos sumar 2 cadenas de caracteres )\n",
    "\n",
    "#### Operaciones y operadores aritméticos\n",
    "\n",
    "Tal y como su nombre indica son operadores que nos permiten realizar operaciones arítmeticas como suma, resta, multiplicación o división.\n",
    "* suma +\n",
    "* resta -\n",
    "* multiplicación *\n",
    "* división : en Python podemos tener distintos tipos de división según lo que necesitemos\n",
    "    * División común   (obtiene el resultado completo incluyendo divisor y residuo)\n",
    "    * División entera /floor division (obtiene solo la parte entera redondeado al entero menor mas pequeno)\n",
    "    * División modular (obtiene solo el residuo de la división)\n",
    "* Potenciación ** \n",
    "\n",
    "Estos operadores pueden aplicarse cualquier valor valido que puede ser una literal, una variable o bien otras expresiones.\n",
    "\n",
    "Adicional a esto, podemos agrupar en parentesis segmentos de operaciones y asi de esta manera  lograr mayor legibilidad, y definir explicitamente la precedencia y orden de las operaciones."
   ]
  },
  {
   "cell_type": "code",
   "execution_count": 71,
   "metadata": {},
   "outputs": [
    {
     "data": {
      "text/plain": [
       "3"
      ]
     },
     "execution_count": 71,
     "metadata": {},
     "output_type": "execute_result"
    }
   ],
   "source": [
    "1 + 2"
   ]
  },
  {
   "cell_type": "code",
   "execution_count": 72,
   "metadata": {},
   "outputs": [
    {
     "data": {
      "text/plain": [
       "0"
      ]
     },
     "execution_count": 72,
     "metadata": {},
     "output_type": "execute_result"
    }
   ],
   "source": [
    "1 - 1"
   ]
  },
  {
   "cell_type": "code",
   "execution_count": 73,
   "metadata": {},
   "outputs": [
    {
     "data": {
      "text/plain": [
       "3.0"
      ]
     },
     "execution_count": 73,
     "metadata": {},
     "output_type": "execute_result"
    }
   ],
   "source": [
    "1.0 * 3"
   ]
  },
  {
   "cell_type": "code",
   "execution_count": 74,
   "metadata": {},
   "outputs": [
    {
     "data": {
      "text/plain": [
       "0.2"
      ]
     },
     "execution_count": 74,
     "metadata": {},
     "output_type": "execute_result"
    }
   ],
   "source": [
    "1 / 5"
   ]
  },
  {
   "cell_type": "code",
   "execution_count": 75,
   "metadata": {},
   "outputs": [
    {
     "data": {
      "text/plain": [
       "100"
      ]
     },
     "execution_count": 75,
     "metadata": {},
     "output_type": "execute_result"
    }
   ],
   "source": [
    "nota1 = 25\n",
    "nota2 = 25\n",
    "nota3 = 50\n",
    "\n",
    "nota1 + nota2 + nota3"
   ]
  },
  {
   "cell_type": "code",
   "execution_count": 76,
   "metadata": {},
   "outputs": [
    {
     "data": {
      "text/plain": [
       "100"
      ]
     },
     "execution_count": 76,
     "metadata": {},
     "output_type": "execute_result"
    }
   ],
   "source": [
    "nota1 + nota2 + 50"
   ]
  },
  {
   "cell_type": "code",
   "execution_count": 77,
   "metadata": {},
   "outputs": [
    {
     "data": {
      "text/plain": [
       "10.0"
      ]
     },
     "execution_count": 77,
     "metadata": {},
     "output_type": "execute_result"
    }
   ],
   "source": [
    "(nota1 + nota2 + nota3) * 0.1"
   ]
  },
  {
   "cell_type": "code",
   "execution_count": 78,
   "metadata": {},
   "outputs": [
    {
     "name": "stdout",
     "output_type": "stream",
     "text": [
      "10.0\n"
     ]
    }
   ],
   "source": [
    "total = (nota1 + nota2 + nota3) * 0.1\n",
    "\n",
    "print(total)"
   ]
  },
  {
   "cell_type": "code",
   "execution_count": 79,
   "metadata": {},
   "outputs": [
    {
     "data": {
      "text/plain": [
       "2.5"
      ]
     },
     "execution_count": 79,
     "metadata": {},
     "output_type": "execute_result"
    }
   ],
   "source": [
    "5/2"
   ]
  },
  {
   "cell_type": "code",
   "execution_count": 80,
   "metadata": {},
   "outputs": [
    {
     "data": {
      "text/plain": [
       "2"
      ]
     },
     "execution_count": 80,
     "metadata": {},
     "output_type": "execute_result"
    }
   ],
   "source": [
    "5//2"
   ]
  },
  {
   "cell_type": "code",
   "execution_count": 82,
   "metadata": {},
   "outputs": [
    {
     "data": {
      "text/plain": [
       "1"
      ]
     },
     "execution_count": 82,
     "metadata": {},
     "output_type": "execute_result"
    }
   ],
   "source": [
    "5%2"
   ]
  },
  {
   "cell_type": "code",
   "execution_count": 94,
   "metadata": {},
   "outputs": [
    {
     "data": {
      "text/plain": [
       "0"
      ]
     },
     "execution_count": 94,
     "metadata": {},
     "output_type": "execute_result"
    }
   ],
   "source": [
    "2%2"
   ]
  },
  {
   "cell_type": "code",
   "execution_count": 95,
   "metadata": {},
   "outputs": [
    {
     "data": {
      "text/plain": [
       "3.0"
      ]
     },
     "execution_count": 95,
     "metadata": {},
     "output_type": "execute_result"
    }
   ],
   "source": [
    "6/2"
   ]
  },
  {
   "cell_type": "code",
   "execution_count": 96,
   "metadata": {},
   "outputs": [
    {
     "data": {
      "text/plain": [
       "2.0"
      ]
     },
     "execution_count": 96,
     "metadata": {},
     "output_type": "execute_result"
    }
   ],
   "source": [
    "6/3"
   ]
  },
  {
   "cell_type": "code",
   "execution_count": 97,
   "metadata": {},
   "outputs": [
    {
     "data": {
      "text/plain": [
       "0"
      ]
     },
     "execution_count": 97,
     "metadata": {},
     "output_type": "execute_result"
    }
   ],
   "source": [
    "6%2"
   ]
  },
  {
   "cell_type": "code",
   "execution_count": 98,
   "metadata": {},
   "outputs": [
    {
     "data": {
      "text/plain": [
       "0"
      ]
     },
     "execution_count": 98,
     "metadata": {},
     "output_type": "execute_result"
    }
   ],
   "source": [
    "6%3"
   ]
  },
  {
   "cell_type": "code",
   "execution_count": 99,
   "metadata": {},
   "outputs": [
    {
     "data": {
      "text/plain": [
       "2"
      ]
     },
     "execution_count": 99,
     "metadata": {},
     "output_type": "execute_result"
    }
   ],
   "source": [
    "6%4"
   ]
  },
  {
   "cell_type": "code",
   "execution_count": 100,
   "metadata": {},
   "outputs": [
    {
     "data": {
      "text/plain": [
       "4"
      ]
     },
     "execution_count": 100,
     "metadata": {},
     "output_type": "execute_result"
    }
   ],
   "source": [
    "2**2"
   ]
  },
  {
   "cell_type": "code",
   "execution_count": 101,
   "metadata": {},
   "outputs": [
    {
     "data": {
      "text/plain": [
       "8"
      ]
     },
     "execution_count": 101,
     "metadata": {},
     "output_type": "execute_result"
    }
   ],
   "source": [
    "2**3"
   ]
  },
  {
   "cell_type": "code",
   "execution_count": 103,
   "metadata": {},
   "outputs": [
    {
     "data": {
      "text/plain": [
       "41"
      ]
     },
     "execution_count": 103,
     "metadata": {},
     "output_type": "execute_result"
    }
   ],
   "source": [
    "((1+2)*(3+ 2**3)) + 8"
   ]
  },
  {
   "cell_type": "markdown",
   "metadata": {},
   "source": [
    "#### Operadores y operaciones relacionales(operadores de comparacion)\n",
    "\n",
    "Estas operaciones/operadores son usadas para evaluar la relacion entre 2 elementos(literales, variables o resultados de otras operaciones) a través de **evaluar** si cierta **condición** se cumple.\n",
    "\n",
    "Si la condición se cumple el resultado es \"verdadero\" representado en Python como True , si la condición no se cumple el resultado es \"falso\" representado en Python como False.\n",
    "\n",
    "Las operaciones relacionales son usadas comunmente(en conjunto con operaciones lógicas que veremos) para controlar el flujo de un programa a través de evaluar condiciones y ejecutar ciertas partes del programa selectivamente según el resultado de la evaluación de condiciones.\n",
    "\n",
    "Los operadores relacionales nos ayudan a realizar comparaciones de valores, por ejemplo: si un valor es mayor ,menor ,igual o diferente de otro.   Estos operadores son:\n",
    "\n",
    "* Mayor que >\n",
    "* Menor que <\n",
    "* == Igual a\n",
    "* \">=\" Mayor o Igual a\n",
    "* \"<=\" Menor o Igual a\n",
    "* != Differente a \n"
   ]
  },
  {
   "cell_type": "code",
   "execution_count": 121,
   "metadata": {},
   "outputs": [
    {
     "data": {
      "text/plain": [
       "True"
      ]
     },
     "execution_count": 121,
     "metadata": {},
     "output_type": "execute_result"
    }
   ],
   "source": [
    "10 > 0\n"
   ]
  },
  {
   "cell_type": "code",
   "execution_count": 107,
   "metadata": {},
   "outputs": [
    {
     "data": {
      "text/plain": [
       "False"
      ]
     },
     "execution_count": 107,
     "metadata": {},
     "output_type": "execute_result"
    }
   ],
   "source": [
    "10 > 10"
   ]
  },
  {
   "cell_type": "code",
   "execution_count": 108,
   "metadata": {},
   "outputs": [
    {
     "data": {
      "text/plain": [
       "False"
      ]
     },
     "execution_count": 108,
     "metadata": {},
     "output_type": "execute_result"
    }
   ],
   "source": [
    "10 < 0"
   ]
  },
  {
   "cell_type": "code",
   "execution_count": 109,
   "metadata": {},
   "outputs": [
    {
     "data": {
      "text/plain": [
       "True"
      ]
     },
     "execution_count": 109,
     "metadata": {},
     "output_type": "execute_result"
    }
   ],
   "source": [
    "10 > 0"
   ]
  },
  {
   "cell_type": "code",
   "execution_count": 110,
   "metadata": {},
   "outputs": [
    {
     "data": {
      "text/plain": [
       "False"
      ]
     },
     "execution_count": 110,
     "metadata": {},
     "output_type": "execute_result"
    }
   ],
   "source": [
    "10 == 0"
   ]
  },
  {
   "cell_type": "code",
   "execution_count": 111,
   "metadata": {},
   "outputs": [
    {
     "data": {
      "text/plain": [
       "True"
      ]
     },
     "execution_count": 111,
     "metadata": {},
     "output_type": "execute_result"
    }
   ],
   "source": [
    "10 == 10"
   ]
  },
  {
   "cell_type": "code",
   "execution_count": 112,
   "metadata": {},
   "outputs": [
    {
     "data": {
      "text/plain": [
       "True"
      ]
     },
     "execution_count": 112,
     "metadata": {},
     "output_type": "execute_result"
    }
   ],
   "source": [
    "10 != 0"
   ]
  },
  {
   "cell_type": "code",
   "execution_count": 113,
   "metadata": {},
   "outputs": [
    {
     "data": {
      "text/plain": [
       "False"
      ]
     },
     "execution_count": 113,
     "metadata": {},
     "output_type": "execute_result"
    }
   ],
   "source": [
    "10 == 0"
   ]
  },
  {
   "cell_type": "code",
   "execution_count": 114,
   "metadata": {},
   "outputs": [
    {
     "data": {
      "text/plain": [
       "True"
      ]
     },
     "execution_count": 114,
     "metadata": {},
     "output_type": "execute_result"
    }
   ],
   "source": [
    "10>=0"
   ]
  },
  {
   "cell_type": "code",
   "execution_count": 115,
   "metadata": {},
   "outputs": [
    {
     "data": {
      "text/plain": [
       "False"
      ]
     },
     "execution_count": 115,
     "metadata": {},
     "output_type": "execute_result"
    }
   ],
   "source": [
    "10>10"
   ]
  },
  {
   "cell_type": "code",
   "execution_count": 116,
   "metadata": {},
   "outputs": [
    {
     "data": {
      "text/plain": [
       "True"
      ]
     },
     "execution_count": 116,
     "metadata": {},
     "output_type": "execute_result"
    }
   ],
   "source": [
    "10 >= 10"
   ]
  },
  {
   "cell_type": "code",
   "execution_count": 117,
   "metadata": {},
   "outputs": [
    {
     "data": {
      "text/plain": [
       "False"
      ]
     },
     "execution_count": 117,
     "metadata": {},
     "output_type": "execute_result"
    }
   ],
   "source": [
    "10 <= 0"
   ]
  },
  {
   "cell_type": "code",
   "execution_count": 118,
   "metadata": {},
   "outputs": [
    {
     "data": {
      "text/plain": [
       "True"
      ]
     },
     "execution_count": 118,
     "metadata": {},
     "output_type": "execute_result"
    }
   ],
   "source": [
    "10<= 10"
   ]
  },
  {
   "cell_type": "code",
   "execution_count": 119,
   "metadata": {},
   "outputs": [
    {
     "data": {
      "text/plain": [
       "True"
      ]
     },
     "execution_count": 119,
     "metadata": {},
     "output_type": "execute_result"
    }
   ],
   "source": [
    "10 <= 11"
   ]
  },
  {
   "cell_type": "markdown",
   "metadata": {},
   "source": [
    "#### Tambien podemos usar operadores relacionales con variables ,no solamente valores/literales siempre y cuando la operacion tenga sentido "
   ]
  },
  {
   "cell_type": "code",
   "execution_count": 122,
   "metadata": {},
   "outputs": [
    {
     "data": {
      "text/plain": [
       "True"
      ]
     },
     "execution_count": 122,
     "metadata": {},
     "output_type": "execute_result"
    }
   ],
   "source": [
    "ingresos = 1000.00\n",
    "egresos = 500.00\n",
    "\n",
    "ingresos >= egresos"
   ]
  },
  {
   "cell_type": "code",
   "execution_count": 123,
   "metadata": {},
   "outputs": [
    {
     "data": {
      "text/plain": [
       "False"
      ]
     },
     "execution_count": 123,
     "metadata": {},
     "output_type": "execute_result"
    }
   ],
   "source": [
    "ingresos == egresos"
   ]
  },
  {
   "cell_type": "code",
   "execution_count": 124,
   "metadata": {},
   "outputs": [
    {
     "data": {
      "text/plain": [
       "True"
      ]
     },
     "execution_count": 124,
     "metadata": {},
     "output_type": "execute_result"
    }
   ],
   "source": [
    "ingresos != egresos"
   ]
  },
  {
   "cell_type": "markdown",
   "metadata": {},
   "source": [
    "#### Operaciones y operadores lógicos\n",
    "\n",
    "Llamados también operadores booleanos y definidos matemáticamente a través de tablas de verdad en \"algebra booleana\" nos permiten  combinar resultados de operaciones relacionales para evaluar condiciones mas complejas.\n",
    "\n",
    "El resultado de un operador lógico es \"True\" si se cumple la condición que denotan o \"False\" si no se cumple.  \n",
    "\n",
    "Los operadores \"Y\" , \"O\" y \"NO\" \n",
    "\n",
    "Ejemplo de operador lógico en una condición :\n",
    "**Si el estudiante aprobo todos sus cursos Y esta solvente en pagos,puede graduarse**\n",
    "\n",
    "En este caso el operador lógico es \"Y\"\n",
    "\n",
    "En  Python estos operadores son:\n",
    "* and (la condicion se cumple si y solo si si ambas sub-condiciones son verdaderas)\n",
    "* or  (la condicion se cumple si al menos una de sus sub-condiciones son verdaderas)\n",
    "* not (la condicion se invierte,verdadero se convierte en Falso y Falso se convierte en verdadero)"
   ]
  },
  {
   "cell_type": "markdown",
   "metadata": {},
   "source": [
    "##### and"
   ]
  },
  {
   "cell_type": "code",
   "execution_count": 125,
   "metadata": {},
   "outputs": [
    {
     "data": {
      "text/plain": [
       "False"
      ]
     },
     "execution_count": 125,
     "metadata": {},
     "output_type": "execute_result"
    }
   ],
   "source": [
    "False and False"
   ]
  },
  {
   "cell_type": "code",
   "execution_count": 126,
   "metadata": {},
   "outputs": [
    {
     "data": {
      "text/plain": [
       "False"
      ]
     },
     "execution_count": 126,
     "metadata": {},
     "output_type": "execute_result"
    }
   ],
   "source": [
    "False and True"
   ]
  },
  {
   "cell_type": "code",
   "execution_count": 127,
   "metadata": {},
   "outputs": [
    {
     "data": {
      "text/plain": [
       "False"
      ]
     },
     "execution_count": 127,
     "metadata": {},
     "output_type": "execute_result"
    }
   ],
   "source": [
    "True and False"
   ]
  },
  {
   "cell_type": "code",
   "execution_count": 128,
   "metadata": {},
   "outputs": [
    {
     "data": {
      "text/plain": [
       "True"
      ]
     },
     "execution_count": 128,
     "metadata": {},
     "output_type": "execute_result"
    }
   ],
   "source": [
    "True and True"
   ]
  },
  {
   "cell_type": "markdown",
   "metadata": {},
   "source": [
    "##### or"
   ]
  },
  {
   "cell_type": "code",
   "execution_count": 129,
   "metadata": {},
   "outputs": [
    {
     "data": {
      "text/plain": [
       "False"
      ]
     },
     "execution_count": 129,
     "metadata": {},
     "output_type": "execute_result"
    }
   ],
   "source": [
    "False or False"
   ]
  },
  {
   "cell_type": "code",
   "execution_count": 130,
   "metadata": {},
   "outputs": [
    {
     "data": {
      "text/plain": [
       "True"
      ]
     },
     "execution_count": 130,
     "metadata": {},
     "output_type": "execute_result"
    }
   ],
   "source": [
    "False or True"
   ]
  },
  {
   "cell_type": "code",
   "execution_count": 131,
   "metadata": {},
   "outputs": [
    {
     "data": {
      "text/plain": [
       "True"
      ]
     },
     "execution_count": 131,
     "metadata": {},
     "output_type": "execute_result"
    }
   ],
   "source": [
    "True or False"
   ]
  },
  {
   "cell_type": "code",
   "execution_count": 132,
   "metadata": {},
   "outputs": [
    {
     "data": {
      "text/plain": [
       "True"
      ]
     },
     "execution_count": 132,
     "metadata": {},
     "output_type": "execute_result"
    }
   ],
   "source": [
    "True or True"
   ]
  },
  {
   "cell_type": "markdown",
   "metadata": {},
   "source": [
    "##### not"
   ]
  },
  {
   "cell_type": "code",
   "execution_count": 133,
   "metadata": {},
   "outputs": [
    {
     "data": {
      "text/plain": [
       "False"
      ]
     },
     "execution_count": 133,
     "metadata": {},
     "output_type": "execute_result"
    }
   ],
   "source": [
    "not True"
   ]
  },
  {
   "cell_type": "code",
   "execution_count": 134,
   "metadata": {},
   "outputs": [
    {
     "data": {
      "text/plain": [
       "True"
      ]
     },
     "execution_count": 134,
     "metadata": {},
     "output_type": "execute_result"
    }
   ],
   "source": [
    "not False"
   ]
  },
  {
   "cell_type": "markdown",
   "metadata": {},
   "source": [
    "##### Asi como podemos usar parentesis para crear operaciones aritmeticas mas complejas y combinaciones de estas, podemos usar parentesis para agrugar operaciones logicas y asi crear expresiones booleanas mas complejas, ademas de ayudarnos a definir el orden de operaciones"
   ]
  },
  {
   "cell_type": "code",
   "execution_count": 135,
   "metadata": {},
   "outputs": [
    {
     "data": {
      "text/plain": [
       "True"
      ]
     },
     "execution_count": 135,
     "metadata": {},
     "output_type": "execute_result"
    }
   ],
   "source": [
    "(True or True) and (True or False)"
   ]
  },
  {
   "cell_type": "code",
   "execution_count": 136,
   "metadata": {},
   "outputs": [
    {
     "data": {
      "text/plain": [
       "True"
      ]
     },
     "execution_count": 136,
     "metadata": {},
     "output_type": "execute_result"
    }
   ],
   "source": [
    "(not True) or (True and True)"
   ]
  },
  {
   "cell_type": "code",
   "execution_count": 138,
   "metadata": {},
   "outputs": [
    {
     "data": {
      "text/plain": [
       "True"
      ]
     },
     "execution_count": 138,
     "metadata": {},
     "output_type": "execute_result"
    }
   ],
   "source": [
    "((not True) or (True and True)) or (1>0)"
   ]
  },
  {
   "cell_type": "code",
   "execution_count": 144,
   "metadata": {},
   "outputs": [
    {
     "data": {
      "text/plain": [
       "True"
      ]
     },
     "execution_count": 144,
     "metadata": {},
     "output_type": "execute_result"
    }
   ],
   "source": [
    "#XOR\n",
    "A=True\n",
    "B=False\n",
    "(A and not B) or (not A and B)"
   ]
  },
  {
   "cell_type": "markdown",
   "metadata": {},
   "source": [
    "##### Del mismo modo que con las expresiones aritmeticas, podemos utilizar variables para expresiones relacionales y logicas\n",
    "\n",
    "Por ejemplo, pensemos en un programa que termina si un alumno es admitido a la universidad basado en 2 condiciones que deben cumplirse:\n",
    "* El alumno es mayor de edad (mayor a 18 anios)\n",
    "* Termino el diversificado"
   ]
  },
  {
   "cell_type": "code",
   "execution_count": 148,
   "metadata": {},
   "outputs": [
    {
     "name": "stdout",
     "output_type": "stream",
     "text": [
      "Alumno admitido: False\n"
     ]
    }
   ],
   "source": [
    "edad_alumno = 15\n",
    "edad_minima = 18\n",
    "termino_diversificado = False\n",
    "\n",
    "es_alumno_mayor = edad_alumno >= edad_minima\n",
    "\n",
    "admitir_alumno = es_alumno_mayor and termino_diversificado\n",
    "\n",
    "print(\"Alumno admitido:\",admitir_alumno)"
   ]
  },
  {
   "cell_type": "markdown",
   "metadata": {},
   "source": [
    "#### Operadores y operaciones especiales\n",
    "\n",
    "Aunque los operadores y operaciones que vimos son los mas comunes, existen otros tipos de operadores especiales que en algunos casos seran de ayuda o nos serviran a realizar de manera mas sencilla tareas que de otro modo podrian requerir mayor trabajo.\n",
    "\n",
    "Tenemos por ejemplo:\n",
    "\n",
    "##### Operadores de identidad\n",
    "\n",
    "Los operadores igual a ==  o diferente a != nos ayudan a verificar si los VALORES de dos objetos son diferentes entre si, pero en algunos casos necesitamos determinar si 2  variables hacen referencia al mismo objeto en la memoria(o si no es el mismo) para lo cual utilizamos 2 operadores especiales:\n",
    "\n",
    "* is : True si si 2 variables hacen referencia a un mismo objeto\n",
    "* is not: True si 2 variables hacen referencia a un objeto diferente\n",
    "\n",
    "El que 2 objetos tengan el mismo valor no significa que sean el mismo objeto en memoria  por lo cual en algunos casos aun que 2 variables contengan el mismo valor , el operador \"is\" devuelve falso.\n",
    "\n",
    "Python asigna a cada objeto un numero que lo identifica, podemos obtener este numero usando la funcion id()"
   ]
  },
  {
   "cell_type": "code",
   "execution_count": 158,
   "metadata": {},
   "outputs": [
    {
     "name": "stdout",
     "output_type": "stream",
     "text": [
      "False\n",
      "True\n",
      "False\n",
      "True\n",
      "False\n"
     ]
    }
   ],
   "source": [
    "x1 = 5\n",
    "y1 = 5\n",
    "x2 = 'Hello'\n",
    "y2 = 'Hello'\n",
    "x3 = [1,2,3] #veremos listas en la proxima clase\n",
    "y3 = [1,2,3] #veremos listas en la proxima clase\n",
    "x4 = x1\n",
    "x5 = 6.0\n",
    "y5 = 6.0\n",
    "\n",
    "# Output: False\n",
    "print(x1 is not y1)\n",
    "\n",
    "# Output: True\n",
    "print(x2 is y2)\n",
    "\n",
    "# Output: False\n",
    "print(x3 is y3)\n",
    "\n",
    "# Output: True\n",
    "print(x4 is x1)\n",
    "\n",
    "# Output: False\n",
    "print(x5 is y5)"
   ]
  },
  {
   "cell_type": "code",
   "execution_count": 159,
   "metadata": {},
   "outputs": [
    {
     "data": {
      "text/plain": [
       "True"
      ]
     },
     "execution_count": 159,
     "metadata": {},
     "output_type": "execute_result"
    }
   ],
   "source": [
    "type(x1) is int"
   ]
  },
  {
   "cell_type": "code",
   "execution_count": 160,
   "metadata": {},
   "outputs": [
    {
     "data": {
      "text/plain": [
       "False"
      ]
     },
     "execution_count": 160,
     "metadata": {},
     "output_type": "execute_result"
    }
   ],
   "source": [
    "type(x1) is str"
   ]
  },
  {
   "cell_type": "code",
   "execution_count": 161,
   "metadata": {},
   "outputs": [
    {
     "data": {
      "text/plain": [
       "True"
      ]
     },
     "execution_count": 161,
     "metadata": {},
     "output_type": "execute_result"
    }
   ],
   "source": [
    "type(x1) is not str"
   ]
  },
  {
   "cell_type": "code",
   "execution_count": 162,
   "metadata": {},
   "outputs": [
    {
     "data": {
      "text/plain": [
       "4391904608"
      ]
     },
     "execution_count": 162,
     "metadata": {},
     "output_type": "execute_result"
    }
   ],
   "source": [
    "id(5)"
   ]
  },
  {
   "cell_type": "code",
   "execution_count": 163,
   "metadata": {},
   "outputs": [
    {
     "data": {
      "text/plain": [
       "4391904608"
      ]
     },
     "execution_count": 163,
     "metadata": {},
     "output_type": "execute_result"
    }
   ],
   "source": [
    "id(x1)"
   ]
  },
  {
   "cell_type": "code",
   "execution_count": 164,
   "metadata": {},
   "outputs": [
    {
     "data": {
      "text/plain": [
       "4391904608"
      ]
     },
     "execution_count": 164,
     "metadata": {},
     "output_type": "execute_result"
    }
   ],
   "source": [
    "id(y1)"
   ]
  },
  {
   "cell_type": "code",
   "execution_count": 165,
   "metadata": {},
   "outputs": [
    {
     "data": {
      "text/plain": [
       "4438069728"
      ]
     },
     "execution_count": 165,
     "metadata": {},
     "output_type": "execute_result"
    }
   ],
   "source": [
    "id(x5)"
   ]
  },
  {
   "cell_type": "code",
   "execution_count": 166,
   "metadata": {},
   "outputs": [
    {
     "data": {
      "text/plain": [
       "4438069848"
      ]
     },
     "execution_count": 166,
     "metadata": {},
     "output_type": "execute_result"
    }
   ],
   "source": [
    "id(y5)"
   ]
  },
  {
   "cell_type": "markdown",
   "metadata": {},
   "source": [
    "#### Operadores de membresia/membership\n",
    "\n",
    "Estos operadores tienen sentido en el contexto de colecciones,secuencias, contenedores o estructuras de datos que sera un tema a ver en proximas clases por lo cual los veremos a fondo en las proximas clases pero vale la pena mencionarlos ya que son parte de los operadores de Python.\n",
    "\n",
    "Basicamente nos sirven para ver si algun objeto (ya sea literal o variable) es miembro de una coleccion mas grande de objetos, por ejemplo una lista.\n",
    "\n",
    "Python posee 2 operadores de este tipo:\n",
    "\n",
    "* in : El resultado es True si un objeto buscado se encuentra en la coleccion en la cual lo buscamos\n",
    "* not in : El resultado es True si el objeto buscado no se encuentra en la coleccion en la cual buscamos\n",
    "\n",
    "**Ejemplo** \n",
    "\n",
    "Tenemos un programa que posee una lista de usuarios identificados por un numero y se desea determinar si cierto usuario pertenece a esta lista de usuarios, un caso de uso podria ser buscar el carnet de un estudiante en la lista de estudiantes asignados a cierto curso"
   ]
  },
  {
   "cell_type": "code",
   "execution_count": 167,
   "metadata": {},
   "outputs": [
    {
     "name": "stdout",
     "output_type": "stream",
     "text": [
      "El usuario  11115  fue encontrado? False\n"
     ]
    }
   ],
   "source": [
    "lista_usuarios = [1111,2222,3333]\n",
    "usuario_buscado = 11115\n",
    "\n",
    "usuario_encontrado = usuario_buscado in lista_usuarios\n",
    "\n",
    "print(\"El usuario \",usuario_buscado, \" fue encontrado?\",usuario_encontrado)\n"
   ]
  },
  {
   "cell_type": "markdown",
   "metadata": {},
   "source": [
    "#### Operadores especiales de asignacion\n",
    "\n",
    "Uno de los primeros operadores vistos en esta clase fue el operador de asignacion:\n",
    "\n",
    "< identificador >=objeto/valor/resultado de operacion\n",
    "\n",
    "\n",
    "El cual es usado para asignar a una variable/identificador cierto objeto, valor o resultado de una operacion posiblemente mas compleja.\n",
    "\n",
    "Existen otros operadores especiales de asignacion que nos ayudan a realizar de manera breve asignaciones que son comunes en programacion, estas operaciones tienen como ventaja ser mas eficientes(rapidas) en ejecucion.\n",
    "\n",
    "Un escenario muy comun en programacion es tomar una variable y realizar una operacion aritmetica con ella, para asignar el resultado a esta misma variable. \n",
    "\n",
    "**Por ejemplo**"
   ]
  },
  {
   "cell_type": "code",
   "execution_count": 169,
   "metadata": {},
   "outputs": [
    {
     "name": "stdout",
     "output_type": "stream",
     "text": [
      "4\n"
     ]
    }
   ],
   "source": [
    "a = 1\n",
    "\n",
    "a = a + 1 # resultado es 2\n",
    "a = a * 2 # resultado es 4\n",
    "\n",
    "print(a)"
   ]
  },
  {
   "cell_type": "markdown",
   "metadata": {},
   "source": [
    "Los operadores especiales de asignacion nos permiten realizar de manera  abreviada(y mas eficiente) este tipo de operaciones, el codigo anterior seria equivalente a :"
   ]
  },
  {
   "cell_type": "code",
   "execution_count": 170,
   "metadata": {},
   "outputs": [
    {
     "name": "stdout",
     "output_type": "stream",
     "text": [
      "4\n"
     ]
    }
   ],
   "source": [
    "a = 1\n",
    "\n",
    "a+=1\n",
    "a*=2\n",
    "\n",
    "print(a)"
   ]
  },
  {
   "cell_type": "markdown",
   "metadata": {},
   "source": [
    "Existe un operador de asignacion especial para cada uno de los operadores  aritmeticos que vimos anteriormente:\n",
    "    \n",
    "* += \t\n",
    "* -= \t\n",
    "* *= \t\n",
    "* /= \t\n",
    "* %= \t\n",
    "* //=\t\n",
    "* **=\t"
   ]
  },
  {
   "cell_type": "markdown",
   "metadata": {},
   "source": [
    "#### Python Zen\n",
    "Aun que no hemos visto el uso y significado de la sentencia \"import\" , una de las primeras cosas que se menciona en muchos libros y tutoriales de Python es el \"Zen de Python\" que describe su filosofia ,podemos leer esto si ejecutamos:\n",
    "\n",
    "import this"
   ]
  },
  {
   "cell_type": "code",
   "execution_count": 171,
   "metadata": {},
   "outputs": [
    {
     "name": "stdout",
     "output_type": "stream",
     "text": [
      "The Zen of Python, by Tim Peters\n",
      "\n",
      "Beautiful is better than ugly.\n",
      "Explicit is better than implicit.\n",
      "Simple is better than complex.\n",
      "Complex is better than complicated.\n",
      "Flat is better than nested.\n",
      "Sparse is better than dense.\n",
      "Readability counts.\n",
      "Special cases aren't special enough to break the rules.\n",
      "Although practicality beats purity.\n",
      "Errors should never pass silently.\n",
      "Unless explicitly silenced.\n",
      "In the face of ambiguity, refuse the temptation to guess.\n",
      "There should be one-- and preferably only one --obvious way to do it.\n",
      "Although that way may not be obvious at first unless you're Dutch.\n",
      "Now is better than never.\n",
      "Although never is often better than *right* now.\n",
      "If the implementation is hard to explain, it's a bad idea.\n",
      "If the implementation is easy to explain, it may be a good idea.\n",
      "Namespaces are one honking great idea -- let's do more of those!\n"
     ]
    }
   ],
   "source": [
    "import this"
   ]
  },
  {
   "cell_type": "code",
   "execution_count": null,
   "metadata": {},
   "outputs": [],
   "source": []
  }
 ],
 "metadata": {
  "kernelspec": {
   "display_name": "Python 3",
   "language": "python",
   "name": "python3"
  },
  "language_info": {
   "codemirror_mode": {
    "name": "ipython",
    "version": 3
   },
   "file_extension": ".py",
   "mimetype": "text/x-python",
   "name": "python",
   "nbconvert_exporter": "python",
   "pygments_lexer": "ipython3",
   "version": "3.7.2"
  }
 },
 "nbformat": 4,
 "nbformat_minor": 2
}
