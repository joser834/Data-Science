{
 "cells": [
  {
   "cell_type": "code",
   "execution_count": 1,
   "metadata": {},
   "outputs": [],
   "source": [
    "import numpy as np"
   ]
  },
  {
   "cell_type": "markdown",
   "metadata": {},
   "source": [
    "## Que es proyección vectorial?"
   ]
  },
  {
   "cell_type": "markdown",
   "metadata": {},
   "source": [
    "- Nos referimos a la proyección vectorial cuando un vector A es proyectado sobre otro vector B. Como su nombre lo indica, esta proyección nos indica la \"sombra\" de un vector sobre otro como podemos ver en el siguiente ejemplo: \n",
    "\n",
    "**La fórmula para definir esta proyección está también definida dentro del mismo ejemplo**"
   ]
  },
  {
   "cell_type": "markdown",
   "metadata": {},
   "source": [
    "<img src=\"Proyeccion_Vectores.png\">"
   ]
  },
  {
   "cell_type": "markdown",
   "metadata": {},
   "source": [
    "La diferencia entre proyección vectorial y escalar radica en la forma en la que queremos mostrar el resultado proyectado. Si éste se trata de un vector se llama proyección vectorial; si éste se trata de la magnitud del mismo vector proyectado entonces se le conoce como una proyección escalar."
   ]
  },
  {
   "cell_type": "markdown",
   "metadata": {},
   "source": [
    "**Podemos también definir esta función en Python de la siguiente forma:**"
   ]
  },
  {
   "cell_type": "code",
   "execution_count": 2,
   "metadata": {},
   "outputs": [
    {
     "name": "stdout",
     "output_type": "stream",
     "text": [
      "proyeccion escalar: 4.0\n",
      "proyeccion vectorial: [4. 0.]\n"
     ]
    }
   ],
   "source": [
    "#\"w\" y \"v\" son vectores donde \"w\" es proyectado en \"v\" y \"tipo\" define si queremos encontrar la \n",
    "#proyección vectorial (vec) o escalar (e)\n",
    "def proy(w,v,tipo):\n",
    "    if tipo==\"vec\":\n",
    "        return((np.dot(w,v)/np.dot(v,v))*v)\n",
    "    elif tipo==\"e\":\n",
    "        return(np.linalg.norm((np.dot(w,v)/np.dot(v,v))*v))\n",
    "    else:\n",
    "        return \"wrong type\"\n",
    "\n",
    "a = np.array([4,4])\n",
    "b = np.array([8,0])\n",
    "\n",
    "print(\"proyeccion escalar:\", proy(a,b,\"e\"))\n",
    "print(\"proyeccion vectorial:\", proy(a,b,\"vec\"))"
   ]
  },
  {
   "cell_type": "markdown",
   "metadata": {},
   "source": [
    "-Como interpretamos la proyección vectorial?\n",
    "-Investigar o proponer una aplicación o caso de uso de proyección vectorial en ciencia de datos u otras ciencia de tu interés donde se pueda aplicar programación numérica. Como ejemplo o tip para esta parte: un algoritmo muy importante de ML se basa en esto y su nombre puede servir como pista para saber cual es."
   ]
  },
  {
   "cell_type": "code",
   "execution_count": null,
   "metadata": {},
   "outputs": [],
   "source": []
  }
 ],
 "metadata": {
  "kernelspec": {
   "display_name": "Python 3",
   "language": "python",
   "name": "python3"
  },
  "language_info": {
   "codemirror_mode": {
    "name": "ipython",
    "version": 3
   },
   "file_extension": ".py",
   "mimetype": "text/x-python",
   "name": "python",
   "nbconvert_exporter": "python",
   "pygments_lexer": "ipython3",
   "version": "3.7.2"
  }
 },
 "nbformat": 4,
 "nbformat_minor": 2
}
