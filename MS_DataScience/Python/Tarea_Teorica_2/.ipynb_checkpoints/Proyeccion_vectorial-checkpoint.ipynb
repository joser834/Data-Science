{
 "cells": [
  {
   "cell_type": "code",
   "execution_count": 1,
   "metadata": {},
   "outputs": [],
   "source": [
    "import numpy as np"
   ]
  },
  {
   "cell_type": "markdown",
   "metadata": {},
   "source": [
    "## Que es proyección vectorial?"
   ]
  },
  {
   "cell_type": "markdown",
   "metadata": {},
   "source": [
    "- Nos referimos a la proyección vectorial cuando un vector A es proyectado sobre otro vector B. Como su nombre lo indica, esta proyección nos indica la \"sombra\" de un vector sobre otro como podemos ver en el siguiente ejemplo: \n",
    "\n",
    "**La fórmula para definir esta proyección está también definida dentro del mismo ejemplo**"
   ]
  },
  {
   "cell_type": "markdown",
   "metadata": {},
   "source": [
    "<img src=\"Proyeccion_Vectores.png\">"
   ]
  },
  {
   "cell_type": "markdown",
   "metadata": {},
   "source": [
    "La diferencia entre proyección vectorial y escalar radica en la forma en la que queremos mostrar el resultado proyectado. Si éste se trata de un vector se llama proyección vectorial; si éste se trata de la magnitud del mismo vector proyectado entonces se le conoce como una proyección escalar."
   ]
  },
  {
   "cell_type": "markdown",
   "metadata": {},
   "source": [
    "**Podemos también definir esta función en Python de la siguiente forma:**"
   ]
  },
  {
   "cell_type": "code",
   "execution_count": 2,
   "metadata": {},
   "outputs": [
    {
     "name": "stdout",
     "output_type": "stream",
     "text": [
      "proyeccion escalar: 4.0\n",
      "proyeccion vectorial: [4. 0.]\n"
     ]
    }
   ],
   "source": [
    "#\"w\" y \"v\" son vectores donde \"w\" es proyectado en \"v\" y \"tipo\" define si queremos encontrar la \n",
    "#proyección vectorial (vec) o escalar (e)\n",
    "def proy(w,v,tipo):\n",
    "    if tipo==\"vec\":\n",
    "        return((np.dot(w,v)/np.dot(v,v))*v)\n",
    "    elif tipo==\"e\":\n",
    "        return(np.linalg.norm((np.dot(w,v)/np.dot(v,v))*v))\n",
    "    else:\n",
    "        return \"wrong type\"\n",
    "\n",
    "a = np.array([4,4])\n",
    "b = np.array([8,0])\n",
    "\n",
    "print(\"proyeccion escalar:\", proy(a,b,\"e\"))\n",
    "print(\"proyeccion vectorial:\", proy(a,b,\"vec\"))"
   ]
  },
  {
   "cell_type": "markdown",
   "metadata": {},
   "source": [
    "También, podemos ver que el producto punto depende del ángulo que existe entre dos vectores por lo que cabe mencionar que mientras **más grande es el producto punto, más pequeño es el ángulo**"
   ]
  },
  {
   "cell_type": "markdown",
   "metadata": {},
   "source": [
    "### Caso de Uso para Ciencia de Datos: Data Projection\n",
    "\n",
    "Para la ciencia de datos, un caso donde se puede aplicar la proyección de vectores es la reducción de dimensionalidad y data projection. Data projection se refiere a generar modelos **no lineales** para encontrar si ciertos datos se relacionan con otros. Para ello se necesita un vector de información que se dividirá en ***entrenamiento*** y en ***pruebas***. Éste vector de entrenamiento se procesa junto con un vector de pesos o coeficientes que determinan un nuevo vector que define si los dos vectores son similares o no. Es por eso que se utiliza el producto punto para determinar si los dos se parecen."
   ]
  }
 ],
 "metadata": {
  "kernelspec": {
   "display_name": "Python 3",
   "language": "python",
   "name": "python3"
  },
  "language_info": {
   "codemirror_mode": {
    "name": "ipython",
    "version": 3
   },
   "file_extension": ".py",
   "mimetype": "text/x-python",
   "name": "python",
   "nbconvert_exporter": "python",
   "pygments_lexer": "ipython3",
   "version": "3.7.2"
  }
 },
 "nbformat": 4,
 "nbformat_minor": 2
}
