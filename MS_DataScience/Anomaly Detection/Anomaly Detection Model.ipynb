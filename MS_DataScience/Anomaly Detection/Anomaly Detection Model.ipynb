{
 "cells": [
  {
   "cell_type": "code",
   "execution_count": 76,
   "metadata": {},
   "outputs": [],
   "source": [
    "import numpy as np\n",
    "import pandas as pd\n",
    "import matplotlib.pyplot as plt\n",
    "import seaborn as sns\n",
    "import scipy.stats as stats\n",
    "from sklearn.metrics import accuracy_score, recall_score, precision_score, f1_score"
   ]
  },
  {
   "cell_type": "markdown",
   "metadata": {},
   "source": [
    "# Anomaly Detection"
   ]
  },
  {
   "cell_type": "markdown",
   "metadata": {},
   "source": [
    "In this notebook, we're going to try and find observations of a data set that are away from **normal** behaviour.\n",
    "\n",
    "Se debe de crear un modelo: probabilidad de la observación x. Si la probabilidad es muy baja entonces es anómalo\n",
    "Hiperparámetro: la probabilidad mínima (el punto donde una observacion es anomala o no)\n",
    "\n",
    "p(x)<ϵ:Anomalyp(x)⩾ϵ:Ok"
   ]
  },
  {
   "cell_type": "markdown",
   "metadata": {},
   "source": [
    "## Importing the data"
   ]
  },
  {
   "cell_type": "code",
   "execution_count": 124,
   "metadata": {},
   "outputs": [],
   "source": [
    "X = pd.read_csv(\"heights.csv\")"
   ]
  },
  {
   "cell_type": "code",
   "execution_count": 125,
   "metadata": {},
   "outputs": [
    {
     "data": {
      "text/html": [
       "<div>\n",
       "<style scoped>\n",
       "    .dataframe tbody tr th:only-of-type {\n",
       "        vertical-align: middle;\n",
       "    }\n",
       "\n",
       "    .dataframe tbody tr th {\n",
       "        vertical-align: top;\n",
       "    }\n",
       "\n",
       "    .dataframe thead th {\n",
       "        text-align: right;\n",
       "    }\n",
       "</style>\n",
       "<table border=\"1\" class=\"dataframe\">\n",
       "  <thead>\n",
       "    <tr style=\"text-align: right;\">\n",
       "      <th></th>\n",
       "      <th>Estatura</th>\n",
       "      <th>Edad</th>\n",
       "    </tr>\n",
       "  </thead>\n",
       "  <tbody>\n",
       "    <tr>\n",
       "      <th>0</th>\n",
       "      <td>1.77</td>\n",
       "      <td>26</td>\n",
       "    </tr>\n",
       "    <tr>\n",
       "      <th>1</th>\n",
       "      <td>1.74</td>\n",
       "      <td>29</td>\n",
       "    </tr>\n",
       "    <tr>\n",
       "      <th>2</th>\n",
       "      <td>1.72</td>\n",
       "      <td>24</td>\n",
       "    </tr>\n",
       "    <tr>\n",
       "      <th>3</th>\n",
       "      <td>1.78</td>\n",
       "      <td>31</td>\n",
       "    </tr>\n",
       "    <tr>\n",
       "      <th>4</th>\n",
       "      <td>1.65</td>\n",
       "      <td>32</td>\n",
       "    </tr>\n",
       "  </tbody>\n",
       "</table>\n",
       "</div>"
      ],
      "text/plain": [
       "   Estatura  Edad\n",
       "0      1.77    26\n",
       "1      1.74    29\n",
       "2      1.72    24\n",
       "3      1.78    31\n",
       "4      1.65    32"
      ]
     },
     "execution_count": 125,
     "metadata": {},
     "output_type": "execute_result"
    }
   ],
   "source": [
    "X.head()"
   ]
  },
  {
   "cell_type": "markdown",
   "metadata": {},
   "source": [
    "## Defining the funcion"
   ]
  },
  {
   "cell_type": "code",
   "execution_count": 156,
   "metadata": {},
   "outputs": [],
   "source": [
    "def anomaly_detection(x_train, x_test, threshold, exp_name):\n",
    "    \n",
    "    global log\n",
    "    \n",
    "    if exp_name in log['Name'].unique():\n",
    "        print('The experiment name is already in use. Please change to a name that is not in the following list: '\n",
    "              + str(log['Name'].unique()))\n",
    "        return(0,0)\n",
    "    \n",
    "    \n",
    "    mu = pd.DataFrame(x_train.mean(), columns = ['mu'])\n",
    "    sigma = pd.DataFrame(x_train.var(), columns = ['sigma'])\n",
    "    key = mu.join(sigma)\n",
    "    \n",
    "    df = x_test.copy()\n",
    "    for i in range(0, x_train.shape[1]):\n",
    "        df[str(x_train.columns[i])+'_z'] = (x_train.iloc[:,i]-key['mu'][key.index == x_train.columns[i]][0])/np.sqrt(key['sigma'][key.index == x_train.columns[i]][0])\n",
    "        df[str(x_train.columns[i])+'_prob'] = stats.norm.pdf(df[str(x_train.columns[i])+'_z'],0,1)\n",
    "\n",
    "    filter_col = [col for col in df if col.endswith('prob')]\n",
    "    df['Anomaly'] = np.where(df[filter_col].prod(axis = 1)<=threshold,1,0)\n",
    "    return(np.array(df['Anomaly']))"
   ]
  },
  {
   "cell_type": "code",
   "execution_count": 157,
   "metadata": {},
   "outputs": [
    {
     "data": {
      "text/plain": [
       "array([0, 0, 0, 0, 1, 0, 1, 1, 1, 0, 0, 0, 1, 0, 0, 1, 0, 1, 0, 0])"
      ]
     },
     "execution_count": 157,
     "metadata": {},
     "output_type": "execute_result"
    }
   ],
   "source": [
    "anomaly_detection(\n",
    "    x_train = X,\n",
    "    x_test = X,\n",
    "    threshold = 0.05,\n",
    "    exp_name = 'exp1'\n",
    ")"
   ]
  },
  {
   "cell_type": "code",
   "execution_count": null,
   "metadata": {},
   "outputs": [],
   "source": []
  },
  {
   "cell_type": "code",
   "execution_count": null,
   "metadata": {},
   "outputs": [],
   "source": []
  }
 ],
 "metadata": {
  "kernelspec": {
   "display_name": "Python 3",
   "language": "python",
   "name": "python3"
  },
  "language_info": {
   "codemirror_mode": {
    "name": "ipython",
    "version": 3
   },
   "file_extension": ".py",
   "mimetype": "text/x-python",
   "name": "python",
   "nbconvert_exporter": "python",
   "pygments_lexer": "ipython3",
   "version": "3.7.3"
  }
 },
 "nbformat": 4,
 "nbformat_minor": 2
}
