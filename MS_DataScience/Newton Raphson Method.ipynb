{
 "cells": [
  {
   "cell_type": "code",
   "execution_count": 1,
   "metadata": {},
   "outputs": [],
   "source": [
    "import numpy as np\n",
    "import pandas as pd\n",
    "import math\n",
    "import re"
   ]
  },
  {
   "cell_type": "code",
   "execution_count": 2,
   "metadata": {},
   "outputs": [],
   "source": [
    "func = '3x^2-2x+12'"
   ]
  },
  {
   "cell_type": "code",
   "execution_count": 3,
   "metadata": {},
   "outputs": [],
   "source": [
    "def generate_function(eq):\n",
    "    func = re.sub(r' ', '', eq)\n",
    "    func = re.sub(r'(\\^)', '**', func)\n",
    "    func = re.sub(r'x', '*x', func)\n",
    "    func = re.sub(r'([\\+]+\\*)', '+', func)\n",
    "    func = re.sub(r'([\\-]+\\*)', '-', func)\n",
    "    func = re.sub(r'^(\\*)', '', func)\n",
    "    return(func)"
   ]
  },
  {
   "cell_type": "code",
   "execution_count": 4,
   "metadata": {},
   "outputs": [],
   "source": [
    "def derivative(eq):\n",
    "    func0 = eq.replace('x', '(x+(2*h))')\n",
    "    func1 = eq.replace('x', '(x+h)')\n",
    "    func = '-(' + func0 + '-4*(' + func1 + ')+3*(' + eq + '))/(2*h)'\n",
    "    return(func)"
   ]
  },
  {
   "cell_type": "code",
   "execution_count": 61,
   "metadata": {},
   "outputs": [],
   "source": [
    "def newton_raphson(equation, x, tolerance):\n",
    "    h = 0.000001\n",
    "    \n",
    "    log = pd.DataFrame(columns = ['Iteration', 'Xk', 'Xk+1', 'Error'])\n",
    "    \n",
    "    error = 100\n",
    "    iteration = 0\n",
    "    while error > tolerance:\n",
    "        x_in = x\n",
    "        x = x - (eval(generate_function(equation))/eval(derivative(generate_function(equation))))\n",
    "        error = np.abs(x-x_in)\n",
    "        iteration += 1\n",
    "        \n",
    "        log_info = {\n",
    "            'Iteration' : iteration,\n",
    "            'Xk' : x_in,\n",
    "            'Xk+1' : x,\n",
    "            'Error' : error\n",
    "        }\n",
    "        log = log.append(log_info, ignore_index=True)\n",
    "        \n",
    "    \n",
    "    return(log)"
   ]
  },
  {
   "cell_type": "code",
   "execution_count": 67,
   "metadata": {},
   "outputs": [
    {
     "data": {
      "text/html": [
       "<div>\n",
       "<style scoped>\n",
       "    .dataframe tbody tr th:only-of-type {\n",
       "        vertical-align: middle;\n",
       "    }\n",
       "\n",
       "    .dataframe tbody tr th {\n",
       "        vertical-align: top;\n",
       "    }\n",
       "\n",
       "    .dataframe thead th {\n",
       "        text-align: right;\n",
       "    }\n",
       "</style>\n",
       "<table border=\"1\" class=\"dataframe\">\n",
       "  <thead>\n",
       "    <tr style=\"text-align: right;\">\n",
       "      <th></th>\n",
       "      <th>Iteration</th>\n",
       "      <th>Xk</th>\n",
       "      <th>Xk+1</th>\n",
       "      <th>Error</th>\n",
       "    </tr>\n",
       "  </thead>\n",
       "  <tbody>\n",
       "    <tr>\n",
       "      <th>0</th>\n",
       "      <td>1.0</td>\n",
       "      <td>1.000000</td>\n",
       "      <td>4.333333</td>\n",
       "      <td>3.333333e+00</td>\n",
       "    </tr>\n",
       "    <tr>\n",
       "      <th>1</th>\n",
       "      <td>2.0</td>\n",
       "      <td>4.333333</td>\n",
       "      <td>2.974770</td>\n",
       "      <td>1.358564e+00</td>\n",
       "    </tr>\n",
       "    <tr>\n",
       "      <th>2</th>\n",
       "      <td>3.0</td>\n",
       "      <td>2.974770</td>\n",
       "      <td>2.270963</td>\n",
       "      <td>7.038069e-01</td>\n",
       "    </tr>\n",
       "    <tr>\n",
       "      <th>3</th>\n",
       "      <td>4.0</td>\n",
       "      <td>2.270963</td>\n",
       "      <td>2.030331</td>\n",
       "      <td>2.406316e-01</td>\n",
       "    </tr>\n",
       "    <tr>\n",
       "      <th>4</th>\n",
       "      <td>5.0</td>\n",
       "      <td>2.030331</td>\n",
       "      <td>2.000449</td>\n",
       "      <td>2.988172e-02</td>\n",
       "    </tr>\n",
       "    <tr>\n",
       "      <th>5</th>\n",
       "      <td>6.0</td>\n",
       "      <td>2.000449</td>\n",
       "      <td>2.000000</td>\n",
       "      <td>4.492882e-04</td>\n",
       "    </tr>\n",
       "    <tr>\n",
       "      <th>6</th>\n",
       "      <td>7.0</td>\n",
       "      <td>2.000000</td>\n",
       "      <td>2.000000</td>\n",
       "      <td>1.009403e-07</td>\n",
       "    </tr>\n",
       "  </tbody>\n",
       "</table>\n",
       "</div>"
      ],
      "text/plain": [
       "   Iteration        Xk      Xk+1         Error\n",
       "0        1.0  1.000000  4.333333  3.333333e+00\n",
       "1        2.0  4.333333  2.974770  1.358564e+00\n",
       "2        3.0  2.974770  2.270963  7.038069e-01\n",
       "3        4.0  2.270963  2.030331  2.406316e-01\n",
       "4        5.0  2.030331  2.000449  2.988172e-02\n",
       "5        6.0  2.000449  2.000000  4.492882e-04\n",
       "6        7.0  2.000000  2.000000  1.009403e-07"
      ]
     },
     "execution_count": 67,
     "metadata": {},
     "output_type": "execute_result"
    }
   ],
   "source": [
    "newton_raphson('1/4x^3+3/4x^2-3/2x-2', x = 1, tolerance = 0.00001)"
   ]
  }
 ],
 "metadata": {
  "kernelspec": {
   "display_name": "Python 3",
   "language": "python",
   "name": "python3"
  },
  "language_info": {
   "codemirror_mode": {
    "name": "ipython",
    "version": 3
   },
   "file_extension": ".py",
   "mimetype": "text/x-python",
   "name": "python",
   "nbconvert_exporter": "python",
   "pygments_lexer": "ipython3",
   "version": "3.7.3"
  }
 },
 "nbformat": 4,
 "nbformat_minor": 4
}
