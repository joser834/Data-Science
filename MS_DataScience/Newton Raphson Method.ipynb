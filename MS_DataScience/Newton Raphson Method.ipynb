{
 "cells": [
  {
   "cell_type": "code",
   "execution_count": 2,
   "metadata": {},
   "outputs": [],
   "source": [
    "import numpy as np\n",
    "import math\n",
    "import re"
   ]
  },
  {
   "cell_type": "code",
   "execution_count": 3,
   "metadata": {},
   "outputs": [],
   "source": [
    "func = '3x^2-2x+12'"
   ]
  },
  {
   "cell_type": "code",
   "execution_count": 4,
   "metadata": {},
   "outputs": [],
   "source": [
    "def generate_function(eq):\n",
    "    func = re.sub(r' ', '', eq)\n",
    "    func = re.sub(r'(\\^)', '**', func)\n",
    "    func = re.sub(r'x', '*x', func)\n",
    "    func = re.sub(r'([\\+]+\\*)', '+', func)\n",
    "    func = re.sub(r'([\\-]+\\*)', '-', func)\n",
    "    func = re.sub(r'^(\\*)', '', func)\n",
    "    return(func)"
   ]
  },
  {
   "cell_type": "code",
   "execution_count": 37,
   "metadata": {},
   "outputs": [],
   "source": [
    "def derivative(eq):\n",
    "    func0 = eq.replace('x', '(x+(2*h))')\n",
    "    func1 = eq.replace('x', '(x+h)')\n",
    "    func = '(' + func0 + '-4*(' + func1 + ')+3*(' + eq + '))/(2*h)'\n",
    "    return(func)"
   ]
  },
  {
   "cell_type": "code",
   "execution_count": 35,
   "metadata": {},
   "outputs": [],
   "source": [
    "def newton_raphson(equation, tolerance):\n",
    "    eq0 = generate_function(equation)\n",
    "    eq1 = derivative(eq0)\n",
    "    x = 0\n",
    "    h = 0.000001\n",
    "    \n",
    "    error = 1\n",
    "    count = 0\n",
    "    a = eval(derivative(generate_function(equation)))\n",
    "    #while error < tolerance:\n",
    "    #    x = x - (eval(generate_function(equation), x)/eval(derivative(generate_function(equation)), x, h))\n",
    "    \n",
    "    return(a)"
   ]
  },
  {
   "cell_type": "code",
   "execution_count": 36,
   "metadata": {},
   "outputs": [
    {
     "data": {
      "text/plain": [
       "2.0000000020559128"
      ]
     },
     "execution_count": 36,
     "metadata": {},
     "output_type": "execute_result"
    }
   ],
   "source": [
    "newton_raphson('3x^2-2x+12', 0)"
   ]
  },
  {
   "cell_type": "code",
   "execution_count": 42,
   "metadata": {},
   "outputs": [
    {
     "data": {
      "text/plain": [
       "'(3*(x+(2*h))**2-2*(x+(2*h))+12-4*(3*(x+h)**2-2*(x+h)+12)+3*(3*x**2-2*x+12))/(2*h)'"
      ]
     },
     "execution_count": 42,
     "metadata": {},
     "output_type": "execute_result"
    }
   ],
   "source": [
    "x=0\n",
    "h=1\n",
    "derivative(generate_function('3x^2-2x+12'))"
   ]
  },
  {
   "cell_type": "code",
   "execution_count": null,
   "metadata": {},
   "outputs": [],
   "source": []
  }
 ],
 "metadata": {
  "kernelspec": {
   "display_name": "Python 3",
   "language": "python",
   "name": "python3"
  },
  "language_info": {
   "codemirror_mode": {
    "name": "ipython",
    "version": 3
   },
   "file_extension": ".py",
   "mimetype": "text/x-python",
   "name": "python",
   "nbconvert_exporter": "python",
   "pygments_lexer": "ipython3",
   "version": "3.7.3"
  }
 },
 "nbformat": 4,
 "nbformat_minor": 4
}
