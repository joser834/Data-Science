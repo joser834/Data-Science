{
 "cells": [
  {
   "cell_type": "markdown",
   "metadata": {},
   "source": [
    "# Gradient Descent, Stochastic Gradient Descent and Mini Batch Gradient Descent"
   ]
  },
  {
   "cell_type": "markdown",
   "metadata": {},
   "source": [
    "This notebook explains the three different approaches for the Gradient Descent Algorithm. These different models are based on a step size (learning rate as called in Machine Learning) and the direction in which the step size is going to be directed. (such as Hyperparameters)"
   ]
  },
  {
   "cell_type": "markdown",
   "metadata": {},
   "source": [
    "## Loading Libraries"
   ]
  },
  {
   "cell_type": "code",
   "execution_count": 1,
   "metadata": {},
   "outputs": [],
   "source": [
    "import numpy as np\n",
    "import pandas as pd\n",
    "import matplotlib.pyplot as plt\n",
    "%matplotlib inline"
   ]
  },
  {
   "cell_type": "markdown",
   "metadata": {},
   "source": [
    "## Initial Data"
   ]
  },
  {
   "cell_type": "code",
   "execution_count": 2,
   "metadata": {},
   "outputs": [],
   "source": [
    "d = 100 #number of columns\n",
    "n = 1000 #number of observations\n",
    "X = np.random.normal(0, 1, size=(n,d))\n",
    "beta_true = np.random.normal(0 ,1, size=(d,1))\n",
    "y = X.dot(beta_true) + np.random.normal(0, 0.5, size=(n,1))"
   ]
  },
  {
   "cell_type": "markdown",
   "metadata": {},
   "source": [
    "## 1. Closed Solution (CS)"
   ]
  },
  {
   "cell_type": "markdown",
   "metadata": {},
   "source": [
    "### 1.1 Solution equation"
   ]
  },
  {
   "cell_type": "markdown",
   "metadata": {},
   "source": [
    "$\n",
    "\\beta^{*} = (X^{T}X)^{-1} X^{T}Y\n",
    "$"
   ]
  },
  {
   "cell_type": "markdown",
   "metadata": {},
   "source": [
    "### 1.2 Function"
   ]
  },
  {
   "cell_type": "code",
   "execution_count": 3,
   "metadata": {},
   "outputs": [],
   "source": [
    "def beta_cs(x_train, y_train):\n",
    "    beta_cs = np.matmul(np.matmul(np.linalg.inv(np.matmul(X.T, X)), X.T), y)\n",
    "    return(beta_cs)"
   ]
  },
  {
   "cell_type": "markdown",
   "metadata": {},
   "source": [
    "### 1.3 Results"
   ]
  },
  {
   "cell_type": "code",
   "execution_count": 4,
   "metadata": {},
   "outputs": [
    {
     "name": "stdout",
     "output_type": "stream",
     "text": [
      "The dimensions for beta in a closed solution are: (100, 1)\n"
     ]
    },
    {
     "data": {
      "text/plain": [
       "array([[ 0.03978489],\n",
       "       [-1.33550689],\n",
       "       [-0.26138078],\n",
       "       [ 0.93310656],\n",
       "       [-1.02887753],\n",
       "       [-1.07869636],\n",
       "       [-0.17956725],\n",
       "       [ 0.24104654],\n",
       "       [-0.71258782],\n",
       "       [-0.9502783 ],\n",
       "       [ 0.89695076],\n",
       "       [-0.82964526],\n",
       "       [ 0.07528218],\n",
       "       [ 1.08193169]])"
      ]
     },
     "execution_count": 4,
     "metadata": {},
     "output_type": "execute_result"
    }
   ],
   "source": [
    "beta_cs = beta_cs(X, y)\n",
    "\n",
    "print('The dimensions for beta in a closed solution are:', beta_cs.shape)\n",
    "beta_cs[1:15]"
   ]
  },
  {
   "cell_type": "code",
   "execution_count": 5,
   "metadata": {},
   "outputs": [
    {
     "name": "stdout",
     "output_type": "stream",
     "text": [
      "The error for the closed solution is: 233.18950323257644\n"
     ]
    }
   ],
   "source": [
    "error_cs = np.sum((np.matmul(X, beta_cs) - y)**2)\n",
    "print('The error for the closed solution is:', error_cs)"
   ]
  },
  {
   "cell_type": "markdown",
   "metadata": {},
   "source": [
    "## 2. Gradient Descent (Batch)"
   ]
  },
  {
   "cell_type": "markdown",
   "metadata": {},
   "source": [
    "### 2.1 Batch Gradient Descent Equation"
   ]
  },
  {
   "cell_type": "markdown",
   "metadata": {},
   "source": [
    "$\n",
    "\\beta_{k+1} = \\beta_{k} - \\alpha_{k} \\frac{1}{m} \\sum_{i=1}^{m} \\nabla f_{i}(\\beta_{k})\n",
    "$"
   ]
  },
  {
   "cell_type": "markdown",
   "metadata": {},
   "source": [
    "### 2.2 Function"
   ]
  },
  {
   "cell_type": "code",
   "execution_count": 6,
   "metadata": {},
   "outputs": [],
   "source": [
    "def batch_gd(iterations, lr, x_train, y_train, beta, tolerance, k):\n",
    "    \n",
    "    #Parameters and transformations\n",
    "    errors = []\n",
    "    beta = beta.reshape(beta.shape[0],)\n",
    "    y_train = y_train.reshape(y_train.shape[0],)\n",
    "    \n",
    "    #Start of iterations\n",
    "    for epoch in range(iterations):\n",
    "        gradient = 2*(np.matmul(x_train.T, np.matmul(x_train, beta) - y_train)) #x_train represents the whole batch\n",
    "        beta = beta - ((lr/x_train.shape[0]) * gradient)\n",
    "        \n",
    "        error = np.sum((np.matmul(x_train, beta) - y_train)**2)\n",
    "        \n",
    "        #Append the error to the list of errors\n",
    "        errors.append(error)\n",
    "        \n",
    "        #Display only iterations/k errors\n",
    "        if epoch%k==0:\n",
    "            print('Iteration', epoch+1, 'step size:', lr, 'error:', error)\n",
    "        \n",
    "        if error < tolerance:\n",
    "            break\n",
    "\n",
    "    print('Last iteration', epoch+1, 'step size:', lr, 'error:', errors[len(errors)-1])\n",
    "    return(beta, errors)"
   ]
  },
  {
   "cell_type": "markdown",
   "metadata": {},
   "source": [
    "### 2.3 Parameters of the model"
   ]
  },
  {
   "cell_type": "code",
   "execution_count": 7,
   "metadata": {},
   "outputs": [],
   "source": [
    "iterations_gd = 2000\n",
    "lr_gd = np.array([5e-5, 5e-4, 7e-4, 1e-1, 1e-2, 1e-3, 1e-4]) #with additional learning rates\n",
    "b_gd = np.zeros((d,1))\n",
    "tolerance_gd = error_cs #Using the error from the closed solution as tolerance\n",
    "k_gd = 2000"
   ]
  },
  {
   "cell_type": "markdown",
   "metadata": {},
   "source": [
    "### 2.4 Results"
   ]
  },
  {
   "cell_type": "code",
   "execution_count": 8,
   "metadata": {},
   "outputs": [
    {
     "name": "stdout",
     "output_type": "stream",
     "text": [
      "Iteration 1 step size: 5e-05 error: 87294.08487509373\n",
      "Last iteration 2000 step size: 5e-05 error: 56051.6482779936\n",
      "Iteration 1 step size: 0.0005 error: 87116.72566507086\n",
      "Last iteration 2000 step size: 0.0005 error: 2230.71838787451\n",
      "Iteration 1 step size: 0.0007 error: 87037.96203909276\n",
      "Last iteration 2000 step size: 0.0007 error: 837.6717634682286\n",
      "Iteration 1 step size: 0.1 error: 52696.399180600645\n",
      "Last iteration 182 step size: 0.1 error: 233.1895032325764\n",
      "Iteration 1 step size: 0.01 error: 83418.05823932105\n",
      "Last iteration 1878 step size: 0.01 error: 233.1895032325764\n",
      "Iteration 1 step size: 0.001 error: 86919.88893426521\n",
      "Last iteration 2000 step size: 0.001 error: 352.36499867259124\n",
      "Iteration 1 step size: 0.0001 error: 87274.36865165035\n",
      "Last iteration 2000 step size: 0.0001 error: 36602.57150320842\n"
     ]
    },
    {
     "data": {
      "image/png": "[encoded data removed]",
      "text/plain": [
       "<Figure size 432x288 with 1 Axes>"
      ]
     },
     "metadata": {
      "needs_background": "light"
     },
     "output_type": "display_data"
    }
   ],
   "source": [
    "for step in lr_gd:\n",
    "    beta_gd, errors_gd = batch_gd(\n",
    "        iterations = iterations_gd, \n",
    "        lr = step, \n",
    "        x_train = X, \n",
    "        y_train = y, \n",
    "        beta = b_gd, \n",
    "        tolerance = tolerance_gd,\n",
    "        k = k_gd\n",
    "    )\n",
    "    plt.plot(errors_gd, label = 'lr = ' + str(step))\n",
    "    plt.legend()\n",
    "    plt.ylabel('Error')"
   ]
  },
  {
   "cell_type": "markdown",
   "metadata": {},
   "source": [
    "We can see that the best tested learning rate or step size for the algorithm is **0.1**. This result converges in 182 iterations to almost the same error as the closed solution."
   ]
  },
  {
   "cell_type": "markdown",
   "metadata": {},
   "source": [
    "## 3. Stochastic Gradient Descent"
   ]
  },
  {
   "cell_type": "markdown",
   "metadata": {},
   "source": [
    "### 3.1 Stochastic Gradient Descent Equation"
   ]
  },
  {
   "cell_type": "markdown",
   "metadata": {},
   "source": [
    "$\n",
    "\\beta_{k+1} = \\beta_{k} - \\alpha_{k} \\nabla f_{i}(\\beta_{k})\n",
    "$"
   ]
  },
  {
   "cell_type": "markdown",
   "metadata": {},
   "source": [
    "### 3.2 Function"
   ]
  },
  {
   "cell_type": "code",
   "execution_count": 9,
   "metadata": {},
   "outputs": [],
   "source": [
    "def stochastic_gd(iterations, lr, x_train, y_train, beta, tolerance, k):\n",
    "    \n",
    "    #Parameters and transformations\n",
    "    errors = []\n",
    "    beta = beta.reshape(beta.shape[0],)\n",
    "    y_train = y_train.reshape(y_train.shape[0],)\n",
    "    \n",
    "    #Start of iterations\n",
    "    for epoch in range(iterations):\n",
    "        for r in range(x_train.shape[0]):\n",
    "            row = np.random.randint(0, x_train.shape[0])\n",
    "            x_row = x_train[row,:].reshape(1,x_train.shape[1])\n",
    "            y_row = y_train[row].reshape(1,1)\n",
    "\n",
    "            gradient = 2*(np.matmul(x_row.T, np.matmul(x_row, beta) - y_row)) #Only one observation\n",
    "            beta = beta - ((lr) * gradient.reshape(gradient.shape[0],))\n",
    "        \n",
    "        error = np.sum((np.matmul(x_train, beta) - y_train)**2)\n",
    "        \n",
    "        #Display only iterations/k errors\n",
    "        if epoch%k==0:\n",
    "            print('Iteration', epoch+1, 'step size:', lr, 'error:', error)\n",
    "        \n",
    "        if error < tolerance:\n",
    "            break\n",
    "        \n",
    "        #Append the error to the list of errors\n",
    "        errors.append(error)\n",
    "\n",
    "    print('Last iteration', epoch+1, 'step size:', lr, 'error:', errors[len(errors)-1])\n",
    "    return(beta, errors)"
   ]
  },
  {
   "cell_type": "markdown",
   "metadata": {},
   "source": [
    "### 3.3 Parameters of the model"
   ]
  },
  {
   "cell_type": "code",
   "execution_count": 10,
   "metadata": {},
   "outputs": [],
   "source": [
    "iterations_sgd = 1000\n",
    "lr_sgd = np.array([5e-4, 5e-3, 1e-3, 1e-4]) #with additional learning rates\n",
    "b_sgd = np.zeros((d,1))\n",
    "tolerance_sgd = error_cs #Using the error from the closed solution as tolerance\n",
    "k_sgd = 500"
   ]
  },
  {
   "cell_type": "markdown",
   "metadata": {},
   "source": [
    "### 3.4 Results"
   ]
  },
  {
   "cell_type": "code",
   "execution_count": 11,
   "metadata": {},
   "outputs": [
    {
     "name": "stdout",
     "output_type": "stream",
     "text": [
      "Iteration 1 step size: 0.0005 error: 12570.934461768684\n",
      "Iteration 501 step size: 0.0005 error: 246.23775689253605\n",
      "Last iteration 1000 step size: 0.0005 error: 243.30312494767668\n",
      "Iteration 1 step size: 0.005 error: 547.7526097811656\n",
      "Iteration 501 step size: 0.005 error: 492.106651841396\n",
      "Last iteration 1000 step size: 0.005 error: 490.3697938774308\n",
      "Iteration 1 step size: 0.001 error: 2687.0384437178845\n",
      "Iteration 501 step size: 0.001 error: 255.2134667185252\n",
      "Last iteration 1000 step size: 0.001 error: 265.4228024132917\n",
      "Iteration 1 step size: 0.0001 error: 55916.150926670016\n",
      "Iteration 501 step size: 0.0001 error: 234.89292807327564\n",
      "Last iteration 1000 step size: 0.0001 error: 235.84829911896486\n"
     ]
    },
    {
     "data": {
      "image/png": "[encoded data removed]",
      "text/plain": [
       "<Figure size 432x288 with 1 Axes>"
      ]
     },
     "metadata": {
      "needs_background": "light"
     },
     "output_type": "display_data"
    }
   ],
   "source": [
    "for step in lr_sgd:\n",
    "    beta_sgd, errors_sgd = stochastic_gd(\n",
    "        iterations = iterations_sgd, \n",
    "        lr = step, \n",
    "        x_train = X, \n",
    "        y_train = y, \n",
    "        beta = b_sgd, \n",
    "        tolerance = tolerance_sgd,\n",
    "        k = k_sgd\n",
    "    )\n",
    "    plt.plot(errors_sgd, label = 'lr = ' + str(step))\n",
    "    plt.legend()\n",
    "    plt.ylabel('Error')"
   ]
  },
  {
   "cell_type": "markdown",
   "metadata": {},
   "source": [
    "We can see that the best tested learning rate or step size for the algorithm is **0.0001**. This result still didn't converge in 1,000 iterations but it achieves almost the same error as the closed solution."
   ]
  },
  {
   "cell_type": "markdown",
   "metadata": {},
   "source": [
    "## 4. Mini Batch Gradient Descent"
   ]
  },
  {
   "cell_type": "markdown",
   "metadata": {},
   "source": [
    "### 4.1 Stochastic Gradient Descent Equation"
   ]
  },
  {
   "cell_type": "markdown",
   "metadata": {},
   "source": [
    "$\n",
    "\\beta_{k+1} = \\beta_{k} - \\alpha_{k} \\nabla f_{i}(\\beta_{k})\n",
    "$"
   ]
  },
  {
   "cell_type": "markdown",
   "metadata": {},
   "source": [
    "### 4.2 Function"
   ]
  },
  {
   "cell_type": "code",
   "execution_count": 52,
   "metadata": {},
   "outputs": [],
   "source": [
    "def minibatch_gd(iterations, lr, batch_size, x_train, y_train, beta, tolerance, k):\n",
    "    \n",
    "    #Parameters and transformations\n",
    "    errors = []\n",
    "    beta = beta.reshape(beta.shape[0],)\n",
    "    y_train = y_train.reshape(y_train.shape[0],)\n",
    "    \n",
    "    #Start of iterations\n",
    "    for epoch in range(iterations):\n",
    "        \n",
    "        for mb in range(int(np.ceil(x_train.shape[0]/batch_size))):\n",
    "            \n",
    "            forBatch = (mb * batch_size)\n",
    "\n",
    "            if mb == int(x_train.shape[0]/batch_size):\n",
    "                x_mb = x_train[forBatch:x_train.shape[0],:]\n",
    "                y_mb = y_train[forBatch:x_train.shape[0]]\n",
    "\n",
    "            else:\n",
    "                x_mb = x_train[forBatch:(forBatch+batch_size),:]\n",
    "                y_mb = y_train[forBatch:(forBatch+batch_size)]\n",
    "            \n",
    "            \n",
    "            gradient = 2*(np.matmul(x_mb.T, np.matmul(x_mb, beta) - y_mb)) #x_mb represents the mini batch\n",
    "            beta = beta - ((lr/x_mb.shape[0]) * gradient)\n",
    "            \n",
    "        \n",
    "        error = np.sum((np.matmul(x_train, beta) - y_train)**2)\n",
    "        \n",
    "        #Append the error to the list of errors\n",
    "        errors.append(error)\n",
    "        \n",
    "        #Display only iterations/k errors\n",
    "        if epoch%k==0:\n",
    "            print('Iteration', epoch+1, 'step size:', lr, 'error:', error)\n",
    "        \n",
    "        if error < tolerance:\n",
    "            break\n",
    "\n",
    "    print('Last iteration', epoch+1, 'step size:', lr, 'error:', errors[len(errors)-1])\n",
    "    return(beta, errors)"
   ]
  },
  {
   "cell_type": "code",
   "execution_count": 56,
   "metadata": {},
   "outputs": [
    {
     "name": "stdout",
     "output_type": "stream",
     "text": [
      "Iteration 1 step size: 0.01 error: 15141.862369005945\n",
      "Iteration 3 step size: 0.01 error: 1168.3689359515113\n",
      "Iteration 5 step size: 0.01 error: 332.4338293498013\n",
      "Iteration 7 step size: 0.01 error: 247.37382900753653\n",
      "Iteration 9 step size: 0.01 error: 236.78990362746117\n",
      "Last iteration 10 step size: 0.01 error: 235.74501281952922\n"
     ]
    }
   ],
   "source": [
    "beta_mb, error_mb = minibatch_gd(\n",
    "    iterations = 10, \n",
    "    lr = 0.01,\n",
    "    batch_size = 25,\n",
    "    x_train = X, \n",
    "    y_train = y, \n",
    "    beta = b_sgd, \n",
    "    tolerance = tolerance_sgd,\n",
    "    k = 2\n",
    ")"
   ]
  },
  {
   "cell_type": "code",
   "execution_count": null,
   "metadata": {},
   "outputs": [],
   "source": []
  },
  {
   "cell_type": "code",
   "execution_count": null,
   "metadata": {},
   "outputs": [],
   "source": []
  }
 ],
 "metadata": {
  "kernelspec": {
   "display_name": "Python 3",
   "language": "python",
   "name": "python3"
  },
  "language_info": {
   "codemirror_mode": {
    "name": "ipython",
    "version": 3
   },
   "file_extension": ".py",
   "mimetype": "text/x-python",
   "name": "python",
   "nbconvert_exporter": "python",
   "pygments_lexer": "ipython3",
   "version": "3.7.3"
  }
 },
 "nbformat": 4,
 "nbformat_minor": 4
}
