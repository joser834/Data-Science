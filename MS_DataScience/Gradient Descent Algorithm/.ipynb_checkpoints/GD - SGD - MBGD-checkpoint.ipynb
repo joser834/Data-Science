{
 "cells": [
  {
   "cell_type": "markdown",
   "metadata": {},
   "source": [
    "# Gradient Descent, Stochastic Gradient Descent and Mini Batch Gradient Descent"
   ]
  },
  {
   "cell_type": "markdown",
   "metadata": {},
   "source": [
    "This notebook explains the three different approaches for the Gradient Descent Algorithm. These different models are based on a step size (learning rate as called in Machine Learning) and the direction in which the step size is going to be directed. (such as Hyperparameters)"
   ]
  },
  {
   "cell_type": "markdown",
   "metadata": {},
   "source": [
    "## Loading Libraries"
   ]
  },
  {
   "cell_type": "code",
   "execution_count": 92,
   "metadata": {},
   "outputs": [],
   "source": [
    "import numpy as np\n",
    "import pandas as pd\n",
    "import matplotlib.pyplot as plt\n",
    "%matplotlib inline"
   ]
  },
  {
   "cell_type": "markdown",
   "metadata": {},
   "source": [
    "## Creating log"
   ]
  },
  {
   "cell_type": "code",
   "execution_count": 118,
   "metadata": {},
   "outputs": [],
   "source": [
    "log = pd.DataFrame(columns = ['Experiment', 'Method', 'Configuration', 'Error'])"
   ]
  },
  {
   "cell_type": "markdown",
   "metadata": {},
   "source": [
    "## Initial Data"
   ]
  },
  {
   "cell_type": "code",
   "execution_count": 119,
   "metadata": {},
   "outputs": [],
   "source": [
    "d = 100 #number of columns\n",
    "n = 1000 #number of observations\n",
    "X = np.random.normal(0, 1, size=(n,d))\n",
    "beta_true = np.random.normal(0 ,1, size=(d,1))\n",
    "y = X.dot(beta_true) + np.random.normal(0, 0.5, size=(n,1))"
   ]
  },
  {
   "cell_type": "markdown",
   "metadata": {},
   "source": [
    "## 1. Closed Solution (CS)"
   ]
  },
  {
   "cell_type": "markdown",
   "metadata": {},
   "source": [
    "### 1.1 Solution equation"
   ]
  },
  {
   "cell_type": "markdown",
   "metadata": {},
   "source": [
    "$\n",
    "\\beta^{*} = (X^{T}X)^{-1} X^{T}Y\n",
    "$"
   ]
  },
  {
   "cell_type": "markdown",
   "metadata": {},
   "source": [
    "### 1.2 Function"
   ]
  },
  {
   "cell_type": "code",
   "execution_count": 120,
   "metadata": {},
   "outputs": [],
   "source": [
    "def beta_cs(x_train, y_train, exp_name):\n",
    "    \n",
    "    global log\n",
    "    \n",
    "    if exp_name in log['Experiment'].unique():\n",
    "        print('The experiment name is already in use. Please change to a name that is not in the following list: '\n",
    "              + str(log['Experiment'].unique()))\n",
    "        return(0,0)\n",
    "\n",
    "    beta = np.matmul(np.matmul(np.linalg.inv(np.matmul(X.T, X)), X.T), y)\n",
    "    error = np.sum((np.matmul(x_train, beta) - y)**2)\n",
    "\n",
    "    log_info = {\n",
    "        'Experiment': exp_name, \n",
    "        'Method': 'Closed Solution', \n",
    "        'Configuration': '', \n",
    "        'Error': error\n",
    "    }\n",
    "    log = log.append(log_info, ignore_index=True)\n",
    "    \n",
    "    return(beta, error)"
   ]
  },
  {
   "cell_type": "markdown",
   "metadata": {},
   "source": [
    "### 1.3 Results"
   ]
  },
  {
   "cell_type": "code",
   "execution_count": 121,
   "metadata": {},
   "outputs": [
    {
     "name": "stdout",
     "output_type": "stream",
     "text": [
      "The dimensions for beta in a closed solution are: (100, 1)\n"
     ]
    },
    {
     "data": {
      "text/plain": [
       "array([[ 0.89151668],\n",
       "       [-0.31955459],\n",
       "       [-0.81480046],\n",
       "       [ 0.92764479],\n",
       "       [ 0.87344608],\n",
       "       [-0.19980443],\n",
       "       [ 0.48117248],\n",
       "       [ 0.30035146],\n",
       "       [ 1.77973994],\n",
       "       [-1.21444966],\n",
       "       [-1.08138091],\n",
       "       [-0.63968063],\n",
       "       [ 0.4521883 ],\n",
       "       [-1.08114971]])"
      ]
     },
     "execution_count": 121,
     "metadata": {},
     "output_type": "execute_result"
    }
   ],
   "source": [
    "beta_cs, error_cs = beta_cs(\n",
    "    x_train = X, \n",
    "    y_train = y, \n",
    "    exp_name = 'exp_0'\n",
    ")\n",
    "\n",
    "print('The dimensions for beta in a closed solution are:', beta_cs.shape)\n",
    "beta_cs[1:15]"
   ]
  },
  {
   "cell_type": "code",
   "execution_count": 122,
   "metadata": {},
   "outputs": [
    {
     "name": "stdout",
     "output_type": "stream",
     "text": [
      "The error for the closed solution is: 215.84470763397806\n"
     ]
    }
   ],
   "source": [
    "print('The error for the closed solution is:', error_cs)"
   ]
  },
  {
   "cell_type": "code",
   "execution_count": 123,
   "metadata": {},
   "outputs": [
    {
     "data": {
      "text/html": [
       "<div>\n",
       "<style scoped>\n",
       "    .dataframe tbody tr th:only-of-type {\n",
       "        vertical-align: middle;\n",
       "    }\n",
       "\n",
       "    .dataframe tbody tr th {\n",
       "        vertical-align: top;\n",
       "    }\n",
       "\n",
       "    .dataframe thead th {\n",
       "        text-align: right;\n",
       "    }\n",
       "</style>\n",
       "<table border=\"1\" class=\"dataframe\">\n",
       "  <thead>\n",
       "    <tr style=\"text-align: right;\">\n",
       "      <th></th>\n",
       "      <th>Experiment</th>\n",
       "      <th>Method</th>\n",
       "      <th>Configuration</th>\n",
       "      <th>Error</th>\n",
       "    </tr>\n",
       "  </thead>\n",
       "  <tbody>\n",
       "    <tr>\n",
       "      <th>0</th>\n",
       "      <td>exp_0</td>\n",
       "      <td>Closed Solution</td>\n",
       "      <td></td>\n",
       "      <td>215.844708</td>\n",
       "    </tr>\n",
       "  </tbody>\n",
       "</table>\n",
       "</div>"
      ],
      "text/plain": [
       "  Experiment           Method Configuration       Error\n",
       "0      exp_0  Closed Solution                215.844708"
      ]
     },
     "execution_count": 123,
     "metadata": {},
     "output_type": "execute_result"
    }
   ],
   "source": [
    "log"
   ]
  },
  {
   "cell_type": "markdown",
   "metadata": {},
   "source": [
    "## 2. Gradient Descent (Batch)"
   ]
  },
  {
   "cell_type": "markdown",
   "metadata": {},
   "source": [
    "### 2.1 Batch Gradient Descent Equation"
   ]
  },
  {
   "cell_type": "markdown",
   "metadata": {},
   "source": [
    "$\n",
    "\\beta_{k+1} = \\beta_{k} - \\alpha_{k} \\frac{1}{m} \\sum_{i=1}^{m} \\nabla f_{i}(\\beta_{k})\n",
    "$"
   ]
  },
  {
   "cell_type": "markdown",
   "metadata": {},
   "source": [
    "### 2.2 Function"
   ]
  },
  {
   "cell_type": "code",
   "execution_count": 124,
   "metadata": {},
   "outputs": [],
   "source": [
    "def batch_gd(iterations, lr, x_train, y_train, beta, tolerance, k, exp_name):\n",
    "    \n",
    "    global log\n",
    "    \n",
    "    if exp_name in log['Experiment'].unique():\n",
    "        print('The experiment name is already in use. Please change to a name that is not in the following list: '\n",
    "              + str(log['Experiment'].unique()))\n",
    "        return(0,0)\n",
    "    \n",
    "    #Parameters and transformations\n",
    "    errors = []\n",
    "    beta = beta.reshape(beta.shape[0],)\n",
    "    y_train = y_train.reshape(y_train.shape[0],)\n",
    "    \n",
    "    #Start of iterations\n",
    "    for epoch in range(iterations):\n",
    "        gradient = 2*(np.matmul(x_train.T, np.matmul(x_train, beta) - y_train)) #x_train represents the whole batch\n",
    "        beta = beta - ((lr/x_train.shape[0]) * gradient)\n",
    "        \n",
    "        error = np.sum((np.matmul(x_train, beta) - y_train)**2)\n",
    "        \n",
    "        #Append the error to the list of errors\n",
    "        errors.append(error)\n",
    "        \n",
    "        #Display only iterations/k errors\n",
    "        if epoch%k==0:\n",
    "            print('Iteration', epoch+1, 'step size:', lr, 'error:', error)\n",
    "        \n",
    "        if error < tolerance:\n",
    "            break\n",
    "    \n",
    "    log_info = {\n",
    "        'Experiment': exp_name, \n",
    "        'Method': 'Batch Gradient Descent', \n",
    "        'Configuration': 'iterations = ' + str(epoch+1) + '; lr = ' + str(lr) + '; tolerance = ' + str(tolerance), \n",
    "        'Error': error\n",
    "    }\n",
    "    log = log.append(log_info, ignore_index=True)\n",
    "\n",
    "    print('Last iteration', epoch+1, 'step size:', lr, 'error:', errors[len(errors)-1])\n",
    "    return(beta, errors)"
   ]
  },
  {
   "cell_type": "markdown",
   "metadata": {},
   "source": [
    "### 2.3 Parameters of the model"
   ]
  },
  {
   "cell_type": "code",
   "execution_count": 125,
   "metadata": {},
   "outputs": [],
   "source": [
    "iterations_gd = 2000\n",
    "lr_gd = np.array([5e-5, 5e-4, 7e-4, 1e-1, 1e-2, 1e-3, 1e-4]) #with additional learning rates\n",
    "b_gd = np.zeros((d,1))\n",
    "tolerance_gd = error_cs #Using the error from the closed solution as tolerance\n",
    "k_gd = 2000"
   ]
  },
  {
   "cell_type": "markdown",
   "metadata": {},
   "source": [
    "### 2.4 Results"
   ]
  },
  {
   "cell_type": "code",
   "execution_count": 126,
   "metadata": {},
   "outputs": [
    {
     "name": "stdout",
     "output_type": "stream",
     "text": [
      "Iteration 1 step size: 5e-05 error: 121578.23355857408\n",
      "Last iteration 2000 step size: 5e-05 error: 79340.62232980909\n",
      "Iteration 1 step size: 0.0005 error: 121340.56645372258\n",
      "Last iteration 2000 step size: 0.0005 error: 3332.510798544661\n",
      "Iteration 1 step size: 0.0007 error: 121235.01724871538\n",
      "Last iteration 2000 step size: 0.0007 error: 1188.1367903721439\n",
      "Iteration 1 step size: 0.1 error: 74957.12622907756\n",
      "Last iteration 184 step size: 0.1 error: 215.84470763397803\n",
      "Iteration 1 step size: 0.01 error: 116381.7693808735\n",
      "Last iteration 1917 step size: 0.01 error: 215.84470763397803\n",
      "Iteration 1 step size: 0.001 error: 121076.786463556\n",
      "Last iteration 2000 step size: 0.001 error: 417.9451024337368\n",
      "Iteration 1 step size: 0.0001 error: 121551.81369949927\n",
      "Last iteration 2000 step size: 0.0001 error: 52561.212321743194\n"
     ]
    },
    {
     "data": {
      "image/png": "[encoded data removed]",
      "text/plain": [
       "<Figure size 432x288 with 1 Axes>"
      ]
     },
     "metadata": {
      "needs_background": "light"
     },
     "output_type": "display_data"
    }
   ],
   "source": [
    "i = log.shape[0]\n",
    "for step in lr_gd:\n",
    "    beta_gd, errors_gd = batch_gd(\n",
    "        iterations = iterations_gd, \n",
    "        lr = step, \n",
    "        x_train = X, \n",
    "        y_train = y, \n",
    "        beta = b_gd, \n",
    "        tolerance = tolerance_gd,\n",
    "        k = k_gd,\n",
    "        exp_name = 'exp_'+str(i)\n",
    "    )\n",
    "    i+=1\n",
    "    plt.plot(errors_gd, label = 'lr = ' + str(step))\n",
    "    plt.legend()\n",
    "    plt.ylabel('Error')"
   ]
  },
  {
   "cell_type": "markdown",
   "metadata": {},
   "source": [
    "We can see that the best tested learning rate or step size for the algorithm is **0.1**, from experiment #4. This result converges in 184 iterations to almost the same error as the closed solution."
   ]
  },
  {
   "cell_type": "code",
   "execution_count": 131,
   "metadata": {},
   "outputs": [
    {
     "data": {
      "text/html": [
       "<div>\n",
       "<style scoped>\n",
       "    .dataframe tbody tr th:only-of-type {\n",
       "        vertical-align: middle;\n",
       "    }\n",
       "\n",
       "    .dataframe tbody tr th {\n",
       "        vertical-align: top;\n",
       "    }\n",
       "\n",
       "    .dataframe thead th {\n",
       "        text-align: right;\n",
       "    }\n",
       "</style>\n",
       "<table border=\"1\" class=\"dataframe\">\n",
       "  <thead>\n",
       "    <tr style=\"text-align: right;\">\n",
       "      <th></th>\n",
       "      <th>Experiment</th>\n",
       "      <th>Method</th>\n",
       "      <th>Configuration</th>\n",
       "      <th>Error</th>\n",
       "    </tr>\n",
       "  </thead>\n",
       "  <tbody>\n",
       "    <tr>\n",
       "      <th>0</th>\n",
       "      <td>exp_0</td>\n",
       "      <td>Closed Solution</td>\n",
       "      <td></td>\n",
       "      <td>215.844708</td>\n",
       "    </tr>\n",
       "    <tr>\n",
       "      <th>1</th>\n",
       "      <td>exp_1</td>\n",
       "      <td>Batch Gradient Descent</td>\n",
       "      <td>iterations = 2000; lr = 5e-05; tolerance = 215...</td>\n",
       "      <td>79340.622330</td>\n",
       "    </tr>\n",
       "    <tr>\n",
       "      <th>2</th>\n",
       "      <td>exp_2</td>\n",
       "      <td>Batch Gradient Descent</td>\n",
       "      <td>iterations = 2000; lr = 0.0005; tolerance = 21...</td>\n",
       "      <td>3332.510799</td>\n",
       "    </tr>\n",
       "    <tr>\n",
       "      <th>3</th>\n",
       "      <td>exp_3</td>\n",
       "      <td>Batch Gradient Descent</td>\n",
       "      <td>iterations = 2000; lr = 0.0007; tolerance = 21...</td>\n",
       "      <td>1188.136790</td>\n",
       "    </tr>\n",
       "    <tr>\n",
       "      <th>4</th>\n",
       "      <td>exp_4</td>\n",
       "      <td>Batch Gradient Descent</td>\n",
       "      <td>iterations = 184; lr = 0.1; tolerance = 215.84...</td>\n",
       "      <td>215.844708</td>\n",
       "    </tr>\n",
       "    <tr>\n",
       "      <th>5</th>\n",
       "      <td>exp_5</td>\n",
       "      <td>Batch Gradient Descent</td>\n",
       "      <td>iterations = 1917; lr = 0.01; tolerance = 215....</td>\n",
       "      <td>215.844708</td>\n",
       "    </tr>\n",
       "    <tr>\n",
       "      <th>6</th>\n",
       "      <td>exp_6</td>\n",
       "      <td>Batch Gradient Descent</td>\n",
       "      <td>iterations = 2000; lr = 0.001; tolerance = 215...</td>\n",
       "      <td>417.945102</td>\n",
       "    </tr>\n",
       "    <tr>\n",
       "      <th>7</th>\n",
       "      <td>exp_7</td>\n",
       "      <td>Batch Gradient Descent</td>\n",
       "      <td>iterations = 2000; lr = 0.0001; tolerance = 21...</td>\n",
       "      <td>52561.212322</td>\n",
       "    </tr>\n",
       "  </tbody>\n",
       "</table>\n",
       "</div>"
      ],
      "text/plain": [
       "  Experiment                  Method  \\\n",
       "0      exp_0         Closed Solution   \n",
       "1      exp_1  Batch Gradient Descent   \n",
       "2      exp_2  Batch Gradient Descent   \n",
       "3      exp_3  Batch Gradient Descent   \n",
       "4      exp_4  Batch Gradient Descent   \n",
       "5      exp_5  Batch Gradient Descent   \n",
       "6      exp_6  Batch Gradient Descent   \n",
       "7      exp_7  Batch Gradient Descent   \n",
       "\n",
       "                                       Configuration         Error  \n",
       "0                                                       215.844708  \n",
       "1  iterations = 2000; lr = 5e-05; tolerance = 215...  79340.622330  \n",
       "2  iterations = 2000; lr = 0.0005; tolerance = 21...   3332.510799  \n",
       "3  iterations = 2000; lr = 0.0007; tolerance = 21...   1188.136790  \n",
       "4  iterations = 184; lr = 0.1; tolerance = 215.84...    215.844708  \n",
       "5  iterations = 1917; lr = 0.01; tolerance = 215....    215.844708  \n",
       "6  iterations = 2000; lr = 0.001; tolerance = 215...    417.945102  \n",
       "7  iterations = 2000; lr = 0.0001; tolerance = 21...  52561.212322  "
      ]
     },
     "execution_count": 131,
     "metadata": {},
     "output_type": "execute_result"
    }
   ],
   "source": [
    "log"
   ]
  },
  {
   "cell_type": "markdown",
   "metadata": {},
   "source": [
    "## 3. Stochastic Gradient Descent"
   ]
  },
  {
   "cell_type": "markdown",
   "metadata": {},
   "source": [
    "### 3.1 Stochastic Gradient Descent Equation"
   ]
  },
  {
   "cell_type": "markdown",
   "metadata": {},
   "source": [
    "$\n",
    "\\beta_{k+1} = \\beta_{k} - \\alpha_{k} \\nabla f_{i}(\\beta_{k})\n",
    "$"
   ]
  },
  {
   "cell_type": "markdown",
   "metadata": {},
   "source": [
    "### 3.2 Function"
   ]
  },
  {
   "cell_type": "code",
   "execution_count": 128,
   "metadata": {},
   "outputs": [],
   "source": [
    "def stochastic_gd(iterations, lr, x_train, y_train, beta, tolerance, k, exp_name):\n",
    "    \n",
    "    global log\n",
    "    \n",
    "    if exp_name in log['Experiment'].unique():\n",
    "        print('The experiment name is already in use. Please change to a name that is not in the following list: '\n",
    "              + str(log['Experiment'].unique()))\n",
    "        return(0,0)\n",
    "    \n",
    "    #Parameters and transformations\n",
    "    errors = []\n",
    "    beta = beta.reshape(beta.shape[0],)\n",
    "    y_train = y_train.reshape(y_train.shape[0],)\n",
    "    \n",
    "    #Start of iterations\n",
    "    for epoch in range(iterations):\n",
    "        for r in range(x_train.shape[0]):\n",
    "            row = np.random.randint(0, x_train.shape[0])\n",
    "            x_row = x_train[row,:].reshape(1,x_train.shape[1])\n",
    "            y_row = y_train[row].reshape(1,1)\n",
    "\n",
    "            gradient = 2*(np.matmul(x_row.T, np.matmul(x_row, beta) - y_row)) #Only one observation\n",
    "            beta = beta - ((lr) * gradient.reshape(gradient.shape[0],))\n",
    "        \n",
    "        error = np.sum((np.matmul(x_train, beta) - y_train)**2)\n",
    "        \n",
    "        #Append the error to the list of errors\n",
    "        errors.append(error)\n",
    "        \n",
    "        #Display only iterations/k errors\n",
    "        if epoch%k==0:\n",
    "            print('Iteration', epoch+1, 'step size:', lr, 'error:', error)\n",
    "        \n",
    "        if error < tolerance:\n",
    "            break\n",
    "        \n",
    "    log_info = {\n",
    "        'Experiment': exp_name, \n",
    "        'Method': 'Stochastic Gradient Descent', \n",
    "        'Configuration': 'iterations = ' + str(epoch+1) + '; lr = ' + str(lr) + '; tolerance = ' + str(tolerance), \n",
    "        'Error': error\n",
    "    }\n",
    "    log = log.append(log_info, ignore_index=True)\n",
    "\n",
    "    print('Last iteration', epoch+1, 'step size:', lr, 'error:', errors[len(errors)-1])\n",
    "    return(beta, errors)"
   ]
  },
  {
   "cell_type": "markdown",
   "metadata": {},
   "source": [
    "### 3.3 Parameters of the model"
   ]
  },
  {
   "cell_type": "code",
   "execution_count": 129,
   "metadata": {},
   "outputs": [],
   "source": [
    "iterations_sgd = 1000\n",
    "lr_sgd = np.array([5e-4, 5e-3, 1e-3, 1e-4]) #with additional learning rates\n",
    "b_sgd = np.zeros((d,1))\n",
    "tolerance_sgd = error_cs #Using the error from the closed solution as tolerance\n",
    "k_sgd = 500"
   ]
  },
  {
   "cell_type": "markdown",
   "metadata": {},
   "source": [
    "### 3.4 Results"
   ]
  },
  {
   "cell_type": "code",
   "execution_count": 132,
   "metadata": {},
   "outputs": [
    {
     "name": "stdout",
     "output_type": "stream",
     "text": [
      "Iteration 1 step size: 0.0005 error: 19753.488027769403\n",
      "Iteration 501 step size: 0.0005 error: 227.8876541098262\n",
      "Last iteration 1000 step size: 0.0005 error: 228.70567810429432\n",
      "Iteration 1 step size: 0.005 error: 416.6972693446106\n",
      "Iteration 501 step size: 0.005 error: 404.64145552223266\n",
      "Last iteration 1000 step size: 0.005 error: 405.6599184237511\n",
      "Iteration 1 step size: 0.001 error: 4634.077503123518\n",
      "Iteration 501 step size: 0.001 error: 243.50791327937793\n",
      "Last iteration 1000 step size: 0.001 error: 238.77904756782235\n",
      "Iteration 1 step size: 0.0001 error: 78766.0127608993\n",
      "Iteration 501 step size: 0.0001 error: 217.96518577180638\n",
      "Last iteration 1000 step size: 0.0001 error: 217.9689572988101\n"
     ]
    },
    {
     "data": {
      "image/png": "[encoded data removed]",
      "text/plain": [
       "<Figure size 432x288 with 1 Axes>"
      ]
     },
     "metadata": {
      "needs_background": "light"
     },
     "output_type": "display_data"
    }
   ],
   "source": [
    "i = log.shape[0]\n",
    "for step in lr_sgd:\n",
    "    beta_sgd, errors_sgd = stochastic_gd(\n",
    "        iterations = iterations_sgd, \n",
    "        lr = step, \n",
    "        x_train = X, \n",
    "        y_train = y, \n",
    "        beta = b_sgd, \n",
    "        tolerance = tolerance_sgd,\n",
    "        k = k_sgd,\n",
    "        exp_name = 'exp_'+str(i)\n",
    "    )\n",
    "    i+=1\n",
    "    plt.plot(errors_sgd, label = 'lr = ' + str(step))\n",
    "    plt.legend()\n",
    "    plt.ylabel('Error')"
   ]
  },
  {
   "cell_type": "markdown",
   "metadata": {},
   "source": [
    "We can see that the best tested learning rate or step size for the algorithm is **0.0001**, from experiment #11. This result still didn't converge in 1,000 iterations but it achieves almost the same error as the closed solution."
   ]
  },
  {
   "cell_type": "code",
   "execution_count": 133,
   "metadata": {},
   "outputs": [
    {
     "data": {
      "text/html": [
       "<div>\n",
       "<style scoped>\n",
       "    .dataframe tbody tr th:only-of-type {\n",
       "        vertical-align: middle;\n",
       "    }\n",
       "\n",
       "    .dataframe tbody tr th {\n",
       "        vertical-align: top;\n",
       "    }\n",
       "\n",
       "    .dataframe thead th {\n",
       "        text-align: right;\n",
       "    }\n",
       "</style>\n",
       "<table border=\"1\" class=\"dataframe\">\n",
       "  <thead>\n",
       "    <tr style=\"text-align: right;\">\n",
       "      <th></th>\n",
       "      <th>Experiment</th>\n",
       "      <th>Method</th>\n",
       "      <th>Configuration</th>\n",
       "      <th>Error</th>\n",
       "    </tr>\n",
       "  </thead>\n",
       "  <tbody>\n",
       "    <tr>\n",
       "      <th>0</th>\n",
       "      <td>exp_0</td>\n",
       "      <td>Closed Solution</td>\n",
       "      <td></td>\n",
       "      <td>215.844708</td>\n",
       "    </tr>\n",
       "    <tr>\n",
       "      <th>1</th>\n",
       "      <td>exp_1</td>\n",
       "      <td>Batch Gradient Descent</td>\n",
       "      <td>iterations = 2000; lr = 5e-05; tolerance = 215...</td>\n",
       "      <td>79340.622330</td>\n",
       "    </tr>\n",
       "    <tr>\n",
       "      <th>2</th>\n",
       "      <td>exp_2</td>\n",
       "      <td>Batch Gradient Descent</td>\n",
       "      <td>iterations = 2000; lr = 0.0005; tolerance = 21...</td>\n",
       "      <td>3332.510799</td>\n",
       "    </tr>\n",
       "    <tr>\n",
       "      <th>3</th>\n",
       "      <td>exp_3</td>\n",
       "      <td>Batch Gradient Descent</td>\n",
       "      <td>iterations = 2000; lr = 0.0007; tolerance = 21...</td>\n",
       "      <td>1188.136790</td>\n",
       "    </tr>\n",
       "    <tr>\n",
       "      <th>4</th>\n",
       "      <td>exp_4</td>\n",
       "      <td>Batch Gradient Descent</td>\n",
       "      <td>iterations = 184; lr = 0.1; tolerance = 215.84...</td>\n",
       "      <td>215.844708</td>\n",
       "    </tr>\n",
       "    <tr>\n",
       "      <th>5</th>\n",
       "      <td>exp_5</td>\n",
       "      <td>Batch Gradient Descent</td>\n",
       "      <td>iterations = 1917; lr = 0.01; tolerance = 215....</td>\n",
       "      <td>215.844708</td>\n",
       "    </tr>\n",
       "    <tr>\n",
       "      <th>6</th>\n",
       "      <td>exp_6</td>\n",
       "      <td>Batch Gradient Descent</td>\n",
       "      <td>iterations = 2000; lr = 0.001; tolerance = 215...</td>\n",
       "      <td>417.945102</td>\n",
       "    </tr>\n",
       "    <tr>\n",
       "      <th>7</th>\n",
       "      <td>exp_7</td>\n",
       "      <td>Batch Gradient Descent</td>\n",
       "      <td>iterations = 2000; lr = 0.0001; tolerance = 21...</td>\n",
       "      <td>52561.212322</td>\n",
       "    </tr>\n",
       "    <tr>\n",
       "      <th>8</th>\n",
       "      <td>exp_8</td>\n",
       "      <td>Stochastic Gradient Descent</td>\n",
       "      <td>iterations = 1000; lr = 0.0005; tolerance = 21...</td>\n",
       "      <td>228.705678</td>\n",
       "    </tr>\n",
       "    <tr>\n",
       "      <th>9</th>\n",
       "      <td>exp_9</td>\n",
       "      <td>Stochastic Gradient Descent</td>\n",
       "      <td>iterations = 1000; lr = 0.005; tolerance = 215...</td>\n",
       "      <td>405.659918</td>\n",
       "    </tr>\n",
       "    <tr>\n",
       "      <th>10</th>\n",
       "      <td>exp_10</td>\n",
       "      <td>Stochastic Gradient Descent</td>\n",
       "      <td>iterations = 1000; lr = 0.001; tolerance = 215...</td>\n",
       "      <td>238.779048</td>\n",
       "    </tr>\n",
       "    <tr>\n",
       "      <th>11</th>\n",
       "      <td>exp_11</td>\n",
       "      <td>Stochastic Gradient Descent</td>\n",
       "      <td>iterations = 1000; lr = 0.0001; tolerance = 21...</td>\n",
       "      <td>217.968957</td>\n",
       "    </tr>\n",
       "  </tbody>\n",
       "</table>\n",
       "</div>"
      ],
      "text/plain": [
       "   Experiment                       Method  \\\n",
       "0       exp_0              Closed Solution   \n",
       "1       exp_1       Batch Gradient Descent   \n",
       "2       exp_2       Batch Gradient Descent   \n",
       "3       exp_3       Batch Gradient Descent   \n",
       "4       exp_4       Batch Gradient Descent   \n",
       "5       exp_5       Batch Gradient Descent   \n",
       "6       exp_6       Batch Gradient Descent   \n",
       "7       exp_7       Batch Gradient Descent   \n",
       "8       exp_8  Stochastic Gradient Descent   \n",
       "9       exp_9  Stochastic Gradient Descent   \n",
       "10     exp_10  Stochastic Gradient Descent   \n",
       "11     exp_11  Stochastic Gradient Descent   \n",
       "\n",
       "                                        Configuration         Error  \n",
       "0                                                        215.844708  \n",
       "1   iterations = 2000; lr = 5e-05; tolerance = 215...  79340.622330  \n",
       "2   iterations = 2000; lr = 0.0005; tolerance = 21...   3332.510799  \n",
       "3   iterations = 2000; lr = 0.0007; tolerance = 21...   1188.136790  \n",
       "4   iterations = 184; lr = 0.1; tolerance = 215.84...    215.844708  \n",
       "5   iterations = 1917; lr = 0.01; tolerance = 215....    215.844708  \n",
       "6   iterations = 2000; lr = 0.001; tolerance = 215...    417.945102  \n",
       "7   iterations = 2000; lr = 0.0001; tolerance = 21...  52561.212322  \n",
       "8   iterations = 1000; lr = 0.0005; tolerance = 21...    228.705678  \n",
       "9   iterations = 1000; lr = 0.005; tolerance = 215...    405.659918  \n",
       "10  iterations = 1000; lr = 0.001; tolerance = 215...    238.779048  \n",
       "11  iterations = 1000; lr = 0.0001; tolerance = 21...    217.968957  "
      ]
     },
     "execution_count": 133,
     "metadata": {},
     "output_type": "execute_result"
    }
   ],
   "source": [
    "log"
   ]
  },
  {
   "cell_type": "markdown",
   "metadata": {},
   "source": [
    "## 4. Mini Batch Gradient Descent"
   ]
  },
  {
   "cell_type": "markdown",
   "metadata": {},
   "source": [
    "### 4.1 Stochastic Gradient Descent Equation"
   ]
  },
  {
   "cell_type": "markdown",
   "metadata": {},
   "source": [
    "$\n",
    "\\beta_{k+1} = \\beta_{k} - \\alpha_{k} \\nabla f_{i}(\\beta_{k})\n",
    "$"
   ]
  },
  {
   "cell_type": "markdown",
   "metadata": {},
   "source": [
    "### 4.2 Function"
   ]
  },
  {
   "cell_type": "code",
   "execution_count": 137,
   "metadata": {},
   "outputs": [],
   "source": [
    "def minibatch_gd(iterations, lr, batch_size, x_train, y_train, beta, tolerance, k, exp_name):\n",
    "    \n",
    "    global log\n",
    "    \n",
    "    if exp_name in log['Experiment'].unique():\n",
    "        print('The experiment name is already in use. Please change to a name that is not in the following list: '\n",
    "              + str(log['Experiment'].unique()))\n",
    "        return(0,0)\n",
    "    \n",
    "    #Parameters and transformations\n",
    "    errors = []\n",
    "    beta = beta.reshape(beta.shape[0],)\n",
    "    y_train = y_train.reshape(y_train.shape[0],)\n",
    "    \n",
    "    #Start of iterations\n",
    "    for epoch in range(iterations):\n",
    "        \n",
    "        for mb in range(int(np.ceil(x_train.shape[0]/batch_size))):\n",
    "            \n",
    "            forBatch = (mb * batch_size)\n",
    "\n",
    "            if mb == int(x_train.shape[0]/batch_size):\n",
    "                x_mb = x_train[forBatch:x_train.shape[0],:]\n",
    "                y_mb = y_train[forBatch:x_train.shape[0]]\n",
    "\n",
    "            else:\n",
    "                x_mb = x_train[forBatch:(forBatch+batch_size),:]\n",
    "                y_mb = y_train[forBatch:(forBatch+batch_size)]\n",
    "            \n",
    "            \n",
    "            gradient = 2*(np.matmul(x_mb.T, np.matmul(x_mb, beta) - y_mb)) #x_mb represents the mini batch\n",
    "            beta = beta - ((lr/x_mb.shape[0]) * gradient)\n",
    "            \n",
    "        \n",
    "        error = np.sum((np.matmul(x_train, beta) - y_train)**2)\n",
    "        \n",
    "        #Append the error to the list of errors\n",
    "        errors.append(error)\n",
    "        \n",
    "        #Display only iterations/k errors\n",
    "        if epoch%k==0:\n",
    "            print('Iteration', epoch+1, 'step size:', lr, 'error:', error)\n",
    "        \n",
    "        if error < tolerance:\n",
    "            break\n",
    "            \n",
    "    log_info = {\n",
    "        'Experiment': exp_name, \n",
    "        'Method': 'Mini Batch Gradient Descent', \n",
    "        'Configuration': 'iterations = '+str(epoch+1) + '; lr = '+str(lr) + '; batch size = '+str(batch_size) + '; tolerance = '+str(tolerance), \n",
    "        'Error': error\n",
    "    }\n",
    "    log = log.append(log_info, ignore_index=True)\n",
    "\n",
    "    print('Last iteration', epoch+1, 'step size:', lr, 'error:', errors[len(errors)-1])\n",
    "    return(beta, errors)"
   ]
  },
  {
   "cell_type": "markdown",
   "metadata": {},
   "source": [
    "### 4.3 Parameters of the model"
   ]
  },
  {
   "cell_type": "code",
   "execution_count": 138,
   "metadata": {},
   "outputs": [],
   "source": [
    "iterations_mbgd = 1000\n",
    "lr_mbgd = np.array([5e-4, 5e-3, 1e-3, 1e-2]) #with additional learning rates\n",
    "batch_size_mbgd = np.array([25, 50, 100])\n",
    "b_mbgd = np.zeros((d,1))\n",
    "tolerance_mbgd = error_cs #Using the error from the closed solution as tolerance\n",
    "k_mbgd = 500"
   ]
  },
  {
   "cell_type": "markdown",
   "metadata": {},
   "source": [
    "### 4.4 Results"
   ]
  },
  {
   "cell_type": "code",
   "execution_count": 139,
   "metadata": {},
   "outputs": [
    {
     "name": "stdout",
     "output_type": "stream",
     "text": [
      "Iteration 1 step size: 0.0005 error: 111488.33518719656\n",
      "Iteration 501 step size: 0.0005 error: 215.84845991553368\n",
      "Last iteration 1000 step size: 0.0005 error: 215.84844740302742\n",
      "Iteration 1 step size: 0.0005 error: 116433.25509567224\n",
      "Iteration 501 step size: 0.0005 error: 216.0872146275603\n",
      "Last iteration 1000 step size: 0.0005 error: 215.845654170179\n",
      "Iteration 1 step size: 0.0005 error: 118990.15707529944\n",
      "Iteration 501 step size: 0.0005 error: 275.4263486426112\n",
      "Last iteration 1000 step size: 0.0005 error: 216.09248919159563\n",
      "Iteration 1 step size: 0.005 error: 51428.04682380443\n",
      "Iteration 501 step size: 0.005 error: 216.2330829399363\n",
      "Last iteration 1000 step size: 0.005 error: 216.2330829399363\n",
      "Iteration 1 step size: 0.005 error: 78783.72738343316\n",
      "Iteration 501 step size: 0.005 error: 215.94031798054266\n",
      "Last iteration 1000 step size: 0.005 error: 215.94031798054272\n",
      "Iteration 1 step size: 0.005 error: 97811.76646312763\n",
      "Iteration 501 step size: 0.005 error: 215.8677207471442\n",
      "Last iteration 1000 step size: 0.005 error: 215.8677207471457\n",
      "Iteration 1 step size: 0.001 error: 102227.59339634332\n",
      "Iteration 501 step size: 0.001 error: 215.85973194400168\n",
      "Last iteration 1000 step size: 0.001 error: 215.8597319445639\n",
      "Iteration 1 step size: 0.001 error: 111482.4836842435\n",
      "Iteration 501 step size: 0.001 error: 215.84847018026645\n",
      "Last iteration 1000 step size: 0.001 error: 215.84845692067285\n",
      "Iteration 1 step size: 0.001 error: 116430.80553695023\n",
      "Iteration 501 step size: 0.001 error: 216.08709965369832\n",
      "Last iteration 1000 step size: 0.001 error: 215.84563287226706\n",
      "Iteration 1 step size: 0.01 error: 22396.289474756795\n",
      "Iteration 501 step size: 0.01 error: 217.45932381596114\n",
      "Last iteration 1000 step size: 0.01 error: 217.4593238159612\n",
      "Iteration 1 step size: 0.01 error: 51165.47825999348\n",
      "Iteration 501 step size: 0.01 error: 216.23638974172002\n",
      "Last iteration 1000 step size: 0.01 error: 216.23638974172002\n",
      "Iteration 1 step size: 0.01 error: 78618.47845602728\n",
      "Iteration 501 step size: 0.01 error: 215.93813245168886\n",
      "Last iteration 1000 step size: 0.01 error: 215.93813245168886\n"
     ]
    },
    {
     "data": {
      "image/png": "[encoded data removed]",
      "text/plain": [
       "<Figure size 432x288 with 1 Axes>"
      ]
     },
     "metadata": {
      "needs_background": "light"
     },
     "output_type": "display_data"
    }
   ],
   "source": [
    "i = log.shape[0]\n",
    "for step in lr_mbgd:\n",
    "    for batch in batch_size_mbgd:\n",
    "        beta_mb, error_mb = minibatch_gd(\n",
    "            iterations = iterations_mbgd, \n",
    "            lr = step,\n",
    "            batch_size = batch,\n",
    "            x_train = X, \n",
    "            y_train = y, \n",
    "            beta = b_mbgd, \n",
    "            tolerance = tolerance_mbgd,\n",
    "            k = k_mbgd,\n",
    "            exp_name = 'exp_'+str(i)\n",
    "        )\n",
    "        i+=1\n",
    "        plt.plot(errors_sgd, label = 'lr = ' + str(step) + ' batch = ' + str(batch))\n",
    "        plt.legend()\n",
    "        plt.ylabel('Error')"
   ]
  },
  {
   "cell_type": "code",
   "execution_count": 140,
   "metadata": {},
   "outputs": [
    {
     "data": {
      "text/html": [
       "<div>\n",
       "<style scoped>\n",
       "    .dataframe tbody tr th:only-of-type {\n",
       "        vertical-align: middle;\n",
       "    }\n",
       "\n",
       "    .dataframe tbody tr th {\n",
       "        vertical-align: top;\n",
       "    }\n",
       "\n",
       "    .dataframe thead th {\n",
       "        text-align: right;\n",
       "    }\n",
       "</style>\n",
       "<table border=\"1\" class=\"dataframe\">\n",
       "  <thead>\n",
       "    <tr style=\"text-align: right;\">\n",
       "      <th></th>\n",
       "      <th>Experiment</th>\n",
       "      <th>Method</th>\n",
       "      <th>Configuration</th>\n",
       "      <th>Error</th>\n",
       "    </tr>\n",
       "  </thead>\n",
       "  <tbody>\n",
       "    <tr>\n",
       "      <th>0</th>\n",
       "      <td>exp_0</td>\n",
       "      <td>Closed Solution</td>\n",
       "      <td></td>\n",
       "      <td>215.844708</td>\n",
       "    </tr>\n",
       "    <tr>\n",
       "      <th>1</th>\n",
       "      <td>exp_1</td>\n",
       "      <td>Batch Gradient Descent</td>\n",
       "      <td>iterations = 2000; lr = 5e-05; tolerance = 215...</td>\n",
       "      <td>79340.622330</td>\n",
       "    </tr>\n",
       "    <tr>\n",
       "      <th>2</th>\n",
       "      <td>exp_2</td>\n",
       "      <td>Batch Gradient Descent</td>\n",
       "      <td>iterations = 2000; lr = 0.0005; tolerance = 21...</td>\n",
       "      <td>3332.510799</td>\n",
       "    </tr>\n",
       "    <tr>\n",
       "      <th>3</th>\n",
       "      <td>exp_3</td>\n",
       "      <td>Batch Gradient Descent</td>\n",
       "      <td>iterations = 2000; lr = 0.0007; tolerance = 21...</td>\n",
       "      <td>1188.136790</td>\n",
       "    </tr>\n",
       "    <tr>\n",
       "      <th>4</th>\n",
       "      <td>exp_4</td>\n",
       "      <td>Batch Gradient Descent</td>\n",
       "      <td>iterations = 184; lr = 0.1; tolerance = 215.84...</td>\n",
       "      <td>215.844708</td>\n",
       "    </tr>\n",
       "    <tr>\n",
       "      <th>5</th>\n",
       "      <td>exp_5</td>\n",
       "      <td>Batch Gradient Descent</td>\n",
       "      <td>iterations = 1917; lr = 0.01; tolerance = 215....</td>\n",
       "      <td>215.844708</td>\n",
       "    </tr>\n",
       "    <tr>\n",
       "      <th>6</th>\n",
       "      <td>exp_6</td>\n",
       "      <td>Batch Gradient Descent</td>\n",
       "      <td>iterations = 2000; lr = 0.001; tolerance = 215...</td>\n",
       "      <td>417.945102</td>\n",
       "    </tr>\n",
       "    <tr>\n",
       "      <th>7</th>\n",
       "      <td>exp_7</td>\n",
       "      <td>Batch Gradient Descent</td>\n",
       "      <td>iterations = 2000; lr = 0.0001; tolerance = 21...</td>\n",
       "      <td>52561.212322</td>\n",
       "    </tr>\n",
       "    <tr>\n",
       "      <th>8</th>\n",
       "      <td>exp_8</td>\n",
       "      <td>Stochastic Gradient Descent</td>\n",
       "      <td>iterations = 1000; lr = 0.0005; tolerance = 21...</td>\n",
       "      <td>228.705678</td>\n",
       "    </tr>\n",
       "    <tr>\n",
       "      <th>9</th>\n",
       "      <td>exp_9</td>\n",
       "      <td>Stochastic Gradient Descent</td>\n",
       "      <td>iterations = 1000; lr = 0.005; tolerance = 215...</td>\n",
       "      <td>405.659918</td>\n",
       "    </tr>\n",
       "    <tr>\n",
       "      <th>10</th>\n",
       "      <td>exp_10</td>\n",
       "      <td>Stochastic Gradient Descent</td>\n",
       "      <td>iterations = 1000; lr = 0.001; tolerance = 215...</td>\n",
       "      <td>238.779048</td>\n",
       "    </tr>\n",
       "    <tr>\n",
       "      <th>11</th>\n",
       "      <td>exp_11</td>\n",
       "      <td>Stochastic Gradient Descent</td>\n",
       "      <td>iterations = 1000; lr = 0.0001; tolerance = 21...</td>\n",
       "      <td>217.968957</td>\n",
       "    </tr>\n",
       "    <tr>\n",
       "      <th>12</th>\n",
       "      <td>exp_12</td>\n",
       "      <td>Mini Batch Gradient Descent</td>\n",
       "      <td>iterations = 1000; lr = 0.0005; batch size = 2...</td>\n",
       "      <td>215.848447</td>\n",
       "    </tr>\n",
       "    <tr>\n",
       "      <th>13</th>\n",
       "      <td>exp_13</td>\n",
       "      <td>Mini Batch Gradient Descent</td>\n",
       "      <td>iterations = 1000; lr = 0.0005; batch size = 5...</td>\n",
       "      <td>215.845654</td>\n",
       "    </tr>\n",
       "    <tr>\n",
       "      <th>14</th>\n",
       "      <td>exp_14</td>\n",
       "      <td>Mini Batch Gradient Descent</td>\n",
       "      <td>iterations = 1000; lr = 0.0005; batch size = 1...</td>\n",
       "      <td>216.092489</td>\n",
       "    </tr>\n",
       "    <tr>\n",
       "      <th>15</th>\n",
       "      <td>exp_15</td>\n",
       "      <td>Mini Batch Gradient Descent</td>\n",
       "      <td>iterations = 1000; lr = 0.005; batch size = 25...</td>\n",
       "      <td>216.233083</td>\n",
       "    </tr>\n",
       "    <tr>\n",
       "      <th>16</th>\n",
       "      <td>exp_16</td>\n",
       "      <td>Mini Batch Gradient Descent</td>\n",
       "      <td>iterations = 1000; lr = 0.005; batch size = 50...</td>\n",
       "      <td>215.940318</td>\n",
       "    </tr>\n",
       "    <tr>\n",
       "      <th>17</th>\n",
       "      <td>exp_17</td>\n",
       "      <td>Mini Batch Gradient Descent</td>\n",
       "      <td>iterations = 1000; lr = 0.005; batch size = 10...</td>\n",
       "      <td>215.867721</td>\n",
       "    </tr>\n",
       "    <tr>\n",
       "      <th>18</th>\n",
       "      <td>exp_18</td>\n",
       "      <td>Mini Batch Gradient Descent</td>\n",
       "      <td>iterations = 1000; lr = 0.001; batch size = 25...</td>\n",
       "      <td>215.859732</td>\n",
       "    </tr>\n",
       "    <tr>\n",
       "      <th>19</th>\n",
       "      <td>exp_19</td>\n",
       "      <td>Mini Batch Gradient Descent</td>\n",
       "      <td>iterations = 1000; lr = 0.001; batch size = 50...</td>\n",
       "      <td>215.848457</td>\n",
       "    </tr>\n",
       "    <tr>\n",
       "      <th>20</th>\n",
       "      <td>exp_20</td>\n",
       "      <td>Mini Batch Gradient Descent</td>\n",
       "      <td>iterations = 1000; lr = 0.001; batch size = 10...</td>\n",
       "      <td>215.845633</td>\n",
       "    </tr>\n",
       "    <tr>\n",
       "      <th>21</th>\n",
       "      <td>exp_21</td>\n",
       "      <td>Mini Batch Gradient Descent</td>\n",
       "      <td>iterations = 1000; lr = 0.01; batch size = 25;...</td>\n",
       "      <td>217.459324</td>\n",
       "    </tr>\n",
       "    <tr>\n",
       "      <th>22</th>\n",
       "      <td>exp_22</td>\n",
       "      <td>Mini Batch Gradient Descent</td>\n",
       "      <td>iterations = 1000; lr = 0.01; batch size = 50;...</td>\n",
       "      <td>216.236390</td>\n",
       "    </tr>\n",
       "    <tr>\n",
       "      <th>23</th>\n",
       "      <td>exp_23</td>\n",
       "      <td>Mini Batch Gradient Descent</td>\n",
       "      <td>iterations = 1000; lr = 0.01; batch size = 100...</td>\n",
       "      <td>215.938132</td>\n",
       "    </tr>\n",
       "  </tbody>\n",
       "</table>\n",
       "</div>"
      ],
      "text/plain": [
       "   Experiment                       Method  \\\n",
       "0       exp_0              Closed Solution   \n",
       "1       exp_1       Batch Gradient Descent   \n",
       "2       exp_2       Batch Gradient Descent   \n",
       "3       exp_3       Batch Gradient Descent   \n",
       "4       exp_4       Batch Gradient Descent   \n",
       "5       exp_5       Batch Gradient Descent   \n",
       "6       exp_6       Batch Gradient Descent   \n",
       "7       exp_7       Batch Gradient Descent   \n",
       "8       exp_8  Stochastic Gradient Descent   \n",
       "9       exp_9  Stochastic Gradient Descent   \n",
       "10     exp_10  Stochastic Gradient Descent   \n",
       "11     exp_11  Stochastic Gradient Descent   \n",
       "12     exp_12  Mini Batch Gradient Descent   \n",
       "13     exp_13  Mini Batch Gradient Descent   \n",
       "14     exp_14  Mini Batch Gradient Descent   \n",
       "15     exp_15  Mini Batch Gradient Descent   \n",
       "16     exp_16  Mini Batch Gradient Descent   \n",
       "17     exp_17  Mini Batch Gradient Descent   \n",
       "18     exp_18  Mini Batch Gradient Descent   \n",
       "19     exp_19  Mini Batch Gradient Descent   \n",
       "20     exp_20  Mini Batch Gradient Descent   \n",
       "21     exp_21  Mini Batch Gradient Descent   \n",
       "22     exp_22  Mini Batch Gradient Descent   \n",
       "23     exp_23  Mini Batch Gradient Descent   \n",
       "\n",
       "                                        Configuration         Error  \n",
       "0                                                        215.844708  \n",
       "1   iterations = 2000; lr = 5e-05; tolerance = 215...  79340.622330  \n",
       "2   iterations = 2000; lr = 0.0005; tolerance = 21...   3332.510799  \n",
       "3   iterations = 2000; lr = 0.0007; tolerance = 21...   1188.136790  \n",
       "4   iterations = 184; lr = 0.1; tolerance = 215.84...    215.844708  \n",
       "5   iterations = 1917; lr = 0.01; tolerance = 215....    215.844708  \n",
       "6   iterations = 2000; lr = 0.001; tolerance = 215...    417.945102  \n",
       "7   iterations = 2000; lr = 0.0001; tolerance = 21...  52561.212322  \n",
       "8   iterations = 1000; lr = 0.0005; tolerance = 21...    228.705678  \n",
       "9   iterations = 1000; lr = 0.005; tolerance = 215...    405.659918  \n",
       "10  iterations = 1000; lr = 0.001; tolerance = 215...    238.779048  \n",
       "11  iterations = 1000; lr = 0.0001; tolerance = 21...    217.968957  \n",
       "12  iterations = 1000; lr = 0.0005; batch size = 2...    215.848447  \n",
       "13  iterations = 1000; lr = 0.0005; batch size = 5...    215.845654  \n",
       "14  iterations = 1000; lr = 0.0005; batch size = 1...    216.092489  \n",
       "15  iterations = 1000; lr = 0.005; batch size = 25...    216.233083  \n",
       "16  iterations = 1000; lr = 0.005; batch size = 50...    215.940318  \n",
       "17  iterations = 1000; lr = 0.005; batch size = 10...    215.867721  \n",
       "18  iterations = 1000; lr = 0.001; batch size = 25...    215.859732  \n",
       "19  iterations = 1000; lr = 0.001; batch size = 50...    215.848457  \n",
       "20  iterations = 1000; lr = 0.001; batch size = 10...    215.845633  \n",
       "21  iterations = 1000; lr = 0.01; batch size = 25;...    217.459324  \n",
       "22  iterations = 1000; lr = 0.01; batch size = 50;...    216.236390  \n",
       "23  iterations = 1000; lr = 0.01; batch size = 100...    215.938132  "
      ]
     },
     "execution_count": 140,
     "metadata": {},
     "output_type": "execute_result"
    }
   ],
   "source": [
    "log"
   ]
  },
  {
   "cell_type": "markdown",
   "metadata": {},
   "source": [
    "## 5. Comparison"
   ]
  },
  {
   "cell_type": "markdown",
   "metadata": {},
   "source": [
    "We can see that all of the 4 different approaches reaches to a very similar error of beta (parameter). The difference lays in the amount of time taken to reach that error and the different metrics used for each model. Here's a brief summary of the best model for each approach:"
   ]
  },
  {
   "cell_type": "code",
   "execution_count": 180,
   "metadata": {},
   "outputs": [
    {
     "data": {
      "text/html": [
       "<div>\n",
       "<style scoped>\n",
       "    .dataframe tbody tr th:only-of-type {\n",
       "        vertical-align: middle;\n",
       "    }\n",
       "\n",
       "    .dataframe tbody tr th {\n",
       "        vertical-align: top;\n",
       "    }\n",
       "\n",
       "    .dataframe thead th {\n",
       "        text-align: right;\n",
       "    }\n",
       "</style>\n",
       "<table border=\"1\" class=\"dataframe\">\n",
       "  <thead>\n",
       "    <tr style=\"text-align: right;\">\n",
       "      <th></th>\n",
       "      <th>Experiment</th>\n",
       "      <th>Method</th>\n",
       "      <th>Configuration</th>\n",
       "      <th>Error</th>\n",
       "    </tr>\n",
       "  </thead>\n",
       "  <tbody>\n",
       "    <tr>\n",
       "      <th>0</th>\n",
       "      <td>exp_0</td>\n",
       "      <td>Closed Solution</td>\n",
       "      <td></td>\n",
       "      <td>215.844708</td>\n",
       "    </tr>\n",
       "    <tr>\n",
       "      <th>4</th>\n",
       "      <td>exp_4</td>\n",
       "      <td>Batch Gradient Descent</td>\n",
       "      <td>iterations = 184; lr = 0.1; tolerance = 215.84...</td>\n",
       "      <td>215.844708</td>\n",
       "    </tr>\n",
       "    <tr>\n",
       "      <th>11</th>\n",
       "      <td>exp_11</td>\n",
       "      <td>Stochastic Gradient Descent</td>\n",
       "      <td>iterations = 1000; lr = 0.0001; tolerance = 21...</td>\n",
       "      <td>217.968957</td>\n",
       "    </tr>\n",
       "    <tr>\n",
       "      <th>20</th>\n",
       "      <td>exp_20</td>\n",
       "      <td>Mini Batch Gradient Descent</td>\n",
       "      <td>iterations = 1000; lr = 0.001; batch size = 10...</td>\n",
       "      <td>215.845633</td>\n",
       "    </tr>\n",
       "  </tbody>\n",
       "</table>\n",
       "</div>"
      ],
      "text/plain": [
       "   Experiment                       Method  \\\n",
       "0       exp_0              Closed Solution   \n",
       "4       exp_4       Batch Gradient Descent   \n",
       "11     exp_11  Stochastic Gradient Descent   \n",
       "20     exp_20  Mini Batch Gradient Descent   \n",
       "\n",
       "                                        Configuration       Error  \n",
       "0                                                      215.844708  \n",
       "4   iterations = 184; lr = 0.1; tolerance = 215.84...  215.844708  \n",
       "11  iterations = 1000; lr = 0.0001; tolerance = 21...  217.968957  \n",
       "20  iterations = 1000; lr = 0.001; batch size = 10...  215.845633  "
      ]
     },
     "execution_count": 180,
     "metadata": {},
     "output_type": "execute_result"
    }
   ],
   "source": [
    "log[(log['Experiment'] == 'exp_0') | (log['Experiment'] == 'exp_4') | (log['Experiment'] == 'exp_11') | (log['Experiment'] == 'exp_20')]"
   ]
  },
  {
   "cell_type": "markdown",
   "metadata": {},
   "source": [
    "The difference between these models is the iterations taken. As we can see, the best model is the closed solution but it's very expensive to compute when large datasets and it depends mainly on the input data. The other best experiment was #4 with the Batch Gradient Descent. This experiment took 184 iterations before converging to the same error as in the closed solution.\n",
    "\n",
    "Studies had shown that the Mini Batch Gradient Descent is the best approach for a machine learning algorithm and that's why we can see that many learning rates and batches used are converging to very small errors, very similar to the closed solution."
   ]
  },
  {
   "cell_type": "code",
   "execution_count": null,
   "metadata": {},
   "outputs": [],
   "source": []
  }
 ],
 "metadata": {
  "kernelspec": {
   "display_name": "Python 3",
   "language": "python",
   "name": "python3"
  },
  "language_info": {
   "codemirror_mode": {
    "name": "ipython",
    "version": 3
   },
   "file_extension": ".py",
   "mimetype": "text/x-python",
   "name": "python",
   "nbconvert_exporter": "python",
   "pygments_lexer": "ipython3",
   "version": "3.7.3"
  }
 },
 "nbformat": 4,
 "nbformat_minor": 4
}
