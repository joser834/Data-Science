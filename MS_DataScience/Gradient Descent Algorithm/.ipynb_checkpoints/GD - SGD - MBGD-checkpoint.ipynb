{
 "cells": [
  {
   "cell_type": "markdown",
   "metadata": {},
   "source": [
    "# Gradient Descent, Stochastic Gradient Descent and Mini Batch Gradient Descent"
   ]
  },
  {
   "cell_type": "markdown",
   "metadata": {},
   "source": [
    "This notebook explains the three different approaches for the Gradient Descent Algorithm. These different models are based on a step size (learning rate as called in Machine Learning) and the direction in which the step size is going to be directed. (such as Hyperparameters)"
   ]
  },
  {
   "cell_type": "markdown",
   "metadata": {},
   "source": [
    "## Loading Libraries"
   ]
  },
  {
   "cell_type": "code",
   "execution_count": 47,
   "metadata": {},
   "outputs": [],
   "source": [
    "import numpy as np\n",
    "import pandas as pd\n",
    "import matplotlib.pyplot as plt\n",
    "%matplotlib inline"
   ]
  },
  {
   "cell_type": "markdown",
   "metadata": {},
   "source": [
    "## Initial Data"
   ]
  },
  {
   "cell_type": "code",
   "execution_count": 49,
   "metadata": {},
   "outputs": [],
   "source": [
    "d = 100 #number of columns\n",
    "n = 1000 #number of observations\n",
    "X = np.random.normal(0, 1, size=(n,d))\n",
    "beta_true = np.random.normal(0 ,1, size=(d,1))\n",
    "y = X.dot(beta_true) + np.random.normal(0, 0.5, size=(n,1))"
   ]
  },
  {
   "cell_type": "markdown",
   "metadata": {},
   "source": [
    "## 1. Closed Solution (CS)"
   ]
  },
  {
   "cell_type": "markdown",
   "metadata": {},
   "source": [
    "### 1.1 Solution equation"
   ]
  },
  {
   "cell_type": "markdown",
   "metadata": {},
   "source": [
    "$\n",
    "\\beta^{*} = (X^{T}X)^{-1} X^{T}Y\n",
    "$"
   ]
  },
  {
   "cell_type": "markdown",
   "metadata": {},
   "source": [
    "### 1.2 Function"
   ]
  },
  {
   "cell_type": "code",
   "execution_count": null,
   "metadata": {},
   "outputs": [],
   "source": [
    "def beta_cs(x_train, y_train):\n",
    "    beta_cs = np.matmul(np.matmul(np.linalg.inv(np.matmul(X.T, X)), X.T), y)\n",
    "    return(beta_cs)"
   ]
  },
  {
   "cell_type": "markdown",
   "metadata": {},
   "source": [
    "### 1.3 Results"
   ]
  },
  {
   "cell_type": "code",
   "execution_count": 51,
   "metadata": {},
   "outputs": [
    {
     "name": "stdout",
     "output_type": "stream",
     "text": [
      "The dimensions for beta in a closed solution are: (100, 1)\n"
     ]
    },
    {
     "data": {
      "text/plain": [
       "array([[-0.26161876],\n",
       "       [ 0.34046359],\n",
       "       [-0.55004721],\n",
       "       [-0.11299609],\n",
       "       [ 1.42985728],\n",
       "       [-1.49841716],\n",
       "       [ 0.07201729],\n",
       "       [-0.98340745],\n",
       "       [ 2.19643912],\n",
       "       [-1.1767276 ],\n",
       "       [ 0.32157083],\n",
       "       [-0.95631448],\n",
       "       [ 1.402602  ],\n",
       "       [ 0.52178895]])"
      ]
     },
     "execution_count": 51,
     "metadata": {},
     "output_type": "execute_result"
    }
   ],
   "source": [
    "beta_cs = beta_cs(X, y)\n",
    "\n",
    "print('The dimensions for beta in a closed solution are:', beta_cs.shape)\n",
    "beta_cs[1:15]"
   ]
  },
  {
   "cell_type": "code",
   "execution_count": 52,
   "metadata": {},
   "outputs": [
    {
     "name": "stdout",
     "output_type": "stream",
     "text": [
      "The error for the closed solution is: 236.82719336627673\n"
     ]
    }
   ],
   "source": [
    "error_cs = np.sum((np.matmul(X, beta_cs) - y)**2)\n",
    "print('The error for the closed solution is:', error_cs)"
   ]
  },
  {
   "cell_type": "markdown",
   "metadata": {},
   "source": [
    "## 2. Gradient Descent (Batch)"
   ]
  },
  {
   "cell_type": "markdown",
   "metadata": {},
   "source": [
    "### 2.1 Batch Gradient Descent Equation"
   ]
  },
  {
   "cell_type": "markdown",
   "metadata": {},
   "source": [
    "$\n",
    "\\beta_{k+1} = \\beta_{k} - \\alpha_{k} \\frac{1}{m} \\sum_{i=1}^{m} \\nabla f_{i}(\\beta_{k})\n",
    "$"
   ]
  },
  {
   "cell_type": "markdown",
   "metadata": {},
   "source": [
    "### 2.2 Function"
   ]
  },
  {
   "cell_type": "code",
   "execution_count": 305,
   "metadata": {},
   "outputs": [],
   "source": [
    "def batch_gd(iterations, lr, x_train, y_train, beta, tolerance, k):\n",
    "    \n",
    "    #Parameters and transformations\n",
    "    errors = []\n",
    "    beta = beta.reshape(beta.shape[0],)\n",
    "    y_train = y_train.reshape(y_train.shape[0],)\n",
    "    \n",
    "    #Start of iterations\n",
    "    for epoch in range(iterations):\n",
    "        gradient = 2*(np.matmul(x_train.T, np.matmul(x_train, beta) - y_train)) #x_train represents the whole batch\n",
    "        beta = beta - ((lr/x_train.shape[0]) * gradient)\n",
    "        \n",
    "        error = np.sum((np.matmul(x_train, beta) - y_train)**2)\n",
    "        \n",
    "        #Append the error to the list of errors\n",
    "        errors.append(error)\n",
    "        \n",
    "        #Display only iterations/k errors\n",
    "        if epoch%k==0:\n",
    "            print('Iteration', epoch+1, 'step size:', lr, 'error:', error)\n",
    "        \n",
    "        if error < tolerance:\n",
    "            break\n",
    "\n",
    "    print('Last iteration', epoch+1, 'step size:', lr, 'error:', errors[len(errors)-1])\n",
    "    return(beta, errors)"
   ]
  },
  {
   "cell_type": "markdown",
   "metadata": {},
   "source": [
    "### 2.3 Parameters of the model"
   ]
  },
  {
   "cell_type": "code",
   "execution_count": 409,
   "metadata": {},
   "outputs": [],
   "source": [
    "iterations_gd = 2000\n",
    "lr_gd = np.array([5e-5, 5e-4, 7e-4, 1e-1, 1e-2, 1e-3, 1e-4]) #with additional learning rates\n",
    "b_gd = np.zeros((d,1))\n",
    "tolerance_gd = error_cs #Using the error from the closed solution as tolerance\n",
    "k_gd = 2000"
   ]
  },
  {
   "cell_type": "markdown",
   "metadata": {},
   "source": [
    "### 2.4 Results"
   ]
  },
  {
   "cell_type": "code",
   "execution_count": 410,
   "metadata": {},
   "outputs": [
    {
     "name": "stdout",
     "output_type": "stream",
     "text": [
      "Iteration 1 step size: 5e-05 error: 91505.05144527902\n",
      "Last iteration 2000 step size: 5e-05 error: 58684.026721736416\n",
      "Iteration 1 step size: 0.0005 error: 91318.45851449942\n",
      "Last iteration 2000 step size: 0.0005 error: 2241.521919267094\n",
      "Iteration 1 step size: 0.0007 error: 91235.59479004676\n",
      "Last iteration 2000 step size: 0.0007 error: 812.1484399427504\n",
      "Iteration 1 step size: 0.1 error: 55145.4269232856\n",
      "Last iteration 172 step size: 0.1 error: 236.82719336627667\n",
      "Iteration 1 step size: 0.01 error: 87427.60360211458\n",
      "Last iteration 1825 step size: 0.01 error: 236.82719336627667\n",
      "Iteration 1 step size: 0.001 error: 91111.37589606576\n",
      "Last iteration 2000 step size: 0.001 error: 341.1809403882726\n",
      "Iteration 1 step size: 0.0001 error: 91484.30867172155\n",
      "Last iteration 2000 step size: 0.0001 error: 38293.369019197526\n"
     ]
    },
    {
     "data": {
      "image/png": "[encoded data removed]",
      "text/plain": [
       "<Figure size 432x288 with 1 Axes>"
      ]
     },
     "metadata": {
      "needs_background": "light"
     },
     "output_type": "display_data"
    }
   ],
   "source": [
    "for step in lr_gd:\n",
    "    beta_gd, errors_gd = batch_gd(\n",
    "        iterations = iterations_gd, \n",
    "        lr = step, \n",
    "        x_train = X, \n",
    "        y_train = y, \n",
    "        beta = b_gd, \n",
    "        tolerance = tolerance_gd,\n",
    "        k = k_gd\n",
    "    )\n",
    "    plt.plot(errors_gd, label = 'lr = ' + str(step))\n",
    "    plt.legend()\n",
    "    plt.ylabel('Error')"
   ]
  },
  {
   "cell_type": "markdown",
   "metadata": {},
   "source": [
    "We can see that the best tested learning rate or step size for the algorithm is **0.1**. This result converges in 172 iterations to almost the same error as the closed solution."
   ]
  },
  {
   "cell_type": "markdown",
   "metadata": {},
   "source": [
    "## 3. Stochastic Gradient Descent"
   ]
  },
  {
   "cell_type": "markdown",
   "metadata": {},
   "source": [
    "### 3.1 Stochastic Gradient Descent Equation"
   ]
  },
  {
   "cell_type": "markdown",
   "metadata": {},
   "source": [
    "$\n",
    "\\beta_{k+1} = \\beta_{k} - \\alpha_{k} \\nabla f_{i}(\\beta_{k})\n",
    "$"
   ]
  },
  {
   "cell_type": "markdown",
   "metadata": {},
   "source": [
    "### 2.2 Function"
   ]
  },
  {
   "cell_type": "code",
   "execution_count": 465,
   "metadata": {},
   "outputs": [],
   "source": [
    "def stochastic_gd(iterations, lr, x_train, y_train, beta, tolerance, k):\n",
    "    \n",
    "    #Parameters and transformations\n",
    "    errors = []\n",
    "    beta = beta.reshape(beta.shape[0],)\n",
    "    y_train = y_train.reshape(y_train.shape[0],)\n",
    "    \n",
    "    #Start of iterations\n",
    "    for epoch in range(iterations):\n",
    "        for r in range(x_train.shape[0]):\n",
    "            row = np.random.randint(0, x_train.shape[0])\n",
    "            x_row = x_train[row,:].reshape(1,x_train.shape[1])\n",
    "            y_row = y_train[row].reshape(1,1)\n",
    "\n",
    "            gradient = 2*(np.matmul(x_row.T, np.matmul(x_row, beta) - y_row)) #Only one observation\n",
    "            beta = beta - ((lr) * gradient.reshape(gradient.shape[0],))\n",
    "        \n",
    "        error = np.sum((np.matmul(x_train, beta) - y_train)**2)\n",
    "        \n",
    "        #Display only iterations/k errors\n",
    "        if epoch%k==0:\n",
    "            print('Iteration', epoch+1, 'step size:', lr, 'error:', error)\n",
    "        \n",
    "        if error < tolerance:\n",
    "            break\n",
    "        \n",
    "        #Append the error to the list of errors\n",
    "        errors.append(error)\n",
    "\n",
    "    print('Last iteration', epoch+1, 'step size:', lr, 'error:', errors[len(errors)-1])\n",
    "    return(beta, errors)"
   ]
  },
  {
   "cell_type": "markdown",
   "metadata": {},
   "source": [
    "### 2.3 Parameters of the model"
   ]
  },
  {
   "cell_type": "code",
   "execution_count": 483,
   "metadata": {},
   "outputs": [],
   "source": [
    "iterations_sgd = 1000\n",
    "lr_sgd = np.array([5e-4, 5e-3, 1e-3, 1e-4]) #with additional learning rates\n",
    "b_sgd = np.zeros((d,1))\n",
    "tolerance_sgd = error_cs #Using the error from the closed solution as tolerance\n",
    "k_sgd = 500"
   ]
  },
  {
   "cell_type": "markdown",
   "metadata": {},
   "source": [
    "### 2.4 Results"
   ]
  },
  {
   "cell_type": "code",
   "execution_count": 484,
   "metadata": {},
   "outputs": [
    {
     "name": "stdout",
     "output_type": "stream",
     "text": [
      "Iteration 1 step size: 0.0005 error: 14760.401655228728\n",
      "Iteration 501 step size: 0.0005 error: 249.11422721875084\n",
      "Last iteration 1000 step size: 0.0005 error: 247.71101792210015\n",
      "Iteration 1 step size: 0.005 error: 462.8430181172449\n",
      "Iteration 501 step size: 0.005 error: 505.57923688563517\n",
      "Last iteration 1000 step size: 0.005 error: 495.5595005396257\n",
      "Iteration 1 step size: 0.001 error: 3050.7087838608268\n",
      "Iteration 501 step size: 0.001 error: 261.2471083010655\n",
      "Last iteration 1000 step size: 0.001 error: 263.01843386010853\n",
      "Iteration 1 step size: 0.0001 error: 56815.462573833225\n",
      "Iteration 501 step size: 0.0001 error: 239.16185529305005\n",
      "Last iteration 1000 step size: 0.0001 error: 239.71255799514515\n"
     ]
    },
    {
     "data": {
      "image/png": "[encoded data removed]",
      "text/plain": [
       "<Figure size 432x288 with 1 Axes>"
      ]
     },
     "metadata": {
      "needs_background": "light"
     },
     "output_type": "display_data"
    }
   ],
   "source": [
    "for step in lr_sgd:\n",
    "    beta_sgd, errors_sgd = stochastic_gd(\n",
    "        iterations = iterations_sgd, \n",
    "        lr = step, \n",
    "        x_train = X, \n",
    "        y_train = y, \n",
    "        beta = b_sgd, \n",
    "        tolerance = tolerance_sgd,\n",
    "        k = k_sgd\n",
    "    )\n",
    "    plt.plot(errors_sgd, label = 'lr = ' + str(step))\n",
    "    plt.legend()\n",
    "    plt.ylabel('Error')"
   ]
  },
  {
   "cell_type": "markdown",
   "metadata": {},
   "source": [
    "We can see that the best tested learning rate or step size for the algorithm is **0.0001**. This result still didn't converge in 1,000 iterations but it achieves almost the same error as the closed solution."
   ]
  },
  {
   "cell_type": "code",
   "execution_count": null,
   "metadata": {},
   "outputs": [],
   "source": []
  }
 ],
 "metadata": {
  "kernelspec": {
   "display_name": "Python 3",
   "language": "python",
   "name": "python3"
  },
  "language_info": {
   "codemirror_mode": {
    "name": "ipython",
    "version": 3
   },
   "file_extension": ".py",
   "mimetype": "text/x-python",
   "name": "python",
   "nbconvert_exporter": "python",
   "pygments_lexer": "ipython3",
   "version": "3.7.3"
  }
 },
 "nbformat": 4,
 "nbformat_minor": 4
}
