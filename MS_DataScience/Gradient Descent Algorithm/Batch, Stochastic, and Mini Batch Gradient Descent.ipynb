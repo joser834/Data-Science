{
 "cells": [
  {
   "cell_type": "markdown",
   "metadata": {},
   "source": [
    "# Gradient Descent, Stochastic Gradient Descent and Mini Batch Gradient Descent"
   ]
  },
  {
   "cell_type": "markdown",
   "metadata": {},
   "source": [
    "This notebook explains the three different approaches for the Gradient Descent Algorithm. These different models are based on a step size (learning rate as called in Machine Learning) and the direction in which the step size is going to be directed. (such as Hyperparameters)"
   ]
  },
  {
   "cell_type": "markdown",
   "metadata": {},
   "source": [
    "## Loading Libraries"
   ]
  },
  {
   "cell_type": "code",
   "execution_count": 1,
   "metadata": {},
   "outputs": [],
   "source": [
    "import numpy as np\n",
    "import pandas as pd\n",
    "import matplotlib.pyplot as plt\n",
    "%matplotlib inline"
   ]
  },
  {
   "cell_type": "markdown",
   "metadata": {},
   "source": [
    "## Creating log"
   ]
  },
  {
   "cell_type": "code",
   "execution_count": 2,
   "metadata": {},
   "outputs": [],
   "source": [
    "log = pd.DataFrame(columns = ['Experiment', 'Method', 'Configuration', 'Error'])"
   ]
  },
  {
   "cell_type": "markdown",
   "metadata": {},
   "source": [
    "## Initial Data"
   ]
  },
  {
   "cell_type": "code",
   "execution_count": 3,
   "metadata": {},
   "outputs": [],
   "source": [
    "d = 100 #number of columns\n",
    "n = 1000 #number of observations\n",
    "X = np.random.normal(0, 1, size=(n,d))\n",
    "beta_true = np.random.normal(0 ,1, size=(d,1))\n",
    "y = X.dot(beta_true) + np.random.normal(0, 0.5, size=(n,1))"
   ]
  },
  {
   "cell_type": "markdown",
   "metadata": {},
   "source": [
    "## 1. Closed Solution (CS)"
   ]
  },
  {
   "cell_type": "markdown",
   "metadata": {},
   "source": [
    "### 1.1 Solution equation"
   ]
  },
  {
   "cell_type": "markdown",
   "metadata": {},
   "source": [
    "$\n",
    "\\beta^{*} = (X^{T}X)^{-1} X^{T}Y\n",
    "$"
   ]
  },
  {
   "cell_type": "markdown",
   "metadata": {},
   "source": [
    "### 1.2 Function"
   ]
  },
  {
   "cell_type": "code",
   "execution_count": 4,
   "metadata": {},
   "outputs": [],
   "source": [
    "def beta_cs(x_train, y_train, exp_name):\n",
    "    \n",
    "    global log\n",
    "    \n",
    "    if exp_name in log['Experiment'].unique():\n",
    "        print('The experiment name is already in use. Please change to a name that is not in the following list: '\n",
    "              + str(log['Experiment'].unique()))\n",
    "        return(0,0)\n",
    "\n",
    "    beta = np.matmul(np.matmul(np.linalg.inv(np.matmul(X.T, X)), X.T), y)\n",
    "    error = np.sum((np.matmul(x_train, beta) - y)**2)\n",
    "\n",
    "    log_info = {\n",
    "        'Experiment': exp_name, \n",
    "        'Method': 'Closed Solution', \n",
    "        'Configuration': '', \n",
    "        'Error': error\n",
    "    }\n",
    "    log = log.append(log_info, ignore_index=True)\n",
    "    \n",
    "    return(beta, error)"
   ]
  },
  {
   "cell_type": "markdown",
   "metadata": {},
   "source": [
    "### 1.3 Results"
   ]
  },
  {
   "cell_type": "code",
   "execution_count": 5,
   "metadata": {},
   "outputs": [
    {
     "name": "stdout",
     "output_type": "stream",
     "text": [
      "The dimensions for beta in a closed solution are: (100, 1)\n"
     ]
    },
    {
     "data": {
      "text/plain": [
       "array([[ 0.18899253],\n",
       "       [-2.03135775],\n",
       "       [-0.30098335],\n",
       "       [-0.20990629],\n",
       "       [ 0.1593164 ],\n",
       "       [ 0.33233148],\n",
       "       [-0.10334912],\n",
       "       [ 0.11993229],\n",
       "       [ 0.67504665],\n",
       "       [ 0.61724941],\n",
       "       [ 0.67546397],\n",
       "       [-1.77524599],\n",
       "       [-2.42484237],\n",
       "       [ 1.37683977]])"
      ]
     },
     "execution_count": 5,
     "metadata": {},
     "output_type": "execute_result"
    }
   ],
   "source": [
    "beta_cs, error_cs = beta_cs(\n",
    "    x_train = X, \n",
    "    y_train = y, \n",
    "    exp_name = 'exp_0'\n",
    ")\n",
    "\n",
    "print('The dimensions for beta in a closed solution are:', beta_cs.shape)\n",
    "beta_cs[1:15]"
   ]
  },
  {
   "cell_type": "code",
   "execution_count": 6,
   "metadata": {},
   "outputs": [
    {
     "name": "stdout",
     "output_type": "stream",
     "text": [
      "The error for the closed solution is: 224.31478997626766\n"
     ]
    }
   ],
   "source": [
    "print('The error for the closed solution is:', error_cs)"
   ]
  },
  {
   "cell_type": "code",
   "execution_count": 7,
   "metadata": {},
   "outputs": [
    {
     "data": {
      "text/html": [
       "<div>\n",
       "<style scoped>\n",
       "    .dataframe tbody tr th:only-of-type {\n",
       "        vertical-align: middle;\n",
       "    }\n",
       "\n",
       "    .dataframe tbody tr th {\n",
       "        vertical-align: top;\n",
       "    }\n",
       "\n",
       "    .dataframe thead th {\n",
       "        text-align: right;\n",
       "    }\n",
       "</style>\n",
       "<table border=\"1\" class=\"dataframe\">\n",
       "  <thead>\n",
       "    <tr style=\"text-align: right;\">\n",
       "      <th></th>\n",
       "      <th>Experiment</th>\n",
       "      <th>Method</th>\n",
       "      <th>Configuration</th>\n",
       "      <th>Error</th>\n",
       "    </tr>\n",
       "  </thead>\n",
       "  <tbody>\n",
       "    <tr>\n",
       "      <th>0</th>\n",
       "      <td>exp_0</td>\n",
       "      <td>Closed Solution</td>\n",
       "      <td></td>\n",
       "      <td>224.31479</td>\n",
       "    </tr>\n",
       "  </tbody>\n",
       "</table>\n",
       "</div>"
      ],
      "text/plain": [
       "  Experiment           Method Configuration      Error\n",
       "0      exp_0  Closed Solution                224.31479"
      ]
     },
     "execution_count": 7,
     "metadata": {},
     "output_type": "execute_result"
    }
   ],
   "source": [
    "log"
   ]
  },
  {
   "cell_type": "markdown",
   "metadata": {},
   "source": [
    "## 2. Gradient Descent (Batch)"
   ]
  },
  {
   "cell_type": "markdown",
   "metadata": {},
   "source": [
    "### 2.1 Batch Gradient Descent Equation"
   ]
  },
  {
   "cell_type": "markdown",
   "metadata": {},
   "source": [
    "$\n",
    "\\beta_{k+1} = \\beta_{k} - \\alpha_{k} \\frac{1}{m} \\sum_{i=1}^{m} \\nabla f_{i}(\\beta_{k})\n",
    "$"
   ]
  },
  {
   "cell_type": "markdown",
   "metadata": {},
   "source": [
    "### 2.2 Function"
   ]
  },
  {
   "cell_type": "code",
   "execution_count": 8,
   "metadata": {},
   "outputs": [],
   "source": [
    "def batch_gd(iterations, lr, x_train, y_train, beta, tolerance, k, exp_name):\n",
    "    \n",
    "    global log\n",
    "    \n",
    "    if exp_name in log['Experiment'].unique():\n",
    "        print('The experiment name is already in use. Please change to a name that is not in the following list: '\n",
    "              + str(log['Experiment'].unique()))\n",
    "        return(0,0)\n",
    "    \n",
    "    #Parameters and transformations\n",
    "    errors = []\n",
    "    beta = beta.reshape(beta.shape[0],)\n",
    "    y_train = y_train.reshape(y_train.shape[0],)\n",
    "    \n",
    "    #Start of iterations\n",
    "    for epoch in range(iterations):\n",
    "        gradient = 2*(np.matmul(x_train.T, np.matmul(x_train, beta) - y_train)) #x_train represents the whole batch\n",
    "        beta = beta - ((lr/x_train.shape[0]) * gradient)\n",
    "        \n",
    "        error = np.sum((np.matmul(x_train, beta) - y_train)**2)\n",
    "        \n",
    "        #Append the error to the list of errors\n",
    "        errors.append(error)\n",
    "        \n",
    "        #Display only iterations/k errors\n",
    "        if epoch%k==0:\n",
    "            print('Iteration', epoch+1, 'step size:', lr, 'error:', error)\n",
    "        \n",
    "        if error < tolerance:\n",
    "            break\n",
    "    \n",
    "    log_info = {\n",
    "        'Experiment': exp_name, \n",
    "        'Method': 'Batch Gradient Descent', \n",
    "        'Configuration': 'iterations = ' + str(epoch+1) + '; lr = ' + str(lr) + '; tolerance = ' + str(tolerance), \n",
    "        'Error': error\n",
    "    }\n",
    "    log = log.append(log_info, ignore_index=True)\n",
    "\n",
    "    print('Last iteration', epoch+1, 'step size:', lr, 'error:', errors[len(errors)-1])\n",
    "    return(beta, errors)"
   ]
  },
  {
   "cell_type": "markdown",
   "metadata": {},
   "source": [
    "### 2.3 Parameters of the model"
   ]
  },
  {
   "cell_type": "code",
   "execution_count": 9,
   "metadata": {},
   "outputs": [],
   "source": [
    "iterations_gd = 2000\n",
    "lr_gd = np.array([5e-5, 5e-4, 7e-4, 1e-1, 1e-2, 1e-3, 1e-4]) #with additional learning rates\n",
    "b_gd = np.zeros((d,1))\n",
    "tolerance_gd = error_cs #Using the error from the closed solution as tolerance\n",
    "k_gd = 2000"
   ]
  },
  {
   "cell_type": "markdown",
   "metadata": {},
   "source": [
    "### 2.4 Results"
   ]
  },
  {
   "cell_type": "code",
   "execution_count": 10,
   "metadata": {},
   "outputs": [
    {
     "name": "stdout",
     "output_type": "stream",
     "text": [
      "Iteration 1 step size: 5e-05 error: 116708.3585043457\n",
      "Last iteration 2000 step size: 5e-05 error: 74591.12153282153\n",
      "Iteration 1 step size: 0.0005 error: 116467.87615662413\n",
      "Last iteration 2000 step size: 0.0005 error: 3090.204400190277\n",
      "Iteration 1 step size: 0.0007 error: 116361.08247412063\n",
      "Last iteration 2000 step size: 0.0007 error: 1132.6988925227079\n",
      "Iteration 1 step size: 0.1 error: 69977.68486542552\n",
      "Last iteration 193 step size: 0.1 error: 224.31478997626763\n",
      "Iteration 1 step size: 0.01 error: 111454.54806860385\n",
      "Last iteration 1881 step size: 0.01 error: 224.31478997626763\n",
      "Iteration 1 step size: 0.001 error: 116200.99275143653\n",
      "Last iteration 2000 step size: 0.001 error: 414.1253739786639\n",
      "Iteration 1 step size: 0.0001 error: 116681.62480334492\n",
      "Last iteration 2000 step size: 0.0001 error: 48649.51078531609\n"
     ]
    },
    {
     "data": {
      "image/png": "[encoded data removed]",
      "text/plain": [
       "<Figure size 432x288 with 1 Axes>"
      ]
     },
     "metadata": {
      "needs_background": "light"
     },
     "output_type": "display_data"
    }
   ],
   "source": [
    "i = log.shape[0]\n",
    "for step in lr_gd:\n",
    "    beta_gd, errors_gd = batch_gd(\n",
    "        iterations = iterations_gd, \n",
    "        lr = step, \n",
    "        x_train = X, \n",
    "        y_train = y, \n",
    "        beta = b_gd, \n",
    "        tolerance = tolerance_gd,\n",
    "        k = k_gd,\n",
    "        exp_name = 'exp_'+str(i)\n",
    "    )\n",
    "    i+=1\n",
    "    plt.plot(errors_gd, label = 'lr = ' + str(step))\n",
    "    plt.legend()\n",
    "    plt.ylabel('Error')"
   ]
  },
  {
   "cell_type": "markdown",
   "metadata": {},
   "source": [
    "We can see that the best tested learning rate or step size for the algorithm is **0.1**, from experiment #4. This result converges in 193 iterations to almost the same error as the closed solution."
   ]
  },
  {
   "cell_type": "code",
   "execution_count": 11,
   "metadata": {},
   "outputs": [
    {
     "data": {
      "text/html": [
       "<div>\n",
       "<style scoped>\n",
       "    .dataframe tbody tr th:only-of-type {\n",
       "        vertical-align: middle;\n",
       "    }\n",
       "\n",
       "    .dataframe tbody tr th {\n",
       "        vertical-align: top;\n",
       "    }\n",
       "\n",
       "    .dataframe thead th {\n",
       "        text-align: right;\n",
       "    }\n",
       "</style>\n",
       "<table border=\"1\" class=\"dataframe\">\n",
       "  <thead>\n",
       "    <tr style=\"text-align: right;\">\n",
       "      <th></th>\n",
       "      <th>Experiment</th>\n",
       "      <th>Method</th>\n",
       "      <th>Configuration</th>\n",
       "      <th>Error</th>\n",
       "    </tr>\n",
       "  </thead>\n",
       "  <tbody>\n",
       "    <tr>\n",
       "      <th>0</th>\n",
       "      <td>exp_0</td>\n",
       "      <td>Closed Solution</td>\n",
       "      <td></td>\n",
       "      <td>224.314790</td>\n",
       "    </tr>\n",
       "    <tr>\n",
       "      <th>1</th>\n",
       "      <td>exp_1</td>\n",
       "      <td>Batch Gradient Descent</td>\n",
       "      <td>iterations = 2000; lr = 5e-05; tolerance = 224...</td>\n",
       "      <td>74591.121533</td>\n",
       "    </tr>\n",
       "    <tr>\n",
       "      <th>2</th>\n",
       "      <td>exp_2</td>\n",
       "      <td>Batch Gradient Descent</td>\n",
       "      <td>iterations = 2000; lr = 0.0005; tolerance = 22...</td>\n",
       "      <td>3090.204400</td>\n",
       "    </tr>\n",
       "    <tr>\n",
       "      <th>3</th>\n",
       "      <td>exp_3</td>\n",
       "      <td>Batch Gradient Descent</td>\n",
       "      <td>iterations = 2000; lr = 0.0007; tolerance = 22...</td>\n",
       "      <td>1132.698893</td>\n",
       "    </tr>\n",
       "    <tr>\n",
       "      <th>4</th>\n",
       "      <td>exp_4</td>\n",
       "      <td>Batch Gradient Descent</td>\n",
       "      <td>iterations = 193; lr = 0.1; tolerance = 224.31...</td>\n",
       "      <td>224.314790</td>\n",
       "    </tr>\n",
       "    <tr>\n",
       "      <th>5</th>\n",
       "      <td>exp_5</td>\n",
       "      <td>Batch Gradient Descent</td>\n",
       "      <td>iterations = 1881; lr = 0.01; tolerance = 224....</td>\n",
       "      <td>224.314790</td>\n",
       "    </tr>\n",
       "    <tr>\n",
       "      <th>6</th>\n",
       "      <td>exp_6</td>\n",
       "      <td>Batch Gradient Descent</td>\n",
       "      <td>iterations = 2000; lr = 0.001; tolerance = 224...</td>\n",
       "      <td>414.125374</td>\n",
       "    </tr>\n",
       "    <tr>\n",
       "      <th>7</th>\n",
       "      <td>exp_7</td>\n",
       "      <td>Batch Gradient Descent</td>\n",
       "      <td>iterations = 2000; lr = 0.0001; tolerance = 22...</td>\n",
       "      <td>48649.510785</td>\n",
       "    </tr>\n",
       "  </tbody>\n",
       "</table>\n",
       "</div>"
      ],
      "text/plain": [
       "  Experiment                  Method  \\\n",
       "0      exp_0         Closed Solution   \n",
       "1      exp_1  Batch Gradient Descent   \n",
       "2      exp_2  Batch Gradient Descent   \n",
       "3      exp_3  Batch Gradient Descent   \n",
       "4      exp_4  Batch Gradient Descent   \n",
       "5      exp_5  Batch Gradient Descent   \n",
       "6      exp_6  Batch Gradient Descent   \n",
       "7      exp_7  Batch Gradient Descent   \n",
       "\n",
       "                                       Configuration         Error  \n",
       "0                                                       224.314790  \n",
       "1  iterations = 2000; lr = 5e-05; tolerance = 224...  74591.121533  \n",
       "2  iterations = 2000; lr = 0.0005; tolerance = 22...   3090.204400  \n",
       "3  iterations = 2000; lr = 0.0007; tolerance = 22...   1132.698893  \n",
       "4  iterations = 193; lr = 0.1; tolerance = 224.31...    224.314790  \n",
       "5  iterations = 1881; lr = 0.01; tolerance = 224....    224.314790  \n",
       "6  iterations = 2000; lr = 0.001; tolerance = 224...    414.125374  \n",
       "7  iterations = 2000; lr = 0.0001; tolerance = 22...  48649.510785  "
      ]
     },
     "execution_count": 11,
     "metadata": {},
     "output_type": "execute_result"
    }
   ],
   "source": [
    "log"
   ]
  },
  {
   "cell_type": "markdown",
   "metadata": {},
   "source": [
    "## 3. Stochastic Gradient Descent"
   ]
  },
  {
   "cell_type": "markdown",
   "metadata": {},
   "source": [
    "### 3.1 Stochastic Gradient Descent Equation"
   ]
  },
  {
   "cell_type": "markdown",
   "metadata": {},
   "source": [
    "$\n",
    "\\beta_{k+1} = \\beta_{k} - \\alpha_{k} \\nabla f_{i}(\\beta_{k})\n",
    "$"
   ]
  },
  {
   "cell_type": "markdown",
   "metadata": {},
   "source": [
    "### 3.2 Function"
   ]
  },
  {
   "cell_type": "code",
   "execution_count": 12,
   "metadata": {},
   "outputs": [],
   "source": [
    "def stochastic_gd(iterations, lr, x_train, y_train, beta, tolerance, k, exp_name):\n",
    "    \n",
    "    global log\n",
    "    \n",
    "    if exp_name in log['Experiment'].unique():\n",
    "        print('The experiment name is already in use. Please change to a name that is not in the following list: '\n",
    "              + str(log['Experiment'].unique()))\n",
    "        return(0,0)\n",
    "    \n",
    "    #Parameters and transformations\n",
    "    errors = []\n",
    "    beta = beta.reshape(beta.shape[0],)\n",
    "    y_train = y_train.reshape(y_train.shape[0],)\n",
    "    \n",
    "    #Start of iterations\n",
    "    for epoch in range(iterations):\n",
    "        for r in range(x_train.shape[0]):\n",
    "            row = np.random.randint(0, x_train.shape[0])\n",
    "            x_row = x_train[row,:].reshape(1,x_train.shape[1])\n",
    "            y_row = y_train[row].reshape(1,1)\n",
    "\n",
    "            gradient = 2*(np.matmul(x_row.T, np.matmul(x_row, beta) - y_row)) #Only one observation\n",
    "            beta = beta - ((lr) * gradient.reshape(gradient.shape[0],))\n",
    "        \n",
    "        error = np.sum((np.matmul(x_train, beta) - y_train)**2)\n",
    "        \n",
    "        #Append the error to the list of errors\n",
    "        errors.append(error)\n",
    "        \n",
    "        #Display only iterations/k errors\n",
    "        if epoch%k==0:\n",
    "            print('Iteration', epoch+1, 'step size:', lr, 'error:', error)\n",
    "        \n",
    "        if error < tolerance:\n",
    "            break\n",
    "        \n",
    "    log_info = {\n",
    "        'Experiment': exp_name, \n",
    "        'Method': 'Stochastic Gradient Descent', \n",
    "        'Configuration': 'iterations = ' + str(epoch+1) + '; lr = ' + str(lr) + '; tolerance = ' + str(tolerance), \n",
    "        'Error': error\n",
    "    }\n",
    "    log = log.append(log_info, ignore_index=True)\n",
    "\n",
    "    print('Last iteration', epoch+1, 'step size:', lr, 'error:', errors[len(errors)-1])\n",
    "    return(beta, errors)"
   ]
  },
  {
   "cell_type": "markdown",
   "metadata": {},
   "source": [
    "### 3.3 Parameters of the model"
   ]
  },
  {
   "cell_type": "code",
   "execution_count": 13,
   "metadata": {},
   "outputs": [],
   "source": [
    "iterations_sgd = 1000\n",
    "lr_sgd = np.array([5e-4, 5e-3, 1e-3, 1e-4]) #with additional learning rates\n",
    "b_sgd = np.zeros((d,1))\n",
    "tolerance_sgd = error_cs #Using the error from the closed solution as tolerance\n",
    "k_sgd = 500"
   ]
  },
  {
   "cell_type": "markdown",
   "metadata": {},
   "source": [
    "### 3.4 Results"
   ]
  },
  {
   "cell_type": "code",
   "execution_count": 14,
   "metadata": {},
   "outputs": [
    {
     "name": "stdout",
     "output_type": "stream",
     "text": [
      "Iteration 1 step size: 0.0005 error: 16463.214398499495\n",
      "Iteration 501 step size: 0.0005 error: 236.68778971266968\n",
      "Last iteration 1000 step size: 0.0005 error: 234.98565152576833\n",
      "Iteration 1 step size: 0.005 error: 516.1917288685075\n",
      "Iteration 501 step size: 0.005 error: 398.2366002999312\n",
      "Last iteration 1000 step size: 0.005 error: 465.38851656049496\n",
      "Iteration 1 step size: 0.001 error: 4089.655778950304\n",
      "Iteration 501 step size: 0.001 error: 249.1378306759474\n",
      "Last iteration 1000 step size: 0.001 error: 248.92641770726595\n",
      "Iteration 1 step size: 0.0001 error: 77358.4819995097\n",
      "Iteration 501 step size: 0.0001 error: 226.72651521602597\n",
      "Last iteration 1000 step size: 0.0001 error: 226.6799877165953\n"
     ]
    },
    {
     "data": {
      "image/png": "[encoded data removed]",
      "text/plain": [
       "<Figure size 432x288 with 1 Axes>"
      ]
     },
     "metadata": {
      "needs_background": "light"
     },
     "output_type": "display_data"
    }
   ],
   "source": [
    "i = log.shape[0]\n",
    "for step in lr_sgd:\n",
    "    beta_sgd, errors_sgd = stochastic_gd(\n",
    "        iterations = iterations_sgd, \n",
    "        lr = step, \n",
    "        x_train = X, \n",
    "        y_train = y, \n",
    "        beta = b_sgd, \n",
    "        tolerance = tolerance_sgd,\n",
    "        k = k_sgd,\n",
    "        exp_name = 'exp_'+str(i)\n",
    "    )\n",
    "    i+=1\n",
    "    plt.plot(errors_sgd, label = 'lr = ' + str(step))\n",
    "    plt.legend()\n",
    "    plt.ylabel('Error')"
   ]
  },
  {
   "cell_type": "markdown",
   "metadata": {},
   "source": [
    "We can see that the best tested learning rate or step size for the algorithm is **0.0001**, from experiment #11. This result still didn't converge in 1,000 iterations but it achieves almost the same error as the closed solution."
   ]
  },
  {
   "cell_type": "code",
   "execution_count": 15,
   "metadata": {},
   "outputs": [
    {
     "data": {
      "text/html": [
       "<div>\n",
       "<style scoped>\n",
       "    .dataframe tbody tr th:only-of-type {\n",
       "        vertical-align: middle;\n",
       "    }\n",
       "\n",
       "    .dataframe tbody tr th {\n",
       "        vertical-align: top;\n",
       "    }\n",
       "\n",
       "    .dataframe thead th {\n",
       "        text-align: right;\n",
       "    }\n",
       "</style>\n",
       "<table border=\"1\" class=\"dataframe\">\n",
       "  <thead>\n",
       "    <tr style=\"text-align: right;\">\n",
       "      <th></th>\n",
       "      <th>Experiment</th>\n",
       "      <th>Method</th>\n",
       "      <th>Configuration</th>\n",
       "      <th>Error</th>\n",
       "    </tr>\n",
       "  </thead>\n",
       "  <tbody>\n",
       "    <tr>\n",
       "      <th>0</th>\n",
       "      <td>exp_0</td>\n",
       "      <td>Closed Solution</td>\n",
       "      <td></td>\n",
       "      <td>224.314790</td>\n",
       "    </tr>\n",
       "    <tr>\n",
       "      <th>1</th>\n",
       "      <td>exp_1</td>\n",
       "      <td>Batch Gradient Descent</td>\n",
       "      <td>iterations = 2000; lr = 5e-05; tolerance = 224...</td>\n",
       "      <td>74591.121533</td>\n",
       "    </tr>\n",
       "    <tr>\n",
       "      <th>2</th>\n",
       "      <td>exp_2</td>\n",
       "      <td>Batch Gradient Descent</td>\n",
       "      <td>iterations = 2000; lr = 0.0005; tolerance = 22...</td>\n",
       "      <td>3090.204400</td>\n",
       "    </tr>\n",
       "    <tr>\n",
       "      <th>3</th>\n",
       "      <td>exp_3</td>\n",
       "      <td>Batch Gradient Descent</td>\n",
       "      <td>iterations = 2000; lr = 0.0007; tolerance = 22...</td>\n",
       "      <td>1132.698893</td>\n",
       "    </tr>\n",
       "    <tr>\n",
       "      <th>4</th>\n",
       "      <td>exp_4</td>\n",
       "      <td>Batch Gradient Descent</td>\n",
       "      <td>iterations = 193; lr = 0.1; tolerance = 224.31...</td>\n",
       "      <td>224.314790</td>\n",
       "    </tr>\n",
       "    <tr>\n",
       "      <th>5</th>\n",
       "      <td>exp_5</td>\n",
       "      <td>Batch Gradient Descent</td>\n",
       "      <td>iterations = 1881; lr = 0.01; tolerance = 224....</td>\n",
       "      <td>224.314790</td>\n",
       "    </tr>\n",
       "    <tr>\n",
       "      <th>6</th>\n",
       "      <td>exp_6</td>\n",
       "      <td>Batch Gradient Descent</td>\n",
       "      <td>iterations = 2000; lr = 0.001; tolerance = 224...</td>\n",
       "      <td>414.125374</td>\n",
       "    </tr>\n",
       "    <tr>\n",
       "      <th>7</th>\n",
       "      <td>exp_7</td>\n",
       "      <td>Batch Gradient Descent</td>\n",
       "      <td>iterations = 2000; lr = 0.0001; tolerance = 22...</td>\n",
       "      <td>48649.510785</td>\n",
       "    </tr>\n",
       "    <tr>\n",
       "      <th>8</th>\n",
       "      <td>exp_8</td>\n",
       "      <td>Stochastic Gradient Descent</td>\n",
       "      <td>iterations = 1000; lr = 0.0005; tolerance = 22...</td>\n",
       "      <td>234.985652</td>\n",
       "    </tr>\n",
       "    <tr>\n",
       "      <th>9</th>\n",
       "      <td>exp_9</td>\n",
       "      <td>Stochastic Gradient Descent</td>\n",
       "      <td>iterations = 1000; lr = 0.005; tolerance = 224...</td>\n",
       "      <td>465.388517</td>\n",
       "    </tr>\n",
       "    <tr>\n",
       "      <th>10</th>\n",
       "      <td>exp_10</td>\n",
       "      <td>Stochastic Gradient Descent</td>\n",
       "      <td>iterations = 1000; lr = 0.001; tolerance = 224...</td>\n",
       "      <td>248.926418</td>\n",
       "    </tr>\n",
       "    <tr>\n",
       "      <th>11</th>\n",
       "      <td>exp_11</td>\n",
       "      <td>Stochastic Gradient Descent</td>\n",
       "      <td>iterations = 1000; lr = 0.0001; tolerance = 22...</td>\n",
       "      <td>226.679988</td>\n",
       "    </tr>\n",
       "  </tbody>\n",
       "</table>\n",
       "</div>"
      ],
      "text/plain": [
       "   Experiment                       Method  \\\n",
       "0       exp_0              Closed Solution   \n",
       "1       exp_1       Batch Gradient Descent   \n",
       "2       exp_2       Batch Gradient Descent   \n",
       "3       exp_3       Batch Gradient Descent   \n",
       "4       exp_4       Batch Gradient Descent   \n",
       "5       exp_5       Batch Gradient Descent   \n",
       "6       exp_6       Batch Gradient Descent   \n",
       "7       exp_7       Batch Gradient Descent   \n",
       "8       exp_8  Stochastic Gradient Descent   \n",
       "9       exp_9  Stochastic Gradient Descent   \n",
       "10     exp_10  Stochastic Gradient Descent   \n",
       "11     exp_11  Stochastic Gradient Descent   \n",
       "\n",
       "                                        Configuration         Error  \n",
       "0                                                        224.314790  \n",
       "1   iterations = 2000; lr = 5e-05; tolerance = 224...  74591.121533  \n",
       "2   iterations = 2000; lr = 0.0005; tolerance = 22...   3090.204400  \n",
       "3   iterations = 2000; lr = 0.0007; tolerance = 22...   1132.698893  \n",
       "4   iterations = 193; lr = 0.1; tolerance = 224.31...    224.314790  \n",
       "5   iterations = 1881; lr = 0.01; tolerance = 224....    224.314790  \n",
       "6   iterations = 2000; lr = 0.001; tolerance = 224...    414.125374  \n",
       "7   iterations = 2000; lr = 0.0001; tolerance = 22...  48649.510785  \n",
       "8   iterations = 1000; lr = 0.0005; tolerance = 22...    234.985652  \n",
       "9   iterations = 1000; lr = 0.005; tolerance = 224...    465.388517  \n",
       "10  iterations = 1000; lr = 0.001; tolerance = 224...    248.926418  \n",
       "11  iterations = 1000; lr = 0.0001; tolerance = 22...    226.679988  "
      ]
     },
     "execution_count": 15,
     "metadata": {},
     "output_type": "execute_result"
    }
   ],
   "source": [
    "log"
   ]
  },
  {
   "cell_type": "markdown",
   "metadata": {},
   "source": [
    "## 4. Mini Batch Gradient Descent"
   ]
  },
  {
   "cell_type": "markdown",
   "metadata": {},
   "source": [
    "### 4.1 Stochastic Gradient Descent Equation"
   ]
  },
  {
   "cell_type": "markdown",
   "metadata": {},
   "source": [
    "$\n",
    "\\beta_{k+1} = \\beta_{k} - \\alpha_{k} \\sum_{j=1}^{b} \\nabla f_{i+j}(\\beta_{k})\n",
    "$"
   ]
  },
  {
   "cell_type": "markdown",
   "metadata": {},
   "source": [
    "### 4.2 Function"
   ]
  },
  {
   "cell_type": "code",
   "execution_count": 16,
   "metadata": {},
   "outputs": [],
   "source": [
    "def minibatch_gd(iterations, lr, batch_size, x_train, y_train, beta, tolerance, k, exp_name):\n",
    "    \n",
    "    global log\n",
    "    \n",
    "    if exp_name in log['Experiment'].unique():\n",
    "        print('The experiment name is already in use. Please change to a name that is not in the following list: '\n",
    "              + str(log['Experiment'].unique()))\n",
    "        return(0,0)\n",
    "    \n",
    "    #Parameters and transformations\n",
    "    errors = []\n",
    "    beta = beta.reshape(beta.shape[0],)\n",
    "    y_train = y_train.reshape(y_train.shape[0],)\n",
    "    \n",
    "    #Start of iterations\n",
    "    for epoch in range(iterations):\n",
    "        \n",
    "        for mb in range(int(np.ceil(x_train.shape[0]/batch_size))):\n",
    "            \n",
    "            forBatch = (mb * batch_size)\n",
    "\n",
    "            if mb == int(x_train.shape[0]/batch_size):\n",
    "                x_mb = x_train[forBatch:x_train.shape[0],:]\n",
    "                y_mb = y_train[forBatch:x_train.shape[0]]\n",
    "\n",
    "            else:\n",
    "                x_mb = x_train[forBatch:(forBatch+batch_size),:]\n",
    "                y_mb = y_train[forBatch:(forBatch+batch_size)]\n",
    "            \n",
    "            \n",
    "            gradient = 2*(np.matmul(x_mb.T, np.matmul(x_mb, beta) - y_mb)) #x_mb represents the mini batch\n",
    "            beta = beta - (lr * gradient)\n",
    "            \n",
    "        \n",
    "        error = np.sum((np.matmul(x_train, beta) - y_train)**2)\n",
    "        \n",
    "        #Append the error to the list of errors\n",
    "        errors.append(error)\n",
    "        \n",
    "        #Display only iterations/k errors\n",
    "        if epoch%k==0:\n",
    "            print('Iteration', epoch+1, 'step size:', lr, 'error:', error)\n",
    "        \n",
    "        if error < tolerance:\n",
    "            break\n",
    "            \n",
    "    log_info = {\n",
    "        'Experiment': exp_name, \n",
    "        'Method': 'Mini Batch Gradient Descent', \n",
    "        'Configuration': 'iterations = '+str(epoch+1) + '; lr = '+str(lr) + '; batch size = '+str(batch_size) + '; tolerance = '+str(tolerance), \n",
    "        'Error': error\n",
    "    }\n",
    "    log = log.append(log_info, ignore_index=True)\n",
    "\n",
    "    print('Last iteration', epoch+1, 'step size:', lr, 'error:', errors[len(errors)-1])\n",
    "    return(beta, errors)"
   ]
  },
  {
   "cell_type": "markdown",
   "metadata": {},
   "source": [
    "### 4.3 Parameters of the model"
   ]
  },
  {
   "cell_type": "code",
   "execution_count": 17,
   "metadata": {},
   "outputs": [],
   "source": [
    "iterations_mbgd = 1000\n",
    "lr_mbgd = np.array([5e-4, 5e-3, 1e-3, 1e-2]) #with additional learning rates\n",
    "batch_size_mbgd = np.array([25, 50, 100])\n",
    "b_mbgd = np.zeros((d,1))\n",
    "tolerance_mbgd = error_cs #Using the error from the closed solution as tolerance\n",
    "k_mbgd = 500"
   ]
  },
  {
   "cell_type": "markdown",
   "metadata": {},
   "source": [
    "### 4.4 Results"
   ]
  },
  {
   "cell_type": "code",
   "execution_count": 18,
   "metadata": {},
   "outputs": [
    {
     "name": "stdout",
     "output_type": "stream",
     "text": [
      "Iteration 1 step size: 0.0005 error: 13575.897561934687\n",
      "Iteration 501 step size: 0.0005 error: 227.0818137648818\n",
      "Last iteration 1000 step size: 0.0005 error: 227.08181376488173\n",
      "Iteration 1 step size: 0.0005 error: 13266.610135117005\n",
      "Iteration 501 step size: 0.0005 error: 227.1863268060133\n",
      "Last iteration 1000 step size: 0.0005 error: 227.18632680601337\n",
      "Iteration 1 step size: 0.0005 error: 12556.268652169465\n",
      "Iteration 501 step size: 0.0005 error: 227.4576407568332\n",
      "Last iteration 1000 step size: 0.0005 error: 227.4576407568332\n",
      "Iteration 1 step size: 0.005 error: 540.4151696149833\n",
      "Iteration 501 step size: 0.005 error: 518.7370375317956\n",
      "Last iteration 1000 step size: 0.005 error: 518.7370375317961\n",
      "Iteration 1 step size: 0.005 error: 833.4836894235984\n",
      "Iteration 501 step size: 0.005 error: 849.1068592588576\n",
      "Last iteration 1000 step size: 0.005 error: 849.1068592588585\n",
      "Iteration 1 step size: 0.005 error: 142895.02137447032\n",
      "Iteration 501 step size: 0.005 error: 5185.877078665911\n",
      "Last iteration 1000 step size: 0.005 error: 5185.877078665893\n",
      "Iteration 1 step size: 0.001 error: 2412.3934378619288\n",
      "Iteration 501 step size: 0.001 error: 235.5681954755342\n",
      "Last iteration 1000 step size: 0.001 error: 235.56819547553425\n",
      "Iteration 1 step size: 0.001 error: 2328.771642958767\n",
      "Iteration 501 step size: 0.001 error: 236.23680221986615\n",
      "Last iteration 1000 step size: 0.001 error: 236.23680221986612\n",
      "Iteration 1 step size: 0.001 error: 2054.74244196249\n",
      "Iteration 501 step size: 0.001 error: 237.94900598381437\n",
      "Last iteration 1000 step size: 0.001 error: 237.94900598381437\n",
      "Iteration 1 step size: 0.01 error: 1012419387.1432301\n"
     ]
    },
    {
     "name": "stderr",
     "output_type": "stream",
     "text": [
      "/Users/jjosue/anaconda3/envs/galileo_python/lib/python3.7/site-packages/ipykernel_launcher.py:35: RuntimeWarning: overflow encountered in square\n",
      "/Users/jjosue/anaconda3/envs/galileo_python/lib/python3.7/site-packages/numpy/core/fromnumeric.py:86: RuntimeWarning: overflow encountered in reduce\n",
      "  return ufunc.reduce(obj, axis, dtype, out, **passkwargs)\n",
      "/Users/jjosue/anaconda3/envs/galileo_python/lib/python3.7/site-packages/ipykernel_launcher.py:31: RuntimeWarning: overflow encountered in multiply\n",
      "/Users/jjosue/anaconda3/envs/galileo_python/lib/python3.7/site-packages/ipykernel_launcher.py:31: RuntimeWarning: invalid value encountered in matmul\n"
     ]
    },
    {
     "name": "stdout",
     "output_type": "stream",
     "text": [
      "Iteration 501 step size: 0.01 error: nan\n",
      "Last iteration 1000 step size: 0.01 error: nan\n",
      "Iteration 1 step size: 0.01 error: 100652584254.48776\n",
      "Iteration 501 step size: 0.01 error: nan\n",
      "Last iteration 1000 step size: 0.01 error: nan\n",
      "Iteration 1 step size: 0.01 error: 580988357887.7399\n"
     ]
    },
    {
     "name": "stderr",
     "output_type": "stream",
     "text": [
      "/Users/jjosue/anaconda3/envs/galileo_python/lib/python3.7/site-packages/ipykernel_launcher.py:32: RuntimeWarning: invalid value encountered in subtract\n"
     ]
    },
    {
     "name": "stdout",
     "output_type": "stream",
     "text": [
      "Iteration 501 step size: 0.01 error: nan\n",
      "Last iteration 1000 step size: 0.01 error: nan\n"
     ]
    },
    {
     "data": {
      "image/png": "[encoded data removed]",
      "text/plain": [
       "<Figure size 432x288 with 1 Axes>"
      ]
     },
     "metadata": {
      "needs_background": "light"
     },
     "output_type": "display_data"
    }
   ],
   "source": [
    "i = log.shape[0]\n",
    "for step in lr_mbgd:\n",
    "    for batch in batch_size_mbgd:\n",
    "        beta_mb, error_mb = minibatch_gd(\n",
    "            iterations = iterations_mbgd, \n",
    "            lr = step,\n",
    "            batch_size = batch,\n",
    "            x_train = X, \n",
    "            y_train = y, \n",
    "            beta = b_mbgd, \n",
    "            tolerance = tolerance_mbgd,\n",
    "            k = k_mbgd,\n",
    "            exp_name = 'exp_'+str(i)\n",
    "        )\n",
    "        i+=1\n",
    "        plt.plot(errors_sgd, label = 'lr = ' + str(step) + ' batch = ' + str(batch))\n",
    "        plt.legend()\n",
    "        plt.ylabel('Error')"
   ]
  },
  {
   "cell_type": "code",
   "execution_count": 19,
   "metadata": {},
   "outputs": [
    {
     "data": {
      "text/html": [
       "<div>\n",
       "<style scoped>\n",
       "    .dataframe tbody tr th:only-of-type {\n",
       "        vertical-align: middle;\n",
       "    }\n",
       "\n",
       "    .dataframe tbody tr th {\n",
       "        vertical-align: top;\n",
       "    }\n",
       "\n",
       "    .dataframe thead th {\n",
       "        text-align: right;\n",
       "    }\n",
       "</style>\n",
       "<table border=\"1\" class=\"dataframe\">\n",
       "  <thead>\n",
       "    <tr style=\"text-align: right;\">\n",
       "      <th></th>\n",
       "      <th>Experiment</th>\n",
       "      <th>Method</th>\n",
       "      <th>Configuration</th>\n",
       "      <th>Error</th>\n",
       "    </tr>\n",
       "  </thead>\n",
       "  <tbody>\n",
       "    <tr>\n",
       "      <th>0</th>\n",
       "      <td>exp_0</td>\n",
       "      <td>Closed Solution</td>\n",
       "      <td></td>\n",
       "      <td>224.314790</td>\n",
       "    </tr>\n",
       "    <tr>\n",
       "      <th>1</th>\n",
       "      <td>exp_1</td>\n",
       "      <td>Batch Gradient Descent</td>\n",
       "      <td>iterations = 2000; lr = 5e-05; tolerance = 224...</td>\n",
       "      <td>74591.121533</td>\n",
       "    </tr>\n",
       "    <tr>\n",
       "      <th>2</th>\n",
       "      <td>exp_2</td>\n",
       "      <td>Batch Gradient Descent</td>\n",
       "      <td>iterations = 2000; lr = 0.0005; tolerance = 22...</td>\n",
       "      <td>3090.204400</td>\n",
       "    </tr>\n",
       "    <tr>\n",
       "      <th>3</th>\n",
       "      <td>exp_3</td>\n",
       "      <td>Batch Gradient Descent</td>\n",
       "      <td>iterations = 2000; lr = 0.0007; tolerance = 22...</td>\n",
       "      <td>1132.698893</td>\n",
       "    </tr>\n",
       "    <tr>\n",
       "      <th>4</th>\n",
       "      <td>exp_4</td>\n",
       "      <td>Batch Gradient Descent</td>\n",
       "      <td>iterations = 193; lr = 0.1; tolerance = 224.31...</td>\n",
       "      <td>224.314790</td>\n",
       "    </tr>\n",
       "    <tr>\n",
       "      <th>5</th>\n",
       "      <td>exp_5</td>\n",
       "      <td>Batch Gradient Descent</td>\n",
       "      <td>iterations = 1881; lr = 0.01; tolerance = 224....</td>\n",
       "      <td>224.314790</td>\n",
       "    </tr>\n",
       "    <tr>\n",
       "      <th>6</th>\n",
       "      <td>exp_6</td>\n",
       "      <td>Batch Gradient Descent</td>\n",
       "      <td>iterations = 2000; lr = 0.001; tolerance = 224...</td>\n",
       "      <td>414.125374</td>\n",
       "    </tr>\n",
       "    <tr>\n",
       "      <th>7</th>\n",
       "      <td>exp_7</td>\n",
       "      <td>Batch Gradient Descent</td>\n",
       "      <td>iterations = 2000; lr = 0.0001; tolerance = 22...</td>\n",
       "      <td>48649.510785</td>\n",
       "    </tr>\n",
       "    <tr>\n",
       "      <th>8</th>\n",
       "      <td>exp_8</td>\n",
       "      <td>Stochastic Gradient Descent</td>\n",
       "      <td>iterations = 1000; lr = 0.0005; tolerance = 22...</td>\n",
       "      <td>234.985652</td>\n",
       "    </tr>\n",
       "    <tr>\n",
       "      <th>9</th>\n",
       "      <td>exp_9</td>\n",
       "      <td>Stochastic Gradient Descent</td>\n",
       "      <td>iterations = 1000; lr = 0.005; tolerance = 224...</td>\n",
       "      <td>465.388517</td>\n",
       "    </tr>\n",
       "    <tr>\n",
       "      <th>10</th>\n",
       "      <td>exp_10</td>\n",
       "      <td>Stochastic Gradient Descent</td>\n",
       "      <td>iterations = 1000; lr = 0.001; tolerance = 224...</td>\n",
       "      <td>248.926418</td>\n",
       "    </tr>\n",
       "    <tr>\n",
       "      <th>11</th>\n",
       "      <td>exp_11</td>\n",
       "      <td>Stochastic Gradient Descent</td>\n",
       "      <td>iterations = 1000; lr = 0.0001; tolerance = 22...</td>\n",
       "      <td>226.679988</td>\n",
       "    </tr>\n",
       "    <tr>\n",
       "      <th>12</th>\n",
       "      <td>exp_12</td>\n",
       "      <td>Mini Batch Gradient Descent</td>\n",
       "      <td>iterations = 1000; lr = 0.0005; batch size = 2...</td>\n",
       "      <td>227.081814</td>\n",
       "    </tr>\n",
       "    <tr>\n",
       "      <th>13</th>\n",
       "      <td>exp_13</td>\n",
       "      <td>Mini Batch Gradient Descent</td>\n",
       "      <td>iterations = 1000; lr = 0.0005; batch size = 5...</td>\n",
       "      <td>227.186327</td>\n",
       "    </tr>\n",
       "    <tr>\n",
       "      <th>14</th>\n",
       "      <td>exp_14</td>\n",
       "      <td>Mini Batch Gradient Descent</td>\n",
       "      <td>iterations = 1000; lr = 0.0005; batch size = 1...</td>\n",
       "      <td>227.457641</td>\n",
       "    </tr>\n",
       "    <tr>\n",
       "      <th>15</th>\n",
       "      <td>exp_15</td>\n",
       "      <td>Mini Batch Gradient Descent</td>\n",
       "      <td>iterations = 1000; lr = 0.005; batch size = 25...</td>\n",
       "      <td>518.737038</td>\n",
       "    </tr>\n",
       "    <tr>\n",
       "      <th>16</th>\n",
       "      <td>exp_16</td>\n",
       "      <td>Mini Batch Gradient Descent</td>\n",
       "      <td>iterations = 1000; lr = 0.005; batch size = 50...</td>\n",
       "      <td>849.106859</td>\n",
       "    </tr>\n",
       "    <tr>\n",
       "      <th>17</th>\n",
       "      <td>exp_17</td>\n",
       "      <td>Mini Batch Gradient Descent</td>\n",
       "      <td>iterations = 1000; lr = 0.005; batch size = 10...</td>\n",
       "      <td>5185.877079</td>\n",
       "    </tr>\n",
       "    <tr>\n",
       "      <th>18</th>\n",
       "      <td>exp_18</td>\n",
       "      <td>Mini Batch Gradient Descent</td>\n",
       "      <td>iterations = 1000; lr = 0.001; batch size = 25...</td>\n",
       "      <td>235.568195</td>\n",
       "    </tr>\n",
       "    <tr>\n",
       "      <th>19</th>\n",
       "      <td>exp_19</td>\n",
       "      <td>Mini Batch Gradient Descent</td>\n",
       "      <td>iterations = 1000; lr = 0.001; batch size = 50...</td>\n",
       "      <td>236.236802</td>\n",
       "    </tr>\n",
       "    <tr>\n",
       "      <th>20</th>\n",
       "      <td>exp_20</td>\n",
       "      <td>Mini Batch Gradient Descent</td>\n",
       "      <td>iterations = 1000; lr = 0.001; batch size = 10...</td>\n",
       "      <td>237.949006</td>\n",
       "    </tr>\n",
       "    <tr>\n",
       "      <th>21</th>\n",
       "      <td>exp_21</td>\n",
       "      <td>Mini Batch Gradient Descent</td>\n",
       "      <td>iterations = 1000; lr = 0.01; batch size = 25;...</td>\n",
       "      <td>NaN</td>\n",
       "    </tr>\n",
       "    <tr>\n",
       "      <th>22</th>\n",
       "      <td>exp_22</td>\n",
       "      <td>Mini Batch Gradient Descent</td>\n",
       "      <td>iterations = 1000; lr = 0.01; batch size = 50;...</td>\n",
       "      <td>NaN</td>\n",
       "    </tr>\n",
       "    <tr>\n",
       "      <th>23</th>\n",
       "      <td>exp_23</td>\n",
       "      <td>Mini Batch Gradient Descent</td>\n",
       "      <td>iterations = 1000; lr = 0.01; batch size = 100...</td>\n",
       "      <td>NaN</td>\n",
       "    </tr>\n",
       "  </tbody>\n",
       "</table>\n",
       "</div>"
      ],
      "text/plain": [
       "   Experiment                       Method  \\\n",
       "0       exp_0              Closed Solution   \n",
       "1       exp_1       Batch Gradient Descent   \n",
       "2       exp_2       Batch Gradient Descent   \n",
       "3       exp_3       Batch Gradient Descent   \n",
       "4       exp_4       Batch Gradient Descent   \n",
       "5       exp_5       Batch Gradient Descent   \n",
       "6       exp_6       Batch Gradient Descent   \n",
       "7       exp_7       Batch Gradient Descent   \n",
       "8       exp_8  Stochastic Gradient Descent   \n",
       "9       exp_9  Stochastic Gradient Descent   \n",
       "10     exp_10  Stochastic Gradient Descent   \n",
       "11     exp_11  Stochastic Gradient Descent   \n",
       "12     exp_12  Mini Batch Gradient Descent   \n",
       "13     exp_13  Mini Batch Gradient Descent   \n",
       "14     exp_14  Mini Batch Gradient Descent   \n",
       "15     exp_15  Mini Batch Gradient Descent   \n",
       "16     exp_16  Mini Batch Gradient Descent   \n",
       "17     exp_17  Mini Batch Gradient Descent   \n",
       "18     exp_18  Mini Batch Gradient Descent   \n",
       "19     exp_19  Mini Batch Gradient Descent   \n",
       "20     exp_20  Mini Batch Gradient Descent   \n",
       "21     exp_21  Mini Batch Gradient Descent   \n",
       "22     exp_22  Mini Batch Gradient Descent   \n",
       "23     exp_23  Mini Batch Gradient Descent   \n",
       "\n",
       "                                        Configuration         Error  \n",
       "0                                                        224.314790  \n",
       "1   iterations = 2000; lr = 5e-05; tolerance = 224...  74591.121533  \n",
       "2   iterations = 2000; lr = 0.0005; tolerance = 22...   3090.204400  \n",
       "3   iterations = 2000; lr = 0.0007; tolerance = 22...   1132.698893  \n",
       "4   iterations = 193; lr = 0.1; tolerance = 224.31...    224.314790  \n",
       "5   iterations = 1881; lr = 0.01; tolerance = 224....    224.314790  \n",
       "6   iterations = 2000; lr = 0.001; tolerance = 224...    414.125374  \n",
       "7   iterations = 2000; lr = 0.0001; tolerance = 22...  48649.510785  \n",
       "8   iterations = 1000; lr = 0.0005; tolerance = 22...    234.985652  \n",
       "9   iterations = 1000; lr = 0.005; tolerance = 224...    465.388517  \n",
       "10  iterations = 1000; lr = 0.001; tolerance = 224...    248.926418  \n",
       "11  iterations = 1000; lr = 0.0001; tolerance = 22...    226.679988  \n",
       "12  iterations = 1000; lr = 0.0005; batch size = 2...    227.081814  \n",
       "13  iterations = 1000; lr = 0.0005; batch size = 5...    227.186327  \n",
       "14  iterations = 1000; lr = 0.0005; batch size = 1...    227.457641  \n",
       "15  iterations = 1000; lr = 0.005; batch size = 25...    518.737038  \n",
       "16  iterations = 1000; lr = 0.005; batch size = 50...    849.106859  \n",
       "17  iterations = 1000; lr = 0.005; batch size = 10...   5185.877079  \n",
       "18  iterations = 1000; lr = 0.001; batch size = 25...    235.568195  \n",
       "19  iterations = 1000; lr = 0.001; batch size = 50...    236.236802  \n",
       "20  iterations = 1000; lr = 0.001; batch size = 10...    237.949006  \n",
       "21  iterations = 1000; lr = 0.01; batch size = 25;...           NaN  \n",
       "22  iterations = 1000; lr = 0.01; batch size = 50;...           NaN  \n",
       "23  iterations = 1000; lr = 0.01; batch size = 100...           NaN  "
      ]
     },
     "execution_count": 19,
     "metadata": {},
     "output_type": "execute_result"
    }
   ],
   "source": [
    "log"
   ]
  },
  {
   "cell_type": "markdown",
   "metadata": {},
   "source": [
    "## 5. Comparison"
   ]
  },
  {
   "cell_type": "markdown",
   "metadata": {},
   "source": [
    "We can see that all of the 4 different approaches reaches to a very similar error of beta (parameter). The difference lays in the amount of time taken to reach that error and the different metrics used for each model. Here's a brief summary of the best model for each approach:"
   ]
  },
  {
   "cell_type": "code",
   "execution_count": 21,
   "metadata": {},
   "outputs": [
    {
     "data": {
      "text/html": [
       "<div>\n",
       "<style scoped>\n",
       "    .dataframe tbody tr th:only-of-type {\n",
       "        vertical-align: middle;\n",
       "    }\n",
       "\n",
       "    .dataframe tbody tr th {\n",
       "        vertical-align: top;\n",
       "    }\n",
       "\n",
       "    .dataframe thead th {\n",
       "        text-align: right;\n",
       "    }\n",
       "</style>\n",
       "<table border=\"1\" class=\"dataframe\">\n",
       "  <thead>\n",
       "    <tr style=\"text-align: right;\">\n",
       "      <th></th>\n",
       "      <th>Experiment</th>\n",
       "      <th>Method</th>\n",
       "      <th>Configuration</th>\n",
       "      <th>Error</th>\n",
       "    </tr>\n",
       "  </thead>\n",
       "  <tbody>\n",
       "    <tr>\n",
       "      <th>0</th>\n",
       "      <td>exp_0</td>\n",
       "      <td>Closed Solution</td>\n",
       "      <td></td>\n",
       "      <td>224.314790</td>\n",
       "    </tr>\n",
       "    <tr>\n",
       "      <th>4</th>\n",
       "      <td>exp_4</td>\n",
       "      <td>Batch Gradient Descent</td>\n",
       "      <td>iterations = 193; lr = 0.1; tolerance = 224.31...</td>\n",
       "      <td>224.314790</td>\n",
       "    </tr>\n",
       "    <tr>\n",
       "      <th>11</th>\n",
       "      <td>exp_11</td>\n",
       "      <td>Stochastic Gradient Descent</td>\n",
       "      <td>iterations = 1000; lr = 0.0001; tolerance = 22...</td>\n",
       "      <td>226.679988</td>\n",
       "    </tr>\n",
       "    <tr>\n",
       "      <th>12</th>\n",
       "      <td>exp_12</td>\n",
       "      <td>Mini Batch Gradient Descent</td>\n",
       "      <td>iterations = 1000; lr = 0.0005; batch size = 2...</td>\n",
       "      <td>227.081814</td>\n",
       "    </tr>\n",
       "  </tbody>\n",
       "</table>\n",
       "</div>"
      ],
      "text/plain": [
       "   Experiment                       Method  \\\n",
       "0       exp_0              Closed Solution   \n",
       "4       exp_4       Batch Gradient Descent   \n",
       "11     exp_11  Stochastic Gradient Descent   \n",
       "12     exp_12  Mini Batch Gradient Descent   \n",
       "\n",
       "                                        Configuration       Error  \n",
       "0                                                      224.314790  \n",
       "4   iterations = 193; lr = 0.1; tolerance = 224.31...  224.314790  \n",
       "11  iterations = 1000; lr = 0.0001; tolerance = 22...  226.679988  \n",
       "12  iterations = 1000; lr = 0.0005; batch size = 2...  227.081814  "
      ]
     },
     "execution_count": 21,
     "metadata": {},
     "output_type": "execute_result"
    }
   ],
   "source": [
    "log[(log['Experiment'] == 'exp_0') | (log['Experiment'] == 'exp_4') | (log['Experiment'] == 'exp_11') | (log['Experiment'] == 'exp_12')]"
   ]
  },
  {
   "cell_type": "markdown",
   "metadata": {},
   "source": [
    "The difference between these models is the iterations taken. As we can see, the best model is the closed solution but it's very expensive to compute when large datasets and it depends mainly on the input data. The other best experiment was #4 with the Batch Gradient Descent. This experiment took 184 iterations before converging to the same error as in the closed solution.\n",
    "\n",
    "Studies had shown that the Mini Batch Gradient Descent is the best approach for a machine learning algorithm and that's why we can see that many learning rates and batches used are converging to very small errors, very similar to the closed solution. Also the variance of the parameters is reduced and achieves a more stable convergence."
   ]
  },
  {
   "cell_type": "code",
   "execution_count": null,
   "metadata": {},
   "outputs": [],
   "source": []
  }
 ],
 "metadata": {
  "kernelspec": {
   "display_name": "Python 3",
   "language": "python",
   "name": "python3"
  },
  "language_info": {
   "codemirror_mode": {
    "name": "ipython",
    "version": 3
   },
   "file_extension": ".py",
   "mimetype": "text/x-python",
   "name": "python",
   "nbconvert_exporter": "python",
   "pygments_lexer": "ipython3",
   "version": "3.7.3"
  }
 },
 "nbformat": 4,
 "nbformat_minor": 4
}
