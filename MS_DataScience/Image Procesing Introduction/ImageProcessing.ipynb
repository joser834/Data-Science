{
 "cells": [
  {
   "cell_type": "markdown",
   "metadata": {},
   "source": [
    "# Image Processing"
   ]
  },
  {
   "cell_type": "markdown",
   "metadata": {},
   "source": [
    "This notebook intends to go through an image processing from gray scale to rgb colors in order to comprehend the image composition."
   ]
  },
  {
   "cell_type": "markdown",
   "metadata": {},
   "source": [
    "## Loading Libraries"
   ]
  },
  {
   "cell_type": "code",
   "execution_count": 2,
   "metadata": {},
   "outputs": [],
   "source": [
    "import cv2\n",
    "import numpy as np\n",
    "import matplotlib.pyplot as plt\n",
    "import sys\n",
    "%matplotlib inline"
   ]
  },
  {
   "cell_type": "markdown",
   "metadata": {},
   "source": [
    "## Part 1: Decompose an image in RGB"
   ]
  },
  {
   "cell_type": "markdown",
   "metadata": {},
   "source": [
    "This function will generate the red, green and blue versions of an image."
   ]
  },
  {
   "cell_type": "code",
   "execution_count": 111,
   "metadata": {},
   "outputs": [],
   "source": [
    "def img_procesing(img, color):\n",
    "    imgStr = img\n",
    "    img = cv2.imread(imgStr)\n",
    "\n",
    "    h = img.shape[0]\n",
    "    w = img.shape[1]\n",
    "    channels = img.shape[2]\n",
    "\n",
    "    print('Height: ' + str(h))\n",
    "    print('Weight: ' + str(w))\n",
    "    print('Channels: ' + str(channels))\n",
    "    \n",
    "    out = np.zeros((h, w, 3))\n",
    "    if color == 1:\n",
    "        for i in range(h):\n",
    "            for j in range(w):\n",
    "                pixel = img[i,j]\n",
    "                b = pixel[0]\n",
    "                out[i,j] = [b, 0, 0]\n",
    "        cv2.imwrite(\"blue_image.jpg\", out)\n",
    "        blue_image = cv2.imread(\"blue_image.jpg\")\n",
    "        cv2.imshow(\"Blue Image\", blue_image)\n",
    "    elif color == 2:\n",
    "        for i in range(h):\n",
    "            for j in range(w):\n",
    "                pixel = img[i,j]\n",
    "                g = pixel[1]\n",
    "                out[i,j] = [0, g, 0]\n",
    "        cv2.imwrite(\"green_image.jpg\", out)\n",
    "        green_image = cv2.imread(\"green_image.jpg\")\n",
    "        cv2.imshow(\"Green Image\", green_image)\n",
    "    elif color == 3:\n",
    "        for i in range(h):\n",
    "            for j in range(w):\n",
    "                pixel = img[i,j]\n",
    "                r = pixel[2]\n",
    "                out[i,j] = [0, 0, r]\n",
    "        cv2.imwrite(\"red_image.jpg\", out)\n",
    "        red_image = cv2.imread(\"red_image.jpg\")\n",
    "        cv2.imshow(\"Red Image\", red_image)\n",
    "    elif color == 10:\n",
    "        for i in range(h):\n",
    "            for j in range(w):\n",
    "                pixel = img[i,j]\n",
    "                g = pixel[1]\n",
    "                r = pixel[2]\n",
    "                out[i,j] = [0, g, r]\n",
    "        cv2.imwrite(\"green_red_image.jpg\", out)\n",
    "        green_red_image = cv2.imread(\"green_red_image.jpg\")\n",
    "        cv2.imshow(\"Green and Red Image\", green_red_image)\n",
    "    elif color == 20:\n",
    "        for i in range(h):\n",
    "            for j in range(w):\n",
    "                pixel = img[i,j]\n",
    "                b = pixel[0]\n",
    "                g = pixel[1]\n",
    "                out[i,j] = [b, g, 0]\n",
    "        cv2.imwrite(\"blue_green_image.jpg\", out)\n",
    "        blue_green_image = cv2.imread(\"blue_green_image.jpg\")\n",
    "        cv2.imshow(\"Green and Red Image\", blue_green_image)\n",
    "    elif color == 30:\n",
    "        for i in range(h):\n",
    "            for j in range(w):\n",
    "                pixel = img[i,j]\n",
    "                b = pixel[0]\n",
    "                r = pixel[2]\n",
    "                out[i,j] = [b, 0, r]\n",
    "        cv2.imwrite(\"blue_red_image.jpg\", out)\n",
    "        blue_red_image = cv2.imread(\"blue_red_image.jpg\")\n",
    "        cv2.imshow(\"Green and Red Image\", blue_red_image)\n",
    "    cv2.waitKey(8000)\n",
    "    cv2.destroyAllWindows()\n",
    "    cv2.waitKey(1)\n",
    "    sys.exit()"
   ]
  },
  {
   "cell_type": "markdown",
   "metadata": {},
   "source": [
    "### This is the original image"
   ]
  },
  {
   "cell_type": "markdown",
   "metadata": {},
   "source": [
    "<img src=\"nature.jpg\"/>"
   ]
  },
  {
   "cell_type": "markdown",
   "metadata": {},
   "source": [
    "### Example of Green Image"
   ]
  },
  {
   "cell_type": "code",
   "execution_count": 112,
   "metadata": {},
   "outputs": [
    {
     "name": "stdout",
     "output_type": "stream",
     "text": [
      "Height: 340\n",
      "Weight: 604\n",
      "Channels: 3\n"
     ]
    },
    {
     "ename": "SystemExit",
     "evalue": "",
     "output_type": "error",
     "traceback": [
      "An exception has occurred, use %tb to see the full traceback.\n",
      "\u001b[0;31mSystemExit\u001b[0m\n"
     ]
    }
   ],
   "source": [
    "img_procesing('nature.jpg', 2)"
   ]
  },
  {
   "cell_type": "markdown",
   "metadata": {},
   "source": [
    "<img src=\"green_image.jpg\"/>"
   ]
  },
  {
   "cell_type": "markdown",
   "metadata": {},
   "source": [
    "### Example of a Blue Red Image"
   ]
  },
  {
   "cell_type": "code",
   "execution_count": 113,
   "metadata": {},
   "outputs": [
    {
     "name": "stdout",
     "output_type": "stream",
     "text": [
      "Height: 340\n",
      "Weight: 604\n",
      "Channels: 3\n"
     ]
    },
    {
     "ename": "SystemExit",
     "evalue": "",
     "output_type": "error",
     "traceback": [
      "An exception has occurred, use %tb to see the full traceback.\n",
      "\u001b[0;31mSystemExit\u001b[0m\n"
     ]
    }
   ],
   "source": [
    "img_procesing('nature.jpg', 30)"
   ]
  },
  {
   "cell_type": "markdown",
   "metadata": {},
   "source": [
    "<img src=\"blue_red_image.jpg\"/>"
   ]
  },
  {
   "cell_type": "markdown",
   "metadata": {},
   "source": [
    "## Part 2: Building an RGB image from three different Gray Scale Images"
   ]
  },
  {
   "cell_type": "code",
   "execution_count": 108,
   "metadata": {},
   "outputs": [],
   "source": [
    "def build_image(red_img, green_img, blue_img, name):\n",
    "    red_img = cv2.imread(red_img)\n",
    "    green_img = cv2.imread(green_img)\n",
    "    blue_img = cv2.imread(blue_img)\n",
    "    \n",
    "    h = red_img.shape[0]\n",
    "    w = red_img.shape[1]\n",
    "    channels = red_img.shape[2]\n",
    "\n",
    "    print('Height: ' + str(h))\n",
    "    print('Weight: ' + str(w))\n",
    "    print('Channels: ' + str(channels))\n",
    "    \n",
    "    out = np.zeros((h, w, channels))\n",
    "    \n",
    "    out[:,:,2] = red_img[:,:,0]\n",
    "    out[:,:,1] = green_img[:,:,0]\n",
    "    out[:,:,0] = blue_img[:,:,0]\n",
    "    \n",
    "    cv2.imwrite('color_image'+name+'.jpg', out)\n",
    "    img = cv2.imread('color_image'+name+'.jpg')\n",
    "    cv2.imshow('Color Image', img)\n",
    "    \n",
    "    cv2.waitKey(8000)\n",
    "    cv2.destroyAllWindows()\n",
    "    cv2.waitKey(1)\n",
    "    sys.exit()"
   ]
  },
  {
   "cell_type": "code",
   "execution_count": 109,
   "metadata": {},
   "outputs": [
    {
     "name": "stdout",
     "output_type": "stream",
     "text": [
      "Height: 540\n",
      "Weight: 810\n",
      "Channels: 3\n"
     ]
    },
    {
     "ename": "SystemExit",
     "evalue": "",
     "output_type": "error",
     "traceback": [
      "An exception has occurred, use %tb to see the full traceback.\n",
      "\u001b[0;31mSystemExit\u001b[0m\n"
     ]
    }
   ],
   "source": [
    "one = 'imagen1/imagen1_salida_gray_rojo.jpg'\n",
    "two = 'imagen1/imagen1_salida_gray_verde.jpg'\n",
    "three = 'imagen1/imagen1_salida_gray_azul.jpg'\n",
    "build_image(one, two, three, 'Picture1')"
   ]
  },
  {
   "cell_type": "markdown",
   "metadata": {},
   "source": [
    "<img src=\"color_imagePicture1.jpg\"/>"
   ]
  },
  {
   "cell_type": "code",
   "execution_count": 110,
   "metadata": {},
   "outputs": [
    {
     "name": "stdout",
     "output_type": "stream",
     "text": [
      "Height: 795\n",
      "Weight: 530\n",
      "Channels: 3\n"
     ]
    },
    {
     "ename": "SystemExit",
     "evalue": "",
     "output_type": "error",
     "traceback": [
      "An exception has occurred, use %tb to see the full traceback.\n",
      "\u001b[0;31mSystemExit\u001b[0m\n"
     ]
    }
   ],
   "source": [
    "one = 'imagen2/imagen2_salida_gray_rojo.jpg'\n",
    "two = 'imagen2/imagen2_salida_gray_verde.jpg'\n",
    "three = 'imagen2/imagen2_salida_gray_azul.jpg'\n",
    "build_image(one, two, three, 'Picture2')"
   ]
  },
  {
   "cell_type": "markdown",
   "metadata": {},
   "source": [
    "<img src=\"color_imagePicture2.jpg\"/>"
   ]
  },
  {
   "cell_type": "markdown",
   "metadata": {},
   "source": [
    "## Part 3: Gray Scale Decomposition"
   ]
  },
  {
   "cell_type": "code",
   "execution_count": 104,
   "metadata": {},
   "outputs": [],
   "source": [
    "def gray_scale(img, color):\n",
    "    img = cv2.imread(img)\n",
    "    \n",
    "    h = img.shape[0]\n",
    "    w = img.shape[1]\n",
    "    channels = img.shape[2]\n",
    "\n",
    "    print('Height: ' + str(h))\n",
    "    print('Weight: ' + str(w))\n",
    "    print('Channels: ' + str(channels))\n",
    "    \n",
    "    #We need to create a different image for each color\n",
    "    red_image = np.zeros((h, w, channels))\n",
    "    green_image = np.zeros((h, w, channels))\n",
    "    blue_image = np.zeros((h, w, channels))\n",
    "    \n",
    "    #Now, we need to get each color from the image\n",
    "    red_image[:,:,0] = img[:,:,2]\n",
    "    red_image[:,:,1] = img[:,:,2]\n",
    "    red_image[:,:,2] = img[:,:,2]\n",
    "    \n",
    "    green_image[:,:,0] = img[:,:,1]\n",
    "    green_image[:,:,1] = img[:,:,1]\n",
    "    green_image[:,:,2] = img[:,:,1]\n",
    "    \n",
    "    blue_image[:,:,0] = img[:,:,0]\n",
    "    blue_image[:,:,1] = img[:,:,0]\n",
    "    blue_image[:,:,2] = img[:,:,0]\n",
    "    \n",
    "    if color == 'red':\n",
    "        cv2.imwrite('gray_scale_red.jpg', red_image)\n",
    "        gray_scale_red = cv2.imread('gray_scale_red.jpg')\n",
    "        cv2.imshow('Gray Scale Red', gray_scale_red)\n",
    "    elif color == 'green':\n",
    "        cv2.imwrite('gray_scale_green.jpg', green_image)\n",
    "        gray_scale_green = cv2.imread('gray_scale_green.jpg')\n",
    "        cv2.imshow('Gray Scale Green', gray_scale_green)\n",
    "    elif color == 'blue':\n",
    "        cv2.imwrite('gray_scale_blue.jpg', blue_image)\n",
    "        gray_scale_blue = cv2.imread('gray_scale_blue.jpg')\n",
    "        cv2.imshow('Gray Scale Blue', gray_scale_blue)\n",
    "    \n",
    "    cv2.waitKey(8000)\n",
    "    cv2.destroyAllWindows()\n",
    "    cv2.waitKey(1)\n",
    "    sys.exit()"
   ]
  },
  {
   "cell_type": "markdown",
   "metadata": {},
   "source": [
    "### This is the original image"
   ]
  },
  {
   "cell_type": "markdown",
   "metadata": {},
   "source": [
    "<img src='mord_fustang.jpg'/>"
   ]
  },
  {
   "cell_type": "markdown",
   "metadata": {},
   "source": [
    "### Gray Scale Red Image"
   ]
  },
  {
   "cell_type": "code",
   "execution_count": 105,
   "metadata": {},
   "outputs": [
    {
     "name": "stdout",
     "output_type": "stream",
     "text": [
      "Height: 272\n",
      "Weight: 480\n",
      "Channels: 3\n"
     ]
    },
    {
     "ename": "SystemExit",
     "evalue": "",
     "output_type": "error",
     "traceback": [
      "An exception has occurred, use %tb to see the full traceback.\n",
      "\u001b[0;31mSystemExit\u001b[0m\n"
     ]
    },
    {
     "name": "stderr",
     "output_type": "stream",
     "text": [
      "/Users/jjosue/anaconda3/envs/galileo_python/lib/python3.7/site-packages/IPython/core/interactiveshell.py:3333: UserWarning: To exit: use 'exit', 'quit', or Ctrl-D.\n",
      "  warn(\"To exit: use 'exit', 'quit', or Ctrl-D.\", stacklevel=1)\n"
     ]
    }
   ],
   "source": [
    "gray_scale('mord_fustang.jpg', 'red')"
   ]
  },
  {
   "cell_type": "markdown",
   "metadata": {},
   "source": [
    "<img src='gray_scale_red.jpg'/>"
   ]
  },
  {
   "cell_type": "markdown",
   "metadata": {},
   "source": [
    "### Gray Scale Gren Image"
   ]
  },
  {
   "cell_type": "code",
   "execution_count": 106,
   "metadata": {},
   "outputs": [
    {
     "name": "stdout",
     "output_type": "stream",
     "text": [
      "Height: 272\n",
      "Weight: 480\n",
      "Channels: 3\n"
     ]
    },
    {
     "ename": "SystemExit",
     "evalue": "",
     "output_type": "error",
     "traceback": [
      "An exception has occurred, use %tb to see the full traceback.\n",
      "\u001b[0;31mSystemExit\u001b[0m\n"
     ]
    }
   ],
   "source": [
    "gray_scale('mord_fustang.jpg', 'green')"
   ]
  },
  {
   "cell_type": "markdown",
   "metadata": {},
   "source": [
    "<img src='gray_scale_green.jpg'/>"
   ]
  },
  {
   "cell_type": "markdown",
   "metadata": {},
   "source": [
    "### Gray Scale Blue Image"
   ]
  },
  {
   "cell_type": "code",
   "execution_count": 107,
   "metadata": {},
   "outputs": [
    {
     "name": "stdout",
     "output_type": "stream",
     "text": [
      "Height: 272\n",
      "Weight: 480\n",
      "Channels: 3\n"
     ]
    },
    {
     "ename": "SystemExit",
     "evalue": "",
     "output_type": "error",
     "traceback": [
      "An exception has occurred, use %tb to see the full traceback.\n",
      "\u001b[0;31mSystemExit\u001b[0m\n"
     ]
    }
   ],
   "source": [
    "gray_scale('mord_fustang.jpg', 'blue')"
   ]
  },
  {
   "cell_type": "markdown",
   "metadata": {},
   "source": [
    "<img src='gray_scale_blue.jpg'/>"
   ]
  },
  {
   "cell_type": "markdown",
   "metadata": {},
   "source": [
    "## Part 4: Histograms"
   ]
  },
  {
   "cell_type": "code",
   "execution_count": 223,
   "metadata": {},
   "outputs": [],
   "source": [
    "def image_hist(img, color):\n",
    "    img = cv2.imread(img)\n",
    "    \n",
    "    h = img.shape[0]\n",
    "    w = img.shape[1]\n",
    "    channels = img.shape[2]\n",
    "\n",
    "    print('Height: ' + str(h))\n",
    "    print('Weight: ' + str(w))\n",
    "    print('Channels: ' + str(channels))\n",
    "    _, max_ = plt.ylim()\n",
    "    if color == 'red':\n",
    "        plt.hist(img[:,:,2].flatten(), bins = 256, color = 'red')\n",
    "        plt.axvline(img[:,:,2].mean(), color='k', linestyle='dashed', linewidth=2)\n",
    "        plt.text(img[:,:,2].mean() + img[:,:,2].mean()/10, \n",
    "                 max_ - max_/10, \n",
    "                 'Mean: {:.2f}'.format(img[:,:,2].mean()))\n",
    "    elif color == 'green':\n",
    "        plt.hist(img[:,:,1].flatten(), bins = 256, color = 'green')\n",
    "        plt.axvline(img[:,:,1].mean(), color='k', linestyle='dashed', linewidth=2)\n",
    "        plt.text(img[:,:,1].mean() + img[:,:,1].mean()/10, \n",
    "                 max_ - max_/10, \n",
    "                 'Mean: {:.2f}'.format(img[:,:,1].mean()))\n",
    "    elif color == 'blue':\n",
    "        plt.hist(img[:,:,0].flatten(), bins = 256, color = 'blue')\n",
    "        plt.axvline(img[:,:,0].mean(), color='k', linestyle='dashed', linewidth=2)\n",
    "        plt.text(img[:,:,0].mean() + img[:,:,0].mean()/10, \n",
    "                 max_ - max_/10, \n",
    "                 'Mean: {:.2f}'.format(img[:,:,0].mean()))\n",
    "    if color == 'gray':\n",
    "        plt.hist(((img[:,:,0]+img[:,:,1]+img[:,:,2])/3).flatten(), bins = 256, color = 'gray')\n",
    "        plt.axvline(((img[:,:,0]+img[:,:,1]+img[:,:,2])/3).mean(), color='k', linestyle='dashed', linewidth=2)\n",
    "        plt.text(((img[:,:,0]+img[:,:,1]+img[:,:,2])/3).mean() + ((img[:,:,0]+img[:,:,1]+img[:,:,2])/3).mean()/10, \n",
    "                 max_ - max_/10, \n",
    "                 'Mean: {:.2f}'.format(((img[:,:,0]+img[:,:,1]+img[:,:,2])/3).mean()))\n",
    "        "
   ]
  },
  {
   "cell_type": "code",
   "execution_count": 224,
   "metadata": {},
   "outputs": [
    {
     "name": "stdout",
     "output_type": "stream",
     "text": [
      "Height: 340\n",
      "Weight: 604\n",
      "Channels: 3\n"
     ]
    },
    {
     "data": {
      "image/png": "[encoded data removed]",
      "text/plain": [
       "<Figure size 432x288 with 1 Axes>"
      ]
     },
     "metadata": {
      "needs_background": "light"
     },
     "output_type": "display_data"
    }
   ],
   "source": [
    "image_hist('nature.jpg', 'red')"
   ]
  },
  {
   "cell_type": "code",
   "execution_count": 225,
   "metadata": {},
   "outputs": [
    {
     "name": "stdout",
     "output_type": "stream",
     "text": [
      "Height: 340\n",
      "Weight: 604\n",
      "Channels: 3\n"
     ]
    },
    {
     "data": {
      "image/png": "[encoded data removed]",
      "text/plain": [
       "<Figure size 432x288 with 1 Axes>"
      ]
     },
     "metadata": {
      "needs_background": "light"
     },
     "output_type": "display_data"
    }
   ],
   "source": [
    "image_hist('nature.jpg', 'green')"
   ]
  },
  {
   "cell_type": "code",
   "execution_count": 226,
   "metadata": {},
   "outputs": [
    {
     "name": "stdout",
     "output_type": "stream",
     "text": [
      "Height: 340\n",
      "Weight: 604\n",
      "Channels: 3\n"
     ]
    },
    {
     "data": {
      "image/png": "[encoded data removed]",
      "text/plain": [
       "<Figure size 432x288 with 1 Axes>"
      ]
     },
     "metadata": {
      "needs_background": "light"
     },
     "output_type": "display_data"
    }
   ],
   "source": [
    "image_hist('nature.jpg', 'blue')"
   ]
  },
  {
   "cell_type": "code",
   "execution_count": 227,
   "metadata": {},
   "outputs": [
    {
     "name": "stdout",
     "output_type": "stream",
     "text": [
      "Height: 340\n",
      "Weight: 604\n",
      "Channels: 3\n"
     ]
    },
    {
     "data": {
      "image/png": "[encoded data removed]",
      "text/plain": [
       "<Figure size 432x288 with 1 Axes>"
      ]
     },
     "metadata": {
      "needs_background": "light"
     },
     "output_type": "display_data"
    }
   ],
   "source": [
    "image_hist('nature.jpg', 'gray')"
   ]
  },
  {
   "cell_type": "markdown",
   "metadata": {},
   "source": [
    "## Part 5: Weighted Gray Scale"
   ]
  },
  {
   "cell_type": "markdown",
   "metadata": {},
   "source": [
    "The weighted gray scale assigns a specific weight to each RGB and multiplies it.\n",
    "For example, 0.5 R + 0.3 G + 0.2 B\n"
   ]
  },
  {
   "cell_type": "markdown",
   "metadata": {},
   "source": [
    "There are many ways to assign the weighted values. Some methods include to decrease red weight because of the intense color it generates. Other methods include using the same weight and so on.\n",
    "\n",
    "First of all, we need to define the function:"
   ]
  },
  {
   "cell_type": "code",
   "execution_count": 257,
   "metadata": {},
   "outputs": [],
   "source": [
    "def weighted_gray_scale(img, weights_rgb):\n",
    "    img = cv2.imread(img)\n",
    "    \n",
    "    h = img.shape[0]\n",
    "    w = img.shape[1]\n",
    "    channels = img.shape[2]\n",
    "\n",
    "    print('Height: ' + str(h))\n",
    "    print('Weight: ' + str(w))\n",
    "    print('Channels: ' + str(channels))\n",
    "    \n",
    "    out = img[:,:,2]*weights_rgb[0] + img[:,:,1]*weights_rgb[1] + img[:,:,0]*weights_rgb[2]\n",
    "    _, max_ = plt.ylim()\n",
    "    plt.hist(out.flatten(), bins = 256, color = 'gray')\n",
    "    plt.axvline(out.mean(), color='k', linestyle='dashed', linewidth=2)\n",
    "    plt.text(out.mean() + out.mean()/10, \n",
    "                 max_ - max_/10, \n",
    "                 'Mean: {:.2f}'.format(out.mean()))\n",
    "    \n",
    "    cv2.imwrite('weighted_gray_scale.jpg', out)\n",
    "    weighted_gray_scale = cv2.imread('weighted_gray_scale.jpg')\n",
    "    cv2.imshow('Weighted Gray Scale', weighted_gray_scale)\n",
    "    \n",
    "    cv2.waitKey(8000)\n",
    "    cv2.destroyAllWindows()\n",
    "    cv2.waitKey(1)\n",
    "    sys.exit()"
   ]
  },
  {
   "cell_type": "markdown",
   "metadata": {},
   "source": [
    "Some articles mention that the best way to weight the gray scale is the following: 0.21 R + 0.72 G + 0.07 B, as shown in the example below"
   ]
  },
  {
   "cell_type": "code",
   "execution_count": 258,
   "metadata": {},
   "outputs": [
    {
     "name": "stdout",
     "output_type": "stream",
     "text": [
      "Height: 340\n",
      "Weight: 604\n",
      "Channels: 3\n"
     ]
    },
    {
     "ename": "SystemExit",
     "evalue": "",
     "output_type": "error",
     "traceback": [
      "An exception has occurred, use %tb to see the full traceback.\n",
      "\u001b[0;31mSystemExit\u001b[0m\n"
     ]
    },
    {
     "data": {
      "image/png": "[encoded data removed]",
      "text/plain": [
       "<Figure size 432x288 with 1 Axes>"
      ]
     },
     "metadata": {
      "needs_background": "light"
     },
     "output_type": "display_data"
    }
   ],
   "source": [
    "weighted_gray_scale('nature.jpg', [0.21,0.72,0.07])"
   ]
  },
  {
   "cell_type": "markdown",
   "metadata": {},
   "source": [
    "<img src=\"weighted_gray_scale.jpg\"/>"
   ]
  },
  {
   "cell_type": "markdown",
   "metadata": {},
   "source": [
    "## Part 6: HSV Color Space"
   ]
  },
  {
   "cell_type": "markdown",
   "metadata": {},
   "source": [
    "<img src=\"hsvcone.gif\"/>"
   ]
  },
  {
   "cell_type": "markdown",
   "metadata": {},
   "source": [
    "As you can see in the picture above, HSV is a color space that consists on **hue, saturation and value** in the form of a cone. The HSV color model attempts to tune and modify a color based on the three elements mentioned before. If we use the HSV color model, we can see how any picture or object color can be identified and also to reduce any of the elements for that specific object."
   ]
  },
  {
   "cell_type": "markdown",
   "metadata": {},
   "source": [
    "The elements of this color space are:\n",
    "\n",
    "* **Hue:** Is what identifies a color as a color.\n",
    "* **Saturation:** It's the intensity of a color. It takes a value from 0% to 100% in which 100% means a luminose, deep, or bright color.\n",
    "* **Value:** It identifies how bright or dark a color is."
   ]
  },
  {
   "cell_type": "markdown",
   "metadata": {},
   "source": [
    "The HSV Color Model consists in a coordinate system in the form of a cone as you can see in the image above; where the elements vary as shown:\n",
    "* **H:** Angle. Goes from 0 to 360 degrees.\n",
    "* **S:** From 0 to 1.\n",
    "* **V:** From 0 to 1.\n",
    "\n",
    "And have the following colors:\n",
    "\n",
    "* Magenta\n",
    "* Green\n",
    "* Cyan\n",
    "* Blue\n",
    "* Yellow\n",
    "* Red\n",
    "\n",
    "To convert and get the properties of HSV Color Model we can use the following procedure as shown in the image below:"
   ]
  },
  {
   "cell_type": "markdown",
   "metadata": {},
   "source": [
    "<img src=\"rgb_hsv_conversion.png\"/>\n",
    "\n",
    "Picture gathered from: https://cs.stackexchange.com/questions/64549/convert-hsv-to-rgb-colors"
   ]
  },
  {
   "cell_type": "markdown",
   "metadata": {},
   "source": [
    "### References"
   ]
  },
  {
   "cell_type": "markdown",
   "metadata": {},
   "source": [
    "1. Moka, Jeefri A. - Image Classification With HSV Color Model Processing\n",
    "\n",
    "https://www.datasciencecentral.com/profiles/blogs/image-classification-with-hsv-color-model-processing\n",
    "\n",
    "2. Journal of Global Research in Computer Science - VARIOUS COLOUR SPACES AND COLOUR SPACE CONVERSION ALGORITHMS\n",
    "\n",
    "https://pdfs.semanticscholar.org/bfcb/102f146009b8de3d61aecf1bce27311278f5.pdf\n",
    "\n",
    "3. Jacobs University\n",
    "\n",
    "http://www.faculty.jacobs-university.de/llinsen/teaching/340131/Lecture14.pdf"
   ]
  },
  {
   "cell_type": "code",
   "execution_count": null,
   "metadata": {},
   "outputs": [],
   "source": []
  }
 ],
 "metadata": {
  "kernelspec": {
   "display_name": "Python 3",
   "language": "python",
   "name": "python3"
  },
  "language_info": {
   "codemirror_mode": {
    "name": "ipython",
    "version": 3
   },
   "file_extension": ".py",
   "mimetype": "text/x-python",
   "name": "python",
   "nbconvert_exporter": "python",
   "pygments_lexer": "ipython3",
   "version": "3.7.3"
  }
 },
 "nbformat": 4,
 "nbformat_minor": 2
}
