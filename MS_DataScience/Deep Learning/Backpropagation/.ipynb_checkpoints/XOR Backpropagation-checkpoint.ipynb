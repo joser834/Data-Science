{
 "cells": [
  {
   "cell_type": "code",
   "execution_count": 1,
   "metadata": {},
   "outputs": [],
   "source": [
    "import numpy as np\n",
    "import pandas as pd\n",
    "import matplotlib.pyplot as plt\n",
    "%matplotlib inline"
   ]
  },
  {
   "cell_type": "markdown",
   "metadata": {},
   "source": [
    "## Generating a XOR Neural Net"
   ]
  },
  {
   "cell_type": "markdown",
   "metadata": {},
   "source": [
    "### Basic Structure"
   ]
  },
  {
   "cell_type": "markdown",
   "metadata": {},
   "source": [
    "<img src='XORNeuralNetDiagram.png'/>"
   ]
  },
  {
   "cell_type": "markdown",
   "metadata": {},
   "source": [
    "### Data for XOR"
   ]
  },
  {
   "cell_type": "code",
   "execution_count": 2,
   "metadata": {},
   "outputs": [
    {
     "data": {
      "text/html": [
       "<div>\n",
       "<style scoped>\n",
       "    .dataframe tbody tr th:only-of-type {\n",
       "        vertical-align: middle;\n",
       "    }\n",
       "\n",
       "    .dataframe tbody tr th {\n",
       "        vertical-align: top;\n",
       "    }\n",
       "\n",
       "    .dataframe thead th {\n",
       "        text-align: right;\n",
       "    }\n",
       "</style>\n",
       "<table border=\"1\" class=\"dataframe\">\n",
       "  <thead>\n",
       "    <tr style=\"text-align: right;\">\n",
       "      <th></th>\n",
       "      <th>x1</th>\n",
       "      <th>x2</th>\n",
       "      <th>y</th>\n",
       "    </tr>\n",
       "  </thead>\n",
       "  <tbody>\n",
       "    <tr>\n",
       "      <th>0</th>\n",
       "      <td>0</td>\n",
       "      <td>0</td>\n",
       "      <td>0</td>\n",
       "    </tr>\n",
       "    <tr>\n",
       "      <th>1</th>\n",
       "      <td>0</td>\n",
       "      <td>1</td>\n",
       "      <td>1</td>\n",
       "    </tr>\n",
       "    <tr>\n",
       "      <th>2</th>\n",
       "      <td>1</td>\n",
       "      <td>0</td>\n",
       "      <td>1</td>\n",
       "    </tr>\n",
       "    <tr>\n",
       "      <th>3</th>\n",
       "      <td>1</td>\n",
       "      <td>1</td>\n",
       "      <td>0</td>\n",
       "    </tr>\n",
       "  </tbody>\n",
       "</table>\n",
       "</div>"
      ],
      "text/plain": [
       "   x1  x2  y\n",
       "0   0   0  0\n",
       "1   0   1  1\n",
       "2   1   0  1\n",
       "3   1   1  0"
      ]
     },
     "execution_count": 2,
     "metadata": {},
     "output_type": "execute_result"
    }
   ],
   "source": [
    "X_train = pd.DataFrame({\n",
    "    'x1': [0, 0, 1, 1],\n",
    "    'x2': [0, 1, 0, 1]\n",
    "})\n",
    "y_train = pd.DataFrame({\n",
    "    'y': [0, 1, 1, 0]\n",
    "})\n",
    "XoriginalCol = X_train.columns\n",
    "pd.concat([X_train, y_train], axis = 1)"
   ]
  },
  {
   "cell_type": "markdown",
   "metadata": {},
   "source": [
    "### Defining the activation function"
   ]
  },
  {
   "cell_type": "code",
   "execution_count": 3,
   "metadata": {},
   "outputs": [],
   "source": [
    "def ReLU(x):\n",
    "    return(np.maximum([np.zeros_like(x)],[x]))"
   ]
  },
  {
   "cell_type": "code",
   "execution_count": 4,
   "metadata": {},
   "outputs": [],
   "source": [
    "def ReLU_der(x):\n",
    "    x[x <= 0] = 0\n",
    "    x[x > 0] = 1\n",
    "    return x"
   ]
  },
  {
   "cell_type": "code",
   "execution_count": 5,
   "metadata": {},
   "outputs": [],
   "source": [
    "def Identity(x):\n",
    "    return([x])"
   ]
  },
  {
   "cell_type": "markdown",
   "metadata": {},
   "source": [
    "### Defining the Forward Propagation function"
   ]
  },
  {
   "cell_type": "code",
   "execution_count": 6,
   "metadata": {},
   "outputs": [],
   "source": [
    "def forwardPropagation(x, w, func):\n",
    "    toActivate = np.matmul(x, w)\n",
    "    activation = func(toActivate)\n",
    "    return(activation)"
   ]
  },
  {
   "cell_type": "markdown",
   "metadata": {},
   "source": [
    "### Neural Net Algorithm"
   ]
  },
  {
   "cell_type": "code",
   "execution_count": 135,
   "metadata": {},
   "outputs": [],
   "source": [
    "def neural_net(X_train_in, w, epochs, lr, k):\n",
    "    \n",
    "    act_func = [ReLU, ReLU, Identity]\n",
    "    epoch = 1\n",
    "    errors = []\n",
    "    while epoch <= epochs:        \n",
    "        #print('---------- Forward Propagation ----------')\n",
    "        activation = X_train_in\n",
    "        act_log = [activation]\n",
    "        l=3\n",
    "        for layer in range(l):\n",
    "            if layer >= l-1:\n",
    "                #print('Layer ', layer, '; Shape of inputs: ', activation.shape, sep = '')\n",
    "                #print('Layer ', layer, '; Shape of weight: ', w[layer].shape, sep = '')\n",
    "                #print('Activation function:', act_func[layer])\n",
    "                activation = pd.DataFrame(forwardPropagation(np.array(activation), w[layer], act_func[layer])[0])\n",
    "                activation_log = activation\n",
    "                act_log.append(activation_log)\n",
    "                #print('Layer ', layer, '; Shape of outputs: ', activation.shape, sep = '')\n",
    "            else:\n",
    "                #print('Layer ', layer, '; Shape of inputs: ', activation.shape, sep = '')\n",
    "                #print('Layer ', layer, '; Shape of weight: ', w[layer].shape, sep = '')\n",
    "                #print('Activation function:', act_func[layer])\n",
    "                activation = pd.DataFrame(forwardPropagation(np.array(activation), w[layer], act_func[layer])[0], columns = XoriginalCol)\n",
    "                #print('Layer ', layer, '; Shape of outputs: ', activation.shape, sep = '')\n",
    "                bias = pd.Series(np.ones_like(activation.iloc[:,0]), name = 'bias')\n",
    "                activation = pd.concat([activation, bias], axis = 1)\n",
    "                activation_log = activation\n",
    "                act_log.append(activation_log)\n",
    "                #print('Layer ', layer, '; Shape of outputs + bias: ', activation.shape, sep = '')\n",
    "                \n",
    "        error = pd.DataFrame((activation.iloc[:,0]-y_train.iloc[:,0]))\n",
    "        total_error = np.mean(error.iloc[:,0])\n",
    "        errors.append(total_error)\n",
    "        if epoch%k == 0:\n",
    "            print('Epoch', epoch, '- Total Error:', total_error)\n",
    "        \n",
    "        #print('---------- Backpropagation ----------')\n",
    "        layer = 3\n",
    "        delta = error\n",
    "        while layer >= 1:\n",
    "            prior_activation_w = act_log[layer-1].drop('bias', axis = 1)\n",
    "            prior_activation_b = act_log[layer-1]['bias']\n",
    "\n",
    "            if layer <= 2:\n",
    "                #print('Layer:', layer, ' - Delta Initial shape:', delta.shape)\n",
    "                #print('Layer:', layer, ' - Weights Initial shape:' , ((w[layer][0:len(w[layer])-1]).T).shape)\n",
    "                #print('Layer:', layer, ' - Bias Initial shape:', ((w[layer][len(w[layer])-1:len(w[layer])]).T).shape)\n",
    "                delta = np.matmul(np.array(delta),(w[layer][0:len(w[layer])-1]).T) * ReLU_der(prior_activation_w)\n",
    "            update_w = np.matmul(np.array(prior_activation_w).T, np.array(delta))\n",
    "            update_b = np.matmul(np.array(prior_activation_b).T, np.array(delta))\n",
    "            #print('Layer:', layer, ' - Delta Final shape:', delta.shape)\n",
    "\n",
    "            #Parameters Update\n",
    "            w[layer-1][0:len(w[layer-1])-1] = w[layer-1][0:len(w[layer-1])-1] - lr*(update_w)\n",
    "            w[layer-1][len(w[layer-1])-1:len(w[layer-1])] = w[layer-1][len(w[layer-1])-1:len(w[layer-1])] - lr*(update_b)\n",
    "\n",
    "            layer -= 1\n",
    "        epoch += 1\n",
    "    final_result = np.where(activation>=0.5, 1, 0)\n",
    "    return(act_log, errors, final_result)"
   ]
  },
  {
   "cell_type": "code",
   "execution_count": 139,
   "metadata": {},
   "outputs": [],
   "source": [
    "#Arquitecture\n",
    "j = [2,2,1]\n",
    "\n",
    "w=[]\n",
    "b=[]\n",
    "#Weights\n",
    "len_w = [X_train.shape[1]+1, X_train.shape[1]+1, X_train.shape[1]+1]\n",
    "for node in range(len(j)):\n",
    "    w.append(np.random.normal(0, 1, size=(len_w[node],j[node])))\n",
    "\n",
    "#adding bias\n",
    "bias = pd.Series(np.ones_like(X_train['x1']), name = 'bias')\n",
    "X_train_in = pd.concat([X_train, bias], axis = 1)"
   ]
  },
  {
   "cell_type": "code",
   "execution_count": 140,
   "metadata": {},
   "outputs": [
    {
     "data": {
      "text/plain": [
       "(   x1  x2  bias\n",
       " 0   0   0     1\n",
       " 1   0   1     1\n",
       " 2   1   0     1\n",
       " 3   1   1     1, [array([[ 2.29394625,  0.54694539],\n",
       "         [-0.40257455, -0.76242751],\n",
       "         [-0.96051754, -0.81947304]]), array([[ 0.64963423,  0.47766919],\n",
       "         [ 0.6172231 ,  0.91320493],\n",
       "         [ 1.93143512, -0.20844645]]), array([[ 1.17550381],\n",
       "         [-0.25276806],\n",
       "         [ 0.90065165]])])"
      ]
     },
     "execution_count": 140,
     "metadata": {},
     "output_type": "execute_result"
    }
   ],
   "source": [
    "X_train_in, w"
   ]
  },
  {
   "cell_type": "code",
   "execution_count": 141,
   "metadata": {},
   "outputs": [
    {
     "name": "stdout",
     "output_type": "stream",
     "text": [
      "Epoch 100 - Total Error: 0.013132455139208854\n",
      "Epoch 200 - Total Error: 0.011797623503866511\n",
      "Epoch 300 - Total Error: 0.010668818987520284\n",
      "Epoch 400 - Total Error: 0.009726036762820106\n",
      "Epoch 500 - Total Error: 0.008931017175890676\n",
      "Epoch 600 - Total Error: 0.008229014589330397\n",
      "Epoch 700 - Total Error: 0.007745695322840862\n",
      "Epoch 800 - Total Error: 0.007238927203297177\n",
      "Epoch 900 - Total Error: 0.006763865182636067\n",
      "Epoch 1000 - Total Error: 0.006228847161671047\n"
     ]
    }
   ],
   "source": [
    "act_log, errors, final_res = neural_net(\n",
    "    X_train_in,\n",
    "    w,\n",
    "    1000,\n",
    "    1e-2,\n",
    "    100\n",
    ")"
   ]
  },
  {
   "cell_type": "code",
   "execution_count": 143,
   "metadata": {},
   "outputs": [
    {
     "data": {
      "text/plain": [
       "[   x1  x2  bias\n",
       " 0   0   0     1\n",
       " 1   0   1     1\n",
       " 2   1   0     1\n",
       " 3   1   1     1,          x1   x2  bias\n",
       " 0  0.000000  0.0   1.0\n",
       " 1  0.000000  0.0   1.0\n",
       " 2  1.007290  0.0   1.0\n",
       " 3  0.205697  0.0   1.0,          x1        x2  bias\n",
       " 0  1.582251  0.000000   1.0\n",
       " 1  1.582251  0.000000   1.0\n",
       " 2  1.884892  0.272705   1.0\n",
       " 3  1.644053  0.000000   1.0,           0\n",
       " 0  0.434471\n",
       " 1  0.434471\n",
       " 2  0.705232\n",
       " 3  0.450741]"
      ]
     },
     "execution_count": 143,
     "metadata": {},
     "output_type": "execute_result"
    }
   ],
   "source": [
    "act_log"
   ]
  },
  {
   "cell_type": "code",
   "execution_count": 142,
   "metadata": {},
   "outputs": [
    {
     "data": {
      "text/plain": [
       "[<matplotlib.lines.Line2D at 0x12193d780>]"
      ]
     },
     "execution_count": 142,
     "metadata": {},
     "output_type": "execute_result"
    },
    {
     "data": {
      "image/png": "[encoded data removed]",
      "text/plain": [
       "<Figure size 432x288 with 1 Axes>"
      ]
     },
     "metadata": {
      "needs_background": "light"
     },
     "output_type": "display_data"
    }
   ],
   "source": [
    "plt.plot(errors)"
   ]
  },
  {
   "cell_type": "code",
   "execution_count": 144,
   "metadata": {},
   "outputs": [
    {
     "data": {
      "text/plain": [
       "array([[0],\n",
       "       [0],\n",
       "       [1],\n",
       "       [0]])"
      ]
     },
     "execution_count": 144,
     "metadata": {},
     "output_type": "execute_result"
    }
   ],
   "source": [
    "final_res"
   ]
  },
  {
   "cell_type": "code",
   "execution_count": null,
   "metadata": {},
   "outputs": [],
   "source": []
  }
 ],
 "metadata": {
  "kernelspec": {
   "display_name": "Python 3",
   "language": "python",
   "name": "python3"
  },
  "language_info": {
   "codemirror_mode": {
    "name": "ipython",
    "version": 3
   },
   "file_extension": ".py",
   "mimetype": "text/x-python",
   "name": "python",
   "nbconvert_exporter": "python",
   "pygments_lexer": "ipython3",
   "version": "3.7.3"
  }
 },
 "nbformat": 4,
 "nbformat_minor": 4
}
