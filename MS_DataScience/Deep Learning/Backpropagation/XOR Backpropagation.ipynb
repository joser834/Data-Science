{
 "cells": [
  {
   "cell_type": "code",
   "execution_count": 1,
   "metadata": {},
   "outputs": [],
   "source": [
    "import numpy as np\n",
    "import pandas as pd\n",
    "import matplotlib.pyplot as plt\n",
    "%matplotlib inline"
   ]
  },
  {
   "cell_type": "markdown",
   "metadata": {},
   "source": [
    "## Generating a XOR Neural Net"
   ]
  },
  {
   "cell_type": "markdown",
   "metadata": {},
   "source": [
    "### Basic Structure"
   ]
  },
  {
   "cell_type": "markdown",
   "metadata": {},
   "source": [
    "<img src='XORNeuralNetDiagram.png'/>"
   ]
  },
  {
   "cell_type": "markdown",
   "metadata": {},
   "source": [
    "### Data for XOR"
   ]
  },
  {
   "cell_type": "code",
   "execution_count": 86,
   "metadata": {},
   "outputs": [
    {
     "data": {
      "text/html": [
       "<div>\n",
       "<style scoped>\n",
       "    .dataframe tbody tr th:only-of-type {\n",
       "        vertical-align: middle;\n",
       "    }\n",
       "\n",
       "    .dataframe tbody tr th {\n",
       "        vertical-align: top;\n",
       "    }\n",
       "\n",
       "    .dataframe thead th {\n",
       "        text-align: right;\n",
       "    }\n",
       "</style>\n",
       "<table border=\"1\" class=\"dataframe\">\n",
       "  <thead>\n",
       "    <tr style=\"text-align: right;\">\n",
       "      <th></th>\n",
       "      <th>x1</th>\n",
       "      <th>x2</th>\n",
       "      <th>y</th>\n",
       "    </tr>\n",
       "  </thead>\n",
       "  <tbody>\n",
       "    <tr>\n",
       "      <th>0</th>\n",
       "      <td>0</td>\n",
       "      <td>0</td>\n",
       "      <td>0</td>\n",
       "    </tr>\n",
       "    <tr>\n",
       "      <th>1</th>\n",
       "      <td>0</td>\n",
       "      <td>1</td>\n",
       "      <td>1</td>\n",
       "    </tr>\n",
       "    <tr>\n",
       "      <th>2</th>\n",
       "      <td>1</td>\n",
       "      <td>0</td>\n",
       "      <td>1</td>\n",
       "    </tr>\n",
       "    <tr>\n",
       "      <th>3</th>\n",
       "      <td>1</td>\n",
       "      <td>1</td>\n",
       "      <td>0</td>\n",
       "    </tr>\n",
       "  </tbody>\n",
       "</table>\n",
       "</div>"
      ],
      "text/plain": [
       "   x1  x2  y\n",
       "0   0   0  0\n",
       "1   0   1  1\n",
       "2   1   0  1\n",
       "3   1   1  0"
      ]
     },
     "execution_count": 86,
     "metadata": {},
     "output_type": "execute_result"
    }
   ],
   "source": [
    "X_train = pd.DataFrame({\n",
    "    'x1': [0, 0, 1, 1],\n",
    "    'x2': [0, 1, 0, 1]\n",
    "})\n",
    "y_train = pd.DataFrame({\n",
    "    'y': [0, 1, 1, 0]\n",
    "})\n",
    "XoriginalCol = X_train.columns\n",
    "pd.concat([X_train, y_train], axis = 1)"
   ]
  },
  {
   "cell_type": "markdown",
   "metadata": {},
   "source": [
    "### Defining the activation function"
   ]
  },
  {
   "cell_type": "code",
   "execution_count": 87,
   "metadata": {},
   "outputs": [],
   "source": [
    "def ReLU(x):\n",
    "    return(np.maximum([np.zeros_like(x)],[x]))"
   ]
  },
  {
   "cell_type": "code",
   "execution_count": 88,
   "metadata": {},
   "outputs": [],
   "source": [
    "def ReLU_der(x):\n",
    "    x[x <= 0] = 0\n",
    "    x[x > 0] = 1\n",
    "    return x"
   ]
  },
  {
   "cell_type": "code",
   "execution_count": 89,
   "metadata": {},
   "outputs": [],
   "source": [
    "def Identity(x):\n",
    "    return([x])"
   ]
  },
  {
   "cell_type": "markdown",
   "metadata": {},
   "source": [
    "### Defining the Forward Propagation function"
   ]
  },
  {
   "cell_type": "code",
   "execution_count": 90,
   "metadata": {},
   "outputs": [],
   "source": [
    "def forwardPropagation(x, w, func):\n",
    "    toActivate = np.matmul(x, w)\n",
    "    activation = func(toActivate)\n",
    "    return(activation)"
   ]
  },
  {
   "cell_type": "code",
   "execution_count": 91,
   "metadata": {},
   "outputs": [],
   "source": [
    "#Arquitecture\n",
    "j = [2,2,1]\n",
    "\n",
    "w=[]\n",
    "#Weights\n",
    "len_w = [X_train.shape[1]+1, X_train.shape[1]+1, X_train.shape[1]+1]\n",
    "for node in range(len(j)):\n",
    "    w.append(np.random.normal(0, 1, size=(len_w[node],j[node])))\n",
    "\n",
    "#adding bias\n",
    "bias = pd.Series(np.ones_like(X_train['x1']), name = 'bias')\n",
    "X_train_in = pd.concat([X_train, bias], axis = 1)"
   ]
  },
  {
   "cell_type": "code",
   "execution_count": 92,
   "metadata": {},
   "outputs": [
    {
     "data": {
      "text/html": [
       "<div>\n",
       "<style scoped>\n",
       "    .dataframe tbody tr th:only-of-type {\n",
       "        vertical-align: middle;\n",
       "    }\n",
       "\n",
       "    .dataframe tbody tr th {\n",
       "        vertical-align: top;\n",
       "    }\n",
       "\n",
       "    .dataframe thead th {\n",
       "        text-align: right;\n",
       "    }\n",
       "</style>\n",
       "<table border=\"1\" class=\"dataframe\">\n",
       "  <thead>\n",
       "    <tr style=\"text-align: right;\">\n",
       "      <th></th>\n",
       "      <th>x1</th>\n",
       "      <th>x2</th>\n",
       "      <th>bias</th>\n",
       "    </tr>\n",
       "  </thead>\n",
       "  <tbody>\n",
       "    <tr>\n",
       "      <th>0</th>\n",
       "      <td>0</td>\n",
       "      <td>0</td>\n",
       "      <td>1</td>\n",
       "    </tr>\n",
       "    <tr>\n",
       "      <th>1</th>\n",
       "      <td>0</td>\n",
       "      <td>1</td>\n",
       "      <td>1</td>\n",
       "    </tr>\n",
       "    <tr>\n",
       "      <th>2</th>\n",
       "      <td>1</td>\n",
       "      <td>0</td>\n",
       "      <td>1</td>\n",
       "    </tr>\n",
       "    <tr>\n",
       "      <th>3</th>\n",
       "      <td>1</td>\n",
       "      <td>1</td>\n",
       "      <td>1</td>\n",
       "    </tr>\n",
       "  </tbody>\n",
       "</table>\n",
       "</div>"
      ],
      "text/plain": [
       "   x1  x2  bias\n",
       "0   0   0     1\n",
       "1   0   1     1\n",
       "2   1   0     1\n",
       "3   1   1     1"
      ]
     },
     "execution_count": 92,
     "metadata": {},
     "output_type": "execute_result"
    }
   ],
   "source": [
    "X_train_in"
   ]
  },
  {
   "cell_type": "code",
   "execution_count": 93,
   "metadata": {},
   "outputs": [
    {
     "data": {
      "text/plain": [
       "[array([[-0.3735404 , -0.44550593],\n",
       "        [ 1.67399066,  1.69992907],\n",
       "        [-0.35282506,  0.89975651]]), array([[-0.21110192, -0.41457579],\n",
       "        [-0.54617198,  0.04404761],\n",
       "        [ 1.11159994,  1.58866562]]), array([[1.51219425],\n",
       "        [1.01351012],\n",
       "        [0.50142959]])]"
      ]
     },
     "execution_count": 93,
     "metadata": {},
     "output_type": "execute_result"
    }
   ],
   "source": [
    "w"
   ]
  },
  {
   "cell_type": "markdown",
   "metadata": {},
   "source": [
    "### Forward Propagation Algorithm"
   ]
  },
  {
   "cell_type": "code",
   "execution_count": 101,
   "metadata": {},
   "outputs": [
    {
     "name": "stdout",
     "output_type": "stream",
     "text": [
      "Layer 0; Shape of inputs: (4, 3)\n",
      "Layer 0; Shape of weight: (3, 2)\n",
      "Activation function: <function ReLU at 0x11f7e2510>\n",
      "Layer 0; Shape of outputs: (4, 2)\n",
      "Layer 0; Shape of outputs + bias: (4, 3)\n",
      "Layer 1; Shape of inputs: (4, 3)\n",
      "Layer 1; Shape of weight: (3, 2)\n",
      "Activation function: <function ReLU at 0x11f7e2510>\n",
      "Layer 1; Shape of outputs: (4, 2)\n",
      "Layer 1; Shape of outputs + bias: (4, 3)\n",
      "Layer 2; Shape of inputs: (4, 3)\n",
      "Layer 2; Shape of weight: (3, 1)\n",
      "Activation function: <function Identity at 0x11f7e2a60>\n",
      "Layer 2; Shape of outputs: (4, 1)\n"
     ]
    }
   ],
   "source": [
    "activation = X_train_in\n",
    "act_func = [ReLU, ReLU, Identity]\n",
    "act_log = [activation]\n",
    "l=3\n",
    "for layer in range(l):\n",
    "    if layer >= l-1:\n",
    "        print('Layer ', layer, '; Shape of inputs: ', activation.shape, sep = '')\n",
    "        print('Layer ', layer, '; Shape of weight: ', w[layer].shape, sep = '')\n",
    "        print('Activation function:', act_func[layer])\n",
    "        activation = pd.DataFrame(forwardPropagation(np.array(activation), w[layer], act_func[layer])[0])\n",
    "        activation_log = activation\n",
    "        bias = pd.Series(np.ones(activation_log.shape[0]), name = 'bias')\n",
    "        activation_log = pd.concat([activation_log, bias], axis = 1)\n",
    "        act_log.append(activation_log)\n",
    "        print('Layer ', layer, '; Shape of outputs: ', activation.shape, sep = '')\n",
    "    else:\n",
    "        print('Layer ', layer, '; Shape of inputs: ', activation.shape, sep = '')\n",
    "        print('Layer ', layer, '; Shape of weight: ', w[layer].shape, sep = '')\n",
    "        print('Activation function:', act_func[layer])\n",
    "        activation = pd.DataFrame(forwardPropagation(np.array(activation), w[layer], act_func[layer])[0], columns = XoriginalCol)\n",
    "        print('Layer ', layer, '; Shape of outputs: ', activation.shape, sep = '')\n",
    "        bias = pd.Series(np.ones_like(activation.iloc[:,0]), name = 'bias')\n",
    "        activation = pd.concat([activation, bias], axis = 1)\n",
    "        activation_log = activation\n",
    "        bias = pd.Series(np.ones(activation_log.shape[0]), name = 'bias')\n",
    "        activation_log = pd.concat([activation_log, bias], axis = 1)\n",
    "        act_log.append(activation_log)\n",
    "        print('Layer ', layer, '; Shape of outputs + bias: ', activation.shape, sep = '')"
   ]
  },
  {
   "cell_type": "code",
   "execution_count": 95,
   "metadata": {},
   "outputs": [
    {
     "data": {
      "text/html": [
       "<div>\n",
       "<style scoped>\n",
       "    .dataframe tbody tr th:only-of-type {\n",
       "        vertical-align: middle;\n",
       "    }\n",
       "\n",
       "    .dataframe tbody tr th {\n",
       "        vertical-align: top;\n",
       "    }\n",
       "\n",
       "    .dataframe thead th {\n",
       "        text-align: right;\n",
       "    }\n",
       "</style>\n",
       "<table border=\"1\" class=\"dataframe\">\n",
       "  <thead>\n",
       "    <tr style=\"text-align: right;\">\n",
       "      <th></th>\n",
       "      <th>0</th>\n",
       "    </tr>\n",
       "  </thead>\n",
       "  <tbody>\n",
       "    <tr>\n",
       "      <th>0</th>\n",
       "      <td>3.089556</td>\n",
       "    </tr>\n",
       "    <tr>\n",
       "      <th>1</th>\n",
       "      <td>1.672492</td>\n",
       "    </tr>\n",
       "    <tr>\n",
       "      <th>2</th>\n",
       "      <td>3.437618</td>\n",
       "    </tr>\n",
       "    <tr>\n",
       "      <th>3</th>\n",
       "      <td>1.809557</td>\n",
       "    </tr>\n",
       "  </tbody>\n",
       "</table>\n",
       "</div>"
      ],
      "text/plain": [
       "          0\n",
       "0  3.089556\n",
       "1  1.672492\n",
       "2  3.437618\n",
       "3  1.809557"
      ]
     },
     "execution_count": 95,
     "metadata": {},
     "output_type": "execute_result"
    }
   ],
   "source": [
    "activation"
   ]
  },
  {
   "cell_type": "code",
   "execution_count": 96,
   "metadata": {},
   "outputs": [],
   "source": [
    "error = activation.iloc[:,0] - y_train.iloc[:,0]"
   ]
  },
  {
   "cell_type": "code",
   "execution_count": 97,
   "metadata": {},
   "outputs": [
    {
     "data": {
      "text/html": [
       "<div>\n",
       "<style scoped>\n",
       "    .dataframe tbody tr th:only-of-type {\n",
       "        vertical-align: middle;\n",
       "    }\n",
       "\n",
       "    .dataframe tbody tr th {\n",
       "        vertical-align: top;\n",
       "    }\n",
       "\n",
       "    .dataframe thead th {\n",
       "        text-align: right;\n",
       "    }\n",
       "</style>\n",
       "<table border=\"1\" class=\"dataframe\">\n",
       "  <thead>\n",
       "    <tr style=\"text-align: right;\">\n",
       "      <th></th>\n",
       "      <th>0</th>\n",
       "    </tr>\n",
       "  </thead>\n",
       "  <tbody>\n",
       "    <tr>\n",
       "      <th>0</th>\n",
       "      <td>3.089556</td>\n",
       "    </tr>\n",
       "    <tr>\n",
       "      <th>1</th>\n",
       "      <td>0.672492</td>\n",
       "    </tr>\n",
       "    <tr>\n",
       "      <th>2</th>\n",
       "      <td>2.437618</td>\n",
       "    </tr>\n",
       "    <tr>\n",
       "      <th>3</th>\n",
       "      <td>1.809557</td>\n",
       "    </tr>\n",
       "  </tbody>\n",
       "</table>\n",
       "</div>"
      ],
      "text/plain": [
       "          0\n",
       "0  3.089556\n",
       "1  0.672492\n",
       "2  2.437618\n",
       "3  1.809557"
      ]
     },
     "execution_count": 97,
     "metadata": {},
     "output_type": "execute_result"
    }
   ],
   "source": [
    "error = pd.DataFrame(error)\n",
    "error"
   ]
  },
  {
   "cell_type": "code",
   "execution_count": 98,
   "metadata": {},
   "outputs": [
    {
     "name": "stdout",
     "output_type": "stream",
     "text": [
      "[[ 4.0209609 ]\n",
      " [12.06465925]]\n",
      "[[8.00922293]\n",
      " [8.00922293]]\n",
      "[[1.47198464]\n",
      " [0.89286353]]\n",
      "[[0.42133736]\n",
      " [0.42133736]]\n"
     ]
    }
   ],
   "source": [
    "lr=0.01\n",
    "l = 4\n",
    "layer = 4\n",
    "delta = error\n",
    "\n",
    "prior_activation_w = act_log[layer-2].drop('bias', axis = 1)\n",
    "prior_activation_b = act_log[layer-2]['bias']\n",
    "\n",
    "update_w = np.matmul(np.array(prior_activation_w).T, np.array(delta))\n",
    "update_b = np.matmul(np.array(prior_activation_b).T, np.array(delta))\n",
    "\n",
    "print(update_w)\n",
    "print(update_b)\n",
    "\n",
    "print(w[2][0:len_w[2]-1] - lr*(update_w))\n",
    "print(w[2][len_w[2]-1] - lr*(update_b))\n",
    "\n",
    "#print('Weights of layer', layer, w[layer] - lr*np.matmul(prior_activation, delta))"
   ]
  },
  {
   "cell_type": "code",
   "execution_count": 99,
   "metadata": {},
   "outputs": [
    {
     "data": {
      "text/plain": [
       "array([0.50142959])"
      ]
     },
     "execution_count": 99,
     "metadata": {},
     "output_type": "execute_result"
    }
   ],
   "source": [
    "w[2][len_w[2]-1]"
   ]
  },
  {
   "cell_type": "code",
   "execution_count": 105,
   "metadata": {},
   "outputs": [
    {
     "data": {
      "text/html": [
       "<div>\n",
       "<style scoped>\n",
       "    .dataframe tbody tr th:only-of-type {\n",
       "        vertical-align: middle;\n",
       "    }\n",
       "\n",
       "    .dataframe tbody tr th {\n",
       "        vertical-align: top;\n",
       "    }\n",
       "\n",
       "    .dataframe thead th {\n",
       "        text-align: right;\n",
       "    }\n",
       "</style>\n",
       "<table border=\"1\" class=\"dataframe\">\n",
       "  <thead>\n",
       "    <tr style=\"text-align: right;\">\n",
       "      <th></th>\n",
       "      <th>x1</th>\n",
       "      <th>x2</th>\n",
       "      <th>bias</th>\n",
       "    </tr>\n",
       "  </thead>\n",
       "  <tbody>\n",
       "    <tr>\n",
       "      <th>0</th>\n",
       "      <td>0</td>\n",
       "      <td>0</td>\n",
       "      <td>1</td>\n",
       "    </tr>\n",
       "    <tr>\n",
       "      <th>1</th>\n",
       "      <td>0</td>\n",
       "      <td>1</td>\n",
       "      <td>1</td>\n",
       "    </tr>\n",
       "    <tr>\n",
       "      <th>2</th>\n",
       "      <td>1</td>\n",
       "      <td>0</td>\n",
       "      <td>1</td>\n",
       "    </tr>\n",
       "    <tr>\n",
       "      <th>3</th>\n",
       "      <td>1</td>\n",
       "      <td>1</td>\n",
       "      <td>1</td>\n",
       "    </tr>\n",
       "  </tbody>\n",
       "</table>\n",
       "</div>"
      ],
      "text/plain": [
       "   x1  x2  bias\n",
       "0   0   0     1\n",
       "1   0   1     1\n",
       "2   1   0     1\n",
       "3   1   1     1"
      ]
     },
     "execution_count": 105,
     "metadata": {},
     "output_type": "execute_result"
    }
   ],
   "source": [
    "act_log[0]"
   ]
  },
  {
   "cell_type": "code",
   "execution_count": 76,
   "metadata": {},
   "outputs": [
    {
     "data": {
      "text/plain": [
       "[array([[-0.45178646,  0.33466487],\n",
       "        [-0.05293319,  0.60469474],\n",
       "        [-1.10395047,  0.55280368]]), array([[-0.01079013,  0.5004649 ],\n",
       "        [ 0.61371013,  0.22921385],\n",
       "        [-0.96514772, -1.17031305]]), array([[ 0.30469903],\n",
       "        [-0.66990628],\n",
       "        [ 0.10246307]])]"
      ]
     },
     "execution_count": 76,
     "metadata": {},
     "output_type": "execute_result"
    }
   ],
   "source": [
    "w"
   ]
  },
  {
   "cell_type": "code",
   "execution_count": 71,
   "metadata": {},
   "outputs": [
    {
     "data": {
      "text/plain": [
       "[3, 3, 3]"
      ]
     },
     "execution_count": 71,
     "metadata": {},
     "output_type": "execute_result"
    }
   ],
   "source": [
    "len_w"
   ]
  },
  {
   "cell_type": "code",
   "execution_count": null,
   "metadata": {},
   "outputs": [],
   "source": []
  }
 ],
 "metadata": {
  "kernelspec": {
   "display_name": "Python 3",
   "language": "python",
   "name": "python3"
  },
  "language_info": {
   "codemirror_mode": {
    "name": "ipython",
    "version": 3
   },
   "file_extension": ".py",
   "mimetype": "text/x-python",
   "name": "python",
   "nbconvert_exporter": "python",
   "pygments_lexer": "ipython3",
   "version": "3.7.3"
  }
 },
 "nbformat": 4,
 "nbformat_minor": 4
}
