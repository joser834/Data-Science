{
 "cells": [
  {
   "cell_type": "code",
   "execution_count": 2,
   "metadata": {},
   "outputs": [],
   "source": [
    "import numpy as np"
   ]
  },
  {
   "cell_type": "markdown",
   "metadata": {},
   "source": [
    "## Logical Operations with Neural Network"
   ]
  },
  {
   "cell_type": "markdown",
   "metadata": {},
   "source": [
    "First of all, we need to define a neural network and an activation function."
   ]
  },
  {
   "cell_type": "code",
   "execution_count": 3,
   "metadata": {},
   "outputs": [],
   "source": [
    "def neural_network(inputs, weights):\n",
    "    return(np.matmul(inputs, weights))"
   ]
  },
  {
   "cell_type": "code",
   "execution_count": 4,
   "metadata": {},
   "outputs": [],
   "source": [
    "def activation(value):\n",
    "    if value > 0:\n",
    "        return(1)\n",
    "    else:\n",
    "        return(0)"
   ]
  },
  {
   "cell_type": "markdown",
   "metadata": {},
   "source": [
    "### AND"
   ]
  },
  {
   "cell_type": "code",
   "execution_count": 50,
   "metadata": {},
   "outputs": [
    {
     "name": "stdout",
     "output_type": "stream",
     "text": [
      "0 AND 0 = 0\n",
      "0 AND 1 = 0\n",
      "1 AND 0 = 0\n",
      "1 AND 1 = 1\n"
     ]
    }
   ],
   "source": [
    "bias = 1\n",
    "W = np.array([[1], [1], [-1]])\n",
    "x1 = 0\n",
    "x2 = 0\n",
    "prediction = activation(\n",
    "    neural_network(\n",
    "        inputs = np.array([x1, x2, bias]),\n",
    "        weights = W\n",
    "    )\n",
    ")\n",
    "print(str(x1) + ' AND ' + str(x2) + ' = ' + str(prediction))\n",
    "\n",
    "x1 = 0\n",
    "x2 = 1\n",
    "prediction = activation(\n",
    "    neural_network(\n",
    "        inputs = np.array([x1, x2, bias]),\n",
    "        weights = W\n",
    "    )\n",
    ")\n",
    "print(str(x1) + ' AND ' + str(x2) + ' = ' + str(prediction))\n",
    "\n",
    "x1 = 1\n",
    "x2 = 0\n",
    "prediction = activation(\n",
    "    neural_network(\n",
    "        inputs = np.array([x1, x2, bias]),\n",
    "        weights = W\n",
    "    )\n",
    ")\n",
    "print(str(x1) + ' AND ' + str(x2) + ' = ' + str(prediction))\n",
    "\n",
    "x1 = 1\n",
    "x2 = 1\n",
    "prediction = activation(\n",
    "    neural_network(\n",
    "        inputs = np.array([x1, x2, bias]),\n",
    "        weights = W\n",
    "    )\n",
    ")\n",
    "print(str(x1) + ' AND ' + str(x2) + ' = ' + str(prediction))"
   ]
  },
  {
   "cell_type": "markdown",
   "metadata": {},
   "source": [
    "## OR"
   ]
  },
  {
   "cell_type": "code",
   "execution_count": 49,
   "metadata": {},
   "outputs": [
    {
     "name": "stdout",
     "output_type": "stream",
     "text": [
      "0 AND 0 = 0\n",
      "0 AND 1 = 1\n",
      "1 AND 0 = 1\n",
      "1 AND 1 = 1\n"
     ]
    }
   ],
   "source": [
    "bias = 0\n",
    "W = np.array([[1], [1], [-1]])\n",
    "x1 = 0\n",
    "x2 = 0\n",
    "prediction = activation(\n",
    "    neural_network(\n",
    "        inputs = np.array([x1, x2, bias]),\n",
    "        weights = W\n",
    "    )\n",
    ")\n",
    "print(str(x1) + ' AND ' + str(x2) + ' = ' + str(prediction))\n",
    "\n",
    "x1 = 0\n",
    "x2 = 1\n",
    "prediction = activation(\n",
    "    neural_network(\n",
    "        inputs = np.array([x1, x2, bias]),\n",
    "        weights = W\n",
    "    )\n",
    ")\n",
    "print(str(x1) + ' AND ' + str(x2) + ' = ' + str(prediction))\n",
    "\n",
    "x1 = 1\n",
    "x2 = 0\n",
    "prediction = activation(\n",
    "    neural_network(\n",
    "        inputs = np.array([x1, x2, bias]),\n",
    "        weights = W\n",
    "    )\n",
    ")\n",
    "print(str(x1) + ' AND ' + str(x2) + ' = ' + str(prediction))\n",
    "\n",
    "x1 = 1\n",
    "x2 = 1\n",
    "prediction = activation(\n",
    "    neural_network(\n",
    "        inputs = np.array([x1, x2, bias]),\n",
    "        weights = W\n",
    "    )\n",
    ")\n",
    "print(str(x1) + ' AND ' + str(x2) + ' = ' + str(prediction))"
   ]
  },
  {
   "cell_type": "markdown",
   "metadata": {},
   "source": [
    "## NOT"
   ]
  },
  {
   "cell_type": "code",
   "execution_count": 38,
   "metadata": {},
   "outputs": [
    {
     "name": "stdout",
     "output_type": "stream",
     "text": [
      "NOT 0 = 1\n",
      "NOT 1 = 0\n"
     ]
    }
   ],
   "source": [
    "bias = 1\n",
    "W = np.array([[-1], [1]])\n",
    "x = 0\n",
    "prediction = activation(\n",
    "    neural_network(\n",
    "        inputs = np.array([x, bias]),\n",
    "        weights = W\n",
    "    )\n",
    ")\n",
    "print('NOT ' + str(x) + ' = ' + str(prediction))\n",
    "\n",
    "x = 1\n",
    "prediction = activation(\n",
    "    neural_network(\n",
    "        inputs = np.array([x, bias]),\n",
    "        weights = W\n",
    "    )\n",
    ")\n",
    "print('NOT ' + str(x) + ' = ' + str(prediction))"
   ]
  },
  {
   "cell_type": "markdown",
   "metadata": {},
   "source": [
    "## XOR"
   ]
  },
  {
   "cell_type": "code",
   "execution_count": 30,
   "metadata": {},
   "outputs": [
    {
     "name": "stdout",
     "output_type": "stream",
     "text": [
      "0 XOR 0 = 0\n",
      "0 XOR 0 = 1\n",
      "0 XOR 0 = 1\n",
      "0 XOR 0 = 0\n"
     ]
    }
   ],
   "source": [
    "def xor(x1, x2):\n",
    "    #and\n",
    "    bias = 1\n",
    "    W = np.array([[1], [1], [-1]])\n",
    "    _and = activation(\n",
    "        neural_network(\n",
    "            inputs = np.array([x1, x2, bias]),\n",
    "            weights = W\n",
    "        )\n",
    "    )\n",
    "    #or\n",
    "    bias = 0\n",
    "    W = np.array([[1], [1], [-1]])\n",
    "    _or = activation(\n",
    "        neural_network(\n",
    "            inputs = np.array([x1, x2, bias]),\n",
    "            weights = W\n",
    "        )\n",
    "    )\n",
    "    #not\n",
    "    bias = 1\n",
    "    W = np.array([[-1], [1]])\n",
    "    x = _and\n",
    "    _not = activation(\n",
    "        neural_network(\n",
    "            inputs = np.array([x, bias]),\n",
    "            weights = W\n",
    "        )\n",
    "    )\n",
    "    #and\n",
    "    x3 = _not\n",
    "    x4 = _or\n",
    "    bias = 1\n",
    "    W = np.array([[1], [1], [-1]])\n",
    "    _and2 = activation(\n",
    "        neural_network(\n",
    "            inputs = np.array([x3, x4, bias]),\n",
    "            weights = W\n",
    "        )\n",
    "    )\n",
    "    return(_and2)\n",
    "    \n",
    "print(str(x1) + ' XOR ' + str(x2) + ' = ' + str(xor(0,0)))\n",
    "print(str(x1) + ' XOR ' + str(x2) + ' = ' + str(xor(0,1)))\n",
    "print(str(x1) + ' XOR ' + str(x2) + ' = ' + str(xor(1,0)))\n",
    "print(str(x1) + ' XOR ' + str(x2) + ' = ' + str(xor(1,1)))"
   ]
  },
  {
   "cell_type": "code",
   "execution_count": null,
   "metadata": {},
   "outputs": [],
   "source": []
  },
  {
   "cell_type": "code",
   "execution_count": null,
   "metadata": {},
   "outputs": [],
   "source": []
  },
  {
   "cell_type": "code",
   "execution_count": null,
   "metadata": {},
   "outputs": [],
   "source": []
  },
  {
   "cell_type": "code",
   "execution_count": null,
   "metadata": {},
   "outputs": [],
   "source": []
  },
  {
   "cell_type": "code",
   "execution_count": null,
   "metadata": {},
   "outputs": [],
   "source": []
  },
  {
   "cell_type": "code",
   "execution_count": null,
   "metadata": {},
   "outputs": [],
   "source": []
  },
  {
   "cell_type": "code",
   "execution_count": null,
   "metadata": {},
   "outputs": [],
   "source": []
  }
 ],
 "metadata": {
  "kernelspec": {
   "display_name": "Python 3",
   "language": "python",
   "name": "python3"
  },
  "language_info": {
   "codemirror_mode": {
    "name": "ipython",
    "version": 3
   },
   "file_extension": ".py",
   "mimetype": "text/x-python",
   "name": "python",
   "nbconvert_exporter": "python",
   "pygments_lexer": "ipython3",
   "version": "3.7.3"
  }
 },
 "nbformat": 4,
 "nbformat_minor": 4
}
