{
 "cells": [
  {
   "cell_type": "markdown",
   "metadata": {},
   "source": [
    "## Loading Libraries"
   ]
  },
  {
   "cell_type": "code",
   "execution_count": 1,
   "metadata": {},
   "outputs": [],
   "source": [
    "import numpy as np\n",
    "import matplotlib.pyplot as plt\n",
    "np.set_printoptions(suppress=True) "
   ]
  },
  {
   "cell_type": "markdown",
   "metadata": {},
   "source": [
    "## Defining the activation function and the Xor function"
   ]
  },
  {
   "cell_type": "code",
   "execution_count": 2,
   "metadata": {},
   "outputs": [],
   "source": [
    "def activation(x):\n",
    "    return(1/(1+np.exp(-x)))"
   ]
  },
  {
   "cell_type": "code",
   "execution_count": 3,
   "metadata": {},
   "outputs": [],
   "source": [
    "def xor(X):\n",
    "    W_0 = np.array([[20,-20],\n",
    "                    [20,-20],\n",
    "                    [-10, 30]])\n",
    "    \n",
    "    bias_0 = np.ones((X.shape[0],1))\n",
    "    X = np.hstack((X, bias_0))\n",
    "    \n",
    "    #For Original Plot\n",
    "    print('Original Plot')\n",
    "    marker = [',', '+', '.', 'o']\n",
    "    for i in range(X.shape[0]):\n",
    "        plt.scatter(X[i,0], X[i,1], marker=marker[i])\n",
    "    plt.show()\n",
    "    \n",
    "    act = activation(np.matmul(X,W_0))\n",
    "    \n",
    "    #For Hidden Layer Plot\n",
    "    print('Hidden Layer Plot')\n",
    "    marker = ['*', '+', 'x', 'o']\n",
    "    for i in range(act.shape[0]):\n",
    "        plt.scatter(act[i,0], act[i,1], marker=marker[i])\n",
    "    plt.show()\n",
    "    \n",
    "    W_1 = np.array([[20],\n",
    "                    [20],\n",
    "                    [-30]])\n",
    "    bias_1 = np.ones((act.shape[0],1))\n",
    "    act = np.hstack((act, bias_1))\n",
    "    \n",
    "    y_hat = activation(np.matmul(act,W_1))\n",
    "    \n",
    "    return(y_hat)"
   ]
  },
  {
   "cell_type": "code",
   "execution_count": 4,
   "metadata": {},
   "outputs": [],
   "source": [
    "xor_combinations = np.array([[0,0],\n",
    "                             [0,1],\n",
    "                             [1,0],\n",
    "                             [1,1]])"
   ]
  },
  {
   "cell_type": "code",
   "execution_count": 5,
   "metadata": {},
   "outputs": [
    {
     "name": "stdout",
     "output_type": "stream",
     "text": [
      "Original Plot\n"
     ]
    },
    {
     "data": {
      "image/png": "[encoded data removed]",
      "text/plain": [
       "<Figure size 432x288 with 1 Axes>"
      ]
     },
     "metadata": {
      "needs_background": "light"
     },
     "output_type": "display_data"
    },
    {
     "name": "stdout",
     "output_type": "stream",
     "text": [
      "Hidden Layer Plot\n"
     ]
    },
    {
     "data": {
      "image/png": "[encoded data removed]",
      "text/plain": [
       "<Figure size 432x288 with 1 Axes>"
      ]
     },
     "metadata": {
      "needs_background": "light"
     },
     "output_type": "display_data"
    },
    {
     "name": "stdout",
     "output_type": "stream",
     "text": [
      "[[0.00004544]\n",
      " [0.99995452]\n",
      " [0.99995452]\n",
      " [0.00004544]]\n"
     ]
    }
   ],
   "source": [
    "y_hat = xor(xor_combinations)\n",
    "print(y_hat)"
   ]
  },
  {
   "cell_type": "markdown",
   "metadata": {},
   "source": [
    "## Results"
   ]
  },
  {
   "cell_type": "code",
   "execution_count": 6,
   "metadata": {},
   "outputs": [
    {
     "data": {
      "text/plain": [
       "array([[0.        , 0.        , 0.00004544],\n",
       "       [0.        , 1.        , 0.99995452],\n",
       "       [1.        , 0.        , 0.99995452],\n",
       "       [1.        , 1.        , 0.00004544]])"
      ]
     },
     "execution_count": 6,
     "metadata": {},
     "output_type": "execute_result"
    }
   ],
   "source": [
    "np.hstack((xor_combinations, y_hat))"
   ]
  },
  {
   "cell_type": "markdown",
   "metadata": {},
   "source": [
    "At a first glimpse of the XOR Function we can see that there are four different points, simulating a square in the first plot. It's impossible to draw a single line to separate the results that we know are 0 (1,0) and (0,1) and the results that are 1 (0,0) and (1,1)\n",
    "\n",
    "This is why we're implementing a single layer neural net using a sigmoid function that achieves this separation. The second graph shows the hidden layer of the neural net, which maps the both points into ~(1,1). This is the result we wanted because now we can draw a line between both *\"categories\"*.\n",
    "\n",
    "Finally we see that the results are correct by using a final sigmoid function (activation) to the hidden layer."
   ]
  }
 ],
 "metadata": {
  "kernelspec": {
   "display_name": "Python 3",
   "language": "python",
   "name": "python3"
  },
  "language_info": {
   "codemirror_mode": {
    "name": "ipython",
    "version": 3
   },
   "file_extension": ".py",
   "mimetype": "text/x-python",
   "name": "python",
   "nbconvert_exporter": "python",
   "pygments_lexer": "ipython3",
   "version": "3.7.3"
  }
 },
 "nbformat": 4,
 "nbformat_minor": 4
}
