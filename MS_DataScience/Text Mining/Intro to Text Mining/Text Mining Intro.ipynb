{
 "cells": [
  {
   "cell_type": "code",
   "execution_count": 2,
   "metadata": {},
   "outputs": [],
   "source": [
    "import numpy as np\n",
    "import pandas as pd"
   ]
  },
  {
   "cell_type": "markdown",
   "metadata": {},
   "source": [
    "# Text Mining Introduction"
   ]
  },
  {
   "cell_type": "markdown",
   "metadata": {},
   "source": [
    "## Partes de la oración (Breve Resumen - Español)"
   ]
  },
  {
   "cell_type": "markdown",
   "metadata": {},
   "source": [
    "Para poder realizar un buen análisis de un texto, debemos de recordar cuales son las partes de una oración y así tener claro lo que necesitamos extraer.\n",
    "\n",
    "Una oración es un conjunto de palabras que tiene un sentido que consta de un sujeto y un predicado.\n",
    "\n",
    "Una oración tiene las siguientes variables:\n",
    "- **Sustantivo:** Son las palabras que dan el nombre a personas, animales, y todas las cosas. Entre las categorias se encuentran\n",
    "    - Comunes y propios\n",
    "    - Concretos y abstractos\n",
    "    - Individuales y colectivos\n",
    "- **Adjetivo:** Es la palabra que acompaña al sustantivo para darle una caracteristica. Entre ellos se encuentran:\n",
    "    - Posesivos\n",
    "    - Demostrativos\n",
    "    - Calificativo\n",
    "    - Numeral\n",
    "    - Indefinidos\n",
    "- **Artículo:** Es la palabra que va acompañando también al sustantivo pero aparece antes de éste. Puede ser *definido* o *indefinido*\n",
    "- **Pronombre:** Estas palabras representan a personas y cosas. Pueden ser:\n",
    "    - Personales\n",
    "    - Demostrativos\n",
    "    - Numerales\n",
    "    - Interrogativos\n",
    "    - Posesivos\n",
    "    - Exclamativos\n",
    "    - Indefinidos\n",
    "    - Relativos\n",
    "- **Verbo:** Es la palabra que representa una acción.\n",
    "\n",
    "y las siguientes partes que no cambian:\n",
    "- **Adverbio:** Son aquellas palabras que modifican al verbo. Pueden ser de tiempo, lugar, modo, afirmación, negación, duda, entre otros.\n",
    "- **Preposición:** Enlaza dos palabras de una oración. (a, de, en, hacia, ...)\n",
    "- **Conjunción:** Enlaza dos oraciones. (y, aunque, ...)\n",
    "- **Interjección:** Es una palabra que no es parte de la oración. Éstas pueden significar una oración completa.\n",
    "    - ¡Ay!\n",
    "    - ¡Eh!"
   ]
  },
  {
   "cell_type": "markdown",
   "metadata": {},
   "source": [
    "## Natural Language Processing (NLP)"
   ]
  },
  {
   "cell_type": "markdown",
   "metadata": {},
   "source": [
    "Natural Language Processing (NLP) is part of the Artificial Intelligence (AI) scope that analyzes the human language. As you can see in the following diagram, NLP is how the computer understands the human language and tries to predict, analyze and translate into useful solutions, products, among others.\n",
    "<img src='nlp.png'/>"
   ]
  },
  {
   "cell_type": "markdown",
   "metadata": {},
   "source": [
    "## REGEX"
   ]
  },
  {
   "cell_type": "code",
   "execution_count": 3,
   "metadata": {},
   "outputs": [],
   "source": [
    "import re"
   ]
  },
  {
   "cell_type": "markdown",
   "metadata": {},
   "source": [
    "### 1. Email Validation"
   ]
  },
  {
   "cell_type": "code",
   "execution_count": 3,
   "metadata": {},
   "outputs": [
    {
     "name": "stdout",
     "output_type": "stream",
     "text": [
      "['Guate.360porelmundo@miguate.com', 'Miercoles3@hotmail.com', 'Progra3.galileo@galileo.edu']\n"
     ]
    }
   ],
   "source": [
    "emails = ['Guate.360porelmundo@miguate.com', \n",
    "          'Miercoles3@hotmail.com', \n",
    "          'Progra3.galileo@galileo.edu']\n",
    "print(emails)"
   ]
  },
  {
   "cell_type": "code",
   "execution_count": 4,
   "metadata": {},
   "outputs": [
    {
     "name": "stdout",
     "output_type": "stream",
     "text": [
      "['Guate.360porelmundo@miguate.com', 'Miercoles3@hotmail.com', 'Progra3.galileo@galileo.edu']\n"
     ]
    }
   ],
   "source": [
    "r = re.compile('[\\w]+[\\w|\\.|-][\\w]+[\\w|\\.|-]\\w+\\@+\\w+.(com|net|org|edu)')\n",
    "emails_result = list(filter(r.match, emails))\n",
    "print(emails_result)"
   ]
  },
  {
   "cell_type": "markdown",
   "metadata": {},
   "source": [
    "### 2. URL Validation"
   ]
  },
  {
   "cell_type": "code",
   "execution_count": 5,
   "metadata": {},
   "outputs": [
    {
     "name": "stdout",
     "output_type": "stream",
     "text": [
      "['https://www.guate360-porelmundo.com', 'http://www.a2.net', 'https://www.galileo.edu', 'http://www.8.org']\n"
     ]
    }
   ],
   "source": [
    "urls = ['https://www.guate360-porelmundo.com',\n",
    "        'http://www.a2.net', \n",
    "        'https://www.galileo.edu', \n",
    "        'http://www.8.org']\n",
    "print(urls)"
   ]
  },
  {
   "cell_type": "code",
   "execution_count": 6,
   "metadata": {},
   "outputs": [
    {
     "name": "stdout",
     "output_type": "stream",
     "text": [
      "['https://www.guate360-porelmundo.com', 'http://www.a2.net', 'https://www.galileo.edu']\n"
     ]
    }
   ],
   "source": [
    "r = re.compile('[http://|https://]+www.+[a-z]+[\\d|\\.|-|_]+\\w+.+[com|net|org|edu]')\n",
    "urls_result = list(filter(r.match, urls))\n",
    "print(urls_result)"
   ]
  },
  {
   "cell_type": "markdown",
   "metadata": {},
   "source": [
    "### 3. MAC Address Validation"
   ]
  },
  {
   "cell_type": "code",
   "execution_count": 7,
   "metadata": {},
   "outputs": [
    {
     "name": "stdout",
     "output_type": "stream",
     "text": [
      "['5A 6F AF 8C 9B 1D', '6D 6C 4D 3A EB 3F', '3A 7C FA C8 6D 4J']\n"
     ]
    }
   ],
   "source": [
    "mac = ['5A 6F AF 8C 9B 1D',\n",
    "       '6D 6C 4D 3A EB 3F',\n",
    "       '3A 7C FA C8 6D 4J']\n",
    "print(mac)"
   ]
  },
  {
   "cell_type": "code",
   "execution_count": 8,
   "metadata": {},
   "outputs": [
    {
     "name": "stdout",
     "output_type": "stream",
     "text": [
      "['5A 6F AF 8C 9B 1D', '6D 6C 4D 3A EB 3F']\n"
     ]
    }
   ],
   "source": [
    "r = re.compile('[0-9|a-f|A-F| |\\:|\\-]{17}')\n",
    "mac_result = list(filter(r.match, mac))\n",
    "print(mac_result)"
   ]
  },
  {
   "cell_type": "markdown",
   "metadata": {},
   "source": [
    "### 4. IPv4 Address Validation"
   ]
  },
  {
   "cell_type": "code",
   "execution_count": 15,
   "metadata": {},
   "outputs": [
    {
     "name": "stdout",
     "output_type": "stream",
     "text": [
      "['192.16.8.1', '234.56.78.90', '1.2.3.4', '192.168.45.345']\n"
     ]
    }
   ],
   "source": [
    "ip = ['192.16.8.1',\n",
    "      '234.56.78.90',\n",
    "      '1.2.3.4',\n",
    "      '192.168.45.345']\n",
    "print(ip)"
   ]
  },
  {
   "cell_type": "code",
   "execution_count": 18,
   "metadata": {},
   "outputs": [
    {
     "name": "stdout",
     "output_type": "stream",
     "text": [
      "['192.16.8.1', '234.56.78.90', '1.2.3.4']\n"
     ]
    }
   ],
   "source": [
    "r = re.compile('^(([01]?[0-9][0-9]?|2[0-4][0-9]|25[0-5])\\.){3}([01]?[0-9][0-9]?|2[0-4][0-9]|25[0-5])$')\n",
    "ip_result = list(filter(r.match, ip))\n",
    "print(ip_result)"
   ]
  },
  {
   "cell_type": "markdown",
   "metadata": {},
   "source": [
    "### 5. Date Parsing"
   ]
  },
  {
   "cell_type": "code",
   "execution_count": 5,
   "metadata": {},
   "outputs": [
    {
     "name": "stdout",
     "output_type": "stream",
     "text": [
      "['20/1/2019', '12.03.2005', '31-11-08', '1-1-2012', '12-12-22']\n"
     ]
    }
   ],
   "source": [
    "dates = ['20/1/2019',\n",
    "         '12.03.2005',\n",
    "         '31-11-08',\n",
    "         '1-1-2012',\n",
    "         '12-12-22']\n",
    "print(dates)"
   ]
  },
  {
   "cell_type": "code",
   "execution_count": 6,
   "metadata": {},
   "outputs": [
    {
     "name": "stdout",
     "output_type": "stream",
     "text": [
      "['20/1/2019', '12.03.2005', '31-11-08', '1-1-2012']\n"
     ]
    }
   ],
   "source": [
    "r = re.compile('^([0]?[1-9]|[12][0-9]|3[01])[\\/|\\-|\\.]+([0]?[0-9]|1[0-2])[\\/|\\-|\\.]+((20)?[0-1][0-9])$')\n",
    "dates_result = list(filter(r.match, dates))\n",
    "print(dates_result)"
   ]
  },
  {
   "cell_type": "markdown",
   "metadata": {},
   "source": [
    "## Date Parsing and Manipulation"
   ]
  },
  {
   "cell_type": "markdown",
   "metadata": {},
   "source": [
    "### Loading all the date files"
   ]
  },
  {
   "cell_type": "code",
   "execution_count": 36,
   "metadata": {},
   "outputs": [],
   "source": [
    "import os"
   ]
  },
  {
   "cell_type": "code",
   "execution_count": 34,
   "metadata": {},
   "outputs": [
    {
     "data": {
      "text/plain": [
       "['D20.txt',\n",
       " 'D21.txt',\n",
       " 'D8.txt',\n",
       " 'D19.txt',\n",
       " 'D18.txt',\n",
       " 'D9.txt',\n",
       " '.ipynb_checkpoints',\n",
       " 'D7.txt',\n",
       " 'D16.txt',\n",
       " 'D17.txt',\n",
       " 'D6.txt',\n",
       " 'D4.txt',\n",
       " 'D15.txt',\n",
       " 'D14.txt',\n",
       " 'D5.txt',\n",
       " 'D1.txt',\n",
       " 'D10.txt',\n",
       " 'D11.txt',\n",
       " 'D2.txt',\n",
       " 'D13.txt',\n",
       " 'D12.txt',\n",
       " 'D3.txt']"
      ]
     },
     "execution_count": 34,
     "metadata": {},
     "output_type": "execute_result"
    }
   ],
   "source": [
    "os.listdir('Datos')"
   ]
  },
  {
   "cell_type": "code",
   "execution_count": 37,
   "metadata": {},
   "outputs": [],
   "source": [
    "dates_df = pd.DataFrame()\n",
    "for i in os.listdir('Datos'):\n",
    "    if i.endswith(\".txt\"):\n",
    "        temp = pd.read_csv('Datos/'+i, header = None)\n",
    "        temp.columns = ['Date']\n",
    "        dates_df = pd.concat([dates_df, temp])"
   ]
  },
  {
   "cell_type": "code",
   "execution_count": 39,
   "metadata": {},
   "outputs": [
    {
     "data": {
      "text/plain": [
       "(21000, 1)"
      ]
     },
     "execution_count": 39,
     "metadata": {},
     "output_type": "execute_result"
    }
   ],
   "source": [
    "dates_df.shape"
   ]
  },
  {
   "cell_type": "code",
   "execution_count": 93,
   "metadata": {},
   "outputs": [
    {
     "data": {
      "text/plain": [
       "['30-Jul-2019', '31-07-2019', '10-Apr-19', '30-14-2019', '29-04-10']"
      ]
     },
     "execution_count": 93,
     "metadata": {},
     "output_type": "execute_result"
    }
   ],
   "source": [
    "example = ['30-Jul-2019', '31-07-2019', '10-Apr-19', '30-14-2019', '29-04-10']\n",
    "example"
   ]
  },
  {
   "cell_type": "code",
   "execution_count": 89,
   "metadata": {},
   "outputs": [
    {
     "name": "stdout",
     "output_type": "stream",
     "text": [
      "['30-Jul-2019', '31-07-2019', '10-Apr-19', '29-04-10']\n"
     ]
    }
   ],
   "source": [
    "r = re.compile('^([0]?[1-9]|[12][0-9]|3[01])[\\/|\\-|\\.]+((Jan|Feb|Mar|Apr|May|Jun|Jul|Aug|Sep|Oct|Nov|Dec)|([0]?[0-9]|1[0-2]))[\\/|\\-|\\.]+((20)?[0-1][0-9])$')\n",
    "dates_parsed = list(filter(r.match, example))\n",
    "print(dates_parsed)"
   ]
  },
  {
   "cell_type": "code",
   "execution_count": 127,
   "metadata": {},
   "outputs": [],
   "source": [
    "day = []\n",
    "month = []\n",
    "year = []\n",
    "for w in dates_df['Date']:\n",
    "    spliter = re.split('^([0]?[1-9]|[12][0-9]|3[01])[\\/|\\-|\\.]+((Jan|Feb|Mar|Apr|May|Jun|Jul|Aug|Sep|Oct|Nov|Dec)|([0]?[0-9]|1[0-2]))[\\/|\\-|\\.]+((20)?[0-1][0-9])$', w)\n",
    "    if len(spliter)>1:\n",
    "        day.append(spliter[1])\n",
    "        month.append(spliter[2])\n",
    "        year.append(spliter[5])"
   ]
  },
  {
   "cell_type": "code",
   "execution_count": 132,
   "metadata": {},
   "outputs": [],
   "source": [
    "dates_df['day'] = day\n",
    "dates_df['month'] = month\n",
    "dates_df['year'] = year"
   ]
  },
  {
   "cell_type": "code",
   "execution_count": 136,
   "metadata": {},
   "outputs": [],
   "source": [
    "month_norm = {\n",
    "    'month' : ['Jan','Feb','Mar','Apr','May','Jun','Jul','Aug','Sep','Oct','Nov','Dec'],\n",
    "    'month_number' : [1,2,3,4,5,6,7,8,9,10,11,12]\n",
    "}\n",
    "month_norm = pd.DataFrame(month_norm)"
   ]
  },
  {
   "cell_type": "code",
   "execution_count": 147,
   "metadata": {},
   "outputs": [],
   "source": [
    "dates_df = pd.merge(dates_df, month_norm, on = 'month', how = 'left')"
   ]
  },
  {
   "cell_type": "code",
   "execution_count": 153,
   "metadata": {},
   "outputs": [],
   "source": [
    "dates_df['month_norm'] = np.where(dates_df['month'].str.isnumeric(), dates_df['month'], dates_df['month_number'])"
   ]
  },
  {
   "cell_type": "code",
   "execution_count": 154,
   "metadata": {},
   "outputs": [
    {
     "data": {
      "text/html": [
       "<div>\n",
       "<style scoped>\n",
       "    .dataframe tbody tr th:only-of-type {\n",
       "        vertical-align: middle;\n",
       "    }\n",
       "\n",
       "    .dataframe tbody tr th {\n",
       "        vertical-align: top;\n",
       "    }\n",
       "\n",
       "    .dataframe thead th {\n",
       "        text-align: right;\n",
       "    }\n",
       "</style>\n",
       "<table border=\"1\" class=\"dataframe\">\n",
       "  <thead>\n",
       "    <tr style=\"text-align: right;\">\n",
       "      <th></th>\n",
       "      <th>Date</th>\n",
       "      <th>day</th>\n",
       "      <th>month</th>\n",
       "      <th>year</th>\n",
       "      <th>month_number</th>\n",
       "      <th>month_norm</th>\n",
       "    </tr>\n",
       "  </thead>\n",
       "  <tbody>\n",
       "    <tr>\n",
       "      <th>0</th>\n",
       "      <td>30-Jun-2019</td>\n",
       "      <td>30</td>\n",
       "      <td>Jun</td>\n",
       "      <td>2019</td>\n",
       "      <td>6.0</td>\n",
       "      <td>6</td>\n",
       "    </tr>\n",
       "    <tr>\n",
       "      <th>1</th>\n",
       "      <td>20-Nov-2016</td>\n",
       "      <td>20</td>\n",
       "      <td>Nov</td>\n",
       "      <td>2016</td>\n",
       "      <td>11.0</td>\n",
       "      <td>11</td>\n",
       "    </tr>\n",
       "    <tr>\n",
       "      <th>2</th>\n",
       "      <td>20-Aug-2018</td>\n",
       "      <td>20</td>\n",
       "      <td>Aug</td>\n",
       "      <td>2018</td>\n",
       "      <td>8.0</td>\n",
       "      <td>8</td>\n",
       "    </tr>\n",
       "    <tr>\n",
       "      <th>3</th>\n",
       "      <td>04-Mar-2016</td>\n",
       "      <td>04</td>\n",
       "      <td>Mar</td>\n",
       "      <td>2016</td>\n",
       "      <td>3.0</td>\n",
       "      <td>3</td>\n",
       "    </tr>\n",
       "    <tr>\n",
       "      <th>4</th>\n",
       "      <td>02-Mar-2019</td>\n",
       "      <td>02</td>\n",
       "      <td>Mar</td>\n",
       "      <td>2019</td>\n",
       "      <td>3.0</td>\n",
       "      <td>3</td>\n",
       "    </tr>\n",
       "  </tbody>\n",
       "</table>\n",
       "</div>"
      ],
      "text/plain": [
       "          Date day month  year  month_number month_norm\n",
       "0  30-Jun-2019  30   Jun  2019           6.0          6\n",
       "1  20-Nov-2016  20   Nov  2016          11.0         11\n",
       "2  20-Aug-2018  20   Aug  2018           8.0          8\n",
       "3  04-Mar-2016  04   Mar  2016           3.0          3\n",
       "4  02-Mar-2019  02   Mar  2019           3.0          3"
      ]
     },
     "execution_count": 154,
     "metadata": {},
     "output_type": "execute_result"
    }
   ],
   "source": [
    "dates_df.head()"
   ]
  },
  {
   "cell_type": "code",
   "execution_count": 159,
   "metadata": {},
   "outputs": [
    {
     "name": "stdout",
     "output_type": "stream",
     "text": [
      "Average day is the:  16.0\n",
      "Average month is the:  6.0\n",
      "Average year is the:  2017.0\n"
     ]
    }
   ],
   "source": [
    "print('Average day is the: ', np.round(np.average(dates_df['day'].astype(int)),0))\n",
    "print('Average month is the: ', np.round(np.average(dates_df['month_norm'].astype(int)),0))\n",
    "print('Average year is the: ', np.round(np.average(dates_df['year'].astype(int)),0))"
   ]
  },
  {
   "cell_type": "code",
   "execution_count": null,
   "metadata": {},
   "outputs": [],
   "source": []
  }
 ],
 "metadata": {
  "kernelspec": {
   "display_name": "Python 3",
   "language": "python",
   "name": "python3"
  },
  "language_info": {
   "codemirror_mode": {
    "name": "ipython",
    "version": 3
   },
   "file_extension": ".py",
   "mimetype": "text/x-python",
   "name": "python",
   "nbconvert_exporter": "python",
   "pygments_lexer": "ipython3",
   "version": "3.7.3"
  }
 },
 "nbformat": 4,
 "nbformat_minor": 4
}
