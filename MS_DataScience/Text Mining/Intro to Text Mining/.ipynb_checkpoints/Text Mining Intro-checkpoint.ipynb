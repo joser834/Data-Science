{
 "cells": [
  {
   "cell_type": "code",
   "execution_count": 1,
   "metadata": {},
   "outputs": [],
   "source": [
    "import numpy as np\n",
    "import pandas as pd"
   ]
  },
  {
   "cell_type": "markdown",
   "metadata": {},
   "source": [
    "# Text Mining Introduction"
   ]
  },
  {
   "cell_type": "markdown",
   "metadata": {},
   "source": [
    "## Partes de la oración (Breve Resumen - Español)"
   ]
  },
  {
   "cell_type": "markdown",
   "metadata": {},
   "source": [
    "Para poder realizar un buen análisis de un texto, debemos de recordar cuales son las partes de una oración y así tener claro lo que necesitamos extraer.\n",
    "\n",
    "Una oración es un conjunto de palabras que tiene un sentido que consta de un sujeto y un predicado.\n",
    "\n",
    "Una oración tiene las siguientes variables:\n",
    "- **Sustantivo:** Son las palabras que dan el nombre a personas, animales, y todas las cosas. Entre las categorias se encuentran\n",
    "    - Comunes y propios\n",
    "    - Concretos y abstractos\n",
    "    - Individuales y colectivos\n",
    "- **Adjetivo:** Es la palabra que acompaña al sustantivo para darle una caracteristica. Entre ellos se encuentran:\n",
    "    - Posesivos\n",
    "    - Demostrativos\n",
    "    - Calificativo\n",
    "    - Numeral\n",
    "    - Indefinidos\n",
    "- **Artículo:** Es la palabra que va acompañando también al sustantivo pero aparece antes de éste. Puede ser *definido* o *indefinido*\n",
    "- **Pronombre:** Estas palabras representan a personas y cosas. Pueden ser:\n",
    "    - Personales\n",
    "    - Demostrativos\n",
    "    - Numerales\n",
    "    - Interrogativos\n",
    "    - Posesivos\n",
    "    - Exclamativos\n",
    "    - Indefinidos\n",
    "    - Relativos\n",
    "- **Verbo:** Es la palabra que representa una acción.\n",
    "\n",
    "y las siguientes partes que no cambian:\n",
    "- **Adverbio:** Son aquellas palabras que modifican al verbo. Pueden ser de tiempo, lugar, modo, afirmación, negación, duda, entre otros.\n",
    "- **Preposición:** Enlaza dos palabras de una oración. (a, de, en, hacia, ...)\n",
    "- **Conjunción:** Enlaza dos oraciones. (y, aunque, ...)\n",
    "- **Interjección:** Es una palabra que no es parte de la oración. Éstas pueden significar una oración completa.\n",
    "    - ¡Ay!\n",
    "    - ¡Eh!"
   ]
  },
  {
   "cell_type": "markdown",
   "metadata": {},
   "source": [
    "## Natural Language Processing (NLP)"
   ]
  },
  {
   "cell_type": "markdown",
   "metadata": {},
   "source": [
    "Natural Language Processing (NLP) is part of the Artificial Intelligence (AI) scope that analyzes the human language."
   ]
  },
  {
   "cell_type": "markdown",
   "metadata": {},
   "source": [
    "## REGEX"
   ]
  },
  {
   "cell_type": "code",
   "execution_count": 3,
   "metadata": {},
   "outputs": [],
   "source": [
    "import re"
   ]
  },
  {
   "cell_type": "markdown",
   "metadata": {},
   "source": [
    "### 1. Email Validation"
   ]
  },
  {
   "cell_type": "code",
   "execution_count": 3,
   "metadata": {},
   "outputs": [
    {
     "name": "stdout",
     "output_type": "stream",
     "text": [
      "['Guate.360porelmundo@miguate.com', 'Miercoles3@hotmail.com', 'Progra3.galileo@galileo.edu']\n"
     ]
    }
   ],
   "source": [
    "emails = ['Guate.360porelmundo@miguate.com', \n",
    "          'Miercoles3@hotmail.com', \n",
    "          'Progra3.galileo@galileo.edu']\n",
    "print(emails)"
   ]
  },
  {
   "cell_type": "code",
   "execution_count": 4,
   "metadata": {},
   "outputs": [
    {
     "name": "stdout",
     "output_type": "stream",
     "text": [
      "['Guate.360porelmundo@miguate.com', 'Miercoles3@hotmail.com', 'Progra3.galileo@galileo.edu']\n"
     ]
    }
   ],
   "source": [
    "r = re.compile('[\\w]+[\\w|\\.|-][\\w]+[\\w|\\.|-]\\w+\\@+\\w+.(com|net|org|edu)')\n",
    "emails_result = list(filter(r.match, emails))\n",
    "print(emails_result)"
   ]
  },
  {
   "cell_type": "markdown",
   "metadata": {},
   "source": [
    "### 2. URL Validation"
   ]
  },
  {
   "cell_type": "code",
   "execution_count": 5,
   "metadata": {},
   "outputs": [
    {
     "name": "stdout",
     "output_type": "stream",
     "text": [
      "['https://www.guate360-porelmundo.com', 'http://www.a2.net', 'https://www.galileo.edu', 'http://www.8.org']\n"
     ]
    }
   ],
   "source": [
    "urls = ['https://www.guate360-porelmundo.com',\n",
    "        'http://www.a2.net', \n",
    "        'https://www.galileo.edu', \n",
    "        'http://www.8.org']\n",
    "print(urls)"
   ]
  },
  {
   "cell_type": "code",
   "execution_count": 6,
   "metadata": {},
   "outputs": [
    {
     "name": "stdout",
     "output_type": "stream",
     "text": [
      "['https://www.guate360-porelmundo.com', 'http://www.a2.net', 'https://www.galileo.edu']\n"
     ]
    }
   ],
   "source": [
    "r = re.compile('[http://|https://]+www.+[a-z]+[\\d|\\.|-|_]+\\w+.+[com|net|org|edu]')\n",
    "urls_result = list(filter(r.match, urls))\n",
    "print(urls_result)"
   ]
  },
  {
   "cell_type": "markdown",
   "metadata": {},
   "source": [
    "### 3. MAC Address Validation"
   ]
  },
  {
   "cell_type": "code",
   "execution_count": 7,
   "metadata": {},
   "outputs": [
    {
     "name": "stdout",
     "output_type": "stream",
     "text": [
      "['5A 6F AF 8C 9B 1D', '6D 6C 4D 3A EB 3F', '3A 7C FA C8 6D 4J']\n"
     ]
    }
   ],
   "source": [
    "mac = ['5A 6F AF 8C 9B 1D',\n",
    "       '6D 6C 4D 3A EB 3F',\n",
    "       '3A 7C FA C8 6D 4J']\n",
    "print(mac)"
   ]
  },
  {
   "cell_type": "code",
   "execution_count": 8,
   "metadata": {},
   "outputs": [
    {
     "name": "stdout",
     "output_type": "stream",
     "text": [
      "['5A 6F AF 8C 9B 1D', '6D 6C 4D 3A EB 3F']\n"
     ]
    }
   ],
   "source": [
    "r = re.compile('[0-9|a-f|A-F| |\\:|\\-]{17}')\n",
    "mac_result = list(filter(r.match, mac))\n",
    "print(mac_result)"
   ]
  },
  {
   "cell_type": "markdown",
   "metadata": {},
   "source": [
    "### 4. IPv4 Address Validation"
   ]
  },
  {
   "cell_type": "code",
   "execution_count": 15,
   "metadata": {},
   "outputs": [
    {
     "name": "stdout",
     "output_type": "stream",
     "text": [
      "['192.16.8.1', '234.56.78.90', '1.2.3.4', '192.168.45.345']\n"
     ]
    }
   ],
   "source": [
    "ip = ['192.16.8.1',\n",
    "      '234.56.78.90',\n",
    "      '1.2.3.4',\n",
    "      '192.168.45.345']\n",
    "print(ip)"
   ]
  },
  {
   "cell_type": "code",
   "execution_count": 18,
   "metadata": {},
   "outputs": [
    {
     "name": "stdout",
     "output_type": "stream",
     "text": [
      "['192.16.8.1', '234.56.78.90', '1.2.3.4']\n"
     ]
    }
   ],
   "source": [
    "r = re.compile('^(([01]?[0-9][0-9]?|2[0-4][0-9]|25[0-5])\\.){3}([01]?[0-9][0-9]?|2[0-4][0-9]|25[0-5])$')\n",
    "ip_result = list(filter(r.match, ip))\n",
    "print(ip_result)"
   ]
  },
  {
   "cell_type": "markdown",
   "metadata": {},
   "source": [
    "### 5. Date Parsing"
   ]
  },
  {
   "cell_type": "code",
   "execution_count": 5,
   "metadata": {},
   "outputs": [
    {
     "name": "stdout",
     "output_type": "stream",
     "text": [
      "['20/1/2019', '12.03.2005', '31-11-08', '1-1-2012', '12-12-22']\n"
     ]
    }
   ],
   "source": [
    "dates = ['20/1/2019',\n",
    "         '12.03.2005',\n",
    "         '31-11-08',\n",
    "         '1-1-2012',\n",
    "         '12-12-22']\n",
    "print(dates)"
   ]
  },
  {
   "cell_type": "code",
   "execution_count": 6,
   "metadata": {},
   "outputs": [
    {
     "name": "stdout",
     "output_type": "stream",
     "text": [
      "['20/1/2019', '12.03.2005', '31-11-08', '1-1-2012']\n"
     ]
    }
   ],
   "source": [
    "r = re.compile('^([0]?[1-9]|[12][0-9]|3[01])[\\/|\\-|\\.]+([0]?[0-9]|1[0-2])[\\/|\\-|\\.]+((20)?[0-1][0-9])$')\n",
    "dates_result = list(filter(r.match, dates))\n",
    "print(dates_result)"
   ]
  },
  {
   "cell_type": "code",
   "execution_count": null,
   "metadata": {},
   "outputs": [],
   "source": []
  }
 ],
 "metadata": {
  "kernelspec": {
   "display_name": "Python 3",
   "language": "python",
   "name": "python3"
  },
  "language_info": {
   "codemirror_mode": {
    "name": "ipython",
    "version": 3
   },
   "file_extension": ".py",
   "mimetype": "text/x-python",
   "name": "python",
   "nbconvert_exporter": "python",
   "pygments_lexer": "ipython3",
   "version": "3.7.3"
  }
 },
 "nbformat": 4,
 "nbformat_minor": 4
}
