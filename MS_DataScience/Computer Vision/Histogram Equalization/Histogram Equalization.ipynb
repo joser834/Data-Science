{
 "cells": [
  {
   "cell_type": "code",
   "execution_count": 108,
   "metadata": {},
   "outputs": [],
   "source": [
    "import cv2\n",
    "import numpy as np\n",
    "import pandas as pd\n",
    "import matplotlib.pyplot as plt\n",
    "import sys\n",
    "%matplotlib inline\n",
    "np.set_printoptions(suppress=True)"
   ]
  },
  {
   "cell_type": "markdown",
   "metadata": {},
   "source": [
    "## Histogram Equalization"
   ]
  },
  {
   "cell_type": "markdown",
   "metadata": {},
   "source": [
    "This function receives an image, converts it to grayscale and then it equalizes the histogram to convert into a normal distribution."
   ]
  },
  {
   "cell_type": "code",
   "execution_count": 130,
   "metadata": {},
   "outputs": [],
   "source": [
    "def hist_eq(image):\n",
    "    im = cv2.imread(image)\n",
    "    im_gray = cv2.cvtColor(im, cv2.COLOR_BGR2GRAY)\n",
    "    \n",
    "    #original gray scale histogram\n",
    "    plt.hist(im_gray.flatten(), bins = 256, color = 'gray')\n",
    "    plt.axvline(im_gray.mean(), color='k', linestyle='dashed', linewidth=2)\n",
    "    plt.title('Original Histogram')\n",
    "    plt.show()\n",
    "    \n",
    "    pixels = im_gray.flatten()\n",
    "    count, bins = np.histogram(pixels, bins = 256)\n",
    "    \n",
    "    #cdf\n",
    "    cdf = pd.DataFrame(np.cumsum(count/sum(count))).reset_index(col_level=0)\n",
    "    cdf.columns = ['pixels', 'cdf']\n",
    "\n",
    "    #original gray scale pixels\n",
    "    pixels = pd.DataFrame(pixels)\n",
    "    pixels.columns = ['pixels']\n",
    "    \n",
    "    #transformation\n",
    "    out = pd.merge(pixels, cdf, on = 'pixels', how='left')\n",
    "    out['out'] = 255*out['cdf']\n",
    "    \n",
    "    #out\n",
    "    out = np.array(out['out']).reshape(im_gray.shape[0], im_gray.shape[1], 1)\n",
    "\n",
    "    count, bins = np.histogram(out, bins = 256)\n",
    "    \n",
    "    #result histogram\n",
    "    plt.hist(out.flatten(), bins = 256, color = 'gray')\n",
    "    plt.axvline(out.mean(), color='k', linestyle='dashed', linewidth=2)\n",
    "    plt.title('Result Histogram')\n",
    "    plt.show()\n",
    "    \n",
    "    #original image\n",
    "    cv2.imwrite(\"original_gray.jpg\", im_gray)\n",
    "    original_gray_image = cv2.imread(\"original_gray.jpg\")\n",
    "    cv2.imshow(\"Original Gray Image\", original_gray_image)\n",
    "    \n",
    "    #result image\n",
    "    cv2.imwrite(\"gray.jpg\", out)\n",
    "    gray_image = cv2.imread(\"gray.jpg\")\n",
    "    cv2.imshow(\"Result Gray Image\", gray_image)\n",
    "    \n",
    "    #parameters\n",
    "    cv2.waitKey(16000)\n",
    "    cv2.destroyAllWindows()\n",
    "    cv2.waitKey(1)\n",
    "    sys.exit()"
   ]
  },
  {
   "cell_type": "code",
   "execution_count": 131,
   "metadata": {},
   "outputs": [
    {
     "data": {
      "image/png": "[encoded data removed]",
      "text/plain": [
       "<Figure size 432x288 with 1 Axes>"
      ]
     },
     "metadata": {
      "needs_background": "light"
     },
     "output_type": "display_data"
    },
    {
     "data": {
      "image/png": "[encoded data removed]",
      "text/plain": [
       "<Figure size 432x288 with 1 Axes>"
      ]
     },
     "metadata": {
      "needs_background": "light"
     },
     "output_type": "display_data"
    },
    {
     "ename": "SystemExit",
     "evalue": "",
     "output_type": "error",
     "traceback": [
      "An exception has occurred, use %tb to see the full traceback.\n",
      "\u001b[0;31mSystemExit\u001b[0m\n"
     ]
    }
   ],
   "source": [
    "hist_eq('nature.jpg')"
   ]
  },
  {
   "cell_type": "markdown",
   "metadata": {},
   "source": [
    "### Original Grayscale Image"
   ]
  },
  {
   "cell_type": "markdown",
   "metadata": {},
   "source": [
    "<img src=\"original_gray.jpg\"/>"
   ]
  },
  {
   "cell_type": "markdown",
   "metadata": {},
   "source": [
    "### Result Grayscale Image"
   ]
  },
  {
   "cell_type": "markdown",
   "metadata": {},
   "source": [
    "<img src=\"gray.jpg\"/>"
   ]
  },
  {
   "cell_type": "markdown",
   "metadata": {},
   "source": [
    "As you can see we have a more clear image with the same content."
   ]
  },
  {
   "cell_type": "code",
   "execution_count": null,
   "metadata": {},
   "outputs": [],
   "source": []
  }
 ],
 "metadata": {
  "kernelspec": {
   "display_name": "Python 3",
   "language": "python",
   "name": "python3"
  },
  "language_info": {
   "codemirror_mode": {
    "name": "ipython",
    "version": 3
   },
   "file_extension": ".py",
   "mimetype": "text/x-python",
   "name": "python",
   "nbconvert_exporter": "python",
   "pygments_lexer": "ipython3",
   "version": "3.7.3"
  }
 },
 "nbformat": 4,
 "nbformat_minor": 2
}
