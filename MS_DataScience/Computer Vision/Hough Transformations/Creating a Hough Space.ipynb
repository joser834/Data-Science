{
 "cells": [
  {
   "cell_type": "code",
   "execution_count": 1,
   "metadata": {},
   "outputs": [],
   "source": [
    "import numpy as np\n",
    "import pandas as pd\n",
    "import math\n",
    "import cv2"
   ]
  },
  {
   "cell_type": "markdown",
   "metadata": {},
   "source": [
    "## Hough Transformation to detect lines"
   ]
  },
  {
   "cell_type": "code",
   "execution_count": 2,
   "metadata": {},
   "outputs": [],
   "source": [
    "def hough_transformation(img_color, threshold, lineColor, lineThickness, outputName):\n",
    "    img_file_str = img_color\n",
    "    img = cv2.imread(img_file_str)\n",
    "\n",
    "    gray = cv2.cvtColor(img, cv2.COLOR_BGR2GRAY)\n",
    "\n",
    "    canny_out = cv2.Canny(gray, 50, 200)\n",
    "\n",
    "    hough_out = cv2.HoughLinesP(\n",
    "        image = canny_out, \n",
    "        rho = 1, \n",
    "        theta = np.pi/180, \n",
    "        threshold = 100, \n",
    "        minLineLength = 10, \n",
    "        maxLineGap = 250\n",
    "    )\n",
    "\n",
    "    for i in hough_out:\n",
    "        x1, y1, x2, y2 = i[0]\n",
    "        cv2.line(\n",
    "            img = img, \n",
    "            pt1 = (x1, y1), \n",
    "            pt2 = (x2, y2), \n",
    "            color = lineColor, \n",
    "            thickness = lineThickness\n",
    "        )\n",
    "\n",
    "    cv2.imwrite(outputName+'.jpg', img)"
   ]
  },
  {
   "cell_type": "markdown",
   "metadata": {},
   "source": [
    "### Example 1"
   ]
  },
  {
   "cell_type": "code",
   "execution_count": 3,
   "metadata": {},
   "outputs": [],
   "source": [
    "hough_transformation(\n",
    "    img_color = 'Ejercicio1/campo1.jpg', \n",
    "    threshold = 100,\n",
    "    lineColor = (128, 0, 0),\n",
    "    lineThickness = 2,\n",
    "    outputName = 'field1'\n",
    ")"
   ]
  },
  {
   "cell_type": "markdown",
   "metadata": {},
   "source": [
    "### Original Image"
   ]
  },
  {
   "cell_type": "markdown",
   "metadata": {},
   "source": [
    "<img src='Ejercicio1/campo1.jpg'>"
   ]
  },
  {
   "cell_type": "markdown",
   "metadata": {},
   "source": [
    "### Result Image"
   ]
  },
  {
   "cell_type": "markdown",
   "metadata": {},
   "source": [
    "<img src='field1.jpg'>"
   ]
  },
  {
   "cell_type": "markdown",
   "metadata": {},
   "source": [
    "### Example 2"
   ]
  },
  {
   "cell_type": "code",
   "execution_count": 4,
   "metadata": {},
   "outputs": [],
   "source": [
    "hough_transformation(\n",
    "    img_color = 'Ejercicio1/campo2.jpg', \n",
    "    threshold = 100,\n",
    "    lineColor = (128, 0, 0),\n",
    "    lineThickness = 2,\n",
    "    outputName = 'field2'\n",
    ")"
   ]
  },
  {
   "cell_type": "markdown",
   "metadata": {},
   "source": [
    "### Original Image"
   ]
  },
  {
   "cell_type": "markdown",
   "metadata": {},
   "source": [
    "<img src='Ejercicio1/campo2.jpg'>"
   ]
  },
  {
   "cell_type": "markdown",
   "metadata": {},
   "source": [
    "### Result Image"
   ]
  },
  {
   "cell_type": "markdown",
   "metadata": {},
   "source": [
    "<img src='field2.jpg'>"
   ]
  },
  {
   "cell_type": "markdown",
   "metadata": {},
   "source": [
    "### Example 3"
   ]
  },
  {
   "cell_type": "code",
   "execution_count": 5,
   "metadata": {},
   "outputs": [],
   "source": [
    "hough_transformation(\n",
    "    img_color = 'Ejercicio1/campo3.jpg', \n",
    "    threshold = 100,\n",
    "    lineColor = (128, 0, 0),\n",
    "    lineThickness = 2,\n",
    "    outputName = 'field3'\n",
    ")"
   ]
  },
  {
   "cell_type": "markdown",
   "metadata": {},
   "source": [
    "### Original Image"
   ]
  },
  {
   "cell_type": "markdown",
   "metadata": {},
   "source": [
    "<img src='Ejercicio1/campo3.jpg'>"
   ]
  },
  {
   "cell_type": "markdown",
   "metadata": {},
   "source": [
    "### Result Image"
   ]
  },
  {
   "cell_type": "markdown",
   "metadata": {},
   "source": [
    "<img src='field3.jpg'>"
   ]
  },
  {
   "cell_type": "code",
   "execution_count": null,
   "metadata": {},
   "outputs": [],
   "source": []
  }
 ],
 "metadata": {
  "kernelspec": {
   "display_name": "Python 3",
   "language": "python",
   "name": "python3"
  },
  "language_info": {
   "codemirror_mode": {
    "name": "ipython",
    "version": 3
   },
   "file_extension": ".py",
   "mimetype": "text/x-python",
   "name": "python",
   "nbconvert_exporter": "python",
   "pygments_lexer": "ipython3",
   "version": "3.7.3"
  }
 },
 "nbformat": 4,
 "nbformat_minor": 4
}
