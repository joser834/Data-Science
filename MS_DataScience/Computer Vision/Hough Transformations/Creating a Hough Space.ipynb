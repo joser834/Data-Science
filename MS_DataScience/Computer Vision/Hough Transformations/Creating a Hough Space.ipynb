{
 "cells": [
  {
   "cell_type": "code",
   "execution_count": 5,
   "metadata": {},
   "outputs": [],
   "source": [
    "import numpy as np\n",
    "import pandas as pd\n",
    "import math\n",
    "import cv2"
   ]
  },
  {
   "cell_type": "code",
   "execution_count": 16,
   "metadata": {},
   "outputs": [
    {
     "name": "stdout",
     "output_type": "stream",
     "text": [
      "El máximo está en: (array([0]), array([0]))\n",
      "Y: [0]\n",
      "X: [0]\n"
     ]
    },
    {
     "data": {
      "text/plain": [
       "(array([0]), array([0]))"
      ]
     },
     "execution_count": 16,
     "metadata": {},
     "output_type": "execute_result"
    }
   ],
   "source": [
    "img_file_str = 'dots.png'\n",
    "img = cv2.imread(img_file_str)\n",
    "\n",
    "grayImg = cv2.cvtColor(img, cv2.COLOR_BGR2GRAY)\n",
    "\n",
    "cannyOut = cv2.Canny(grayImg, 100, 200)\n",
    "\n",
    "height = img.shape[0]\n",
    "width = img.shape[1]\n",
    "\n",
    "#diagonal\n",
    "diag = int(math.sqrt(width**2 + height**2))\n",
    "\n",
    "hough_space = np.zeros((diag, 180))\n",
    "\n",
    "for i in range(0, height):\n",
    "    for j in range(0, width):\n",
    "        if(cannyOut[i,j]>=128):\n",
    "            for k in range(0, 180, 1):\n",
    "                d = int(i*math.pi/180 - j*math.sin(k*math.pi/180))\n",
    "                hough_space[d,k] = hough_space[d,k] + 1\n",
    "                \n",
    "result = np.where(hough_space == np.max(hough_space))\n",
    "print('El máximo está en:', str(result))\n",
    "\n",
    "print('Y:', str(result[0]))\n",
    "print('X:', str(result[0]))\n",
    "\n",
    "cv2.imwrite('hough', result)"
   ]
  },
  {
   "cell_type": "code",
   "execution_count": null,
   "metadata": {},
   "outputs": [],
   "source": []
  },
  {
   "cell_type": "code",
   "execution_count": null,
   "metadata": {},
   "outputs": [],
   "source": []
  }
 ],
 "metadata": {
  "kernelspec": {
   "display_name": "Python 3",
   "language": "python",
   "name": "python3"
  },
  "language_info": {
   "codemirror_mode": {
    "name": "ipython",
    "version": 3
   },
   "file_extension": ".py",
   "mimetype": "text/x-python",
   "name": "python",
   "nbconvert_exporter": "python",
   "pygments_lexer": "ipython3",
   "version": "3.7.3"
  }
 },
 "nbformat": 4,
 "nbformat_minor": 4
}
