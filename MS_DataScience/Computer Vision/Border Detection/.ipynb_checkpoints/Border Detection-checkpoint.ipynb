{
 "cells": [
  {
   "cell_type": "code",
   "execution_count": 1,
   "metadata": {},
   "outputs": [],
   "source": [
    "import cv2\n",
    "import numpy as np\n",
    "import pandas as pd\n",
    "import math\n",
    "import matplotlib.pyplot as plt\n",
    "import sys\n",
    "%matplotlib inline\n",
    "np.set_printoptions(suppress=True)"
   ]
  },
  {
   "cell_type": "markdown",
   "metadata": {},
   "source": [
    "## Border Detection"
   ]
  },
  {
   "cell_type": "markdown",
   "metadata": {},
   "source": [
    "In this notebook you will see an implementation of the Canny's Algorithm for border detection. This algorith has the following steps:\n",
    "\n",
    "1. Gaussian noise reduction\n",
    "2. X and Y Derivatives\n",
    "3. Gradient calculation\n",
    "4. Phase calculation\n",
    "5. Non-maximum suppression\n",
    "6. Double threshold\n",
    "7. Edge Tracking by Hysteresis"
   ]
  },
  {
   "cell_type": "markdown",
   "metadata": {},
   "source": [
    "## 1. Gaussian Noise Reduction - Convolution Filter"
   ]
  },
  {
   "cell_type": "code",
   "execution_count": 2,
   "metadata": {},
   "outputs": [],
   "source": [
    "def convolutional_filter(imagen, kernel):\n",
    "    alto = imagen.shape[0]\n",
    "    ancho =  imagen.shape[1]\n",
    "    \n",
    "    altoKernel = len(kernel[:,0])\n",
    "    anchoKernel = len(kernel[0,:])\n",
    "\n",
    "    #parte entera del centro del kernel\n",
    "    step = int(len(kernel[0,:])/2)\n",
    "\n",
    "    newImg = np.zeros((alto, ancho, 1))\n",
    "    \n",
    "    for i in range(step, alto - step):\n",
    "        newPixel = 0\n",
    "        for j in range(step, ancho - step):\n",
    "            ventana = imagen[i-step:i+2*step, j-step:j+2*step]\n",
    "            newPixel = 0\n",
    "            for m in range(0, altoKernel):\n",
    "                for n in range(0, anchoKernel):\n",
    "                    newPixel = newPixel + ventana[m, n] * kernel[m, n]\n",
    "            newImg[i, j] = int(newPixel)\n",
    "    \n",
    "    return newImg"
   ]
  },
  {
   "cell_type": "markdown",
   "metadata": {},
   "source": [
    "## 2. X and Y Derivatives"
   ]
  },
  {
   "cell_type": "code",
   "execution_count": 3,
   "metadata": {},
   "outputs": [],
   "source": [
    "def dx(image):\n",
    "    #im = cv2.imread(image)\n",
    "    #im_gray = cv2.cvtColor(im, cv2.COLOR_BGR2GRAY)\n",
    "    im_gray = image\n",
    "    height = im_gray.shape[0]\n",
    "    width = im_gray.shape[1]\n",
    "    \n",
    "    new_x = np.zeros((height, width,1))\n",
    "    for i in range(0, height-1):\n",
    "        for j in range(0, width):\n",
    "            new_x[i,j] = im_gray[i+1,j] - im_gray[i,j]\n",
    "    \n",
    "    return(new_x)"
   ]
  },
  {
   "cell_type": "code",
   "execution_count": 4,
   "metadata": {},
   "outputs": [],
   "source": [
    "def dy(image):\n",
    "    #im = cv2.imread(image)\n",
    "    #im_gray = cv2.cvtColor(im, cv2.COLOR_BGR2GRAY)\n",
    "    im_gray = image\n",
    "    \n",
    "    height = im_gray.shape[0]\n",
    "    width = im_gray.shape[1]\n",
    "    \n",
    "    new_y = np.zeros((height, width,1))\n",
    "    for i in range(0, height):\n",
    "        for j in range(0, width-1):\n",
    "            new_y[i,j] = im_gray[i,j+1] - im_gray[i,j]\n",
    "    \n",
    "    return(new_y)        "
   ]
  },
  {
   "cell_type": "markdown",
   "metadata": {},
   "source": [
    "## 3. Gradient"
   ]
  },
  {
   "cell_type": "code",
   "execution_count": 5,
   "metadata": {},
   "outputs": [],
   "source": [
    "def gradient(x, y):\n",
    "    height = x.shape[0]\n",
    "    width = x.shape[1]\n",
    "    \n",
    "    gr = np.zeros((height, width, 1))\n",
    "\n",
    "    for i in range(0, height):\n",
    "        for j in range(0, width):\n",
    "            gr[i,j] = np.sqrt(x[i,j]**2 + y[i,j]**2)\n",
    "    \n",
    "    return(gr)"
   ]
  },
  {
   "cell_type": "markdown",
   "metadata": {},
   "source": [
    "## 4. Phase"
   ]
  },
  {
   "cell_type": "code",
   "execution_count": 6,
   "metadata": {},
   "outputs": [],
   "source": [
    "def phase(x, y):\n",
    "    height = x.shape[0]\n",
    "    width = x.shape[1]\n",
    "    \n",
    "    ph = np.zeros((height, width, 1))\n",
    "\n",
    "    for i in range(0, height):\n",
    "        for j in range(0, width):\n",
    "            ph[i,j] = np.where((math.atan2(y[i,j], x[i,j]) * (180/np.pi))<0,\n",
    "                               (math.atan2(y[i,j], x[i,j]) * (180/np.pi))+360,\n",
    "                               (math.atan2(y[i,j], x[i,j]) * (180/np.pi)))\n",
    "    \n",
    "    return(ph)"
   ]
  },
  {
   "cell_type": "markdown",
   "metadata": {},
   "source": [
    "## 5. Non-Maximum Supression"
   ]
  },
  {
   "cell_type": "code",
   "execution_count": 10,
   "metadata": {},
   "outputs": [],
   "source": [
    "def nms(im_gray, ph, exp_name):\n",
    "    \n",
    "    height = ph.shape[0]\n",
    "    width = ph.shape[1]\n",
    "\n",
    "    nms = np.zeros((height, width))\n",
    "\n",
    "    for i in range(1, height-2):\n",
    "        for j in range(1, width-2):\n",
    "            nms[i,j] = np.where(\n",
    "                (((ph[i,j]>=337.5)&(ph[i,j]<=360)) or ((ph[i,j]<22.5)&(ph[i,j]>=0))) or ((ph[i,j]>=157.5) & (ph[i,j]<202.5)),\n",
    "                np.where(np.argmax(im_gray[i,j-1:j+2])==im_gray[i,j],im_gray[i,j],0),\n",
    "                np.where(\n",
    "                    ((ph[i,j]>=22.5) & (ph[i,j]<67.5)) or ((ph[i,j]>=202.5) & (ph[i,j]<247.5)),\n",
    "                    np.where(np.max(np.array([im_gray[i+1,j-1], im_gray[i,j], im_gray[i-1,j+1]]))==im_gray[i,j],im_gray[i,j],0),\n",
    "                    np.where(\n",
    "                        ((ph[i,j]>=67.5) & (ph[i,j]<112.5)) or ((ph[i,j]>=247.5) & (ph[i,j]<292.5)),\n",
    "                        np.where(np.max(im_gray[i-1:i+2,j])==im_gray[i,j],im_gray[i,j],0),\n",
    "                        np.where(np.max(np.array([im_gray[i-1,j-1], im_gray[i,j], im_gray[i+1,j+1]]))==im_gray[i,j],im_gray[i,j],0)\n",
    "                    )\n",
    "                )\n",
    "            )\n",
    "            \n",
    "    return(nms)"
   ]
  },
  {
   "cell_type": "markdown",
   "metadata": {},
   "source": [
    "## 6. Thresholding"
   ]
  },
  {
   "cell_type": "code",
   "execution_count": 11,
   "metadata": {},
   "outputs": [],
   "source": [
    "def binarization(image, threshold, exp_name):\n",
    "\n",
    "    im_gray = image\n",
    "    \n",
    "    height = im_gray.shape[0]\n",
    "    width = im_gray.shape[1]\n",
    "    \n",
    "    im_binary = np.where(im_gray<=threshold,0,255)\n",
    "    \n",
    "    #result image\n",
    "    cv2.imwrite(exp_name+'_im_binary.jpg', im_binary)\n",
    "    return(im_binary)"
   ]
  },
  {
   "cell_type": "markdown",
   "metadata": {},
   "source": [
    "## Border Detection Algorithm\n",
    "--- Putting it all together ---"
   ]
  },
  {
   "cell_type": "code",
   "execution_count": 15,
   "metadata": {},
   "outputs": [],
   "source": [
    "experiment = 'nature'\n",
    "\n",
    "#Initial variables\n",
    "im = cv2.imread(experiment+'.jpg')\n",
    "im = cv2.cvtColor(im, cv2.COLOR_BGR2GRAY)\n",
    "gauss_kernel = np.array([[1/16., 2/16., 1/16.], [2/16., 4/16., 2/16.], [1/16., 2/16., 1/16.]])\n",
    "\n",
    "#convolutional filter\n",
    "conv = convolutional_filter(im, gauss_kernel)\n",
    "\n",
    "#x and y derivatives\n",
    "der_x = dx(conv)\n",
    "der_y = dy(conv)\n",
    "\n",
    "#gradient and phase calculation\n",
    "gr = gradient(der_x, der_y)\n",
    "ph = phase(der_x, der_y)\n",
    "\n",
    "#non-maximum suppression\n",
    "non_max = nms(gr, ph, exp_name = experiment)\n",
    "\n",
    "#final thresholding\n",
    "binary = binarization(non_max, 12, exp_name = experiment)"
   ]
  },
  {
   "cell_type": "markdown",
   "metadata": {},
   "source": [
    "### Example #1: Original Image"
   ]
  },
  {
   "cell_type": "markdown",
   "metadata": {},
   "source": [
    "<img src='iceland.jpg'/>"
   ]
  },
  {
   "cell_type": "markdown",
   "metadata": {},
   "source": [
    "### Example #1: Result Image ---> Border Detection with a Gaussian Filter"
   ]
  },
  {
   "cell_type": "markdown",
   "metadata": {},
   "source": [
    "<img src='iceland_im_binary.jpg'/>"
   ]
  },
  {
   "cell_type": "markdown",
   "metadata": {},
   "source": [
    "## Example #2: Original Image"
   ]
  },
  {
   "cell_type": "markdown",
   "metadata": {},
   "source": [
    "<img src='car.jpg'/>"
   ]
  },
  {
   "cell_type": "markdown",
   "metadata": {},
   "source": [
    "### Example #2: Result Image ---> Border Detection with a Gaussian Filter"
   ]
  },
  {
   "cell_type": "markdown",
   "metadata": {},
   "source": [
    "<img src='car_im_binary.jpg'/>"
   ]
  },
  {
   "cell_type": "markdown",
   "metadata": {},
   "source": [
    "## Example #3: Original Image"
   ]
  },
  {
   "cell_type": "markdown",
   "metadata": {},
   "source": [
    "<img src='nature.jpg'/>"
   ]
  },
  {
   "cell_type": "markdown",
   "metadata": {},
   "source": [
    "## Example #3: Result Image ---> Border Detection with a Gaussian Filter"
   ]
  },
  {
   "cell_type": "markdown",
   "metadata": {},
   "source": [
    "<img src='nature_im_binary.jpg'/>"
   ]
  },
  {
   "cell_type": "code",
   "execution_count": null,
   "metadata": {},
   "outputs": [],
   "source": []
  }
 ],
 "metadata": {
  "kernelspec": {
   "display_name": "Python 3",
   "language": "python",
   "name": "python3"
  },
  "language_info": {
   "codemirror_mode": {
    "name": "ipython",
    "version": 3
   },
   "file_extension": ".py",
   "mimetype": "text/x-python",
   "name": "python",
   "nbconvert_exporter": "python",
   "pygments_lexer": "ipython3",
   "version": "3.7.3"
  }
 },
 "nbformat": 4,
 "nbformat_minor": 4
}
