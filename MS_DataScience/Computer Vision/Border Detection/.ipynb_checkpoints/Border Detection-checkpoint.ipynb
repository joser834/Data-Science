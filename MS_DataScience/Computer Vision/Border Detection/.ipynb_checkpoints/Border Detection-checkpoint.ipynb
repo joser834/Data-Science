{
 "cells": [
  {
   "cell_type": "code",
   "execution_count": 48,
   "metadata": {},
   "outputs": [],
   "source": [
    "import cv2\n",
    "import numpy as np\n",
    "import pandas as pd\n",
    "import math\n",
    "import matplotlib.pyplot as plt\n",
    "import sys\n",
    "%matplotlib inline\n",
    "np.set_printoptions(suppress=True)"
   ]
  },
  {
   "cell_type": "markdown",
   "metadata": {},
   "source": [
    "## Border Detection"
   ]
  },
  {
   "cell_type": "markdown",
   "metadata": {},
   "source": [
    "In this notebook you will see an implementation of the Canny's Algorithm for border detection. This algorith has the following steps:\n",
    "\n",
    "1. Gaussian noise reduction\n",
    "2. X and Y Derivatives\n",
    "3. Gradient calculation\n",
    "4. Phase calculation\n",
    "5. Non-maximum suppression\n",
    "6. Double threshold\n",
    "7. Edge Tracking by Hysteresis"
   ]
  },
  {
   "cell_type": "markdown",
   "metadata": {},
   "source": [
    "## 2. X and Y Derivatives"
   ]
  },
  {
   "cell_type": "code",
   "execution_count": 30,
   "metadata": {},
   "outputs": [],
   "source": [
    "def dx(image):\n",
    "    im = cv2.imread(image)\n",
    "    im_gray = cv2.cvtColor(im, cv2.COLOR_BGR2GRAY)\n",
    "\n",
    "    height = im.shape[0]\n",
    "    weight = im.shape[1]\n",
    "    \n",
    "    new_x = np.zeros((height, weight,1))\n",
    "    for i in range(0, height-1):\n",
    "        for j in range(0, weight):\n",
    "            new_x[i,j] = im_gray[i+1,j] - im_gray[i,j]\n",
    "    \n",
    "    return(new_x)        "
   ]
  },
  {
   "cell_type": "code",
   "execution_count": 34,
   "metadata": {},
   "outputs": [],
   "source": [
    "def dy(image):\n",
    "    im = cv2.imread(image)\n",
    "    im_gray = cv2.cvtColor(im, cv2.COLOR_BGR2GRAY)\n",
    "\n",
    "    height = im.shape[0]\n",
    "    weight = im.shape[1]\n",
    "    \n",
    "    new_y = np.zeros((height, weight,1))\n",
    "    for i in range(0, height):\n",
    "        for j in range(0, weight-1):\n",
    "            new_y[i,j] = im_gray[i,j+1] - im_gray[i,j]\n",
    "    \n",
    "    return(new_y)        "
   ]
  },
  {
   "cell_type": "markdown",
   "metadata": {},
   "source": [
    "## 3. Gradient"
   ]
  },
  {
   "cell_type": "code",
   "execution_count": 46,
   "metadata": {},
   "outputs": [],
   "source": [
    "def gradient(x, y):\n",
    "    height = x.shape[0]\n",
    "    weight = x.shape[1]\n",
    "    \n",
    "    gr = np.zeros((height, weight, 1))\n",
    "\n",
    "    for i in range(0, height):\n",
    "        for j in range(0, weight):\n",
    "            gr[i,j] = np.sqrt(x[i,j]**2 + y[i,j]**2)\n",
    "    \n",
    "    return(gr)"
   ]
  },
  {
   "cell_type": "markdown",
   "metadata": {},
   "source": [
    "## 4. Phase"
   ]
  },
  {
   "cell_type": "code",
   "execution_count": 53,
   "metadata": {},
   "outputs": [],
   "source": [
    "def phase(x, y):\n",
    "    height = x.shape[0]\n",
    "    weight = x.shape[1]\n",
    "    \n",
    "    ph = np.zeros((height, weight, 1))\n",
    "\n",
    "    for i in range(0, height):\n",
    "        for j in range(0, weight):\n",
    "            ph[i,j] = np.where((math.atan2(y[i,j], x[i,j]) * (180/np.pi))<0,\n",
    "                               (math.atan2(y[i,j], x[i,j]) * (180/np.pi))+360,\n",
    "                               (math.atan2(y[i,j], x[i,j]) * (180/np.pi)))\n",
    "    \n",
    "    return(ph)"
   ]
  },
  {
   "cell_type": "markdown",
   "metadata": {},
   "source": [
    "## 5. Non-Maximum Supression"
   ]
  },
  {
   "cell_type": "code",
   "execution_count": null,
   "metadata": {},
   "outputs": [],
   "source": [
    "def nms(x, y, ph):\n",
    "    height = x.shape[0]\n",
    "    weight = x.shape[1]\n",
    "    \n",
    "    flag = np.zeros((height, weight, 1))\n",
    "    nms = np.zeros((height, weight, 1))\n",
    "    \n",
    "    for i in range(0, height):\n",
    "        for j in range(0, weight):\n",
    "            flag[i,j] = np.where(\n",
    "                ((ph[i,j]>=337.5) & (ph[i,j]<=22.5)) or ((ph[i,j]>157.5) & (ph[i,j]<=202.5)),\n",
    "                0,\n",
    "                np.where(\n",
    "                    ph[i,j]>22.5 & ph[i,j]<=45,\n",
    "                    2\n",
    "                )\n",
    "            )"
   ]
  },
  {
   "cell_type": "code",
   "execution_count": 58,
   "metadata": {},
   "outputs": [
    {
     "name": "stderr",
     "output_type": "stream",
     "text": [
      "/Users/jjosue/anaconda3/envs/galileo_python/lib/python3.7/site-packages/ipykernel_launcher.py:11: RuntimeWarning: overflow encountered in ubyte_scalars\n",
      "  # This is added back by InteractiveShellApp.init_path()\n"
     ]
    },
    {
     "data": {
      "text/plain": [
       "90.0"
      ]
     },
     "execution_count": 58,
     "metadata": {},
     "output_type": "execute_result"
    }
   ],
   "source": [
    "np.max(phase(\n",
    "    x = dx('nature.jpg'),\n",
    "    y = dy('nature.jpg')\n",
    "))"
   ]
  },
  {
   "cell_type": "code",
   "execution_count": 60,
   "metadata": {},
   "outputs": [
    {
     "data": {
      "text/plain": [
       "22.5"
      ]
     },
     "execution_count": 60,
     "metadata": {},
     "output_type": "execute_result"
    }
   ],
   "source": [
    "360/16"
   ]
  },
  {
   "cell_type": "code",
   "execution_count": null,
   "metadata": {},
   "outputs": [],
   "source": []
  },
  {
   "cell_type": "code",
   "execution_count": null,
   "metadata": {},
   "outputs": [],
   "source": []
  },
  {
   "cell_type": "code",
   "execution_count": null,
   "metadata": {},
   "outputs": [],
   "source": []
  },
  {
   "cell_type": "code",
   "execution_count": null,
   "metadata": {},
   "outputs": [],
   "source": []
  },
  {
   "cell_type": "code",
   "execution_count": null,
   "metadata": {},
   "outputs": [],
   "source": []
  },
  {
   "cell_type": "code",
   "execution_count": null,
   "metadata": {},
   "outputs": [],
   "source": []
  },
  {
   "cell_type": "code",
   "execution_count": null,
   "metadata": {},
   "outputs": [],
   "source": []
  }
 ],
 "metadata": {
  "kernelspec": {
   "display_name": "Python 3",
   "language": "python",
   "name": "python3"
  },
  "language_info": {
   "codemirror_mode": {
    "name": "ipython",
    "version": 3
   },
   "file_extension": ".py",
   "mimetype": "text/x-python",
   "name": "python",
   "nbconvert_exporter": "python",
   "pygments_lexer": "ipython3",
   "version": "3.7.3"
  }
 },
 "nbformat": 4,
 "nbformat_minor": 2
}
