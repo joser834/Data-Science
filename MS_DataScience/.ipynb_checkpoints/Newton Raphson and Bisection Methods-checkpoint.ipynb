{
 "cells": [
  {
   "cell_type": "code",
   "execution_count": 1,
   "metadata": {},
   "outputs": [],
   "source": [
    "import numpy as np\n",
    "import pandas as pd\n",
    "import matplotlib.pyplot as plt\n",
    "import math\n",
    "import re"
   ]
  },
  {
   "cell_type": "code",
   "execution_count": 2,
   "metadata": {},
   "outputs": [],
   "source": [
    "def generate_function(eq):\n",
    "    func = re.sub(r' ', '', eq)\n",
    "    func = re.sub(r'(\\^)', '**', func)\n",
    "    func = re.sub(r'x', '*x', func)\n",
    "    func = re.sub(r'([\\+]+\\*)', '+', func)\n",
    "    func = re.sub(r'([\\-]+\\*)', '-', func)\n",
    "    func = re.sub(r'^(\\*)', '', func)\n",
    "    return(func)"
   ]
  },
  {
   "cell_type": "code",
   "execution_count": 3,
   "metadata": {},
   "outputs": [],
   "source": [
    "def derivative(eq):\n",
    "    func0 = eq.replace('x', '(x+(2*h))')\n",
    "    func1 = eq.replace('x', '(x+h)')\n",
    "    func = '-(' + func0 + '-4*(' + func1 + ')+3*(' + eq + '))/(2*h)'\n",
    "    return(func)"
   ]
  },
  {
   "cell_type": "markdown",
   "metadata": {},
   "source": [
    "## Método de Newton-Raphson"
   ]
  },
  {
   "cell_type": "code",
   "execution_count": 4,
   "metadata": {},
   "outputs": [],
   "source": [
    "def newton_raphson(equation, x, tolerance):\n",
    "    h = 0.000001\n",
    "    \n",
    "    log = pd.DataFrame(columns = ['Iteration', 'Xk', 'Xk+1', 'Error', 'F(x)', \"F'(x)\"])\n",
    "    \n",
    "    error = 100\n",
    "    iteration = 0\n",
    "    while error > tolerance:\n",
    "        x_in = x\n",
    "        x = x - (eval(generate_function(equation))/eval(derivative(generate_function(equation))))\n",
    "        error = np.abs(x-x_in)\n",
    "        iteration += 1\n",
    "\n",
    "        log_info = {\n",
    "            'Iteration' : iteration,\n",
    "            'Xk' : x_in,\n",
    "            'Xk+1' : x,\n",
    "            'Error' : error,\n",
    "            'F(x)' : eval(generate_function(equation)),\n",
    "            \"F'(x)\" : eval(derivative(generate_function(equation)))\n",
    "        }\n",
    "        log = log.append(log_info, ignore_index=True)\n",
    "        sol = [iteration, x, error]\n",
    "        \n",
    "    \n",
    "    return(log, sol)"
   ]
  },
  {
   "cell_type": "markdown",
   "metadata": {},
   "source": [
    "### Utilizando el método de Newton Raphson\n",
    "\n",
    "f(x) = 4x^4 - 4x + 1"
   ]
  },
  {
   "cell_type": "code",
   "execution_count": 22,
   "metadata": {},
   "outputs": [
    {
     "data": {
      "text/html": [
       "<div>\n",
       "<style scoped>\n",
       "    .dataframe tbody tr th:only-of-type {\n",
       "        vertical-align: middle;\n",
       "    }\n",
       "\n",
       "    .dataframe tbody tr th {\n",
       "        vertical-align: top;\n",
       "    }\n",
       "\n",
       "    .dataframe thead th {\n",
       "        text-align: right;\n",
       "    }\n",
       "</style>\n",
       "<table border=\"1\" class=\"dataframe\">\n",
       "  <thead>\n",
       "    <tr style=\"text-align: right;\">\n",
       "      <th></th>\n",
       "      <th>Iteration</th>\n",
       "      <th>Xk</th>\n",
       "      <th>Xk+1</th>\n",
       "      <th>Error</th>\n",
       "      <th>F(x)</th>\n",
       "      <th>F'(x)</th>\n",
       "    </tr>\n",
       "  </thead>\n",
       "  <tbody>\n",
       "    <tr>\n",
       "      <th>0</th>\n",
       "      <td>1.0</td>\n",
       "      <td>1.000000</td>\n",
       "      <td>0.916667</td>\n",
       "      <td>8.333333e-02</td>\n",
       "      <td>1.576003e-01</td>\n",
       "      <td>8.324074</td>\n",
       "    </tr>\n",
       "    <tr>\n",
       "      <th>1</th>\n",
       "      <td>2.0</td>\n",
       "      <td>0.916667</td>\n",
       "      <td>0.897734</td>\n",
       "      <td>1.893307e-02</td>\n",
       "      <td>7.129944e-03</td>\n",
       "      <td>7.576104</td>\n",
       "    </tr>\n",
       "    <tr>\n",
       "      <th>2</th>\n",
       "      <td>3.0</td>\n",
       "      <td>0.897734</td>\n",
       "      <td>0.896792</td>\n",
       "      <td>9.411096e-04</td>\n",
       "      <td>1.711918e-05</td>\n",
       "      <td>7.539736</td>\n",
       "    </tr>\n",
       "    <tr>\n",
       "      <th>3</th>\n",
       "      <td>4.0</td>\n",
       "      <td>0.896792</td>\n",
       "      <td>0.896790</td>\n",
       "      <td>2.270528e-06</td>\n",
       "      <td>9.950618e-11</td>\n",
       "      <td>7.539648</td>\n",
       "    </tr>\n",
       "    <tr>\n",
       "      <th>4</th>\n",
       "      <td>5.0</td>\n",
       "      <td>0.896790</td>\n",
       "      <td>0.896790</td>\n",
       "      <td>1.319778e-11</td>\n",
       "      <td>-4.440892e-16</td>\n",
       "      <td>7.539648</td>\n",
       "    </tr>\n",
       "  </tbody>\n",
       "</table>\n",
       "</div>"
      ],
      "text/plain": [
       "   Iteration        Xk      Xk+1         Error          F(x)     F'(x)\n",
       "0        1.0  1.000000  0.916667  8.333333e-02  1.576003e-01  8.324074\n",
       "1        2.0  0.916667  0.897734  1.893307e-02  7.129944e-03  7.576104\n",
       "2        3.0  0.897734  0.896792  9.411096e-04  1.711918e-05  7.539736\n",
       "3        4.0  0.896792  0.896790  2.270528e-06  9.950618e-11  7.539648\n",
       "4        5.0  0.896790  0.896790  1.319778e-11 -4.440892e-16  7.539648"
      ]
     },
     "execution_count": 22,
     "metadata": {},
     "output_type": "execute_result"
    }
   ],
   "source": [
    "res, sol = newton_raphson('4x^4-4x+1', x = 1, tolerance = 1e-6)\n",
    "res"
   ]
  },
  {
   "cell_type": "markdown",
   "metadata": {},
   "source": [
    "#### Es mínimo **local** o **global**?\n",
    "\n",
    "Respuesta Aqui"
   ]
  },
  {
   "cell_type": "markdown",
   "metadata": {},
   "source": [
    "### Tasa de Convergencia"
   ]
  },
  {
   "cell_type": "code",
   "execution_count": 23,
   "metadata": {},
   "outputs": [],
   "source": [
    "from sklearn.linear_model import LinearRegression"
   ]
  },
  {
   "cell_type": "code",
   "execution_count": 41,
   "metadata": {},
   "outputs": [],
   "source": [
    "def convergence(result, solution, col):\n",
    "    x_star = solution[1]\n",
    "    df = pd.DataFrame()\n",
    "    df_log = pd.DataFrame()\n",
    "    ek = []\n",
    "    for x in result[col]:\n",
    "        ek.append(np.abs(x-x_star))\n",
    "\n",
    "    df['ek'] = ek\n",
    "    df['ek+1'] = df['ek'].shift(-1, fill_value = 0)\n",
    "    \n",
    "    df_log['ek'] = np.log(np.abs(ek))\n",
    "    df_log['ek+1'] = df_log['ek'].shift(-1, fill_value = 0)\n",
    "    df_log = df_log[df_log['ek+1']!=0]\n",
    "    \n",
    "    return(df, df_log)"
   ]
  },
  {
   "cell_type": "code",
   "execution_count": 42,
   "metadata": {},
   "outputs": [
    {
     "data": {
      "text/html": [
       "<div>\n",
       "<style scoped>\n",
       "    .dataframe tbody tr th:only-of-type {\n",
       "        vertical-align: middle;\n",
       "    }\n",
       "\n",
       "    .dataframe tbody tr th {\n",
       "        vertical-align: top;\n",
       "    }\n",
       "\n",
       "    .dataframe thead th {\n",
       "        text-align: right;\n",
       "    }\n",
       "</style>\n",
       "<table border=\"1\" class=\"dataframe\">\n",
       "  <thead>\n",
       "    <tr style=\"text-align: right;\">\n",
       "      <th></th>\n",
       "      <th>ek</th>\n",
       "      <th>ek+1</th>\n",
       "    </tr>\n",
       "  </thead>\n",
       "  <tbody>\n",
       "    <tr>\n",
       "      <th>0</th>\n",
       "      <td>1.032098e-01</td>\n",
       "      <td>1.987645e-02</td>\n",
       "    </tr>\n",
       "    <tr>\n",
       "      <th>1</th>\n",
       "      <td>1.987645e-02</td>\n",
       "      <td>9.433801e-04</td>\n",
       "    </tr>\n",
       "    <tr>\n",
       "      <th>2</th>\n",
       "      <td>9.433801e-04</td>\n",
       "      <td>2.270542e-06</td>\n",
       "    </tr>\n",
       "    <tr>\n",
       "      <th>3</th>\n",
       "      <td>2.270542e-06</td>\n",
       "      <td>1.319778e-11</td>\n",
       "    </tr>\n",
       "    <tr>\n",
       "      <th>4</th>\n",
       "      <td>1.319778e-11</td>\n",
       "      <td>0.000000e+00</td>\n",
       "    </tr>\n",
       "  </tbody>\n",
       "</table>\n",
       "</div>"
      ],
      "text/plain": [
       "             ek          ek+1\n",
       "0  1.032098e-01  1.987645e-02\n",
       "1  1.987645e-02  9.433801e-04\n",
       "2  9.433801e-04  2.270542e-06\n",
       "3  2.270542e-06  1.319778e-11\n",
       "4  1.319778e-11  0.000000e+00"
      ]
     },
     "execution_count": 42,
     "metadata": {},
     "output_type": "execute_result"
    }
   ],
   "source": [
    "data, data_log = convergence(res, sol, 'Xk')\n",
    "data"
   ]
  },
  {
   "cell_type": "code",
   "execution_count": 43,
   "metadata": {},
   "outputs": [
    {
     "data": {
      "text/plain": [
       "[<matplotlib.lines.Line2D at 0x1a24ab72e8>]"
      ]
     },
     "execution_count": 43,
     "metadata": {},
     "output_type": "execute_result"
    },
    {
     "data": {
      "image/png": "[encoded data removed]",
      "text/plain": [
       "<Figure size 432x288 with 1 Axes>"
      ]
     },
     "metadata": {
      "needs_background": "light"
     },
     "output_type": "display_data"
    }
   ],
   "source": [
    "plt.plot(data['ek'])"
   ]
  },
  {
   "cell_type": "markdown",
   "metadata": {},
   "source": [
    "Como podemos ver el error va decreciendo en cada iteración. Esta data luego debe de ser pasada a un Logaritmo Natural para poder realizar la regresión lineal"
   ]
  },
  {
   "cell_type": "code",
   "execution_count": 44,
   "metadata": {},
   "outputs": [
    {
     "data": {
      "text/html": [
       "<div>\n",
       "<style scoped>\n",
       "    .dataframe tbody tr th:only-of-type {\n",
       "        vertical-align: middle;\n",
       "    }\n",
       "\n",
       "    .dataframe tbody tr th {\n",
       "        vertical-align: top;\n",
       "    }\n",
       "\n",
       "    .dataframe thead th {\n",
       "        text-align: right;\n",
       "    }\n",
       "</style>\n",
       "<table border=\"1\" class=\"dataframe\">\n",
       "  <thead>\n",
       "    <tr style=\"text-align: right;\">\n",
       "      <th></th>\n",
       "      <th>ek</th>\n",
       "      <th>ek+1</th>\n",
       "    </tr>\n",
       "  </thead>\n",
       "  <tbody>\n",
       "    <tr>\n",
       "      <th>0</th>\n",
       "      <td>-2.270992</td>\n",
       "      <td>-3.918219</td>\n",
       "    </tr>\n",
       "    <tr>\n",
       "      <th>1</th>\n",
       "      <td>-3.918219</td>\n",
       "      <td>-6.966041</td>\n",
       "    </tr>\n",
       "    <tr>\n",
       "      <th>2</th>\n",
       "      <td>-6.966041</td>\n",
       "      <td>-12.995492</td>\n",
       "    </tr>\n",
       "    <tr>\n",
       "      <th>3</th>\n",
       "      <td>-12.995492</td>\n",
       "      <td>-25.050973</td>\n",
       "    </tr>\n",
       "  </tbody>\n",
       "</table>\n",
       "</div>"
      ],
      "text/plain": [
       "          ek       ek+1\n",
       "0  -2.270992  -3.918219\n",
       "1  -3.918219  -6.966041\n",
       "2  -6.966041 -12.995492\n",
       "3 -12.995492 -25.050973"
      ]
     },
     "execution_count": 44,
     "metadata": {},
     "output_type": "execute_result"
    }
   ],
   "source": [
    "data_log"
   ]
  },
  {
   "cell_type": "markdown",
   "metadata": {},
   "source": [
    "Ya que tenemos la data convertida a logaritmo natural, podemos utilizar un modelo de regresión lineal para encontrar la tasa de convergencia (r) y la constante de la convergencia (C)"
   ]
  },
  {
   "cell_type": "code",
   "execution_count": 45,
   "metadata": {},
   "outputs": [
    {
     "data": {
      "text/plain": [
       "LinearRegression(copy_X=True, fit_intercept=True, n_jobs=None, normalize=False)"
      ]
     },
     "execution_count": 45,
     "metadata": {},
     "output_type": "execute_result"
    }
   ],
   "source": [
    "lm = LinearRegression()\n",
    "lm.fit(data_log[['ek']], data_log[['ek+1']])"
   ]
  },
  {
   "cell_type": "code",
   "execution_count": 46,
   "metadata": {},
   "outputs": [
    {
     "name": "stdout",
     "output_type": "stream",
     "text": [
      "La tasa de convergencia (r) es: 1.9771448939678953\n"
     ]
    }
   ],
   "source": [
    "r = lm.coef_\n",
    "print('La tasa de convergencia (r) es:', r[0][0])"
   ]
  },
  {
   "cell_type": "code",
   "execution_count": 47,
   "metadata": {},
   "outputs": [
    {
     "name": "stdout",
     "output_type": "stream",
     "text": [
      "La constante de convergencia (C) es: 2.000248291944679\n"
     ]
    }
   ],
   "source": [
    "C = np.exp(lm.intercept_)\n",
    "print('La constante de convergencia (C) es:', C[0])"
   ]
  },
  {
   "cell_type": "markdown",
   "metadata": {},
   "source": [
    "### Resultados método de Newton-Raphson\n",
    "\n",
    "Finalmente, tenemos la función lineal entre los errores de la siguiente forma:\n",
    "\n",
    "$ \\ln|e_{k+1}| = r \\ln|e_{k+1}| + \\ln C $\n",
    "\n",
    "Sustituyendo los resultados, podemos ver la ecuación de esta forma:\n",
    "\n",
    "$ \\ln|e_{k+1}| = 1.977145 \\ln|e_{k+1}| + 2.0002483 $"
   ]
  },
  {
   "cell_type": "markdown",
   "metadata": {},
   "source": [
    "## Método de la Bisección"
   ]
  },
  {
   "cell_type": "code",
   "execution_count": 48,
   "metadata": {},
   "outputs": [],
   "source": [
    "def biseccion(eq, a, b, tolerance):\n",
    "    \n",
    "    log = pd.DataFrame(columns = ['Iteration', 'a', 'b', 'c', 'F(x)', 'error'])\n",
    "    error = 100\n",
    "    iteration = 1\n",
    "    \n",
    "    while error > tolerance:\n",
    "        c = (a+b)/2\n",
    "        a_in = a\n",
    "        b_in = b\n",
    "        \n",
    "        x = a\n",
    "        func_a = eval(generate_function(eq))\n",
    "        x = c\n",
    "        func_c = eval(generate_function(eq))\n",
    "        \n",
    "        if func_c == 0:\n",
    "            log_info = {\n",
    "                'Iteration': iteration,\n",
    "                'a': a,\n",
    "                'b': b,\n",
    "                'c': c,\n",
    "                'F(x)': func_c,\n",
    "                'error': 0\n",
    "            }\n",
    "            log = log.append(log_info, ignore_index=True)\n",
    "            break\n",
    "        elif func_a * func_c < 0:\n",
    "            b = c\n",
    "        else:\n",
    "            a = c            \n",
    "        error = np.abs(func_c)\n",
    "        \n",
    "        log_info = {\n",
    "            'Iteration': iteration,\n",
    "            'a': a_in,\n",
    "            'b': b_in,\n",
    "            'c': c,\n",
    "            'F(x)': eval(generate_function(eq)),\n",
    "            'error': error\n",
    "        }\n",
    "        log = log.append(log_info, ignore_index=True)\n",
    "        \n",
    "        iteration += 1\n",
    "        sol = [iteration, c, error]\n",
    "    \n",
    "    return(log, sol)"
   ]
  },
  {
   "cell_type": "code",
   "execution_count": 61,
   "metadata": {},
   "outputs": [
    {
     "data": {
      "text/html": [
       "<div>\n",
       "<style scoped>\n",
       "    .dataframe tbody tr th:only-of-type {\n",
       "        vertical-align: middle;\n",
       "    }\n",
       "\n",
       "    .dataframe tbody tr th {\n",
       "        vertical-align: top;\n",
       "    }\n",
       "\n",
       "    .dataframe thead th {\n",
       "        text-align: right;\n",
       "    }\n",
       "</style>\n",
       "<table border=\"1\" class=\"dataframe\">\n",
       "  <thead>\n",
       "    <tr style=\"text-align: right;\">\n",
       "      <th></th>\n",
       "      <th>Iteration</th>\n",
       "      <th>a</th>\n",
       "      <th>b</th>\n",
       "      <th>c</th>\n",
       "      <th>F(x)</th>\n",
       "      <th>error</th>\n",
       "    </tr>\n",
       "  </thead>\n",
       "  <tbody>\n",
       "    <tr>\n",
       "      <th>0</th>\n",
       "      <td>1.0</td>\n",
       "      <td>0.500000</td>\n",
       "      <td>1.500000</td>\n",
       "      <td>1.000000</td>\n",
       "      <td>1.000000e+00</td>\n",
       "      <td>1.000000e+00</td>\n",
       "    </tr>\n",
       "    <tr>\n",
       "      <th>1</th>\n",
       "      <td>2.0</td>\n",
       "      <td>0.500000</td>\n",
       "      <td>1.000000</td>\n",
       "      <td>0.750000</td>\n",
       "      <td>-7.343750e-01</td>\n",
       "      <td>7.343750e-01</td>\n",
       "    </tr>\n",
       "    <tr>\n",
       "      <th>2</th>\n",
       "      <td>3.0</td>\n",
       "      <td>0.750000</td>\n",
       "      <td>1.000000</td>\n",
       "      <td>0.875000</td>\n",
       "      <td>-1.552734e-01</td>\n",
       "      <td>1.552734e-01</td>\n",
       "    </tr>\n",
       "    <tr>\n",
       "      <th>3</th>\n",
       "      <td>4.0</td>\n",
       "      <td>0.875000</td>\n",
       "      <td>1.000000</td>\n",
       "      <td>0.937500</td>\n",
       "      <td>3.399048e-01</td>\n",
       "      <td>3.399048e-01</td>\n",
       "    </tr>\n",
       "    <tr>\n",
       "      <th>4</th>\n",
       "      <td>5.0</td>\n",
       "      <td>0.875000</td>\n",
       "      <td>0.937500</td>\n",
       "      <td>0.906250</td>\n",
       "      <td>7.306290e-02</td>\n",
       "      <td>7.306290e-02</td>\n",
       "    </tr>\n",
       "    <tr>\n",
       "      <th>5</th>\n",
       "      <td>6.0</td>\n",
       "      <td>0.875000</td>\n",
       "      <td>0.906250</td>\n",
       "      <td>0.890625</td>\n",
       "      <td>-4.575324e-02</td>\n",
       "      <td>4.575324e-02</td>\n",
       "    </tr>\n",
       "    <tr>\n",
       "      <th>6</th>\n",
       "      <td>7.0</td>\n",
       "      <td>0.890625</td>\n",
       "      <td>0.906250</td>\n",
       "      <td>0.898438</td>\n",
       "      <td>1.247241e-02</td>\n",
       "      <td>1.247241e-02</td>\n",
       "    </tr>\n",
       "    <tr>\n",
       "      <th>7</th>\n",
       "      <td>8.0</td>\n",
       "      <td>0.890625</td>\n",
       "      <td>0.898438</td>\n",
       "      <td>0.894531</td>\n",
       "      <td>-1.693346e-02</td>\n",
       "      <td>1.693346e-02</td>\n",
       "    </tr>\n",
       "    <tr>\n",
       "      <th>8</th>\n",
       "      <td>9.0</td>\n",
       "      <td>0.894531</td>\n",
       "      <td>0.898438</td>\n",
       "      <td>0.896484</td>\n",
       "      <td>-2.304104e-03</td>\n",
       "      <td>2.304104e-03</td>\n",
       "    </tr>\n",
       "    <tr>\n",
       "      <th>9</th>\n",
       "      <td>10.0</td>\n",
       "      <td>0.896484</td>\n",
       "      <td>0.898438</td>\n",
       "      <td>0.897461</td>\n",
       "      <td>5.065716e-03</td>\n",
       "      <td>5.065716e-03</td>\n",
       "    </tr>\n",
       "    <tr>\n",
       "      <th>10</th>\n",
       "      <td>11.0</td>\n",
       "      <td>0.896484</td>\n",
       "      <td>0.897461</td>\n",
       "      <td>0.896973</td>\n",
       "      <td>1.376202e-03</td>\n",
       "      <td>1.376202e-03</td>\n",
       "    </tr>\n",
       "    <tr>\n",
       "      <th>11</th>\n",
       "      <td>12.0</td>\n",
       "      <td>0.896484</td>\n",
       "      <td>0.896973</td>\n",
       "      <td>0.896729</td>\n",
       "      <td>-4.651012e-04</td>\n",
       "      <td>4.651012e-04</td>\n",
       "    </tr>\n",
       "    <tr>\n",
       "      <th>12</th>\n",
       "      <td>13.0</td>\n",
       "      <td>0.896729</td>\n",
       "      <td>0.896973</td>\n",
       "      <td>0.896851</td>\n",
       "      <td>4.552628e-04</td>\n",
       "      <td>4.552628e-04</td>\n",
       "    </tr>\n",
       "    <tr>\n",
       "      <th>13</th>\n",
       "      <td>14.0</td>\n",
       "      <td>0.896729</td>\n",
       "      <td>0.896851</td>\n",
       "      <td>0.896790</td>\n",
       "      <td>-4.991112e-06</td>\n",
       "      <td>4.991112e-06</td>\n",
       "    </tr>\n",
       "    <tr>\n",
       "      <th>14</th>\n",
       "      <td>15.0</td>\n",
       "      <td>0.896790</td>\n",
       "      <td>0.896851</td>\n",
       "      <td>0.896820</td>\n",
       "      <td>2.251179e-04</td>\n",
       "      <td>2.251179e-04</td>\n",
       "    </tr>\n",
       "    <tr>\n",
       "      <th>15</th>\n",
       "      <td>16.0</td>\n",
       "      <td>0.896790</td>\n",
       "      <td>0.896820</td>\n",
       "      <td>0.896805</td>\n",
       "      <td>1.100589e-04</td>\n",
       "      <td>1.100589e-04</td>\n",
       "    </tr>\n",
       "    <tr>\n",
       "      <th>16</th>\n",
       "      <td>17.0</td>\n",
       "      <td>0.896790</td>\n",
       "      <td>0.896805</td>\n",
       "      <td>0.896797</td>\n",
       "      <td>5.253277e-05</td>\n",
       "      <td>5.253277e-05</td>\n",
       "    </tr>\n",
       "    <tr>\n",
       "      <th>17</th>\n",
       "      <td>18.0</td>\n",
       "      <td>0.896790</td>\n",
       "      <td>0.896797</td>\n",
       "      <td>0.896793</td>\n",
       "      <td>2.377055e-05</td>\n",
       "      <td>2.377055e-05</td>\n",
       "    </tr>\n",
       "    <tr>\n",
       "      <th>18</th>\n",
       "      <td>19.0</td>\n",
       "      <td>0.896790</td>\n",
       "      <td>0.896793</td>\n",
       "      <td>0.896791</td>\n",
       "      <td>9.389647e-06</td>\n",
       "      <td>9.389647e-06</td>\n",
       "    </tr>\n",
       "    <tr>\n",
       "      <th>19</th>\n",
       "      <td>20.0</td>\n",
       "      <td>0.896790</td>\n",
       "      <td>0.896791</td>\n",
       "      <td>0.896791</td>\n",
       "      <td>2.199250e-06</td>\n",
       "      <td>2.199250e-06</td>\n",
       "    </tr>\n",
       "    <tr>\n",
       "      <th>20</th>\n",
       "      <td>21.0</td>\n",
       "      <td>0.896790</td>\n",
       "      <td>0.896791</td>\n",
       "      <td>0.896790</td>\n",
       "      <td>-1.395935e-06</td>\n",
       "      <td>1.395935e-06</td>\n",
       "    </tr>\n",
       "    <tr>\n",
       "      <th>21</th>\n",
       "      <td>22.0</td>\n",
       "      <td>0.896790</td>\n",
       "      <td>0.896791</td>\n",
       "      <td>0.896790</td>\n",
       "      <td>4.016564e-07</td>\n",
       "      <td>4.016564e-07</td>\n",
       "    </tr>\n",
       "  </tbody>\n",
       "</table>\n",
       "</div>"
      ],
      "text/plain": [
       "    Iteration         a         b         c          F(x)         error\n",
       "0         1.0  0.500000  1.500000  1.000000  1.000000e+00  1.000000e+00\n",
       "1         2.0  0.500000  1.000000  0.750000 -7.343750e-01  7.343750e-01\n",
       "2         3.0  0.750000  1.000000  0.875000 -1.552734e-01  1.552734e-01\n",
       "3         4.0  0.875000  1.000000  0.937500  3.399048e-01  3.399048e-01\n",
       "4         5.0  0.875000  0.937500  0.906250  7.306290e-02  7.306290e-02\n",
       "5         6.0  0.875000  0.906250  0.890625 -4.575324e-02  4.575324e-02\n",
       "6         7.0  0.890625  0.906250  0.898438  1.247241e-02  1.247241e-02\n",
       "7         8.0  0.890625  0.898438  0.894531 -1.693346e-02  1.693346e-02\n",
       "8         9.0  0.894531  0.898438  0.896484 -2.304104e-03  2.304104e-03\n",
       "9        10.0  0.896484  0.898438  0.897461  5.065716e-03  5.065716e-03\n",
       "10       11.0  0.896484  0.897461  0.896973  1.376202e-03  1.376202e-03\n",
       "11       12.0  0.896484  0.896973  0.896729 -4.651012e-04  4.651012e-04\n",
       "12       13.0  0.896729  0.896973  0.896851  4.552628e-04  4.552628e-04\n",
       "13       14.0  0.896729  0.896851  0.896790 -4.991112e-06  4.991112e-06\n",
       "14       15.0  0.896790  0.896851  0.896820  2.251179e-04  2.251179e-04\n",
       "15       16.0  0.896790  0.896820  0.896805  1.100589e-04  1.100589e-04\n",
       "16       17.0  0.896790  0.896805  0.896797  5.253277e-05  5.253277e-05\n",
       "17       18.0  0.896790  0.896797  0.896793  2.377055e-05  2.377055e-05\n",
       "18       19.0  0.896790  0.896793  0.896791  9.389647e-06  9.389647e-06\n",
       "19       20.0  0.896790  0.896791  0.896791  2.199250e-06  2.199250e-06\n",
       "20       21.0  0.896790  0.896791  0.896790 -1.395935e-06  1.395935e-06\n",
       "21       22.0  0.896790  0.896791  0.896790  4.016564e-07  4.016564e-07"
      ]
     },
     "execution_count": 61,
     "metadata": {},
     "output_type": "execute_result"
    }
   ],
   "source": [
    "#df = biseccion('x^3 - 2x^2 - 1', 0, 4, 1e-8)\n",
    "df, sol = biseccion('4x^4 - 4x + 1', 0.5, 1.5, 1e-6)\n",
    "df"
   ]
  },
  {
   "cell_type": "code",
   "execution_count": 62,
   "metadata": {},
   "outputs": [
    {
     "data": {
      "text/plain": [
       "[<matplotlib.lines.Line2D at 0x1a24e155f8>]"
      ]
     },
     "execution_count": 62,
     "metadata": {},
     "output_type": "execute_result"
    },
    {
     "data": {
      "image/png": "[encoded data removed]",
      "text/plain": [
       "<Figure size 432x288 with 1 Axes>"
      ]
     },
     "metadata": {
      "needs_background": "light"
     },
     "output_type": "display_data"
    }
   ],
   "source": [
    "plt.plot(df['error'])"
   ]
  },
  {
   "cell_type": "code",
   "execution_count": 63,
   "metadata": {},
   "outputs": [
    {
     "name": "stderr",
     "output_type": "stream",
     "text": [
      "/Users/jjosue/anaconda3/envs/galileo_python/lib/python3.7/site-packages/ipykernel_launcher.py:12: RuntimeWarning: divide by zero encountered in log\n",
      "  if sys.path[0] == '':\n"
     ]
    }
   ],
   "source": [
    "df, df_log = convergence(df, sol, 'c')"
   ]
  },
  {
   "cell_type": "code",
   "execution_count": 64,
   "metadata": {},
   "outputs": [
    {
     "data": {
      "text/html": [
       "<div>\n",
       "<style scoped>\n",
       "    .dataframe tbody tr th:only-of-type {\n",
       "        vertical-align: middle;\n",
       "    }\n",
       "\n",
       "    .dataframe tbody tr th {\n",
       "        vertical-align: top;\n",
       "    }\n",
       "\n",
       "    .dataframe thead th {\n",
       "        text-align: right;\n",
       "    }\n",
       "</style>\n",
       "<table border=\"1\" class=\"dataframe\">\n",
       "  <thead>\n",
       "    <tr style=\"text-align: right;\">\n",
       "      <th></th>\n",
       "      <th>ek</th>\n",
       "      <th>ek+1</th>\n",
       "    </tr>\n",
       "  </thead>\n",
       "  <tbody>\n",
       "    <tr>\n",
       "      <th>0</th>\n",
       "      <td>-2.270992</td>\n",
       "      <td>-1.918750</td>\n",
       "    </tr>\n",
       "    <tr>\n",
       "      <th>1</th>\n",
       "      <td>-1.918750</td>\n",
       "      <td>-3.826292</td>\n",
       "    </tr>\n",
       "    <tr>\n",
       "      <th>2</th>\n",
       "      <td>-3.826292</td>\n",
       "      <td>-3.201288</td>\n",
       "    </tr>\n",
       "    <tr>\n",
       "      <th>3</th>\n",
       "      <td>-3.201288</td>\n",
       "      <td>-4.660711</td>\n",
       "    </tr>\n",
       "    <tr>\n",
       "      <th>4</th>\n",
       "      <td>-4.660711</td>\n",
       "      <td>-5.088824</td>\n",
       "    </tr>\n",
       "    <tr>\n",
       "      <th>5</th>\n",
       "      <td>-5.088824</td>\n",
       "      <td>-6.408658</td>\n",
       "    </tr>\n",
       "    <tr>\n",
       "      <th>6</th>\n",
       "      <td>-6.408658</td>\n",
       "      <td>-6.092826</td>\n",
       "    </tr>\n",
       "    <tr>\n",
       "      <th>7</th>\n",
       "      <td>-6.092826</td>\n",
       "      <td>-8.092282</td>\n",
       "    </tr>\n",
       "    <tr>\n",
       "      <th>8</th>\n",
       "      <td>-8.092282</td>\n",
       "      <td>-7.307231</td>\n",
       "    </tr>\n",
       "    <tr>\n",
       "      <th>9</th>\n",
       "      <td>-7.307231</td>\n",
       "      <td>-8.609362</td>\n",
       "    </tr>\n",
       "    <tr>\n",
       "      <th>10</th>\n",
       "      <td>-8.609362</td>\n",
       "      <td>-9.692410</td>\n",
       "    </tr>\n",
       "    <tr>\n",
       "      <th>11</th>\n",
       "      <td>-9.692410</td>\n",
       "      <td>-9.715848</td>\n",
       "    </tr>\n",
       "    <tr>\n",
       "      <th>12</th>\n",
       "      <td>-9.715848</td>\n",
       "      <td>-14.150626</td>\n",
       "    </tr>\n",
       "    <tr>\n",
       "      <th>13</th>\n",
       "      <td>-14.150626</td>\n",
       "      <td>-10.420924</td>\n",
       "    </tr>\n",
       "    <tr>\n",
       "      <th>14</th>\n",
       "      <td>-10.420924</td>\n",
       "      <td>-11.138364</td>\n",
       "    </tr>\n",
       "    <tr>\n",
       "      <th>15</th>\n",
       "      <td>-11.138364</td>\n",
       "      <td>-11.881942</td>\n",
       "    </tr>\n",
       "    <tr>\n",
       "      <th>16</th>\n",
       "      <td>-11.881942</td>\n",
       "      <td>-12.684289</td>\n",
       "    </tr>\n",
       "    <tr>\n",
       "      <th>17</th>\n",
       "      <td>-12.684289</td>\n",
       "      <td>-13.639800</td>\n",
       "    </tr>\n",
       "    <tr>\n",
       "      <th>18</th>\n",
       "      <td>-13.639800</td>\n",
       "      <td>-15.249238</td>\n",
       "    </tr>\n",
       "    <tr>\n",
       "      <th>19</th>\n",
       "      <td>-15.249238</td>\n",
       "      <td>-15.249238</td>\n",
       "    </tr>\n",
       "  </tbody>\n",
       "</table>\n",
       "</div>"
      ],
      "text/plain": [
       "           ek       ek+1\n",
       "0   -2.270992  -1.918750\n",
       "1   -1.918750  -3.826292\n",
       "2   -3.826292  -3.201288\n",
       "3   -3.201288  -4.660711\n",
       "4   -4.660711  -5.088824\n",
       "5   -5.088824  -6.408658\n",
       "6   -6.408658  -6.092826\n",
       "7   -6.092826  -8.092282\n",
       "8   -8.092282  -7.307231\n",
       "9   -7.307231  -8.609362\n",
       "10  -8.609362  -9.692410\n",
       "11  -9.692410  -9.715848\n",
       "12  -9.715848 -14.150626\n",
       "13 -14.150626 -10.420924\n",
       "14 -10.420924 -11.138364\n",
       "15 -11.138364 -11.881942\n",
       "16 -11.881942 -12.684289\n",
       "17 -12.684289 -13.639800\n",
       "18 -13.639800 -15.249238\n",
       "19 -15.249238 -15.249238"
      ]
     },
     "execution_count": 64,
     "metadata": {},
     "output_type": "execute_result"
    }
   ],
   "source": [
    "df_log = df_log.replace([np.inf, -np.inf], np.nan).dropna()\n",
    "df_log"
   ]
  },
  {
   "cell_type": "code",
   "execution_count": 65,
   "metadata": {},
   "outputs": [
    {
     "data": {
      "text/plain": [
       "LinearRegression(copy_X=True, fit_intercept=True, n_jobs=None, normalize=False)"
      ]
     },
     "execution_count": 65,
     "metadata": {},
     "output_type": "execute_result"
    }
   ],
   "source": [
    "lm = LinearRegression()\n",
    "lm.fit(df_log[['ek']], df_log[['ek+1']])"
   ]
  },
  {
   "cell_type": "markdown",
   "metadata": {},
   "source": [
    "Ya que tenemos la data convertida a logaritmo natural, podemos utilizar un modelo de regresión lineal para encontrar la tasa de convergencia (r) y la constante de la convergencia (C)"
   ]
  },
  {
   "cell_type": "code",
   "execution_count": 66,
   "metadata": {},
   "outputs": [
    {
     "name": "stdout",
     "output_type": "stream",
     "text": [
      "La tasa de convergencia (r) es: 0.9323818906384411\n"
     ]
    }
   ],
   "source": [
    "r = lm.coef_\n",
    "print('La tasa de convergencia (r) es:', r[0][0])"
   ]
  },
  {
   "cell_type": "code",
   "execution_count": 67,
   "metadata": {},
   "outputs": [
    {
     "name": "stdout",
     "output_type": "stream",
     "text": [
      "La constante de convergencia (C) es: 0.29810369930060454\n"
     ]
    }
   ],
   "source": [
    "C = np.exp(lm.intercept_)\n",
    "print('La constante de convergencia (C) es:', C[0])"
   ]
  },
  {
   "cell_type": "markdown",
   "metadata": {},
   "source": [
    "### Resultados método de Bisección\n",
    "\n",
    "Finalmente, tenemos la función lineal entre los errores de la siguiente forma:\n",
    "\n",
    "$ \\ln|e_{k+1}| = r \\ln|e_{k+1}| + \\ln C $\n",
    "\n",
    "Sustituyendo los resultados, podemos ver la ecuación de esta forma:\n",
    "\n",
    "$ \\ln|e_{k+1}| = 0.932382 \\ln|e_{k+1}| + 0.2981037 $"
   ]
  },
  {
   "cell_type": "markdown",
   "metadata": {},
   "source": [
    "### Conclusiones"
   ]
  },
  {
   "cell_type": "markdown",
   "metadata": {},
   "source": [
    "Podemos ver que tanto el método de Newton-Raphson como el método de la Bisección convergen a un mismo punto estacionario donde el error es menor a la tolerancia especificada.\n",
    "\n",
    "#### Comparación de Resultados:\n",
    "\n",
    "|Item                 |Newton-Raphson| Bisección    |\n",
    "|---------------------|--------------|--------------|\n",
    "|Punto estacionario   | 0.896790     | 0.896790     |\n",
    "|Iteraciones          | 6            | 21           |\n",
    "|Error                | 1.319778e-11 | 4.016564e-07 |\n",
    "|Tasa de Convergencia | 1.977145     | 0.932382     |\n",
    "|Constante            | 2.0002483    | 0.2981037    |\n",
    "\n",
    "El método de **Bisección** tiene una convergencia **Lineal** y toma más que el triple de iteraciones que el método de **Newton-Raphson**, el cuál tiene una tasa de convergencia **Cuadrática** pero obtiene un error más bajo y también una tasa de convergencia más alta."
   ]
  },
  {
   "cell_type": "code",
   "execution_count": null,
   "metadata": {},
   "outputs": [],
   "source": []
  }
 ],
 "metadata": {
  "kernelspec": {
   "display_name": "Python 3",
   "language": "python",
   "name": "python3"
  },
  "language_info": {
   "codemirror_mode": {
    "name": "ipython",
    "version": 3
   },
   "file_extension": ".py",
   "mimetype": "text/x-python",
   "name": "python",
   "nbconvert_exporter": "python",
   "pygments_lexer": "ipython3",
   "version": "3.7.3"
  }
 },
 "nbformat": 4,
 "nbformat_minor": 4
}
