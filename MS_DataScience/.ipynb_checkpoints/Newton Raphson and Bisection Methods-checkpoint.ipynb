{
 "cells": [
  {
   "cell_type": "code",
   "execution_count": 1,
   "metadata": {},
   "outputs": [],
   "source": [
    "import numpy as np\n",
    "import pandas as pd\n",
    "import matplotlib.pyplot as plt\n",
    "import math\n",
    "import re"
   ]
  },
  {
   "cell_type": "code",
   "execution_count": 2,
   "metadata": {},
   "outputs": [],
   "source": [
    "def generate_function(eq):\n",
    "    func = re.sub(r' ', '', eq)\n",
    "    func = re.sub(r'(\\^)', '**', func)\n",
    "    func = re.sub(r'x', '*x', func)\n",
    "    func = re.sub(r'([\\+]+\\*)', '+', func)\n",
    "    func = re.sub(r'([\\-]+\\*)', '-', func)\n",
    "    func = re.sub(r'^(\\*)', '', func)\n",
    "    return(func)"
   ]
  },
  {
   "cell_type": "code",
   "execution_count": 3,
   "metadata": {},
   "outputs": [],
   "source": [
    "def derivative(eq):\n",
    "    func0 = eq.replace('x', '(x+(2*h))')\n",
    "    func1 = eq.replace('x', '(x+h)')\n",
    "    func = '-(' + func0 + '-4*(' + func1 + ')+3*(' + eq + '))/(2*h)'\n",
    "    return(func)"
   ]
  },
  {
   "cell_type": "markdown",
   "metadata": {},
   "source": [
    "## Método de Newton-Raphson"
   ]
  },
  {
   "cell_type": "code",
   "execution_count": 4,
   "metadata": {},
   "outputs": [],
   "source": [
    "def newton_raphson(equation, x, tolerance):\n",
    "    h = 0.000001\n",
    "    \n",
    "    log = pd.DataFrame(columns = ['Iteration', 'Xk', 'Xk+1', 'Error', 'F(x)', \"F'(x)\"])\n",
    "    \n",
    "    error = 100\n",
    "    iteration = 0\n",
    "    while error > tolerance:\n",
    "        x_in = x\n",
    "        x = x - (eval(generate_function(equation))/eval(derivative(generate_function(equation))))\n",
    "        error = np.abs(x-x_in)\n",
    "        iteration += 1\n",
    "\n",
    "        log_info = {\n",
    "            'Iteration' : iteration,\n",
    "            'Xk' : x_in,\n",
    "            'Xk+1' : x,\n",
    "            'Error' : error,\n",
    "            'F(x)' : eval(generate_function(equation)),\n",
    "            \"F'(x)\" : eval(derivative(generate_function(equation)))\n",
    "        }\n",
    "        log = log.append(log_info, ignore_index=True)\n",
    "        sol = [iteration, x, error]\n",
    "        \n",
    "    \n",
    "    return(log, sol)"
   ]
  },
  {
   "cell_type": "markdown",
   "metadata": {},
   "source": [
    "### Utilizando el método de Newton Raphson\n",
    "\n",
    "f(x)  = 4x^4 - 4x + 1\n",
    "\n",
    "f'(x) = 16x^3 - 4"
   ]
  },
  {
   "cell_type": "code",
   "execution_count": 5,
   "metadata": {},
   "outputs": [
    {
     "data": {
      "text/html": [
       "<div>\n",
       "<style scoped>\n",
       "    .dataframe tbody tr th:only-of-type {\n",
       "        vertical-align: middle;\n",
       "    }\n",
       "\n",
       "    .dataframe tbody tr th {\n",
       "        vertical-align: top;\n",
       "    }\n",
       "\n",
       "    .dataframe thead th {\n",
       "        text-align: right;\n",
       "    }\n",
       "</style>\n",
       "<table border=\"1\" class=\"dataframe\">\n",
       "  <thead>\n",
       "    <tr style=\"text-align: right;\">\n",
       "      <th></th>\n",
       "      <th>Iteration</th>\n",
       "      <th>Xk</th>\n",
       "      <th>Xk+1</th>\n",
       "      <th>Error</th>\n",
       "      <th>F(x)</th>\n",
       "      <th>F'(x)</th>\n",
       "    </tr>\n",
       "  </thead>\n",
       "  <tbody>\n",
       "    <tr>\n",
       "      <th>0</th>\n",
       "      <td>1.0</td>\n",
       "      <td>1.000000</td>\n",
       "      <td>0.750000</td>\n",
       "      <td>2.500000e-01</td>\n",
       "      <td>2.750000e+00</td>\n",
       "      <td>27.000000</td>\n",
       "    </tr>\n",
       "    <tr>\n",
       "      <th>1</th>\n",
       "      <td>2.0</td>\n",
       "      <td>0.750000</td>\n",
       "      <td>0.648148</td>\n",
       "      <td>1.018519e-01</td>\n",
       "      <td>3.565513e-01</td>\n",
       "      <td>20.164609</td>\n",
       "    </tr>\n",
       "    <tr>\n",
       "      <th>2</th>\n",
       "      <td>3.0</td>\n",
       "      <td>0.648148</td>\n",
       "      <td>0.630466</td>\n",
       "      <td>1.768204e-02</td>\n",
       "      <td>9.638572e-03</td>\n",
       "      <td>19.079401</td>\n",
       "    </tr>\n",
       "    <tr>\n",
       "      <th>3</th>\n",
       "      <td>4.0</td>\n",
       "      <td>0.630466</td>\n",
       "      <td>0.629961</td>\n",
       "      <td>5.051821e-04</td>\n",
       "      <td>7.721166e-06</td>\n",
       "      <td>19.048837</td>\n",
       "    </tr>\n",
       "    <tr>\n",
       "      <th>4</th>\n",
       "      <td>5.0</td>\n",
       "      <td>0.629961</td>\n",
       "      <td>0.629961</td>\n",
       "      <td>4.053353e-07</td>\n",
       "      <td>4.970246e-12</td>\n",
       "      <td>19.048813</td>\n",
       "    </tr>\n",
       "  </tbody>\n",
       "</table>\n",
       "</div>"
      ],
      "text/plain": [
       "   Iteration        Xk      Xk+1         Error          F(x)      F'(x)\n",
       "0        1.0  1.000000  0.750000  2.500000e-01  2.750000e+00  27.000000\n",
       "1        2.0  0.750000  0.648148  1.018519e-01  3.565513e-01  20.164609\n",
       "2        3.0  0.648148  0.630466  1.768204e-02  9.638572e-03  19.079401\n",
       "3        4.0  0.630466  0.629961  5.051821e-04  7.721166e-06  19.048837\n",
       "4        5.0  0.629961  0.629961  4.053353e-07  4.970246e-12  19.048813"
      ]
     },
     "execution_count": 5,
     "metadata": {},
     "output_type": "execute_result"
    }
   ],
   "source": [
    "#Necesitamos derivar la ecuacion para poder encontrar el minimo\n",
    "res, sol = newton_raphson('16x^3-4', x = 1, tolerance = 1e-6)\n",
    "res"
   ]
  },
  {
   "cell_type": "markdown",
   "metadata": {},
   "source": [
    "#### Es mínimo **local** o **global**?\n",
    "\n",
    "Es un mínimo global ya que es una función convexa y coverge a un punto estacionario."
   ]
  },
  {
   "cell_type": "markdown",
   "metadata": {},
   "source": [
    "### Tasa de Convergencia"
   ]
  },
  {
   "cell_type": "code",
   "execution_count": 6,
   "metadata": {},
   "outputs": [],
   "source": [
    "from sklearn.linear_model import LinearRegression"
   ]
  },
  {
   "cell_type": "code",
   "execution_count": 7,
   "metadata": {},
   "outputs": [],
   "source": [
    "def convergence(result, solution, col):\n",
    "    x_star = solution[1]\n",
    "    df = pd.DataFrame()\n",
    "    df_log = pd.DataFrame()\n",
    "    ek = []\n",
    "    for x in result[col]:\n",
    "        ek.append(np.abs(x-x_star))\n",
    "\n",
    "    df['ek'] = ek\n",
    "    df['ek+1'] = df['ek'].shift(-1, fill_value = 0)\n",
    "    \n",
    "    df_log['ek'] = np.log(np.abs(ek))\n",
    "    df_log['ek+1'] = df_log['ek'].shift(-1, fill_value = 0)\n",
    "    df_log = df_log[df_log['ek+1']!=0]\n",
    "    \n",
    "    return(df, df_log)"
   ]
  },
  {
   "cell_type": "code",
   "execution_count": 8,
   "metadata": {},
   "outputs": [
    {
     "data": {
      "text/html": [
       "<div>\n",
       "<style scoped>\n",
       "    .dataframe tbody tr th:only-of-type {\n",
       "        vertical-align: middle;\n",
       "    }\n",
       "\n",
       "    .dataframe tbody tr th {\n",
       "        vertical-align: top;\n",
       "    }\n",
       "\n",
       "    .dataframe thead th {\n",
       "        text-align: right;\n",
       "    }\n",
       "</style>\n",
       "<table border=\"1\" class=\"dataframe\">\n",
       "  <thead>\n",
       "    <tr style=\"text-align: right;\">\n",
       "      <th></th>\n",
       "      <th>ek</th>\n",
       "      <th>ek+1</th>\n",
       "    </tr>\n",
       "  </thead>\n",
       "  <tbody>\n",
       "    <tr>\n",
       "      <th>0</th>\n",
       "      <td>3.700395e-01</td>\n",
       "      <td>1.200395e-01</td>\n",
       "    </tr>\n",
       "    <tr>\n",
       "      <th>1</th>\n",
       "      <td>1.200395e-01</td>\n",
       "      <td>1.818762e-02</td>\n",
       "    </tr>\n",
       "    <tr>\n",
       "      <th>2</th>\n",
       "      <td>1.818762e-02</td>\n",
       "      <td>5.055874e-04</td>\n",
       "    </tr>\n",
       "    <tr>\n",
       "      <th>3</th>\n",
       "      <td>5.055874e-04</td>\n",
       "      <td>4.053353e-07</td>\n",
       "    </tr>\n",
       "    <tr>\n",
       "      <th>4</th>\n",
       "      <td>4.053353e-07</td>\n",
       "      <td>0.000000e+00</td>\n",
       "    </tr>\n",
       "  </tbody>\n",
       "</table>\n",
       "</div>"
      ],
      "text/plain": [
       "             ek          ek+1\n",
       "0  3.700395e-01  1.200395e-01\n",
       "1  1.200395e-01  1.818762e-02\n",
       "2  1.818762e-02  5.055874e-04\n",
       "3  5.055874e-04  4.053353e-07\n",
       "4  4.053353e-07  0.000000e+00"
      ]
     },
     "execution_count": 8,
     "metadata": {},
     "output_type": "execute_result"
    }
   ],
   "source": [
    "data, data_log = convergence(res, sol, 'Xk')\n",
    "data"
   ]
  },
  {
   "cell_type": "code",
   "execution_count": 9,
   "metadata": {},
   "outputs": [
    {
     "data": {
      "text/plain": [
       "[<matplotlib.lines.Line2D at 0x1a24219b70>]"
      ]
     },
     "execution_count": 9,
     "metadata": {},
     "output_type": "execute_result"
    },
    {
     "data": {
      "image/png": "[encoded data removed]",
      "text/plain": [
       "<Figure size 432x288 with 1 Axes>"
      ]
     },
     "metadata": {
      "needs_background": "light"
     },
     "output_type": "display_data"
    }
   ],
   "source": [
    "plt.plot(data['ek'])"
   ]
  },
  {
   "cell_type": "markdown",
   "metadata": {},
   "source": [
    "Como podemos ver el error va decreciendo en cada iteración. Esta data luego debe de ser pasada a un Logaritmo Natural para poder realizar la regresión lineal"
   ]
  },
  {
   "cell_type": "code",
   "execution_count": 10,
   "metadata": {},
   "outputs": [
    {
     "data": {
      "text/html": [
       "<div>\n",
       "<style scoped>\n",
       "    .dataframe tbody tr th:only-of-type {\n",
       "        vertical-align: middle;\n",
       "    }\n",
       "\n",
       "    .dataframe tbody tr th {\n",
       "        vertical-align: top;\n",
       "    }\n",
       "\n",
       "    .dataframe thead th {\n",
       "        text-align: right;\n",
       "    }\n",
       "</style>\n",
       "<table border=\"1\" class=\"dataframe\">\n",
       "  <thead>\n",
       "    <tr style=\"text-align: right;\">\n",
       "      <th></th>\n",
       "      <th>ek</th>\n",
       "      <th>ek+1</th>\n",
       "    </tr>\n",
       "  </thead>\n",
       "  <tbody>\n",
       "    <tr>\n",
       "      <th>0</th>\n",
       "      <td>-0.994146</td>\n",
       "      <td>-2.119935</td>\n",
       "    </tr>\n",
       "    <tr>\n",
       "      <th>1</th>\n",
       "      <td>-2.119935</td>\n",
       "      <td>-4.007014</td>\n",
       "    </tr>\n",
       "    <tr>\n",
       "      <th>2</th>\n",
       "      <td>-4.007014</td>\n",
       "      <td>-7.589790</td>\n",
       "    </tr>\n",
       "    <tr>\n",
       "      <th>3</th>\n",
       "      <td>-7.589790</td>\n",
       "      <td>-14.718551</td>\n",
       "    </tr>\n",
       "  </tbody>\n",
       "</table>\n",
       "</div>"
      ],
      "text/plain": [
       "         ek       ek+1\n",
       "0 -0.994146  -2.119935\n",
       "1 -2.119935  -4.007014\n",
       "2 -4.007014  -7.589790\n",
       "3 -7.589790 -14.718551"
      ]
     },
     "execution_count": 10,
     "metadata": {},
     "output_type": "execute_result"
    }
   ],
   "source": [
    "data_log"
   ]
  },
  {
   "cell_type": "markdown",
   "metadata": {},
   "source": [
    "Ya que tenemos la data convertida a logaritmo natural, podemos utilizar un modelo de regresión lineal para encontrar la tasa de convergencia (r) y la constante de la convergencia (C)"
   ]
  },
  {
   "cell_type": "code",
   "execution_count": 11,
   "metadata": {},
   "outputs": [
    {
     "data": {
      "text/plain": [
       "LinearRegression(copy_X=True, fit_intercept=True, n_jobs=None, normalize=False)"
      ]
     },
     "execution_count": 11,
     "metadata": {},
     "output_type": "execute_result"
    }
   ],
   "source": [
    "lm = LinearRegression()\n",
    "lm.fit(data_log[['ek']], data_log[['ek+1']])"
   ]
  },
  {
   "cell_type": "code",
   "execution_count": 12,
   "metadata": {},
   "outputs": [
    {
     "name": "stdout",
     "output_type": "stream",
     "text": [
      "La tasa de convergencia (r) es: 1.9227742974126456\n"
     ]
    }
   ],
   "source": [
    "r = lm.coef_\n",
    "print('La tasa de convergencia (r) es:', r[0][0])"
   ]
  },
  {
   "cell_type": "code",
   "execution_count": 13,
   "metadata": {},
   "outputs": [
    {
     "name": "stdout",
     "output_type": "stream",
     "text": [
      "La constante de convergencia (C) es: 0.9632955106299337\n"
     ]
    }
   ],
   "source": [
    "C = np.exp(lm.intercept_)\n",
    "print('La constante de convergencia (C) es:', C[0])"
   ]
  },
  {
   "cell_type": "markdown",
   "metadata": {},
   "source": [
    "### Resultados método de Newton-Raphson\n",
    "\n",
    "Finalmente, tenemos la función lineal entre los errores de la siguiente forma:\n",
    "\n",
    "$ \\ln|e_{k+1}| = r \\ln|e_{k+1}| + \\ln C $\n",
    "\n",
    "Sustituyendo los resultados, podemos ver la ecuación de esta forma:\n",
    "\n",
    "$ \\ln|e_{k+1}| = 1.92277 \\ln|e_{k+1}| + 0.963295 $"
   ]
  },
  {
   "cell_type": "markdown",
   "metadata": {},
   "source": [
    "## Método de la Bisección"
   ]
  },
  {
   "cell_type": "code",
   "execution_count": 14,
   "metadata": {},
   "outputs": [],
   "source": [
    "def biseccion(eq, a, b, tolerance):\n",
    "    \n",
    "    log = pd.DataFrame(columns = ['Iteration', 'a', 'b', 'c', 'F(x)', 'error'])\n",
    "    error = 100\n",
    "    iteration = 1\n",
    "    \n",
    "    while error > tolerance:\n",
    "        c = (a+b)/2\n",
    "        a_in = a\n",
    "        b_in = b\n",
    "        \n",
    "        x = a\n",
    "        func_a = eval(generate_function(eq))\n",
    "        x = c\n",
    "        func_c = eval(generate_function(eq))\n",
    "        \n",
    "        if func_c == 0:\n",
    "            log_info = {\n",
    "                'Iteration': iteration,\n",
    "                'a': a,\n",
    "                'b': b,\n",
    "                'c': c,\n",
    "                'F(x)': func_c,\n",
    "                'error': 0\n",
    "            }\n",
    "            log = log.append(log_info, ignore_index=True)\n",
    "            break\n",
    "        elif func_a * func_c < 0:\n",
    "            b = c\n",
    "        else:\n",
    "            a = c            \n",
    "        error = np.abs(func_c)\n",
    "        \n",
    "        log_info = {\n",
    "            'Iteration': iteration,\n",
    "            'a': a_in,\n",
    "            'b': b_in,\n",
    "            'c': c,\n",
    "            'F(x)': eval(generate_function(eq)),\n",
    "            'error': error\n",
    "        }\n",
    "        log = log.append(log_info, ignore_index=True)\n",
    "        \n",
    "        iteration += 1\n",
    "        sol = [iteration, c, error]\n",
    "    \n",
    "    return(log, sol)"
   ]
  },
  {
   "cell_type": "code",
   "execution_count": 15,
   "metadata": {},
   "outputs": [
    {
     "data": {
      "text/html": [
       "<div>\n",
       "<style scoped>\n",
       "    .dataframe tbody tr th:only-of-type {\n",
       "        vertical-align: middle;\n",
       "    }\n",
       "\n",
       "    .dataframe tbody tr th {\n",
       "        vertical-align: top;\n",
       "    }\n",
       "\n",
       "    .dataframe thead th {\n",
       "        text-align: right;\n",
       "    }\n",
       "</style>\n",
       "<table border=\"1\" class=\"dataframe\">\n",
       "  <thead>\n",
       "    <tr style=\"text-align: right;\">\n",
       "      <th></th>\n",
       "      <th>Iteration</th>\n",
       "      <th>a</th>\n",
       "      <th>b</th>\n",
       "      <th>c</th>\n",
       "      <th>F(x)</th>\n",
       "      <th>error</th>\n",
       "    </tr>\n",
       "  </thead>\n",
       "  <tbody>\n",
       "    <tr>\n",
       "      <th>0</th>\n",
       "      <td>1.0</td>\n",
       "      <td>0.500000</td>\n",
       "      <td>1.500000</td>\n",
       "      <td>1.000000</td>\n",
       "      <td>1.200000e+01</td>\n",
       "      <td>1.200000e+01</td>\n",
       "    </tr>\n",
       "    <tr>\n",
       "      <th>1</th>\n",
       "      <td>2.0</td>\n",
       "      <td>0.500000</td>\n",
       "      <td>1.000000</td>\n",
       "      <td>0.750000</td>\n",
       "      <td>2.750000e+00</td>\n",
       "      <td>2.750000e+00</td>\n",
       "    </tr>\n",
       "    <tr>\n",
       "      <th>2</th>\n",
       "      <td>3.0</td>\n",
       "      <td>0.500000</td>\n",
       "      <td>0.750000</td>\n",
       "      <td>0.625000</td>\n",
       "      <td>-9.375000e-02</td>\n",
       "      <td>9.375000e-02</td>\n",
       "    </tr>\n",
       "    <tr>\n",
       "      <th>3</th>\n",
       "      <td>4.0</td>\n",
       "      <td>0.625000</td>\n",
       "      <td>0.750000</td>\n",
       "      <td>0.687500</td>\n",
       "      <td>1.199219e+00</td>\n",
       "      <td>1.199219e+00</td>\n",
       "    </tr>\n",
       "    <tr>\n",
       "      <th>4</th>\n",
       "      <td>5.0</td>\n",
       "      <td>0.625000</td>\n",
       "      <td>0.687500</td>\n",
       "      <td>0.656250</td>\n",
       "      <td>5.219727e-01</td>\n",
       "      <td>5.219727e-01</td>\n",
       "    </tr>\n",
       "    <tr>\n",
       "      <th>5</th>\n",
       "      <td>6.0</td>\n",
       "      <td>0.625000</td>\n",
       "      <td>0.656250</td>\n",
       "      <td>0.640625</td>\n",
       "      <td>2.066040e-01</td>\n",
       "      <td>2.066040e-01</td>\n",
       "    </tr>\n",
       "    <tr>\n",
       "      <th>6</th>\n",
       "      <td>7.0</td>\n",
       "      <td>0.625000</td>\n",
       "      <td>0.640625</td>\n",
       "      <td>0.632812</td>\n",
       "      <td>5.457306e-02</td>\n",
       "      <td>5.457306e-02</td>\n",
       "    </tr>\n",
       "    <tr>\n",
       "      <th>7</th>\n",
       "      <td>8.0</td>\n",
       "      <td>0.625000</td>\n",
       "      <td>0.632812</td>\n",
       "      <td>0.628906</td>\n",
       "      <td>-2.004910e-02</td>\n",
       "      <td>2.004910e-02</td>\n",
       "    </tr>\n",
       "    <tr>\n",
       "      <th>8</th>\n",
       "      <td>9.0</td>\n",
       "      <td>0.628906</td>\n",
       "      <td>0.632812</td>\n",
       "      <td>0.630859</td>\n",
       "      <td>1.714647e-02</td>\n",
       "      <td>1.714647e-02</td>\n",
       "    </tr>\n",
       "    <tr>\n",
       "      <th>9</th>\n",
       "      <td>10.0</td>\n",
       "      <td>0.628906</td>\n",
       "      <td>0.630859</td>\n",
       "      <td>0.629883</td>\n",
       "      <td>-1.480147e-03</td>\n",
       "      <td>1.480147e-03</td>\n",
       "    </tr>\n",
       "    <tr>\n",
       "      <th>10</th>\n",
       "      <td>11.0</td>\n",
       "      <td>0.629883</td>\n",
       "      <td>0.630859</td>\n",
       "      <td>0.630371</td>\n",
       "      <td>7.825946e-03</td>\n",
       "      <td>7.825946e-03</td>\n",
       "    </tr>\n",
       "    <tr>\n",
       "      <th>11</th>\n",
       "      <td>12.0</td>\n",
       "      <td>0.629883</td>\n",
       "      <td>0.630371</td>\n",
       "      <td>0.630127</td>\n",
       "      <td>3.171097e-03</td>\n",
       "      <td>3.171097e-03</td>\n",
       "    </tr>\n",
       "    <tr>\n",
       "      <th>12</th>\n",
       "      <td>13.0</td>\n",
       "      <td>0.629883</td>\n",
       "      <td>0.630127</td>\n",
       "      <td>0.630005</td>\n",
       "      <td>8.450242e-04</td>\n",
       "      <td>8.450242e-04</td>\n",
       "    </tr>\n",
       "    <tr>\n",
       "      <th>13</th>\n",
       "      <td>14.0</td>\n",
       "      <td>0.629883</td>\n",
       "      <td>0.630005</td>\n",
       "      <td>0.629944</td>\n",
       "      <td>-3.176742e-04</td>\n",
       "      <td>3.176742e-04</td>\n",
       "    </tr>\n",
       "    <tr>\n",
       "      <th>14</th>\n",
       "      <td>15.0</td>\n",
       "      <td>0.629944</td>\n",
       "      <td>0.630005</td>\n",
       "      <td>0.629974</td>\n",
       "      <td>2.636468e-04</td>\n",
       "      <td>2.636468e-04</td>\n",
       "    </tr>\n",
       "    <tr>\n",
       "      <th>15</th>\n",
       "      <td>16.0</td>\n",
       "      <td>0.629944</td>\n",
       "      <td>0.629974</td>\n",
       "      <td>0.629959</td>\n",
       "      <td>-2.702072e-05</td>\n",
       "      <td>2.702072e-05</td>\n",
       "    </tr>\n",
       "    <tr>\n",
       "      <th>16</th>\n",
       "      <td>17.0</td>\n",
       "      <td>0.629959</td>\n",
       "      <td>0.629974</td>\n",
       "      <td>0.629967</td>\n",
       "      <td>1.183113e-04</td>\n",
       "      <td>1.183113e-04</td>\n",
       "    </tr>\n",
       "    <tr>\n",
       "      <th>17</th>\n",
       "      <td>18.0</td>\n",
       "      <td>0.629959</td>\n",
       "      <td>0.629967</td>\n",
       "      <td>0.629963</td>\n",
       "      <td>4.564485e-05</td>\n",
       "      <td>4.564485e-05</td>\n",
       "    </tr>\n",
       "    <tr>\n",
       "      <th>18</th>\n",
       "      <td>19.0</td>\n",
       "      <td>0.629959</td>\n",
       "      <td>0.629963</td>\n",
       "      <td>0.629961</td>\n",
       "      <td>9.311953e-06</td>\n",
       "      <td>9.311953e-06</td>\n",
       "    </tr>\n",
       "    <tr>\n",
       "      <th>19</th>\n",
       "      <td>20.0</td>\n",
       "      <td>0.629959</td>\n",
       "      <td>0.629961</td>\n",
       "      <td>0.629960</td>\n",
       "      <td>-8.854411e-06</td>\n",
       "      <td>8.854411e-06</td>\n",
       "    </tr>\n",
       "    <tr>\n",
       "      <th>20</th>\n",
       "      <td>21.0</td>\n",
       "      <td>0.629960</td>\n",
       "      <td>0.629961</td>\n",
       "      <td>0.629961</td>\n",
       "      <td>2.287639e-07</td>\n",
       "      <td>2.287639e-07</td>\n",
       "    </tr>\n",
       "  </tbody>\n",
       "</table>\n",
       "</div>"
      ],
      "text/plain": [
       "    Iteration         a         b         c          F(x)         error\n",
       "0         1.0  0.500000  1.500000  1.000000  1.200000e+01  1.200000e+01\n",
       "1         2.0  0.500000  1.000000  0.750000  2.750000e+00  2.750000e+00\n",
       "2         3.0  0.500000  0.750000  0.625000 -9.375000e-02  9.375000e-02\n",
       "3         4.0  0.625000  0.750000  0.687500  1.199219e+00  1.199219e+00\n",
       "4         5.0  0.625000  0.687500  0.656250  5.219727e-01  5.219727e-01\n",
       "5         6.0  0.625000  0.656250  0.640625  2.066040e-01  2.066040e-01\n",
       "6         7.0  0.625000  0.640625  0.632812  5.457306e-02  5.457306e-02\n",
       "7         8.0  0.625000  0.632812  0.628906 -2.004910e-02  2.004910e-02\n",
       "8         9.0  0.628906  0.632812  0.630859  1.714647e-02  1.714647e-02\n",
       "9        10.0  0.628906  0.630859  0.629883 -1.480147e-03  1.480147e-03\n",
       "10       11.0  0.629883  0.630859  0.630371  7.825946e-03  7.825946e-03\n",
       "11       12.0  0.629883  0.630371  0.630127  3.171097e-03  3.171097e-03\n",
       "12       13.0  0.629883  0.630127  0.630005  8.450242e-04  8.450242e-04\n",
       "13       14.0  0.629883  0.630005  0.629944 -3.176742e-04  3.176742e-04\n",
       "14       15.0  0.629944  0.630005  0.629974  2.636468e-04  2.636468e-04\n",
       "15       16.0  0.629944  0.629974  0.629959 -2.702072e-05  2.702072e-05\n",
       "16       17.0  0.629959  0.629974  0.629967  1.183113e-04  1.183113e-04\n",
       "17       18.0  0.629959  0.629967  0.629963  4.564485e-05  4.564485e-05\n",
       "18       19.0  0.629959  0.629963  0.629961  9.311953e-06  9.311953e-06\n",
       "19       20.0  0.629959  0.629961  0.629960 -8.854411e-06  8.854411e-06\n",
       "20       21.0  0.629960  0.629961  0.629961  2.287639e-07  2.287639e-07"
      ]
     },
     "execution_count": 15,
     "metadata": {},
     "output_type": "execute_result"
    }
   ],
   "source": [
    "df, sol = biseccion('16x^3-4', 0.5, 1.5, 1e-6)\n",
    "df"
   ]
  },
  {
   "cell_type": "code",
   "execution_count": 16,
   "metadata": {},
   "outputs": [
    {
     "data": {
      "text/plain": [
       "[<matplotlib.lines.Line2D at 0x1a2436e3c8>]"
      ]
     },
     "execution_count": 16,
     "metadata": {},
     "output_type": "execute_result"
    },
    {
     "data": {
      "image/png": "[encoded data removed]",
      "text/plain": [
       "<Figure size 432x288 with 1 Axes>"
      ]
     },
     "metadata": {
      "needs_background": "light"
     },
     "output_type": "display_data"
    }
   ],
   "source": [
    "plt.plot(df['error'])"
   ]
  },
  {
   "cell_type": "code",
   "execution_count": 17,
   "metadata": {},
   "outputs": [
    {
     "name": "stderr",
     "output_type": "stream",
     "text": [
      "/Users/jjosue/anaconda3/envs/galileo_python/lib/python3.7/site-packages/ipykernel_launcher.py:12: RuntimeWarning: divide by zero encountered in log\n",
      "  if sys.path[0] == '':\n"
     ]
    }
   ],
   "source": [
    "df, df_log = convergence(df, sol, 'c')"
   ]
  },
  {
   "cell_type": "code",
   "execution_count": 18,
   "metadata": {},
   "outputs": [
    {
     "data": {
      "text/html": [
       "<div>\n",
       "<style scoped>\n",
       "    .dataframe tbody tr th:only-of-type {\n",
       "        vertical-align: middle;\n",
       "    }\n",
       "\n",
       "    .dataframe tbody tr th {\n",
       "        vertical-align: top;\n",
       "    }\n",
       "\n",
       "    .dataframe thead th {\n",
       "        text-align: right;\n",
       "    }\n",
       "</style>\n",
       "<table border=\"1\" class=\"dataframe\">\n",
       "  <thead>\n",
       "    <tr style=\"text-align: right;\">\n",
       "      <th></th>\n",
       "      <th>ek</th>\n",
       "      <th>ek+1</th>\n",
       "    </tr>\n",
       "  </thead>\n",
       "  <tbody>\n",
       "    <tr>\n",
       "      <th>0</th>\n",
       "      <td>-0.994146</td>\n",
       "      <td>-2.119935</td>\n",
       "    </tr>\n",
       "    <tr>\n",
       "      <th>1</th>\n",
       "      <td>-2.119935</td>\n",
       "      <td>-5.306241</td>\n",
       "    </tr>\n",
       "    <tr>\n",
       "      <th>2</th>\n",
       "      <td>-5.306241</td>\n",
       "      <td>-2.855284</td>\n",
       "    </tr>\n",
       "    <tr>\n",
       "      <th>3</th>\n",
       "      <td>-2.855284</td>\n",
       "      <td>-3.638587</td>\n",
       "    </tr>\n",
       "    <tr>\n",
       "      <th>4</th>\n",
       "      <td>-3.638587</td>\n",
       "      <td>-4.540838</td>\n",
       "    </tr>\n",
       "    <tr>\n",
       "      <th>5</th>\n",
       "      <td>-4.540838</td>\n",
       "      <td>-5.859748</td>\n",
       "    </tr>\n",
       "    <tr>\n",
       "      <th>6</th>\n",
       "      <td>-5.859748</td>\n",
       "      <td>-6.854891</td>\n",
       "    </tr>\n",
       "    <tr>\n",
       "      <th>7</th>\n",
       "      <td>-6.854891</td>\n",
       "      <td>-7.014408</td>\n",
       "    </tr>\n",
       "    <tr>\n",
       "      <th>8</th>\n",
       "      <td>-7.014408</td>\n",
       "      <td>-9.462341</td>\n",
       "    </tr>\n",
       "    <tr>\n",
       "      <th>9</th>\n",
       "      <td>-9.462341</td>\n",
       "      <td>-7.797996</td>\n",
       "    </tr>\n",
       "    <tr>\n",
       "      <th>10</th>\n",
       "      <td>-7.797996</td>\n",
       "      <td>-8.701019</td>\n",
       "    </tr>\n",
       "    <tr>\n",
       "      <th>11</th>\n",
       "      <td>-8.701019</td>\n",
       "      <td>-10.023491</td>\n",
       "    </tr>\n",
       "    <tr>\n",
       "      <th>12</th>\n",
       "      <td>-10.023491</td>\n",
       "      <td>-11.000743</td>\n",
       "    </tr>\n",
       "    <tr>\n",
       "      <th>13</th>\n",
       "      <td>-11.000743</td>\n",
       "      <td>-11.188795</td>\n",
       "    </tr>\n",
       "    <tr>\n",
       "      <th>14</th>\n",
       "      <td>-11.188795</td>\n",
       "      <td>-13.457479</td>\n",
       "    </tr>\n",
       "    <tr>\n",
       "      <th>15</th>\n",
       "      <td>-13.457479</td>\n",
       "      <td>-11.991141</td>\n",
       "    </tr>\n",
       "    <tr>\n",
       "      <th>16</th>\n",
       "      <td>-11.991141</td>\n",
       "      <td>-12.946653</td>\n",
       "    </tr>\n",
       "    <tr>\n",
       "      <th>17</th>\n",
       "      <td>-12.946653</td>\n",
       "      <td>-14.556091</td>\n",
       "    </tr>\n",
       "    <tr>\n",
       "      <th>18</th>\n",
       "      <td>-14.556091</td>\n",
       "      <td>-14.556091</td>\n",
       "    </tr>\n",
       "  </tbody>\n",
       "</table>\n",
       "</div>"
      ],
      "text/plain": [
       "           ek       ek+1\n",
       "0   -0.994146  -2.119935\n",
       "1   -2.119935  -5.306241\n",
       "2   -5.306241  -2.855284\n",
       "3   -2.855284  -3.638587\n",
       "4   -3.638587  -4.540838\n",
       "5   -4.540838  -5.859748\n",
       "6   -5.859748  -6.854891\n",
       "7   -6.854891  -7.014408\n",
       "8   -7.014408  -9.462341\n",
       "9   -9.462341  -7.797996\n",
       "10  -7.797996  -8.701019\n",
       "11  -8.701019 -10.023491\n",
       "12 -10.023491 -11.000743\n",
       "13 -11.000743 -11.188795\n",
       "14 -11.188795 -13.457479\n",
       "15 -13.457479 -11.991141\n",
       "16 -11.991141 -12.946653\n",
       "17 -12.946653 -14.556091\n",
       "18 -14.556091 -14.556091"
      ]
     },
     "execution_count": 18,
     "metadata": {},
     "output_type": "execute_result"
    }
   ],
   "source": [
    "df_log = df_log.replace([np.inf, -np.inf], np.nan).dropna()\n",
    "df_log"
   ]
  },
  {
   "cell_type": "code",
   "execution_count": 19,
   "metadata": {},
   "outputs": [
    {
     "data": {
      "text/plain": [
       "LinearRegression(copy_X=True, fit_intercept=True, n_jobs=None, normalize=False)"
      ]
     },
     "execution_count": 19,
     "metadata": {},
     "output_type": "execute_result"
    }
   ],
   "source": [
    "lm = LinearRegression()\n",
    "lm.fit(df_log[['ek']], df_log[['ek+1']])"
   ]
  },
  {
   "cell_type": "markdown",
   "metadata": {},
   "source": [
    "Ya que tenemos la data convertida a logaritmo natural, podemos utilizar un modelo de regresión lineal para encontrar la tasa de convergencia (r) y la constante de la convergencia (C)"
   ]
  },
  {
   "cell_type": "code",
   "execution_count": 20,
   "metadata": {},
   "outputs": [
    {
     "name": "stdout",
     "output_type": "stream",
     "text": [
      "La tasa de convergencia (r) es: 0.9177144528332105\n"
     ]
    }
   ],
   "source": [
    "r = lm.coef_\n",
    "print('La tasa de convergencia (r) es:', r[0][0])"
   ]
  },
  {
   "cell_type": "code",
   "execution_count": 21,
   "metadata": {},
   "outputs": [
    {
     "name": "stdout",
     "output_type": "stream",
     "text": [
      "La constante de convergencia (C) es: 0.2554442412236128\n"
     ]
    }
   ],
   "source": [
    "C = np.exp(lm.intercept_)\n",
    "print('La constante de convergencia (C) es:', C[0])"
   ]
  },
  {
   "cell_type": "markdown",
   "metadata": {},
   "source": [
    "### Resultados método de Bisección\n",
    "\n",
    "Finalmente, tenemos la función lineal entre los errores de la siguiente forma:\n",
    "\n",
    "$ \\ln|e_{k+1}| = r \\ln|e_{k+1}| + \\ln C $\n",
    "\n",
    "Sustituyendo los resultados, podemos ver la ecuación de esta forma:\n",
    "\n",
    "$ \\ln|e_{k+1}| = 0.917714 \\ln|e_{k+1}| + 0.255444 $"
   ]
  },
  {
   "cell_type": "markdown",
   "metadata": {},
   "source": [
    "### Conclusiones"
   ]
  },
  {
   "cell_type": "markdown",
   "metadata": {},
   "source": [
    "Podemos ver que tanto el método de Newton-Raphson como el método de la Bisección convergen a un mismo punto estacionario donde el error es menor a la tolerancia especificada.\n",
    "\n",
    "#### Comparación de Resultados:\n",
    "\n",
    "|Item                 |Newton-Raphson| Bisección    |\n",
    "|---------------------|--------------|--------------|\n",
    "|Punto estacionario   | 0.896790     | 0.896790     |\n",
    "|Iteraciones          | 6            | 21           |\n",
    "|Error                | 1.319778e-11 | 4.016564e-07 |\n",
    "|Tasa de Convergencia | 1.92277      | 0.917714     |\n",
    "|Constante            | 0.963295     | 0.255444     |\n",
    "\n",
    "El método de **Bisección** tiene una convergencia **Lineal** y toma más que el triple de iteraciones que el método de **Newton-Raphson**, el cuál tiene una tasa de convergencia **Cuadrática** pero obtiene un error más bajo y también una tasa de convergencia más alta."
   ]
  },
  {
   "cell_type": "code",
   "execution_count": null,
   "metadata": {},
   "outputs": [],
   "source": []
  }
 ],
 "metadata": {
  "kernelspec": {
   "display_name": "Python 3",
   "language": "python",
   "name": "python3"
  },
  "language_info": {
   "codemirror_mode": {
    "name": "ipython",
    "version": 3
   },
   "file_extension": ".py",
   "mimetype": "text/x-python",
   "name": "python",
   "nbconvert_exporter": "python",
   "pygments_lexer": "ipython3",
   "version": "3.7.3"
  }
 },
 "nbformat": 4,
 "nbformat_minor": 4
}
