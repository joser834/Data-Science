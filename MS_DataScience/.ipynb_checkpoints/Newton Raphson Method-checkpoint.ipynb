{
 "cells": [
  {
   "cell_type": "code",
   "execution_count": 4,
   "metadata": {},
   "outputs": [],
   "source": [
    "import numpy as np\n",
    "import math\n",
    "import re"
   ]
  },
  {
   "cell_type": "code",
   "execution_count": 200,
   "metadata": {},
   "outputs": [],
   "source": [
    "func = '3x^2-2x+12'"
   ]
  },
  {
   "cell_type": "code",
   "execution_count": 201,
   "metadata": {},
   "outputs": [],
   "source": [
    "def generate_function(eq):\n",
    "    func = re.sub(r' ', '', eq)\n",
    "    func = re.sub(r'(\\^)', '**', func)\n",
    "    func = re.sub(r'x', '*x', func)\n",
    "    func = re.sub(r'([\\+]+\\*)', '+', func)\n",
    "    func = re.sub(r'([\\-]+\\*)', '-', func)\n",
    "    func = re.sub(r'^(\\*)', '', func)\n",
    "    return(func)"
   ]
  },
  {
   "cell_type": "code",
   "execution_count": 202,
   "metadata": {},
   "outputs": [],
   "source": [
    "def derivative(eq):\n",
    "    func0 = eq.replace('x', '(x+(2*h))')\n",
    "    func1 = eq.replace('x', '(x+h)')\n",
    "    func = func0 + '-4*(' + func1 + ')+3*(' + eq + ')'\n",
    "    return(func)"
   ]
  },
  {
   "cell_type": "code",
   "execution_count": 203,
   "metadata": {},
   "outputs": [],
   "source": [
    "def newton_raphson(equation, x, h):\n",
    "    eq0 = generate_function(equation)\n",
    "    eq1 = derivative(eq0)\n",
    "    x = x\n",
    "    h = h\n",
    "    \n",
    "    error = 1\n",
    "    tolerance = 0.001\n",
    "    count = 0\n",
    "    \n",
    "    \n",
    "    while error < tolerance:\n",
    "        x[count] = x[count-1] - (eval(eq0)/eval(eq1))\n",
    "        \n",
    "        error = eval()\n",
    "    \n",
    "    return(eval(eq0))"
   ]
  },
  {
   "cell_type": "code",
   "execution_count": 199,
   "metadata": {},
   "outputs": [
    {
     "data": {
      "text/plain": [
       "12"
      ]
     },
     "execution_count": 199,
     "metadata": {},
     "output_type": "execute_result"
    }
   ],
   "source": [
    "newton_raphson('3x^2-2x+12', 0, 0)"
   ]
  },
  {
   "cell_type": "code",
   "execution_count": null,
   "metadata": {},
   "outputs": [],
   "source": []
  }
 ],
 "metadata": {
  "kernelspec": {
   "display_name": "Python 3",
   "language": "python",
   "name": "python3"
  },
  "language_info": {
   "codemirror_mode": {
    "name": "ipython",
    "version": 3
   },
   "file_extension": ".py",
   "mimetype": "text/x-python",
   "name": "python",
   "nbconvert_exporter": "python",
   "pygments_lexer": "ipython3",
   "version": "3.7.3"
  }
 },
 "nbformat": 4,
 "nbformat_minor": 4
}
