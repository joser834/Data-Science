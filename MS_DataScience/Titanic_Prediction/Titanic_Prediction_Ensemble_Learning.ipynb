{
 "cells": [
  {
   "cell_type": "markdown",
   "metadata": {},
   "source": [
    "# Titanic Survivors Prediction"
   ]
  },
  {
   "cell_type": "markdown",
   "metadata": {},
   "source": [
    "This is a project about predicting if a person would survive to the sinking of the Titanic.\n",
    "\n",
    "This project will use an ensemble learning approach, which will include the following models:\n",
    "1. Decision Trees\n",
    "2. Support Vector Machines (SVM)\n",
    "3. Naive Bayes\n",
    "4. Logistic Regresion\n",
    "\n",
    "The model will be the average of the four models described below."
   ]
  },
  {
   "cell_type": "markdown",
   "metadata": {},
   "source": [
    "## Loading Libraries"
   ]
  },
  {
   "cell_type": "code",
   "execution_count": 34,
   "metadata": {},
   "outputs": [],
   "source": [
    "import tensorflow as tf\n",
    "import numpy as np\n",
    "import pandas as pd\n",
    "import matplotlib.pyplot as plt\n",
    "import seaborn as sns\n",
    "from sklearn.tree import DecisionTreeClassifier\n",
    "from sklearn.model_selection import train_test_split\n",
    "from sklearn.linear_model import LinearRegression\n",
    "from sklearn.metrics import mean_squared_error, r2_score"
   ]
  },
  {
   "cell_type": "markdown",
   "metadata": {},
   "source": [
    "## Titanic Data"
   ]
  },
  {
   "cell_type": "markdown",
   "metadata": {},
   "source": [
    "The dataset for this project is called \"Titanic\" which include the following features:\n",
    "\n",
    "| Variable\t         | Definition\t                              | Key                    |\n",
    "|--------------------|--------------------------------------------|------------------------|\n",
    "| Id                 | Passenger Identificator                    |                        |\n",
    "| Name               | Passenger Name                             |                        |\n",
    "| Age\t             | Age in years                               |                        |\n",
    "| SibSp              | # of siblings / spouses aboard the Titanic |                        |\n",
    "| ParCh              | # of parents / children aboard the Titanic |                        |\n",
    "| Ticket             | Ticket number\t                          |                        |\n",
    "| Fare               | Passenger fare                             |                        |\n",
    "| Cabin              | Cabin number                               |                        |\n",
    "| Embarked           | Port of Embarkation\t                      |C = Cherbourg, Q = Queenstown, S = Southampton|\n",
    "| Class              | Ticket class                               | Lower, Middle, Upper   |\n",
    "| Sex                | Sex                                        |                        |\n",
    "| Survived           | Survived                                   | N = No, Y = Yes        |\n",
    "\n",
    "The variable we want to predict is **Survived** which is a binary feature taking values:\n",
    "* N: Didn't survived\n",
    "* Y: Survived"
   ]
  },
  {
   "cell_type": "code",
   "execution_count": 2,
   "metadata": {},
   "outputs": [],
   "source": [
    "#Loading dataset \"Titanic\"\n",
    "titanic = pd.read_csv('data_titanic_proyecto.csv')\n",
    "titanic.columns = ['Id', 'Name', 'Age', 'SibSp', 'ParCh', 'Ticket', 'Fare', 'Cabin', 'Embarked', \n",
    "                   'Class', 'Sex', 'Survived']"
   ]
  },
  {
   "cell_type": "code",
   "execution_count": 3,
   "metadata": {},
   "outputs": [
    {
     "data": {
      "text/html": [
       "<div>\n",
       "<style scoped>\n",
       "    .dataframe tbody tr th:only-of-type {\n",
       "        vertical-align: middle;\n",
       "    }\n",
       "\n",
       "    .dataframe tbody tr th {\n",
       "        vertical-align: top;\n",
       "    }\n",
       "\n",
       "    .dataframe thead th {\n",
       "        text-align: right;\n",
       "    }\n",
       "</style>\n",
       "<table border=\"1\" class=\"dataframe\">\n",
       "  <thead>\n",
       "    <tr style=\"text-align: right;\">\n",
       "      <th></th>\n",
       "      <th>Id</th>\n",
       "      <th>Name</th>\n",
       "      <th>Age</th>\n",
       "      <th>SibSp</th>\n",
       "      <th>ParCh</th>\n",
       "      <th>Ticket</th>\n",
       "      <th>Fare</th>\n",
       "      <th>Cabin</th>\n",
       "      <th>Embarked</th>\n",
       "      <th>Class</th>\n",
       "      <th>Sex</th>\n",
       "      <th>Survived</th>\n",
       "    </tr>\n",
       "  </thead>\n",
       "  <tbody>\n",
       "    <tr>\n",
       "      <th>0</th>\n",
       "      <td>1</td>\n",
       "      <td>Braund, Mr. Owen Harris</td>\n",
       "      <td>22.0</td>\n",
       "      <td>1</td>\n",
       "      <td>0</td>\n",
       "      <td>A/5 21171</td>\n",
       "      <td>7.2500</td>\n",
       "      <td>NaN</td>\n",
       "      <td>S</td>\n",
       "      <td>Lower</td>\n",
       "      <td>M</td>\n",
       "      <td>N</td>\n",
       "    </tr>\n",
       "    <tr>\n",
       "      <th>1</th>\n",
       "      <td>2</td>\n",
       "      <td>Cumings, Mrs. John Bradley (Florence Briggs Th...</td>\n",
       "      <td>38.0</td>\n",
       "      <td>1</td>\n",
       "      <td>0</td>\n",
       "      <td>PC 17599</td>\n",
       "      <td>71.2833</td>\n",
       "      <td>C85</td>\n",
       "      <td>C</td>\n",
       "      <td>Upper</td>\n",
       "      <td>F</td>\n",
       "      <td>Y</td>\n",
       "    </tr>\n",
       "    <tr>\n",
       "      <th>2</th>\n",
       "      <td>3</td>\n",
       "      <td>Heikkinen, Miss. Laina</td>\n",
       "      <td>26.0</td>\n",
       "      <td>0</td>\n",
       "      <td>0</td>\n",
       "      <td>STON/O2. 3101282</td>\n",
       "      <td>7.9250</td>\n",
       "      <td>NaN</td>\n",
       "      <td>S</td>\n",
       "      <td>Lower</td>\n",
       "      <td>F</td>\n",
       "      <td>Y</td>\n",
       "    </tr>\n",
       "    <tr>\n",
       "      <th>3</th>\n",
       "      <td>4</td>\n",
       "      <td>Futrelle, Mrs. Jacques Heath (Lily May Peel)</td>\n",
       "      <td>35.0</td>\n",
       "      <td>1</td>\n",
       "      <td>0</td>\n",
       "      <td>113803</td>\n",
       "      <td>53.1000</td>\n",
       "      <td>C123</td>\n",
       "      <td>S</td>\n",
       "      <td>Upper</td>\n",
       "      <td>F</td>\n",
       "      <td>Y</td>\n",
       "    </tr>\n",
       "    <tr>\n",
       "      <th>4</th>\n",
       "      <td>5</td>\n",
       "      <td>Allen, Mr. William Henry</td>\n",
       "      <td>35.0</td>\n",
       "      <td>0</td>\n",
       "      <td>0</td>\n",
       "      <td>373450</td>\n",
       "      <td>8.0500</td>\n",
       "      <td>NaN</td>\n",
       "      <td>S</td>\n",
       "      <td>Lower</td>\n",
       "      <td>M</td>\n",
       "      <td>N</td>\n",
       "    </tr>\n",
       "  </tbody>\n",
       "</table>\n",
       "</div>"
      ],
      "text/plain": [
       "   Id                                               Name   Age  SibSp  ParCh  \\\n",
       "0   1                            Braund, Mr. Owen Harris  22.0      1      0   \n",
       "1   2  Cumings, Mrs. John Bradley (Florence Briggs Th...  38.0      1      0   \n",
       "2   3                             Heikkinen, Miss. Laina  26.0      0      0   \n",
       "3   4       Futrelle, Mrs. Jacques Heath (Lily May Peel)  35.0      1      0   \n",
       "4   5                           Allen, Mr. William Henry  35.0      0      0   \n",
       "\n",
       "             Ticket     Fare Cabin Embarked  Class Sex Survived  \n",
       "0         A/5 21171   7.2500   NaN        S  Lower   M        N  \n",
       "1          PC 17599  71.2833   C85        C  Upper   F        Y  \n",
       "2  STON/O2. 3101282   7.9250   NaN        S  Lower   F        Y  \n",
       "3            113803  53.1000  C123        S  Upper   F        Y  \n",
       "4            373450   8.0500   NaN        S  Lower   M        N  "
      ]
     },
     "execution_count": 3,
     "metadata": {},
     "output_type": "execute_result"
    }
   ],
   "source": [
    "titanic.head()"
   ]
  },
  {
   "cell_type": "markdown",
   "metadata": {},
   "source": [
    "Now we're going to separate the data set into two:\n",
    "* X: Contains all features that we're going to use in the model\n",
    "* y: Contains the variable we want to predict"
   ]
  },
  {
   "cell_type": "code",
   "execution_count": 15,
   "metadata": {},
   "outputs": [
    {
     "name": "stdout",
     "output_type": "stream",
     "text": [
      "Number of rows for dataset X: 891\n",
      "Number of rows for dataset y: 891\n"
     ]
    }
   ],
   "source": [
    "X = titanic.drop(['Id', 'Name', 'Ticket', 'Cabin', 'Survived'], axis = 1)\n",
    "y = pd.DataFrame(titanic['Survived'])\n",
    "print('Number of rows for dataset X: ', X.shape[0], sep = '')\n",
    "print('Number of rows for dataset y: ', y.shape[0], sep = '')"
   ]
  },
  {
   "cell_type": "markdown",
   "metadata": {},
   "source": [
    "Check for NA values for each feature"
   ]
  },
  {
   "cell_type": "code",
   "execution_count": 16,
   "metadata": {},
   "outputs": [
    {
     "data": {
      "text/html": [
       "<div>\n",
       "<style scoped>\n",
       "    .dataframe tbody tr th:only-of-type {\n",
       "        vertical-align: middle;\n",
       "    }\n",
       "\n",
       "    .dataframe tbody tr th {\n",
       "        vertical-align: top;\n",
       "    }\n",
       "\n",
       "    .dataframe thead th {\n",
       "        text-align: right;\n",
       "    }\n",
       "</style>\n",
       "<table border=\"1\" class=\"dataframe\">\n",
       "  <thead>\n",
       "    <tr style=\"text-align: right;\">\n",
       "      <th></th>\n",
       "      <th>Total</th>\n",
       "      <th>Percent</th>\n",
       "    </tr>\n",
       "  </thead>\n",
       "  <tbody>\n",
       "    <tr>\n",
       "      <th>Age</th>\n",
       "      <td>177</td>\n",
       "      <td>0.198653</td>\n",
       "    </tr>\n",
       "    <tr>\n",
       "      <th>Embarked</th>\n",
       "      <td>2</td>\n",
       "      <td>0.002245</td>\n",
       "    </tr>\n",
       "    <tr>\n",
       "      <th>Sex</th>\n",
       "      <td>0</td>\n",
       "      <td>0.000000</td>\n",
       "    </tr>\n",
       "    <tr>\n",
       "      <th>Class</th>\n",
       "      <td>0</td>\n",
       "      <td>0.000000</td>\n",
       "    </tr>\n",
       "    <tr>\n",
       "      <th>Fare</th>\n",
       "      <td>0</td>\n",
       "      <td>0.000000</td>\n",
       "    </tr>\n",
       "    <tr>\n",
       "      <th>ParCh</th>\n",
       "      <td>0</td>\n",
       "      <td>0.000000</td>\n",
       "    </tr>\n",
       "    <tr>\n",
       "      <th>SibSp</th>\n",
       "      <td>0</td>\n",
       "      <td>0.000000</td>\n",
       "    </tr>\n",
       "  </tbody>\n",
       "</table>\n",
       "</div>"
      ],
      "text/plain": [
       "          Total   Percent\n",
       "Age         177  0.198653\n",
       "Embarked      2  0.002245\n",
       "Sex           0  0.000000\n",
       "Class         0  0.000000\n",
       "Fare          0  0.000000\n",
       "ParCh         0  0.000000\n",
       "SibSp         0  0.000000"
      ]
     },
     "execution_count": 16,
     "metadata": {},
     "output_type": "execute_result"
    }
   ],
   "source": [
    "total = X.isnull().sum().sort_values(ascending=False)\n",
    "percent = (X.isnull().sum()/X.isnull().count()).sort_values(ascending=False)\n",
    "missing_data = pd.concat([total, percent], axis=1, keys=['Total', 'Percent'])\n",
    "missing_data"
   ]
  },
  {
   "cell_type": "markdown",
   "metadata": {},
   "source": [
    "## Feature Engineering: Part 1"
   ]
  },
  {
   "cell_type": "markdown",
   "metadata": {},
   "source": [
    "### Dealing with NAs"
   ]
  },
  {
   "cell_type": "markdown",
   "metadata": {},
   "source": [
    "For the column **Embarked** we will use a mode imputation. This means that the 2 missing values will get the mode for the whole column. In this case is **S: Southampton**"
   ]
  },
  {
   "cell_type": "code",
   "execution_count": 17,
   "metadata": {},
   "outputs": [],
   "source": [
    "X['Embarked'].fillna(X['Embarked'].mode()[0], inplace=True)"
   ]
  },
  {
   "cell_type": "markdown",
   "metadata": {},
   "source": [
    "For the column **Age** we'll use another approach: a linear model. But first, we need to change categorical features to numerical values. This is because the model will not contemplate ***string type*** tensors."
   ]
  },
  {
   "cell_type": "code",
   "execution_count": 18,
   "metadata": {},
   "outputs": [],
   "source": [
    "#For Embarked\n",
    "embarked_label = np.unique(X['Embarked'].dropna())\n",
    "embarked_index = np.arange(0,len(embarked_label))\n",
    "embarked_dict = {'embarked_index': embarked_index, 'label': embarked_label}\n",
    "embarked_dict = pd.DataFrame(embarked_dict, index=embarked_label)\n",
    "\n",
    "#For Passenger Class\n",
    "class_label = np.unique(X['Class'].dropna())\n",
    "class_index = np.arange(0,len(class_label))\n",
    "class_dict = {'class_index': class_index, 'label': class_label}\n",
    "class_dict = pd.DataFrame(class_dict, index=class_label)\n",
    "\n",
    "#For Passenger Sex\n",
    "sex_label = np.unique(X['Sex'].dropna())\n",
    "sex_index = np.arange(0,len(sex_label))\n",
    "sex_dict = {'sex_index': sex_index, 'label': sex_label}\n",
    "sex_dict = pd.DataFrame(sex_dict, index=sex_label)\n",
    "\n",
    "#For Passenger Survival\n",
    "survived_label = np.unique(y['Survived'].dropna())\n",
    "survived_index = np.arange(0,len(survived_label))\n",
    "survived_dict = {'survived_index': survived_index, 'label': survived_label}\n",
    "survived_dict = pd.DataFrame(survived_dict, index=survived_label)"
   ]
  },
  {
   "cell_type": "code",
   "execution_count": 19,
   "metadata": {},
   "outputs": [],
   "source": [
    "new_list = [None]*len(X['Embarked'])\n",
    "for i in range(0,len(X['Embarked'])):\n",
    "    temp = embarked_dict[embarked_dict.index==X['Embarked'][i]]\n",
    "    new_list[i] = temp['embarked_index'][0]\n",
    "len(new_list)\n",
    "X['embarked_code'] = new_list\n",
    "\n",
    "new_list = [None]*len(X['Class'])\n",
    "for i in range(0,len(X['Class'])):\n",
    "    temp = class_dict[class_dict.index==X['Class'][i]]\n",
    "    new_list[i] = temp['class_index'][0]\n",
    "len(new_list)\n",
    "X['class_code'] = new_list\n",
    "\n",
    "new_list = [None]*len(X['Sex'])\n",
    "for i in range(0,len(X['Sex'])):\n",
    "    temp = sex_dict[sex_dict.index==X['Sex'][i]]\n",
    "    new_list[i] = temp['sex_index'][0]\n",
    "len(new_list)\n",
    "X['sex_code'] = new_list\n",
    "\n",
    "new_list = [None]*len(y['Survived'])\n",
    "for i in range(0,len(y)):\n",
    "    temp = survived_dict[survived_dict.index==y['Survived'][i]]\n",
    "    new_list[i] = temp['survived_index'][0]\n",
    "len(new_list)\n",
    "y['survived_code'] = new_list"
   ]
  },
  {
   "cell_type": "code",
   "execution_count": 20,
   "metadata": {},
   "outputs": [
    {
     "data": {
      "text/html": [
       "<div>\n",
       "<style scoped>\n",
       "    .dataframe tbody tr th:only-of-type {\n",
       "        vertical-align: middle;\n",
       "    }\n",
       "\n",
       "    .dataframe tbody tr th {\n",
       "        vertical-align: top;\n",
       "    }\n",
       "\n",
       "    .dataframe thead th {\n",
       "        text-align: right;\n",
       "    }\n",
       "</style>\n",
       "<table border=\"1\" class=\"dataframe\">\n",
       "  <thead>\n",
       "    <tr style=\"text-align: right;\">\n",
       "      <th></th>\n",
       "      <th>Age</th>\n",
       "      <th>SibSp</th>\n",
       "      <th>ParCh</th>\n",
       "      <th>Fare</th>\n",
       "      <th>Embarked</th>\n",
       "      <th>Class</th>\n",
       "      <th>Sex</th>\n",
       "      <th>embarked_code</th>\n",
       "      <th>class_code</th>\n",
       "      <th>sex_code</th>\n",
       "    </tr>\n",
       "  </thead>\n",
       "  <tbody>\n",
       "    <tr>\n",
       "      <th>0</th>\n",
       "      <td>22.0</td>\n",
       "      <td>1</td>\n",
       "      <td>0</td>\n",
       "      <td>7.2500</td>\n",
       "      <td>S</td>\n",
       "      <td>Lower</td>\n",
       "      <td>M</td>\n",
       "      <td>2</td>\n",
       "      <td>0</td>\n",
       "      <td>1</td>\n",
       "    </tr>\n",
       "    <tr>\n",
       "      <th>1</th>\n",
       "      <td>38.0</td>\n",
       "      <td>1</td>\n",
       "      <td>0</td>\n",
       "      <td>71.2833</td>\n",
       "      <td>C</td>\n",
       "      <td>Upper</td>\n",
       "      <td>F</td>\n",
       "      <td>0</td>\n",
       "      <td>2</td>\n",
       "      <td>0</td>\n",
       "    </tr>\n",
       "    <tr>\n",
       "      <th>2</th>\n",
       "      <td>26.0</td>\n",
       "      <td>0</td>\n",
       "      <td>0</td>\n",
       "      <td>7.9250</td>\n",
       "      <td>S</td>\n",
       "      <td>Lower</td>\n",
       "      <td>F</td>\n",
       "      <td>2</td>\n",
       "      <td>0</td>\n",
       "      <td>0</td>\n",
       "    </tr>\n",
       "    <tr>\n",
       "      <th>3</th>\n",
       "      <td>35.0</td>\n",
       "      <td>1</td>\n",
       "      <td>0</td>\n",
       "      <td>53.1000</td>\n",
       "      <td>S</td>\n",
       "      <td>Upper</td>\n",
       "      <td>F</td>\n",
       "      <td>2</td>\n",
       "      <td>2</td>\n",
       "      <td>0</td>\n",
       "    </tr>\n",
       "    <tr>\n",
       "      <th>4</th>\n",
       "      <td>35.0</td>\n",
       "      <td>0</td>\n",
       "      <td>0</td>\n",
       "      <td>8.0500</td>\n",
       "      <td>S</td>\n",
       "      <td>Lower</td>\n",
       "      <td>M</td>\n",
       "      <td>2</td>\n",
       "      <td>0</td>\n",
       "      <td>1</td>\n",
       "    </tr>\n",
       "  </tbody>\n",
       "</table>\n",
       "</div>"
      ],
      "text/plain": [
       "    Age  SibSp  ParCh     Fare Embarked  Class Sex  embarked_code  class_code  \\\n",
       "0  22.0      1      0   7.2500        S  Lower   M              2           0   \n",
       "1  38.0      1      0  71.2833        C  Upper   F              0           2   \n",
       "2  26.0      0      0   7.9250        S  Lower   F              2           0   \n",
       "3  35.0      1      0  53.1000        S  Upper   F              2           2   \n",
       "4  35.0      0      0   8.0500        S  Lower   M              2           0   \n",
       "\n",
       "   sex_code  \n",
       "0         1  \n",
       "1         0  \n",
       "2         0  \n",
       "3         0  \n",
       "4         1  "
      ]
     },
     "execution_count": 20,
     "metadata": {},
     "output_type": "execute_result"
    }
   ],
   "source": [
    "X.head()"
   ]
  },
  {
   "cell_type": "code",
   "execution_count": 21,
   "metadata": {},
   "outputs": [
    {
     "data": {
      "text/html": [
       "<div>\n",
       "<style scoped>\n",
       "    .dataframe tbody tr th:only-of-type {\n",
       "        vertical-align: middle;\n",
       "    }\n",
       "\n",
       "    .dataframe tbody tr th {\n",
       "        vertical-align: top;\n",
       "    }\n",
       "\n",
       "    .dataframe thead th {\n",
       "        text-align: right;\n",
       "    }\n",
       "</style>\n",
       "<table border=\"1\" class=\"dataframe\">\n",
       "  <thead>\n",
       "    <tr style=\"text-align: right;\">\n",
       "      <th></th>\n",
       "      <th>Survived</th>\n",
       "      <th>survived_code</th>\n",
       "    </tr>\n",
       "  </thead>\n",
       "  <tbody>\n",
       "    <tr>\n",
       "      <th>0</th>\n",
       "      <td>N</td>\n",
       "      <td>0</td>\n",
       "    </tr>\n",
       "    <tr>\n",
       "      <th>1</th>\n",
       "      <td>Y</td>\n",
       "      <td>1</td>\n",
       "    </tr>\n",
       "    <tr>\n",
       "      <th>2</th>\n",
       "      <td>Y</td>\n",
       "      <td>1</td>\n",
       "    </tr>\n",
       "    <tr>\n",
       "      <th>3</th>\n",
       "      <td>Y</td>\n",
       "      <td>1</td>\n",
       "    </tr>\n",
       "    <tr>\n",
       "      <th>4</th>\n",
       "      <td>N</td>\n",
       "      <td>0</td>\n",
       "    </tr>\n",
       "  </tbody>\n",
       "</table>\n",
       "</div>"
      ],
      "text/plain": [
       "  Survived  survived_code\n",
       "0        N              0\n",
       "1        Y              1\n",
       "2        Y              1\n",
       "3        Y              1\n",
       "4        N              0"
      ]
     },
     "execution_count": 21,
     "metadata": {},
     "output_type": "execute_result"
    }
   ],
   "source": [
    "y.head()"
   ]
  },
  {
   "cell_type": "markdown",
   "metadata": {},
   "source": [
    "Now, we need to generate the linear model in order to find the missing values for the age. This linear model will take **Age** as the variable we want to predict, using the following features:\n",
    "* Embarked\n",
    "* Class\n",
    "* Sex\n",
    "* SibSp\n",
    "* Parch"
   ]
  },
  {
   "cell_type": "code",
   "execution_count": 38,
   "metadata": {},
   "outputs": [],
   "source": [
    "def age_prediction_sklearn(x,y):\n",
    "    modelB = LinearRegression()\n",
    "    modelB.fit(X=x, y=y)\n",
    "    y_hat = modelB.predict(x)\n",
    "    error = (1/2*np.mean((y_hat-y)**2))\n",
    "    return(modelB.coef_, modelB.intercept_, error)"
   ]
  },
  {
   "cell_type": "code",
   "execution_count": 54,
   "metadata": {},
   "outputs": [
    {
     "data": {
      "text/plain": [
       "(array([-3.83735696, -0.82044563, -0.01468461,  0.94340792,  7.09641292,\n",
       "         3.13954769]), 23.61465012557038, 80.17413059312996)"
      ]
     },
     "execution_count": 54,
     "metadata": {},
     "output_type": "execute_result"
    }
   ],
   "source": [
    "age_prediction_sklearn(X.dropna().drop(['Embarked', 'Class', 'Sex', 'Age'], axis = 1), X['Age'].dropna())"
   ]
  },
  {
   "cell_type": "code",
   "execution_count": null,
   "metadata": {},
   "outputs": [],
   "source": []
  },
  {
   "cell_type": "markdown",
   "metadata": {},
   "source": [
    "Now we can check again the missing values"
   ]
  },
  {
   "cell_type": "code",
   "execution_count": null,
   "metadata": {},
   "outputs": [],
   "source": [
    "total = X.isnull().sum().sort_values(ascending=False)\n",
    "percent = (X.isnull().sum()/X.isnull().count()).sort_values(ascending=False)\n",
    "missing_data = pd.concat([total, percent], axis=1, keys=['Total', 'Percent'])\n",
    "missing_data"
   ]
  },
  {
   "cell_type": "markdown",
   "metadata": {},
   "source": [
    "## Train, Val, and Test Sets"
   ]
  },
  {
   "cell_type": "markdown",
   "metadata": {},
   "source": [
    "We're going to split the dataset in three different sets:\n",
    "* Train\n",
    "* Validation (Val)\n",
    "* Test\n",
    "\n",
    "For these datsets, we'll use the following features:\n",
    "1. Age\n",
    "2. SibSp\n",
    "3. Parch\n",
    "4. Fare\n",
    "5. Embarked\n",
    "6. passenger_class\n",
    "7. passenger_sex\n",
    "\n",
    "And the variable we want to predict\n",
    "1. passenger_survived"
   ]
  },
  {
   "cell_type": "code",
   "execution_count": null,
   "metadata": {},
   "outputs": [],
   "source": [
    "X_train, X_test, y_train, y_test = train_test_split(X, y, test_size=0.2, random_state=17)"
   ]
  },
  {
   "cell_type": "code",
   "execution_count": null,
   "metadata": {},
   "outputs": [],
   "source": [
    "X_train, X_val, y_train, y_val = train_test_split(X_train, y_train, test_size=0.3, random_state=17)"
   ]
  },
  {
   "cell_type": "code",
   "execution_count": null,
   "metadata": {},
   "outputs": [],
   "source": [
    "print('Number of rows in Train: ', len(X_train), ' (', round(100*len(X_train)/len(titanic),1), '%)', sep = '')\n",
    "print('Number of rows in Val: ', len(X_val), ' (', round(100*len(X_val)/len(titanic),1), '%)', sep = '')\n",
    "print('Number of rows in Train: ', len(X_test), ' (', round(100*len(X_test)/len(titanic),1), '%)', sep = '')"
   ]
  },
  {
   "cell_type": "markdown",
   "metadata": {},
   "source": [
    "## Exploration"
   ]
  },
  {
   "cell_type": "markdown",
   "metadata": {},
   "source": [
    "### Histograms for numeric features"
   ]
  },
  {
   "cell_type": "code",
   "execution_count": null,
   "metadata": {},
   "outputs": [],
   "source": [
    "plt.figure(figsize=(12,12))\n",
    "sns.set_style(\"whitegrid\")\n",
    "plt.subplot(2,2,1)\n",
    "sns.distplot(X_train['Age'][~np.isnan(X_train['Age'])], color=\"green\", axlabel='Age of the Passengers')\n",
    "plt.subplot(2,2,2)\n",
    "sns.distplot(train['SibSp'], color='red', axlabel='Sibling/Spouse')\n",
    "plt.subplot(2,2,3)\n",
    "sns.distplot(train['Parch'], color='blue', axlabel='Parent/Children')\n",
    "plt.subplot(2,2,4)\n",
    "sns.distplot(train['Fare'], color='orange', axlabel='Passengers Fare')"
   ]
  },
  {
   "cell_type": "code",
   "execution_count": null,
   "metadata": {},
   "outputs": [],
   "source": [
    "temp = passenger_class_dict[passenger_class_dict.index==X_train['passenger_class'][8]]\n",
    "temp\n",
    "#temp['passenger_class_index'][0]"
   ]
  },
  {
   "cell_type": "code",
   "execution_count": null,
   "metadata": {},
   "outputs": [],
   "source": []
  },
  {
   "cell_type": "code",
   "execution_count": null,
   "metadata": {},
   "outputs": [],
   "source": []
  },
  {
   "cell_type": "code",
   "execution_count": null,
   "metadata": {},
   "outputs": [],
   "source": []
  },
  {
   "cell_type": "code",
   "execution_count": null,
   "metadata": {},
   "outputs": [],
   "source": []
  },
  {
   "cell_type": "code",
   "execution_count": null,
   "metadata": {},
   "outputs": [],
   "source": []
  },
  {
   "cell_type": "code",
   "execution_count": null,
   "metadata": {},
   "outputs": [],
   "source": []
  }
 ],
 "metadata": {
  "kernelspec": {
   "display_name": "Python 3",
   "language": "python",
   "name": "python3"
  },
  "language_info": {
   "codemirror_mode": {
    "name": "ipython",
    "version": 3
   },
   "file_extension": ".py",
   "mimetype": "text/x-python",
   "name": "python",
   "nbconvert_exporter": "python",
   "pygments_lexer": "ipython3",
   "version": "3.7.2"
  }
 },
 "nbformat": 4,
 "nbformat_minor": 2
}
